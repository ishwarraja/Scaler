{
  "nbformat": 4,
  "nbformat_minor": 0,
  "metadata": {
    "colab": {
      "provenance": [],
      "toc_visible": true,
      "authorship_tag": "ABX9TyPYuPOFnloe0kgkKTqe4k8v",
      "include_colab_link": true
    },
    "kernelspec": {
      "name": "python3",
      "display_name": "Python 3"
    },
    "language_info": {
      "name": "python"
    }
  },
  "cells": [
    {
      "cell_type": "markdown",
      "metadata": {
        "id": "view-in-github",
        "colab_type": "text"
      },
      "source": [
        "<a href=\"https://colab.research.google.com/github/ishwarraja/Scaler/blob/main/DMLP/12Dec2022_Array.ipynb\" target=\"_parent\"><img src=\"https://colab.research.google.com/assets/colab-badge.svg\" alt=\"Open In Colab\"/></a>"
      ]
    },
    {
      "cell_type": "markdown",
      "source": [
        "# Array's"
      ],
      "metadata": {
        "id": "ruhxw7w1y5Pr"
      }
    },
    {
      "cell_type": "markdown",
      "source": [
        "##Q1. MaxMod\n",
        "\n",
        "**Problem Description**\n",
        "Given an array A of size N, Groot wants you to pick 2 indices i and j such that\n",
        "\n",
        "    1 <= i, j <= N\n",
        "    A[i] % A[j] is maximum among all possible pairs of (i, j).\n",
        "\n",
        "Help Groot in finding the maximum value of A[i] % A[j] for some i, j.\n",
        "\n",
        "Problem Constraints\n",
        "1 <= N <= 100000\n",
        "0 <= A[i] <= 100000\n",
        "\n",
        "Input Format\n",
        "First and only argument in an integer array A.\n",
        "\n",
        "Output Format\n",
        "Return an integer denoting the maximum value of A[i] % A[j] for any valid i, j.\n",
        "\n",
        "Example Input\n",
        "Input 1: A = [1, 2, 44, 3]\n",
        "Input 2: A = [2, 6, 4]\n",
        "\n",
        "Example Output \n",
        "Output 1: 3\n",
        "Output 2: 4\n",
        "\n",
        "Example Explanation\n",
        "Explanation 1:\n",
        " For i = 3, j = 2  A[i] % A[j] = 3 % 44 = 3.\n",
        " No pair exists which has more value than 3.\n",
        "\n",
        "Explanation 2:\n",
        " For i = 2, j = 1  A[i] % A[j] = 4 % 6 = 4."
      ],
      "metadata": {
        "id": "bZ54eYySyZaU"
      }
    },
    {
      "cell_type": "code",
      "execution_count": null,
      "metadata": {
        "id": "DHayz3ilyY5o"
      },
      "outputs": [],
      "source": [
        "class Solution:\n",
        "    def solve(self, A):\n",
        "        n = len(A)\n",
        "        flag = 0\n",
        "        # sort the array\n",
        "        A.sort()\n",
        "        # keep the pointer at the end of the array\n",
        "        i = n - 1\n",
        "        # keep going backwards until we dont find a different element\n",
        "        while(flag == 0 and i != 0):\n",
        "            if(A[i] == A[i-1]):\n",
        "                i -= 1\n",
        "            else:\n",
        "                flag = 1\n",
        "        # if we find a different element before reaching the end of the array, print the element at the index before that\n",
        "        # else return 0 because in that case all the elements are same and no matter which indices we choose, the answer will always be 0\n",
        "        if(i != 0):\n",
        "            return A[i-1]\n",
        "        else:\n",
        "            return 0"
      ]
    },
    {
      "cell_type": "markdown",
      "source": [
        "##Q2. Sum of adjacent elements is always even\n",
        "\n",
        "Given an array of integers A, find and return the minimum elements to be removed such that in the resulting array the sum of any two adjacent values is even.\n",
        "\n",
        "\n",
        "Input Format\n",
        "\n",
        "The only argument given is the integer array A.\n",
        "\n",
        "Output Format\n",
        "\n",
        "Return the minimum number of elements to be removed.\n",
        "\n",
        "Constraints\n",
        "\n",
        "1 <= length of the array <= 100000\n",
        "-10^9 <= A[i] <= 10^9 \n",
        "\n",
        "For Example\n",
        "\n",
        "Input 1:\n",
        "    A = [1, 2, 3, 4, 5]\n",
        "Output 1:\n",
        "    2\n",
        "\n",
        "Input 2:\n",
        "    A = [5, 17, 100, 11]\n",
        "Output 2:\n",
        "    1\n"
      ],
      "metadata": {
        "id": "yiQi1cJmzVej"
      }
    },
    {
      "cell_type": "code",
      "source": [
        "class Solution:\n",
        "    def solve(self, A):\n",
        "        count = 0\n",
        "        n = len(A)\n",
        "        for i in range(n):\n",
        "            if(A[i]%2):\n",
        "                count+=1\n",
        "        return min(count,n-count)"
      ],
      "metadata": {
        "id": "QPgljYiSzWWz"
      },
      "execution_count": null,
      "outputs": []
    },
    {
      "cell_type": "markdown",
      "source": [
        "##Q4. Add One To Number\n",
        "\n",
        "Problem Description\n",
        "Given a non-negative number represented as an array of digits, add 1 to the number ( increment the number represented by the digits ).\n",
        "\n",
        "The digits are stored such that the most significant digit is at the head of the list.\n",
        "\n",
        "NOTE: Certain things are intentionally left unclear in this question which you should practice asking the interviewer. For example: for this problem, the following are some good questions to ask :\n",
        "\n",
        "Q: Can the input have 0's before the most significant digit. Or, in other words, is 0 1 2 3 a valid input?\n",
        "A: For the purpose of this question, YES\n",
        "Q: Can the output have 0's before the most significant digit? Or, in other words, is 0 1 2 4 a valid output?\n",
        "A: For the purpose of this question, NO. Even if the input has zeroes before the most significant digit.\n",
        "\n",
        "Problem Constraints\n",
        "1 <= size of the array <= 1000000\n",
        "\n",
        "Input Format : First argument is an array of digits.\n",
        "Output Format : Return the array of digits after adding one.\n",
        "\n",
        "Example Input\n",
        "Input 1:[1, 2, 3]\n",
        "Example Output\n",
        "Output 1:[1, 2, 4]\n",
        "\n",
        "Example Explanation\n",
        "Explanation 1:\n",
        "\n",
        "Given vector is [1, 2, 3].\n",
        "The returned vector should be [1, 2, 4] as 123 + 1 = 124.\n"
      ],
      "metadata": {
        "id": "I8Pgc75czWmO"
      }
    },
    {
      "cell_type": "code",
      "source": [
        "# Solution1: Working But Not Accepted\n",
        "\n",
        "class Solution:\n",
        "    def solve(self, A):\n",
        "        digits = A\n",
        "        n = len(A)\n",
        "        if n <= 1:\n",
        "          return 1\n",
        "        sum = int(\"\".join(map(str,digits))) + int(1)\n",
        "        return [int(i) for i in str(sum)]\n",
        "\n",
        "A = [1,2,3,4,5,6]\n",
        "# A = [0]\n",
        "pt1 = Solution()\n",
        "res = pt1.solve(A)\n",
        "print(\"Result: \",res)\n"
      ],
      "metadata": {
        "colab": {
          "base_uri": "https://localhost:8080/"
        },
        "id": "0NUzuQ14zWxQ",
        "outputId": "352335ab-804f-440b-f5b6-8ceaf3e45a54"
      },
      "execution_count": 7,
      "outputs": [
        {
          "output_type": "stream",
          "name": "stdout",
          "text": [
            "Result:  [1, 2, 3, 4, 5, 7]\n"
          ]
        }
      ]
    },
    {
      "cell_type": "code",
      "source": [
        "#Solution2\n",
        "class Solution:\n",
        "    def plusOne(self, A):\n",
        "        A[-1] += 1\n",
        "        print(\"dbg---> A: \",A[-1])\n",
        "        temp = 0\n",
        "        tempSum = 0\n",
        "        # traversing the digits of the number in reverse order\n",
        "        for i in range(len(A) - 1, -1, -1):\n",
        "          # print(\"dbg ---> I: \",i)\n",
        "          # print(\"dbg ---> A[i]: \",A[i])\n",
        "          tempSum = A[i] + temp\n",
        "          print(\"dbg---> tempSum\",tempSum)\n",
        "          temp = (A[i] + temp) // 10\n",
        "          print(\"dbg---> temp\",temp)\n",
        "          A[i] = tempSum % 10\n",
        "          print(\"dbg---> A[i]\",A[i])\n",
        "\n",
        "        if temp > 0:\n",
        "    \t    A = [temp] + A\n",
        "        i = 0\n",
        "        while i < len(A):\n",
        "            if A[i] > 0:\n",
        "                break\n",
        "            i += 1\n",
        "        return A[i:]\n",
        "\n",
        "A = [1,2,3,4,5,6]\n",
        "# A = [0]\n",
        "pt1 = Solution()\n",
        "res = pt1.plusOne(A)\n",
        "print(\"Result: \",res)"
      ],
      "metadata": {
        "colab": {
          "base_uri": "https://localhost:8080/"
        },
        "id": "eddblSu3Aw2v",
        "outputId": "63062a85-c5ea-4dd7-8f10-33d0d53088fa"
      },
      "execution_count": 13,
      "outputs": [
        {
          "output_type": "stream",
          "name": "stdout",
          "text": [
            "dbg---> A:  7\n",
            "dbg---> tempSum 7\n",
            "dbg---> temp 0\n",
            "dbg---> A[i] 7\n",
            "dbg---> tempSum 5\n",
            "dbg---> temp 0\n",
            "dbg---> A[i] 5\n",
            "dbg---> tempSum 4\n",
            "dbg---> temp 0\n",
            "dbg---> A[i] 4\n",
            "dbg---> tempSum 3\n",
            "dbg---> temp 0\n",
            "dbg---> A[i] 3\n",
            "dbg---> tempSum 2\n",
            "dbg---> temp 0\n",
            "dbg---> A[i] 2\n",
            "dbg---> tempSum 1\n",
            "dbg---> temp 0\n",
            "dbg---> A[i] 1\n",
            "Result:  [1, 2, 3, 4, 5, 7]\n"
          ]
        }
      ]
    },
    {
      "cell_type": "code",
      "source": [
        "#Solution3\n",
        "sum = int(\"\".join(map(str,digits))) + int(1)"
      ],
      "metadata": {
        "id": "51jrz6MlAxEI"
      },
      "execution_count": null,
      "outputs": []
    },
    {
      "cell_type": "markdown",
      "source": [],
      "metadata": {
        "id": "rgoexv9yzW7D"
      }
    },
    {
      "cell_type": "code",
      "source": [],
      "metadata": {
        "id": "_BMm9GoizXEB"
      },
      "execution_count": null,
      "outputs": []
    },
    {
      "cell_type": "markdown",
      "source": [],
      "metadata": {
        "id": "1wu2_S04zXMW"
      }
    },
    {
      "cell_type": "code",
      "source": [],
      "metadata": {
        "id": "43g4pF1WzXTp"
      },
      "execution_count": null,
      "outputs": []
    },
    {
      "cell_type": "markdown",
      "source": [],
      "metadata": {
        "id": "vrArUHRczXbl"
      }
    },
    {
      "cell_type": "code",
      "source": [],
      "metadata": {
        "id": "y3arHyvezXi3"
      },
      "execution_count": null,
      "outputs": []
    },
    {
      "cell_type": "markdown",
      "source": [],
      "metadata": {
        "id": "47Z-R_t-zXqW"
      }
    },
    {
      "cell_type": "code",
      "source": [],
      "metadata": {
        "id": "UHD7WkHJzXzH"
      },
      "execution_count": null,
      "outputs": []
    },
    {
      "cell_type": "markdown",
      "source": [],
      "metadata": {
        "id": "ENywpxijzX7q"
      }
    },
    {
      "cell_type": "code",
      "source": [],
      "metadata": {
        "id": "odnD-_ulzYC8"
      },
      "execution_count": null,
      "outputs": []
    }
  ]
}