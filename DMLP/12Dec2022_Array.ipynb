{
  "nbformat": 4,
  "nbformat_minor": 0,
  "metadata": {
    "colab": {
      "provenance": [],
      "toc_visible": true,
      "authorship_tag": "ABX9TyNSAOA2mqJYs5WBtQcpcbPS",
      "include_colab_link": true
    },
    "kernelspec": {
      "name": "python3",
      "display_name": "Python 3"
    },
    "language_info": {
      "name": "python"
    }
  },
  "cells": [
    {
      "cell_type": "markdown",
      "metadata": {
        "id": "view-in-github",
        "colab_type": "text"
      },
      "source": [
        "<a href=\"https://colab.research.google.com/github/ishwarraja/Scaler/blob/main/DMLP/12Dec2022_Array.ipynb\" target=\"_parent\"><img src=\"https://colab.research.google.com/assets/colab-badge.svg\" alt=\"Open In Colab\"/></a>"
      ]
    },
    {
      "cell_type": "markdown",
      "source": [
        "# Array's"
      ],
      "metadata": {
        "id": "ruhxw7w1y5Pr"
      }
    },
    {
      "cell_type": "markdown",
      "source": [
        "##Q1. MaxMod\n",
        "\n",
        "**Problem Description**\n",
        "Given an array A of size N, Groot wants you to pick 2 indices i and j such that\n",
        "\n",
        "    1 <= i, j <= N\n",
        "    A[i] % A[j] is maximum among all possible pairs of (i, j).\n",
        "\n",
        "Help Groot in finding the maximum value of A[i] % A[j] for some i, j.\n",
        "\n",
        "Problem Constraints\n",
        "1 <= N <= 100000\n",
        "0 <= A[i] <= 100000\n",
        "\n",
        "Input Format\n",
        "First and only argument in an integer array A.\n",
        "\n",
        "Output Format\n",
        "Return an integer denoting the maximum value of A[i] % A[j] for any valid i, j.\n",
        "\n",
        "Example Input\n",
        "Input 1: A = [1, 2, 44, 3]\n",
        "Input 2: A = [2, 6, 4]\n",
        "\n",
        "Example Output \n",
        "Output 1: 3\n",
        "Output 2: 4\n",
        "\n",
        "Example Explanation\n",
        "Explanation 1:\n",
        " For i = 3, j = 2  A[i] % A[j] = 3 % 44 = 3.\n",
        " No pair exists which has more value than 3.\n",
        "\n",
        "Explanation 2:\n",
        " For i = 2, j = 1  A[i] % A[j] = 4 % 6 = 4."
      ],
      "metadata": {
        "id": "bZ54eYySyZaU"
      }
    },
    {
      "cell_type": "code",
      "execution_count": null,
      "metadata": {
        "id": "DHayz3ilyY5o"
      },
      "outputs": [],
      "source": [
        "class Solution:\n",
        "    def solve(self, A):\n",
        "        n = len(A)\n",
        "        flag = 0\n",
        "        # sort the array\n",
        "        A.sort()\n",
        "        # keep the pointer at the end of the array\n",
        "        i = n - 1\n",
        "        # keep going backwards until we dont find a different element\n",
        "        while(flag == 0 and i != 0):\n",
        "            if(A[i] == A[i-1]):\n",
        "                i -= 1\n",
        "            else:\n",
        "                flag = 1\n",
        "        # if we find a different element before reaching the end of the array, print the element at the index before that\n",
        "        # else return 0 because in that case all the elements are same and no matter which indices we choose, the answer will always be 0\n",
        "        if(i != 0):\n",
        "            return A[i-1]\n",
        "        else:\n",
        "            return 0"
      ]
    },
    {
      "cell_type": "markdown",
      "source": [],
      "metadata": {
        "id": "yiQi1cJmzVej"
      }
    },
    {
      "cell_type": "code",
      "source": [],
      "metadata": {
        "id": "QPgljYiSzWWz"
      },
      "execution_count": null,
      "outputs": []
    },
    {
      "cell_type": "markdown",
      "source": [],
      "metadata": {
        "id": "I8Pgc75czWmO"
      }
    },
    {
      "cell_type": "code",
      "source": [],
      "metadata": {
        "id": "0NUzuQ14zWxQ"
      },
      "execution_count": null,
      "outputs": []
    },
    {
      "cell_type": "markdown",
      "source": [],
      "metadata": {
        "id": "rgoexv9yzW7D"
      }
    },
    {
      "cell_type": "code",
      "source": [],
      "metadata": {
        "id": "_BMm9GoizXEB"
      },
      "execution_count": null,
      "outputs": []
    },
    {
      "cell_type": "markdown",
      "source": [],
      "metadata": {
        "id": "1wu2_S04zXMW"
      }
    },
    {
      "cell_type": "code",
      "source": [],
      "metadata": {
        "id": "43g4pF1WzXTp"
      },
      "execution_count": null,
      "outputs": []
    },
    {
      "cell_type": "markdown",
      "source": [],
      "metadata": {
        "id": "vrArUHRczXbl"
      }
    },
    {
      "cell_type": "code",
      "source": [],
      "metadata": {
        "id": "y3arHyvezXi3"
      },
      "execution_count": null,
      "outputs": []
    },
    {
      "cell_type": "markdown",
      "source": [],
      "metadata": {
        "id": "47Z-R_t-zXqW"
      }
    },
    {
      "cell_type": "code",
      "source": [],
      "metadata": {
        "id": "UHD7WkHJzXzH"
      },
      "execution_count": null,
      "outputs": []
    },
    {
      "cell_type": "markdown",
      "source": [],
      "metadata": {
        "id": "ENywpxijzX7q"
      }
    },
    {
      "cell_type": "code",
      "source": [],
      "metadata": {
        "id": "odnD-_ulzYC8"
      },
      "execution_count": null,
      "outputs": []
    }
  ]
}