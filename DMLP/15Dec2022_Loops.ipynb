{
  "nbformat": 4,
  "nbformat_minor": 0,
  "metadata": {
    "colab": {
      "provenance": [],
      "toc_visible": true,
      "authorship_tag": "ABX9TyPVWruB2AmpXyIZlJKLdxJo",
      "include_colab_link": true
    },
    "kernelspec": {
      "name": "python3",
      "display_name": "Python 3"
    },
    "language_info": {
      "name": "python"
    }
  },
  "cells": [
    {
      "cell_type": "markdown",
      "metadata": {
        "id": "view-in-github",
        "colab_type": "text"
      },
      "source": [
        "<a href=\"https://colab.research.google.com/github/ishwarraja/Scaler/blob/main/DMLP/15Dec2022_Loops.ipynb\" target=\"_parent\"><img src=\"https://colab.research.google.com/assets/colab-badge.svg\" alt=\"Open In Colab\"/></a>"
      ]
    },
    {
      "cell_type": "code",
      "execution_count": null,
      "metadata": {
        "colab": {
          "base_uri": "https://localhost:8080/"
        },
        "id": "buX6RKTosVf3",
        "outputId": "6d69a443-c0a3-483b-dfbb-81e4b1465028"
      },
      "outputs": [
        {
          "output_type": "stream",
          "name": "stdout",
          "text": [
            "5\n",
            "* * * * * \n",
            "* * * * * \n",
            "* * * * * \n",
            "* * * * * \n",
            "* * * * * \n"
          ]
        }
      ],
      "source": [
        "num = int(input())\n",
        "for i in range(num):\n",
        "  for j in range(num):\n",
        "    print(\"*\",end=' ')\n",
        "  print()\n"
      ]
    },
    {
      "cell_type": "code",
      "source": [],
      "metadata": {
        "id": "i9-dCbshxIoG"
      },
      "execution_count": null,
      "outputs": []
    },
    {
      "cell_type": "markdown",
      "source": [
        "GCD"
      ],
      "metadata": {
        "id": "_M_AY2a6xJOq"
      }
    },
    {
      "cell_type": "code",
      "source": [
        "num1 = int(input())\n",
        "num2 = int(input())\n",
        "if num1 > num2:\n",
        "  min = num2\n",
        "else:\n",
        "  min = num1\n",
        "for i in range(1, min+1):\n",
        "  if((num1 % i == 0) and (num2 % i == 0)):\n",
        "    gcd = i\n",
        "print(gcd)\n",
        "  "
      ],
      "metadata": {
        "colab": {
          "base_uri": "https://localhost:8080/"
        },
        "id": "WYFrOC3zxJkv",
        "outputId": "33466364-5259-478f-8702-ad72c8c5c4c8"
      },
      "execution_count": null,
      "outputs": [
        {
          "output_type": "stream",
          "name": "stdout",
          "text": [
            "24\n",
            "36\n",
            "12\n"
          ]
        }
      ]
    },
    {
      "cell_type": "markdown",
      "source": [
        "GCD"
      ],
      "metadata": {
        "id": "442c9A1lxJxd"
      }
    },
    {
      "cell_type": "code",
      "source": [
        "def main():\n",
        "    # YOUR CODE GOES HERE\n",
        "    # Please take input and print output to standard input/output (stdin/stdout)\n",
        "    # E.g. 'input()/raw_input()' for input & 'print' for output\n",
        "    tc = int(input())\n",
        "    while tc > 0:\n",
        "        tc -= 1\n",
        "        A = int(input())\n",
        "        B = int(input())\n",
        "        if A > B:\n",
        "            VAL = B\n",
        "        else:\n",
        "            VAL = A\n",
        "        for x in range(VAL, 0, -1):\n",
        "            # if A % x == 0 and B % x == 0:\n",
        "                print(x)\n",
        "    return 0\n",
        "\n",
        "\n",
        "if __name__ == '__main__':\n",
        "    main()"
      ],
      "metadata": {
        "colab": {
          "base_uri": "https://localhost:8080/",
          "height": 236
        },
        "id": "rwbmEQ0GyY7D",
        "outputId": "7c6d2ae9-a497-4b09-ba41-4a5e7f57268a"
      },
      "execution_count": null,
      "outputs": [
        {
          "output_type": "error",
          "ename": "TypeError",
          "evalue": "ignored",
          "traceback": [
            "\u001b[0;31m---------------------------------------------------------------------------\u001b[0m",
            "\u001b[0;31mTypeError\u001b[0m                                 Traceback (most recent call last)",
            "\u001b[0;32m<ipython-input-47-ba6030cc23e6>\u001b[0m in \u001b[0;36m<module>\u001b[0;34m\u001b[0m\n\u001b[1;32m      4\u001b[0m \u001b[0mB\u001b[0m \u001b[0;34m=\u001b[0m\u001b[0;36m4\u001b[0m\u001b[0;34m\u001b[0m\u001b[0;34m\u001b[0m\u001b[0m\n\u001b[1;32m      5\u001b[0m \u001b[0;34m\u001b[0m\u001b[0m\n\u001b[0;32m----> 6\u001b[0;31m \u001b[0mVAL\u001b[0m \u001b[0;34m=\u001b[0m \u001b[0mmin\u001b[0m\u001b[0;34m(\u001b[0m\u001b[0mA\u001b[0m\u001b[0;34m,\u001b[0m\u001b[0mB\u001b[0m\u001b[0;34m)\u001b[0m\u001b[0;34m\u001b[0m\u001b[0;34m\u001b[0m\u001b[0m\n\u001b[0m\u001b[1;32m      7\u001b[0m \u001b[0;34m\u001b[0m\u001b[0m\n\u001b[1;32m      8\u001b[0m \u001b[0;32mfor\u001b[0m \u001b[0mx\u001b[0m \u001b[0;32min\u001b[0m \u001b[0mrange\u001b[0m\u001b[0;34m(\u001b[0m\u001b[0mVAL\u001b[0m\u001b[0;34m,\u001b[0m \u001b[0;36m0\u001b[0m\u001b[0;34m,\u001b[0m \u001b[0;34m-\u001b[0m\u001b[0;36m1\u001b[0m\u001b[0;34m)\u001b[0m\u001b[0;34m:\u001b[0m\u001b[0;34m\u001b[0m\u001b[0;34m\u001b[0m\u001b[0m\n",
            "\u001b[0;31mTypeError\u001b[0m: 'int' object is not callable"
          ]
        }
      ]
    },
    {
      "cell_type": "code",
      "source": [
        "A = 24\n",
        "B = 36\n",
        "if A > B:\n",
        "  min = B\n",
        "else:\n",
        "  min = A \n",
        "for x in range(1,min+1):\n",
        "  if((A % x == 0) and (B % x == 0)):\n",
        "    gcd = x\n",
        "    print(x)\n",
        "print(gcd)"
      ],
      "metadata": {
        "colab": {
          "base_uri": "https://localhost:8080/"
        },
        "id": "HhcL31iGSyDc",
        "outputId": "139c09fd-befd-4274-8fb3-e54e2748889a"
      },
      "execution_count": null,
      "outputs": [
        {
          "output_type": "stream",
          "name": "stdout",
          "text": [
            "1\n",
            "2\n",
            "3\n",
            "4\n",
            "6\n",
            "12\n",
            "12\n"
          ]
        }
      ]
    },
    {
      "cell_type": "code",
      "source": [
        "a1 = 7\n",
        "b1 = 52\n",
        "minimum = min(a1, b1)\n",
        "print(f'Minimum of {a1}, {b1} is {minimum}')"
      ],
      "metadata": {
        "colab": {
          "base_uri": "https://localhost:8080/",
          "height": 218
        },
        "id": "tbnrshu1UlX2",
        "outputId": "70151179-3d5c-4ca1-b73b-ecd1b5255572"
      },
      "execution_count": null,
      "outputs": [
        {
          "output_type": "error",
          "ename": "TypeError",
          "evalue": "ignored",
          "traceback": [
            "\u001b[0;31m---------------------------------------------------------------------------\u001b[0m",
            "\u001b[0;31mTypeError\u001b[0m                                 Traceback (most recent call last)",
            "\u001b[0;32m<ipython-input-50-fcc8d3da7b0d>\u001b[0m in \u001b[0;36m<module>\u001b[0;34m\u001b[0m\n\u001b[1;32m      1\u001b[0m \u001b[0ma1\u001b[0m \u001b[0;34m=\u001b[0m \u001b[0;36m7\u001b[0m\u001b[0;34m\u001b[0m\u001b[0;34m\u001b[0m\u001b[0m\n\u001b[1;32m      2\u001b[0m \u001b[0mb1\u001b[0m \u001b[0;34m=\u001b[0m \u001b[0;36m52\u001b[0m\u001b[0;34m\u001b[0m\u001b[0;34m\u001b[0m\u001b[0m\n\u001b[0;32m----> 3\u001b[0;31m \u001b[0mminimum\u001b[0m \u001b[0;34m=\u001b[0m \u001b[0mmin\u001b[0m\u001b[0;34m(\u001b[0m\u001b[0ma1\u001b[0m\u001b[0;34m,\u001b[0m \u001b[0mb1\u001b[0m\u001b[0;34m)\u001b[0m\u001b[0;34m\u001b[0m\u001b[0;34m\u001b[0m\u001b[0m\n\u001b[0m\u001b[1;32m      4\u001b[0m \u001b[0mprint\u001b[0m\u001b[0;34m(\u001b[0m\u001b[0;34mf'Minimum of {a1}, {b1} is {minimum}'\u001b[0m\u001b[0;34m)\u001b[0m\u001b[0;34m\u001b[0m\u001b[0;34m\u001b[0m\u001b[0m\n",
            "\u001b[0;31mTypeError\u001b[0m: 'int' object is not callable"
          ]
        }
      ]
    },
    {
      "cell_type": "markdown",
      "source": [
        "LCM"
      ],
      "metadata": {
        "id": "RxAc2w5MzE94"
      }
    },
    {
      "cell_type": "code",
      "source": [
        "x = int(input())\n",
        "y = int(input())\n",
        "\n",
        "if x > y:\n",
        "  greater = x\n",
        "else:\n",
        "  greater = y\n",
        "\n",
        "while(True):\n",
        "  if((greater % x == 0) and (greater % y == 0)):\n",
        "     lcm = greater\n",
        "     break\n",
        "  greater += 1\n",
        "\n",
        "print(lcm)"
      ],
      "metadata": {
        "colab": {
          "base_uri": "https://localhost:8080/"
        },
        "id": "fK42bHrLzFRr",
        "outputId": "9c878664-7e39-47a4-ed9a-8156a2fb1ebe"
      },
      "execution_count": null,
      "outputs": [
        {
          "output_type": "stream",
          "name": "stdout",
          "text": [
            "6\n",
            "8\n",
            "24\n"
          ]
        }
      ]
    },
    {
      "cell_type": "markdown",
      "source": [],
      "metadata": {
        "id": "r5h1p_StUlNr"
      }
    },
    {
      "cell_type": "code",
      "source": [
        "def main():\n",
        "    # YOUR CODE GOES HERE\n",
        "    # Please take input and print output to standard input/output (stdin/stdout)\n",
        "    # E.g. 'input()/raw_input()' for input & 'print' for output\n",
        "    tc = int(input())\n",
        "    while tc >0:\n",
        "        tc -= 1\n",
        "        number = input()\n",
        "        if number == 0:\n",
        "            number = 0\n",
        "        else:\n",
        "          print(number[::-1])\n",
        "    return 0\n",
        "\n",
        "if __name__ == '__main__':\n",
        "    main()"
      ],
      "metadata": {
        "colab": {
          "base_uri": "https://localhost:8080/"
        },
        "id": "F73dqfEsUoqh",
        "outputId": "9a23e4d6-484f-4f3d-fa8e-054330e50163"
      },
      "execution_count": null,
      "outputs": [
        {
          "output_type": "stream",
          "name": "stdout",
          "text": [
            "2\n",
            "0\n",
            "0\n",
            "201\n",
            "102\n"
          ]
        }
      ]
    },
    {
      "cell_type": "markdown",
      "source": [],
      "metadata": {
        "id": "9xJ3UFt7Uo5o"
      }
    },
    {
      "cell_type": "code",
      "source": [
        "def main():\n",
        "    # YOUR CODE GOES HERE\n",
        "    # Please take input and print output to standard input/output (stdin/stdout)\n",
        "    # E.g. 'input()/raw_input()' for input & 'print' for output\n",
        "    tc = int(input())\n",
        "    rem = 0\n",
        "    rev = 0 \n",
        "    while tc >0:\n",
        "        tc -= 1\n",
        "        num = int(input())\n",
        "        if num == 0:\n",
        "            num = 0\n",
        "        while num > 0:\n",
        "          rem = num % 10  \n",
        "          rev = (rev * 10) + rem\n",
        "          num = num // 10 \n",
        "        print(\"{}\".format(rev))\n",
        "    return 0\n",
        "\n",
        "if __name__ == '__main__':\n",
        "    main()"
      ],
      "metadata": {
        "colab": {
          "base_uri": "https://localhost:8080/"
        },
        "id": "56PNaw66UpAq",
        "outputId": "722310cb-7403-4566-9156-d12fdc09486c"
      },
      "execution_count": null,
      "outputs": [
        {
          "output_type": "stream",
          "name": "stdout",
          "text": [
            "1\n",
            "507\n",
            "705\n"
          ]
        }
      ]
    },
    {
      "cell_type": "markdown",
      "source": [],
      "metadata": {
        "id": "Tzo8WkQmUpIv"
      }
    },
    {
      "cell_type": "code",
      "source": [],
      "metadata": {
        "id": "B5GegZvnUpPQ"
      },
      "execution_count": null,
      "outputs": []
    },
    {
      "cell_type": "markdown",
      "source": [],
      "metadata": {
        "id": "r0hxCd7iUpW0"
      }
    },
    {
      "cell_type": "code",
      "source": [],
      "metadata": {
        "id": "5rL87eKyUpdk"
      },
      "execution_count": null,
      "outputs": []
    },
    {
      "cell_type": "markdown",
      "source": [],
      "metadata": {
        "id": "2qmv7RpNUplY"
      }
    },
    {
      "cell_type": "code",
      "source": [],
      "metadata": {
        "id": "4IGrMEZaUpsJ"
      },
      "execution_count": null,
      "outputs": []
    },
    {
      "cell_type": "markdown",
      "source": [],
      "metadata": {
        "id": "sQQgRecRUpy7"
      }
    },
    {
      "cell_type": "code",
      "source": [],
      "metadata": {
        "id": "c72DiHJJUp6N"
      },
      "execution_count": null,
      "outputs": []
    },
    {
      "cell_type": "markdown",
      "source": [],
      "metadata": {
        "id": "wxYP_xHfUqBx"
      }
    },
    {
      "cell_type": "code",
      "source": [],
      "metadata": {
        "id": "Ds57cfKJUqKG"
      },
      "execution_count": null,
      "outputs": []
    },
    {
      "cell_type": "markdown",
      "source": [],
      "metadata": {
        "id": "sDyE6UmvtgYP"
      }
    },
    {
      "cell_type": "code",
      "source": [],
      "metadata": {
        "id": "7nUImtlvtgjS"
      },
      "execution_count": null,
      "outputs": []
    },
    {
      "cell_type": "markdown",
      "source": [],
      "metadata": {
        "id": "83IBC3nitgq_"
      }
    },
    {
      "cell_type": "code",
      "source": [],
      "metadata": {
        "id": "FVcYka2_tgyt"
      },
      "execution_count": null,
      "outputs": []
    },
    {
      "cell_type": "markdown",
      "source": [
        "HQ1"
      ],
      "metadata": {
        "id": "NfiiT-7ctg5a"
      }
    },
    {
      "cell_type": "code",
      "source": [
        "for i in range(1):\n",
        "    for j in range(2):\n",
        "        for k in range(1):\n",
        "            print(\"a\", end=\" \")\n",
        "        print(end=\"\")\n",
        "    print(\"c\")"
      ],
      "metadata": {
        "colab": {
          "base_uri": "https://localhost:8080/"
        },
        "id": "kqKjr4esthFR",
        "outputId": "ab6b9c7e-822b-4b75-aafb-907d161c60a9"
      },
      "execution_count": null,
      "outputs": [
        {
          "output_type": "stream",
          "name": "stdout",
          "text": [
            "a a c\n"
          ]
        }
      ]
    },
    {
      "cell_type": "markdown",
      "source": [
        "HQ2"
      ],
      "metadata": {
        "id": "Sz_0Rhl6uRKu"
      }
    },
    {
      "cell_type": "code",
      "source": [
        "def main():\n",
        "    # YOUR CODE GOES HERE\n",
        "    # Please take input and print output to standard input/output (stdin/stdout)\n",
        "    # E.g. 'input()/raw_input()' for input & 'print' for output\n",
        "    num = int(input())\n",
        "    for i in range(num,-1,-1):\n",
        "        for j in range(i):\n",
        "            print(j+1,end=\" \")\n",
        "            # j -=1\n",
        "        print()\n",
        "    return 0\n",
        "\n",
        "if __name__ == '__main__':\n",
        "    main()"
      ],
      "metadata": {
        "colab": {
          "base_uri": "https://localhost:8080/"
        },
        "id": "UC-81smGuRY4",
        "outputId": "2bbb9f36-527b-4f9f-9cc9-4fa5ae919ec1"
      },
      "execution_count": null,
      "outputs": [
        {
          "output_type": "stream",
          "name": "stdout",
          "text": [
            "4\n",
            "1 2 3 4 \n",
            "1 2 3 \n",
            "1 2 \n",
            "1 \n",
            "\n"
          ]
        }
      ]
    },
    {
      "cell_type": "code",
      "source": [
        "def main():\n",
        "    # YOUR CODE GOES HERE\n",
        "    # Please take input and print output to standard input/output (stdin/stdout)\n",
        "    # E.g. 'input()/raw_input()' for input & 'print' for output\n",
        "    num = int(input())\n",
        "    for i in range(num,0,-1):\n",
        "        for j in range(1,i+1):\n",
        "            print(j,end=\" \")\n",
        "        print()\n",
        "\n",
        "if __name__ == '__main__':\n",
        "    main()"
      ],
      "metadata": {
        "id": "iPO-8f1QyVnr",
        "outputId": "42a79258-6908-4401-a4f2-9b8e70b75f37",
        "colab": {
          "base_uri": "https://localhost:8080/"
        }
      },
      "execution_count": null,
      "outputs": [
        {
          "output_type": "stream",
          "name": "stdout",
          "text": [
            "4\n",
            "1 2 3 4 \n",
            "1 2 3 \n",
            "1 2 \n",
            "1 \n"
          ]
        }
      ]
    },
    {
      "cell_type": "code",
      "source": [
        "def main():\n",
        "  alp = input()\n",
        "  vowels = [\"a\",\"e\",\"i\",\"o\",\"u\"]\n",
        "  ans = []\n",
        "  for i in alp:\n",
        "    if i in vowels:\n",
        "      # n = chr(ord(n) + shift_by)\n",
        "      ans.append(i)\n",
        "\n",
        "  return (''.join(ans))\n",
        "\n",
        "\n",
        "\n",
        "if __name__ == '__main__':\n",
        "    print(main())\n",
        "    "
      ],
      "metadata": {
        "id": "Zz6Z1JocyVrA",
        "colab": {
          "base_uri": "https://localhost:8080/"
        },
        "outputId": "666a0a79-4ffa-406e-83fe-08c724c594a0"
      },
      "execution_count": 11,
      "outputs": [
        {
          "output_type": "stream",
          "name": "stdout",
          "text": [
            "ishwar\n",
            "ia\n"
          ]
        }
      ]
    },
    {
      "cell_type": "code",
      "source": [
        "# Python program to find vowels in a string\n",
        "\n",
        "def findVowels(string):    #user-defined function\n",
        "    # to find the vowels\n",
        "    vowels = [each for each in A if each in \"aeiouAEIOU\"]\n",
        "    res = (''.join(vowels))\n",
        "    return res\n",
        "\n",
        "# take input\n",
        "string = \"ishwar\"\n",
        "\n",
        "# call the function\n",
        "print(findVowels(string))\n"
      ],
      "metadata": {
        "colab": {
          "base_uri": "https://localhost:8080/"
        },
        "id": "-4-YdFZohjy9",
        "outputId": "19255e23-f045-4cfc-bb84-8d213866c053"
      },
      "execution_count": 12,
      "outputs": [
        {
          "output_type": "stream",
          "name": "stdout",
          "text": [
            "ia\n"
          ]
        }
      ]
    }
  ]
}