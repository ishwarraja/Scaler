{
  "nbformat": 4,
  "nbformat_minor": 0,
  "metadata": {
    "colab": {
      "provenance": [],
      "include_colab_link": true
    },
    "kernelspec": {
      "name": "python3",
      "display_name": "Python 3"
    },
    "language_info": {
      "name": "python"
    }
  },
  "cells": [
    {
      "cell_type": "markdown",
      "metadata": {
        "id": "view-in-github",
        "colab_type": "text"
      },
      "source": [
        "<a href=\"https://colab.research.google.com/github/ishwarraja/Scaler/blob/main/DMLP/Intermediate/041-Problems_11Mar2023.ipynb\" target=\"_parent\"><img src=\"https://colab.research.google.com/assets/colab-badge.svg\" alt=\"Open In Colab\"/></a>"
      ]
    },
    {
      "cell_type": "markdown",
      "metadata": {
        "id": "pNwH8nRMNgFZ"
      },
      "source": [
        "Lecture Link: https://colab.research.google.com/drive/1Zdevf4xN5kilUYN2fvAgbRnSW-5FyEmh?usp=sharing\n",
        "\n",
        "1) Doubts or questions ? Whatsapp Group, support@scaler.com, Teaching Assistant\n",
        "\n",
        "2) My email id ? titas.de_1@scaler.com \n",
        "\n",
        "3) Frequency of problem solving classes ? once every week"
      ]
    },
    {
      "cell_type": "markdown",
      "source": [
        "## Duplicate number\n",
        "Given a list of integers `nums` containing n + 1 integers where each integer is in the range [1, n] inclusive.\n",
        "\n",
        "There is only one repeated number in nums, wrute a python function that return this repeated number. If not found then return -1.\n",
        "\n",
        "> Note: Can you solve the problem without modifying the array `nums` and with O(1) Space complexity\n",
        "\n",
        "**Input Format**:\n",
        "```\n",
        "nums: list of integers\n",
        "```\n",
        "**Output Format**:\n",
        "```\n",
        "repeated number else -1\n",
        "```\n",
        "**Input Sample**:\n",
        "```\n",
        "[3,1,3,4,2]\n",
        "```\n",
        "**Output Sample**:\n",
        "```\n",
        "3\n",
        "```"
      ],
      "metadata": {
        "id": "1swfEhjxHW0w"
      }
    },
    {
      "cell_type": "code",
      "source": [
        "freq_map = {}\n",
        "#arr = [3,1,3,4,2]\n",
        "arr = [3,1,2,4,2,7,5,6]\n",
        "for elem in arr: # O(N) approach\n",
        "  if elem in freq_map:\n",
        "    freq_map[elem] = freq_map[elem] + 1\n",
        "  else:\n",
        "    freq_map[elem] = 1\n",
        "\n",
        "print(freq_map)\n",
        "\n",
        "duplicate_num = None\n",
        "for key in freq_map.keys(): # O(N) approach\n",
        "  if freq_map[key]>1:\n",
        "    duplicate_num = key\n",
        "    break\n",
        "\n",
        "print(duplicate_num)\n",
        "\n",
        "# TC: O(N)\n",
        "# SC: O(N)\n"
      ],
      "metadata": {
        "colab": {
          "base_uri": "https://localhost:8080/"
        },
        "id": "TWsoX_aDYw4m",
        "outputId": "4a8cf7aa-dfd4-4a32-bbcb-87f9a9d65232"
      },
      "execution_count": null,
      "outputs": [
        {
          "output_type": "stream",
          "name": "stdout",
          "text": [
            "{3: 1, 1: 1, 2: 2, 4: 1, 7: 1, 5: 1, 6: 1}\n",
            "2\n"
          ]
        }
      ]
    },
    {
      "cell_type": "code",
      "source": [
        "arr = [3,1,2,4,2,7,5,6]\n",
        "N = len(arr)-1\n",
        "S = sum(arr)\n",
        "expected_sum = N*(N+1)//2\n",
        "duplicate_num = S - expected_sum\n",
        "print(duplicate_num)"
      ],
      "metadata": {
        "colab": {
          "base_uri": "https://localhost:8080/"
        },
        "id": "ITBA9lK_bM3-",
        "outputId": "743474b0-0887-436b-bfa2-ff1dcaa87ae1"
      },
      "execution_count": null,
      "outputs": [
        {
          "output_type": "stream",
          "name": "stdout",
          "text": [
            "2\n"
          ]
        }
      ]
    },
    {
      "cell_type": "markdown",
      "source": [
        "## Remove duplicates\n",
        "You are given a string as input. Write a python function `solve` that recieves string as input and remove continuously occurring duplicate characters and returns the string using recursion.\n",
        "\n",
        "**Input Sample**:\n",
        "```\n",
        "aabcca\n",
        "```\n",
        "\n",
        "**Output Sample**:\n",
        "```\n",
        "abca\n",
        "```"
      ],
      "metadata": {
        "id": "1QsRB3Kl-1rx"
      }
    },
    {
      "cell_type": "code",
      "source": [
        "# iterative approach\n",
        "def solve(str1): \n",
        "  result = str1[0] # one character string can't have any duplicates\n",
        "  N = len(str1)\n",
        "  for i in range(1,N):\n",
        "    if str1[i]==str1[i-1]: # ignore the ith element\n",
        "      pass\n",
        "    else: # ith element and (i-1)th element not equal\n",
        "      result = result + str1[i]\n",
        "  return result\n",
        "\n",
        "str1 = \"aabcca\"\n",
        "print(solve(str1))\n",
        "\n",
        "#print(set(str1)) # not the right answer"
      ],
      "metadata": {
        "colab": {
          "base_uri": "https://localhost:8080/"
        },
        "id": "vfAll3z-encv",
        "outputId": "ca50904a-041f-445a-f7a9-d9aa473b25de"
      },
      "execution_count": null,
      "outputs": [
        {
          "output_type": "stream",
          "name": "stdout",
          "text": [
            "abca\n"
          ]
        }
      ]
    },
    {
      "cell_type": "code",
      "source": [
        "# recursive approach\n",
        "def solve(str1):\n",
        "  if len(str1)<2: # only 1 character, hence no duplicates\n",
        "    return str1\n",
        "  elif str1[0]==str1[1]: # 0th and 1st matches\n",
        "    return solve(str1[1:])\n",
        "  else: # 0th and 1st don't match\n",
        "    return str1[0] + solve(str1[1:])\n",
        "\n",
        "str1 = \"aabcca\"\n",
        "print(solve(str1))"
      ],
      "metadata": {
        "colab": {
          "base_uri": "https://localhost:8080/"
        },
        "id": "FbP7-PdTgiX7",
        "outputId": "91465990-40b6-486c-85c0-cf56758f042f"
      },
      "execution_count": null,
      "outputs": [
        {
          "output_type": "stream",
          "name": "stdout",
          "text": [
            "abca\n"
          ]
        }
      ]
    },
    {
      "cell_type": "markdown",
      "source": [
        "## Print Subset\n",
        "\n",
        "You are given a list as input. Complete the following function to return all the subsets of list as a list of lists.\n",
        "\n",
        "**Input Sample**:\n",
        "```\n",
        "[1,2,3]\n",
        "```\n",
        "**Output Sample**:\n",
        "```\n",
        "[[], [1], [2], [1, 2], [3], [1, 3], [2, 3], [1, 2, 3]]\n",
        "```"
      ],
      "metadata": {
        "id": "ZMEqp6O3QjP1"
      }
    },
    {
      "cell_type": "code",
      "source": [
        "def solve(arr,i,N,list1):\n",
        "  #print(\"solve called with arr = \",arr,\", i = \",i,\", N = \",N,\", list1 = \",list1)\n",
        "  \n",
        "  # i-1 determines till what index elements have been picked or not picked\n",
        "  # base condition\n",
        "  if i==N: # index has reached the end of arr\n",
        "    print(list1) \n",
        "    return \n",
        "  # other conditions\n",
        "  else:\n",
        "    solve(arr,i+1,N,list1+[arr[i]]) # picking / adding arr[i]\n",
        "    solve(arr,i+1,N,list1+[]) # not picking / not adding arr[i]\n",
        "\n",
        "arr = [1,2,3]\n",
        "solve(arr,0,3,[])"
      ],
      "metadata": {
        "colab": {
          "base_uri": "https://localhost:8080/"
        },
        "id": "Ys8u5a-Mo-oU",
        "outputId": "db3803ab-ee08-4f27-e123-ca16c3734043"
      },
      "execution_count": null,
      "outputs": [
        {
          "output_type": "stream",
          "name": "stdout",
          "text": [
            "[1, 2, 3]\n",
            "[1, 2]\n",
            "[1, 3]\n",
            "[1]\n",
            "[2, 3]\n",
            "[2]\n",
            "[3]\n",
            "[]\n"
          ]
        }
      ]
    },
    {
      "cell_type": "code",
      "source": [
        "N = 256\n",
        "result = False # assuming N is not a power of 2\n",
        "val = 1\n",
        "# while True: # infinite loop\n",
        "#   if val > N:\n",
        "#     break\n",
        "#   elif val < N:\n",
        "#     val = val * 2\n",
        "#   else: # val == N\n",
        "#     result = True\n",
        "#     break\n",
        "\n",
        "# print(result)\n",
        "\n",
        "while val<=N:\n",
        "  if val==N:\n",
        "    result = True\n",
        "    break\n",
        "  else:\n",
        "    val = val * 2\n",
        "\n",
        "print(result)"
      ],
      "metadata": {
        "colab": {
          "base_uri": "https://localhost:8080/"
        },
        "id": "DySc46qwvJxM",
        "outputId": "a339e491-2c2a-42ce-8298-a2ddfb9bb7ae"
      },
      "execution_count": null,
      "outputs": [
        {
          "output_type": "stream",
          "name": "stdout",
          "text": [
            "True\n"
          ]
        }
      ]
    },
    {
      "cell_type": "code",
      "source": [
        "N = 256\n",
        "result = False\n",
        "i = 0\n",
        "# while True:\n",
        "#   if 2**i>N:\n",
        "#     break\n",
        "#   elif 2**i<N:\n",
        "#     i += 1\n",
        "#   else: # 2**i==N\n",
        "#     result = True\n",
        "#     break\n",
        "\n",
        "while 2**i<=N:\n",
        "  if 2**i==N:\n",
        "    result = True\n",
        "    break\n",
        "  else:\n",
        "    i += 1\n",
        "\n",
        "print(result)"
      ],
      "metadata": {
        "colab": {
          "base_uri": "https://localhost:8080/"
        },
        "id": "PKcKh6x0wjIq",
        "outputId": "6179b966-510b-423a-be18-cd31bab65161"
      },
      "execution_count": null,
      "outputs": [
        {
          "output_type": "stream",
          "name": "stdout",
          "text": [
            "True\n"
          ]
        }
      ]
    }
  ]
}