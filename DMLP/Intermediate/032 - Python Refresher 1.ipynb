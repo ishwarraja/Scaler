{
  "cells": [
    {
      "cell_type": "code",
      "execution_count": null,
      "id": "09daf701",
      "metadata": {
        "id": "09daf701"
      },
      "outputs": [],
      "source": [
        "a = 56"
      ]
    },
    {
      "cell_type": "code",
      "execution_count": null,
      "id": "d95f3723",
      "metadata": {
        "id": "d95f3723",
        "outputId": "cb499e59-d126-4baa-9562-598d23cab0e3"
      },
      "outputs": [
        {
          "data": {
            "text/plain": [
              "int"
            ]
          },
          "execution_count": 2,
          "metadata": {},
          "output_type": "execute_result"
        }
      ],
      "source": [
        "type(a)"
      ]
    },
    {
      "cell_type": "code",
      "execution_count": null,
      "id": "8c04221f",
      "metadata": {
        "id": "8c04221f",
        "outputId": "faac13b3-e202-4f51-c4a1-c9aebab5d322"
      },
      "outputs": [
        {
          "data": {
            "text/plain": [
              "True"
            ]
          },
          "execution_count": 3,
          "metadata": {},
          "output_type": "execute_result"
        }
      ],
      "source": [
        "isinstance(a, int)"
      ]
    },
    {
      "cell_type": "code",
      "execution_count": null,
      "id": "60735f08",
      "metadata": {
        "id": "60735f08",
        "outputId": "0c318178-74cc-41d9-99fd-1bfea9330111"
      },
      "outputs": [
        {
          "data": {
            "text/plain": [
              "True"
            ]
          },
          "execution_count": 4,
          "metadata": {},
          "output_type": "execute_result"
        }
      ],
      "source": [
        "isinstance(a, object)"
      ]
    },
    {
      "cell_type": "code",
      "execution_count": null,
      "id": "52f4bda3",
      "metadata": {
        "id": "52f4bda3",
        "outputId": "a2d990fc-700b-4d84-bf1a-b040eefbcb44"
      },
      "outputs": [
        {
          "data": {
            "text/plain": [
              "True"
            ]
          },
          "execution_count": 5,
          "metadata": {},
          "output_type": "execute_result"
        }
      ],
      "source": [
        "isinstance(True, object)"
      ]
    },
    {
      "cell_type": "code",
      "execution_count": null,
      "id": "a239fc50",
      "metadata": {
        "id": "a239fc50",
        "outputId": "aa73192f-c2f3-4852-8988-0a6b1b5bfe97"
      },
      "outputs": [
        {
          "data": {
            "text/plain": [
              "True"
            ]
          },
          "execution_count": 6,
          "metadata": {},
          "output_type": "execute_result"
        }
      ],
      "source": [
        "isinstance(print, object)"
      ]
    },
    {
      "cell_type": "code",
      "execution_count": null,
      "id": "03baf67b",
      "metadata": {
        "id": "03baf67b",
        "outputId": "3f78bf42-36bc-4387-efa6-6551c138fe60"
      },
      "outputs": [
        {
          "data": {
            "text/plain": [
              "-4"
            ]
          },
          "execution_count": 8,
          "metadata": {},
          "output_type": "execute_result"
        }
      ],
      "source": [
        "-10 // (10 % 7)\n",
        "\n",
        "# 10 % 7 -> 3\n",
        "# -10 // 3 -> -3.333333 -> -4"
      ]
    },
    {
      "cell_type": "code",
      "execution_count": null,
      "id": "3cfe40ec",
      "metadata": {
        "id": "3cfe40ec"
      },
      "outputs": [],
      "source": [
        "a = 5"
      ]
    },
    {
      "cell_type": "code",
      "execution_count": null,
      "id": "5e8cd27d",
      "metadata": {
        "id": "5e8cd27d"
      },
      "outputs": [],
      "source": [
        "a = 6"
      ]
    },
    {
      "cell_type": "code",
      "execution_count": null,
      "id": "fc2cf4ff",
      "metadata": {
        "id": "fc2cf4ff",
        "outputId": "5a99a810-8969-4bb8-eb45-824754c25922"
      },
      "outputs": [
        {
          "data": {
            "text/plain": [
              "6"
            ]
          },
          "execution_count": 11,
          "metadata": {},
          "output_type": "execute_result"
        }
      ],
      "source": [
        "a"
      ]
    },
    {
      "cell_type": "code",
      "execution_count": null,
      "id": "436a6792",
      "metadata": {
        "id": "436a6792"
      },
      "outputs": [],
      "source": [
        "a = 10"
      ]
    },
    {
      "cell_type": "code",
      "execution_count": null,
      "id": "e9a62667",
      "metadata": {
        "id": "e9a62667",
        "outputId": "52410cbb-4b88-4b16-9565-54f765d300bd"
      },
      "outputs": [
        {
          "data": {
            "text/plain": [
              "140396843821648"
            ]
          },
          "execution_count": 13,
          "metadata": {},
          "output_type": "execute_result"
        }
      ],
      "source": [
        "id(a)"
      ]
    },
    {
      "cell_type": "code",
      "execution_count": null,
      "id": "e732917e",
      "metadata": {
        "id": "e732917e"
      },
      "outputs": [],
      "source": [
        "a = 20"
      ]
    },
    {
      "cell_type": "code",
      "execution_count": null,
      "id": "e981d88f",
      "metadata": {
        "id": "e981d88f",
        "outputId": "1b34b5f8-5457-43a1-cc8f-41fe1035813b"
      },
      "outputs": [
        {
          "data": {
            "text/plain": [
              "140396843821968"
            ]
          },
          "execution_count": 15,
          "metadata": {},
          "output_type": "execute_result"
        }
      ],
      "source": [
        "id(a)"
      ]
    },
    {
      "cell_type": "code",
      "execution_count": null,
      "id": "f028f4ac",
      "metadata": {
        "id": "f028f4ac"
      },
      "outputs": [],
      "source": [
        "a = 50"
      ]
    },
    {
      "cell_type": "code",
      "execution_count": null,
      "id": "457d9203",
      "metadata": {
        "id": "457d9203",
        "outputId": "4e8fc54c-567b-4921-cc81-4e094a13d026"
      },
      "outputs": [
        {
          "data": {
            "text/plain": [
              "140396843822928"
            ]
          },
          "execution_count": 17,
          "metadata": {},
          "output_type": "execute_result"
        }
      ],
      "source": [
        "id(a)"
      ]
    },
    {
      "cell_type": "code",
      "execution_count": null,
      "id": "6c6d113e",
      "metadata": {
        "id": "6c6d113e"
      },
      "outputs": [],
      "source": [
        "b = 50"
      ]
    },
    {
      "cell_type": "code",
      "execution_count": null,
      "id": "aa14201a",
      "metadata": {
        "id": "aa14201a",
        "outputId": "fac3072a-e834-4148-f91c-a8ca5e25a0d9"
      },
      "outputs": [
        {
          "data": {
            "text/plain": [
              "140396843822928"
            ]
          },
          "execution_count": 20,
          "metadata": {},
          "output_type": "execute_result"
        }
      ],
      "source": [
        "id(b)"
      ]
    },
    {
      "cell_type": "code",
      "execution_count": null,
      "id": "17b5d762",
      "metadata": {
        "id": "17b5d762"
      },
      "outputs": [],
      "source": [
        "b = 100"
      ]
    },
    {
      "cell_type": "code",
      "execution_count": null,
      "id": "30a427bb",
      "metadata": {
        "id": "30a427bb",
        "outputId": "e0813b0f-3d0a-43ac-ac19-111c9e4e6f5a"
      },
      "outputs": [
        {
          "data": {
            "text/plain": [
              "140396844013008"
            ]
          },
          "execution_count": 22,
          "metadata": {},
          "output_type": "execute_result"
        }
      ],
      "source": [
        "id(b)"
      ]
    },
    {
      "cell_type": "code",
      "execution_count": null,
      "id": "702adedb",
      "metadata": {
        "id": "702adedb",
        "outputId": "7ecf64f5-e920-46a2-95bb-bab6bca37771"
      },
      "outputs": [
        {
          "data": {
            "text/plain": [
              "50"
            ]
          },
          "execution_count": 23,
          "metadata": {},
          "output_type": "execute_result"
        }
      ],
      "source": [
        "a"
      ]
    },
    {
      "cell_type": "code",
      "execution_count": null,
      "id": "f504ffb8",
      "metadata": {
        "id": "f504ffb8"
      },
      "outputs": [],
      "source": [
        "a = \"random\""
      ]
    },
    {
      "cell_type": "code",
      "execution_count": null,
      "id": "c5569cfc",
      "metadata": {
        "id": "c5569cfc"
      },
      "outputs": [],
      "source": [
        "b = \"random\""
      ]
    },
    {
      "cell_type": "code",
      "execution_count": null,
      "id": "1ee41bc7",
      "metadata": {
        "id": "1ee41bc7",
        "outputId": "532e646c-4921-49e9-bc01-73ab8e67d5d5"
      },
      "outputs": [
        {
          "data": {
            "text/plain": [
              "True"
            ]
          },
          "execution_count": 26,
          "metadata": {},
          "output_type": "execute_result"
        }
      ],
      "source": [
        "id(a) == id(b)"
      ]
    },
    {
      "cell_type": "code",
      "execution_count": null,
      "id": "95fdc94a",
      "metadata": {
        "id": "95fdc94a",
        "outputId": "2b4ea0cc-ee35-4b44-cea8-f958172ad3eb"
      },
      "outputs": [
        {
          "data": {
            "text/plain": [
              "'\\nQuestion 1 - \\nWrite a simple program which takes a number as input from the user.\\n\\nPrint \"Foo\" if number is a multiple of 3\\nPrint \"Bar\" if number is a multiple of 5\\nPrint \"FooBar\" if number is a multiple of 15\\n'"
            ]
          },
          "execution_count": 27,
          "metadata": {},
          "output_type": "execute_result"
        }
      ],
      "source": [
        "'''\n",
        "Question 1 - \n",
        "Write a simple program which takes a number as input from the user.\n",
        "\n",
        "Print \"Foo\" if number is a multiple of 3\n",
        "Print \"Bar\" if number is a multiple of 5\n",
        "Print \"FooBar\" if number is a multiple of 15\n",
        "'''"
      ]
    },
    {
      "cell_type": "code",
      "execution_count": null,
      "id": "59d5c95c",
      "metadata": {
        "id": "59d5c95c",
        "outputId": "51539060-1aca-48c4-81b6-102425fe309f"
      },
      "outputs": [
        {
          "name": "stdout",
          "output_type": "stream",
          "text": [
            "22\n"
          ]
        }
      ],
      "source": [
        "number = int(input())\n",
        "\n",
        "if number % 15 == 0:\n",
        "    print(\"FooBar\")\n",
        "elif number % 3 == 0:\n",
        "    print(\"Foo\")\n",
        "elif number % 5 == 0:\n",
        "    print(\"Bar\")"
      ]
    },
    {
      "cell_type": "code",
      "execution_count": null,
      "id": "87ba5430",
      "metadata": {
        "id": "87ba5430",
        "outputId": "b3a0c7a9-d525-410a-8280-c94138fa7581"
      },
      "outputs": [
        {
          "name": "stdout",
          "output_type": "stream",
          "text": [
            "15\n",
            "Bar\n"
          ]
        }
      ],
      "source": [
        "number = int(input())\n",
        "\n",
        "if number % 5 == 0:\n",
        "    print(\"Bar\")\n",
        "elif number % 3 == 0:\n",
        "    print(\"Foo\")\n",
        "elif number % 15 == 0:\n",
        "    print(\"FooBar\")"
      ]
    },
    {
      "cell_type": "markdown",
      "id": "8a3cbb4c",
      "metadata": {
        "id": "8a3cbb4c"
      },
      "source": [
        "### Iteration Protocol"
      ]
    },
    {
      "cell_type": "code",
      "execution_count": null,
      "id": "4e4250af",
      "metadata": {
        "id": "4e4250af"
      },
      "outputs": [],
      "source": [
        "# iter() and next()"
      ]
    },
    {
      "cell_type": "code",
      "execution_count": null,
      "id": "829b78dc",
      "metadata": {
        "id": "829b78dc",
        "outputId": "c69ca733-c626-40d0-bdbf-5ccef8a83624"
      },
      "outputs": [
        {
          "name": "stdout",
          "output_type": "stream",
          "text": [
            "s\n",
            "t\n",
            "r\n",
            "i\n",
            "n\n",
            "g\n"
          ]
        }
      ],
      "source": [
        "for i in \"string\":\n",
        "    print(i)"
      ]
    },
    {
      "cell_type": "code",
      "execution_count": null,
      "id": "ab1f25a8",
      "metadata": {
        "id": "ab1f25a8",
        "outputId": "8dab7308-c2b3-4eff-d603-dfb4618502b8"
      },
      "outputs": [
        {
          "name": "stdout",
          "output_type": "stream",
          "text": [
            "1\n",
            "2\n",
            "3\n"
          ]
        }
      ],
      "source": [
        "for i in [1,2,3]:\n",
        "    print(i)"
      ]
    },
    {
      "cell_type": "code",
      "execution_count": null,
      "id": "0c2153c1",
      "metadata": {
        "id": "0c2153c1",
        "outputId": "1a1aa390-ca68-4c12-8a6d-c64635c984e6"
      },
      "outputs": [
        {
          "ename": "TypeError",
          "evalue": "'int' object is not iterable",
          "output_type": "error",
          "traceback": [
            "\u001b[0;31m---------------------------------------------------------------------------\u001b[0m",
            "\u001b[0;31mTypeError\u001b[0m                                 Traceback (most recent call last)",
            "\u001b[0;32m/var/folders/nn/c52y0d3j0gq59dpsswchkt2r0000gn/T/ipykernel_10414/2311998893.py\u001b[0m in \u001b[0;36m<module>\u001b[0;34m\u001b[0m\n\u001b[0;32m----> 1\u001b[0;31m \u001b[0;32mfor\u001b[0m \u001b[0mi\u001b[0m \u001b[0;32min\u001b[0m \u001b[0;36m45\u001b[0m\u001b[0;34m:\u001b[0m\u001b[0;34m\u001b[0m\u001b[0;34m\u001b[0m\u001b[0m\n\u001b[0m\u001b[1;32m      2\u001b[0m     \u001b[0mprint\u001b[0m\u001b[0;34m(\u001b[0m\u001b[0mi\u001b[0m\u001b[0;34m)\u001b[0m\u001b[0;34m\u001b[0m\u001b[0;34m\u001b[0m\u001b[0m\n",
            "\u001b[0;31mTypeError\u001b[0m: 'int' object is not iterable"
          ]
        }
      ],
      "source": [
        "for i in 45:\n",
        "    print(i)"
      ]
    },
    {
      "cell_type": "code",
      "execution_count": null,
      "id": "1a9ff926",
      "metadata": {
        "id": "1a9ff926"
      },
      "outputs": [],
      "source": [
        "a = \"python\""
      ]
    },
    {
      "cell_type": "code",
      "execution_count": null,
      "id": "4f57841e",
      "metadata": {
        "id": "4f57841e"
      },
      "outputs": [],
      "source": [
        "it = iter(a) # passing an iterable to the iter function will return an iterator"
      ]
    },
    {
      "cell_type": "code",
      "execution_count": null,
      "id": "93e925d4",
      "metadata": {
        "id": "93e925d4",
        "outputId": "a1da7b72-a665-4307-9aea-64fd6867edb6"
      },
      "outputs": [
        {
          "data": {
            "text/plain": [
              "<str_iterator at 0x7fb0900dcf70>"
            ]
          },
          "execution_count": 39,
          "metadata": {},
          "output_type": "execute_result"
        }
      ],
      "source": [
        "it"
      ]
    },
    {
      "cell_type": "code",
      "execution_count": null,
      "id": "71ec1dac",
      "metadata": {
        "id": "71ec1dac",
        "outputId": "e4d707ee-9fbf-422f-d3f5-41172a1865a1"
      },
      "outputs": [
        {
          "data": {
            "text/plain": [
              "'p'"
            ]
          },
          "execution_count": 40,
          "metadata": {},
          "output_type": "execute_result"
        }
      ],
      "source": [
        "next(it)"
      ]
    },
    {
      "cell_type": "code",
      "execution_count": null,
      "id": "f6ff28f4",
      "metadata": {
        "id": "f6ff28f4",
        "outputId": "5746d371-06b1-4667-9f41-210f2ce28f71"
      },
      "outputs": [
        {
          "data": {
            "text/plain": [
              "'y'"
            ]
          },
          "execution_count": 41,
          "metadata": {},
          "output_type": "execute_result"
        }
      ],
      "source": [
        "next(it)"
      ]
    },
    {
      "cell_type": "code",
      "execution_count": null,
      "id": "9c47d319",
      "metadata": {
        "id": "9c47d319",
        "outputId": "fa28c8e9-cb5d-415d-ea6a-d4701aa8a45a"
      },
      "outputs": [
        {
          "data": {
            "text/plain": [
              "'t'"
            ]
          },
          "execution_count": 42,
          "metadata": {},
          "output_type": "execute_result"
        }
      ],
      "source": [
        "next(it)"
      ]
    },
    {
      "cell_type": "code",
      "execution_count": null,
      "id": "1991e147",
      "metadata": {
        "id": "1991e147",
        "outputId": "f9f5b36c-49be-421e-998a-70a672d14997"
      },
      "outputs": [
        {
          "data": {
            "text/plain": [
              "'h'"
            ]
          },
          "execution_count": 43,
          "metadata": {},
          "output_type": "execute_result"
        }
      ],
      "source": [
        "next(it)"
      ]
    },
    {
      "cell_type": "code",
      "execution_count": null,
      "id": "e4fb3361",
      "metadata": {
        "id": "e4fb3361",
        "outputId": "d9ec285c-d83c-488d-b064-bbb622cdd896"
      },
      "outputs": [
        {
          "data": {
            "text/plain": [
              "'o'"
            ]
          },
          "execution_count": 44,
          "metadata": {},
          "output_type": "execute_result"
        }
      ],
      "source": [
        "next(it)"
      ]
    },
    {
      "cell_type": "code",
      "execution_count": null,
      "id": "644422ea",
      "metadata": {
        "id": "644422ea",
        "outputId": "f8bc2e0a-45b6-48c6-de79-9ce7de1ea93f"
      },
      "outputs": [
        {
          "data": {
            "text/plain": [
              "'n'"
            ]
          },
          "execution_count": 45,
          "metadata": {},
          "output_type": "execute_result"
        }
      ],
      "source": [
        "next(it)"
      ]
    },
    {
      "cell_type": "code",
      "execution_count": null,
      "id": "b03961c4",
      "metadata": {
        "id": "b03961c4",
        "outputId": "52bd3ec1-df55-452d-dcc7-dcf3b6395c2f"
      },
      "outputs": [
        {
          "ename": "StopIteration",
          "evalue": "",
          "output_type": "error",
          "traceback": [
            "\u001b[0;31m---------------------------------------------------------------------------\u001b[0m",
            "\u001b[0;31mStopIteration\u001b[0m                             Traceback (most recent call last)",
            "\u001b[0;32m/var/folders/nn/c52y0d3j0gq59dpsswchkt2r0000gn/T/ipykernel_10414/600241529.py\u001b[0m in \u001b[0;36m<module>\u001b[0;34m\u001b[0m\n\u001b[0;32m----> 1\u001b[0;31m \u001b[0mnext\u001b[0m\u001b[0;34m(\u001b[0m\u001b[0mit\u001b[0m\u001b[0;34m)\u001b[0m\u001b[0;34m\u001b[0m\u001b[0;34m\u001b[0m\u001b[0m\n\u001b[0m",
            "\u001b[0;31mStopIteration\u001b[0m: "
          ]
        }
      ],
      "source": [
        "next(it)"
      ]
    },
    {
      "cell_type": "code",
      "execution_count": null,
      "id": "6d224c19",
      "metadata": {
        "id": "6d224c19"
      },
      "outputs": [],
      "source": [
        "a = [1,2,3,4,5]"
      ]
    },
    {
      "cell_type": "code",
      "execution_count": null,
      "id": "2b688b19",
      "metadata": {
        "id": "2b688b19"
      },
      "outputs": [],
      "source": [
        "it = iter(a)"
      ]
    },
    {
      "cell_type": "code",
      "execution_count": null,
      "id": "24881de6",
      "metadata": {
        "id": "24881de6",
        "outputId": "fc7a51ce-ad6f-4a15-f670-b79c33f584de"
      },
      "outputs": [
        {
          "data": {
            "text/plain": [
              "<list_iterator at 0x7fb0900dc3d0>"
            ]
          },
          "execution_count": 49,
          "metadata": {},
          "output_type": "execute_result"
        }
      ],
      "source": [
        "it"
      ]
    },
    {
      "cell_type": "code",
      "execution_count": null,
      "id": "df32b567",
      "metadata": {
        "id": "df32b567"
      },
      "outputs": [],
      "source": [
        "a = range(5)"
      ]
    },
    {
      "cell_type": "code",
      "execution_count": null,
      "id": "fc31f546",
      "metadata": {
        "id": "fc31f546"
      },
      "outputs": [],
      "source": [
        "it = iter(a)"
      ]
    },
    {
      "cell_type": "code",
      "execution_count": null,
      "id": "feeeec36",
      "metadata": {
        "id": "feeeec36",
        "outputId": "4cd85f2d-75f9-43da-90a2-e5f0a3455b8d"
      },
      "outputs": [
        {
          "data": {
            "text/plain": [
              "<range_iterator at 0x7fb0900dcdb0>"
            ]
          },
          "execution_count": 52,
          "metadata": {},
          "output_type": "execute_result"
        }
      ],
      "source": [
        "it"
      ]
    },
    {
      "cell_type": "code",
      "execution_count": null,
      "id": "04a292d5",
      "metadata": {
        "id": "04a292d5"
      },
      "outputs": [],
      "source": [
        "board = [[\"\"]*3]*3"
      ]
    },
    {
      "cell_type": "code",
      "execution_count": null,
      "id": "e909325a",
      "metadata": {
        "id": "e909325a",
        "outputId": "c516fa9e-f718-491b-e3c5-fa31d9fb45b7"
      },
      "outputs": [
        {
          "data": {
            "text/plain": [
              "[['', '', ''], ['', '', ''], ['', '', '']]"
            ]
          },
          "execution_count": 55,
          "metadata": {},
          "output_type": "execute_result"
        }
      ],
      "source": [
        "board"
      ]
    },
    {
      "cell_type": "code",
      "execution_count": null,
      "id": "1c65d032",
      "metadata": {
        "id": "1c65d032"
      },
      "outputs": [],
      "source": [
        "board[0][0] = \"0\""
      ]
    },
    {
      "cell_type": "code",
      "execution_count": null,
      "id": "7ae89464",
      "metadata": {
        "id": "7ae89464",
        "outputId": "c21182c0-2a29-44ca-8d5f-961f4dce98f0"
      },
      "outputs": [
        {
          "data": {
            "text/plain": [
              "[['0', '', ''], ['0', '', ''], ['0', '', '']]"
            ]
          },
          "execution_count": 57,
          "metadata": {},
          "output_type": "execute_result"
        }
      ],
      "source": [
        "board"
      ]
    },
    {
      "cell_type": "code",
      "execution_count": null,
      "id": "9510b074",
      "metadata": {
        "id": "9510b074"
      },
      "outputs": [],
      "source": [
        "# HOMEWORK - Explain the above!"
      ]
    },
    {
      "cell_type": "markdown",
      "id": "e538158c",
      "metadata": {
        "id": "e538158c"
      },
      "source": [
        "### Comprehension (List Comprehension)"
      ]
    },
    {
      "cell_type": "code",
      "execution_count": null,
      "id": "078811af",
      "metadata": {
        "id": "078811af"
      },
      "outputs": [],
      "source": [
        "result = []\n",
        "for i in range(1,11):\n",
        "    result.append(i**2)"
      ]
    },
    {
      "cell_type": "code",
      "execution_count": null,
      "id": "d13b34c8",
      "metadata": {
        "id": "d13b34c8",
        "outputId": "0a53921a-be1d-4eea-b669-cc4397144c53"
      },
      "outputs": [
        {
          "data": {
            "text/plain": [
              "[1, 4, 9, 16, 25, 36, 49, 64, 81, 100]"
            ]
          },
          "execution_count": 60,
          "metadata": {},
          "output_type": "execute_result"
        }
      ],
      "source": [
        "result"
      ]
    },
    {
      "cell_type": "code",
      "execution_count": null,
      "id": "19cde341",
      "metadata": {
        "id": "19cde341"
      },
      "outputs": [],
      "source": [
        "result = [ i**2 for i in range(1, 11) ]"
      ]
    },
    {
      "cell_type": "code",
      "execution_count": null,
      "id": "9fbaf836",
      "metadata": {
        "id": "9fbaf836",
        "outputId": "c4556cc2-d6f8-4630-9e98-8950dada19d5"
      },
      "outputs": [
        {
          "data": {
            "text/plain": [
              "[1, 4, 9, 16, 25, 36, 49, 64, 81, 100]"
            ]
          },
          "execution_count": 62,
          "metadata": {},
          "output_type": "execute_result"
        }
      ],
      "source": [
        "result"
      ]
    },
    {
      "cell_type": "code",
      "execution_count": null,
      "id": "e2bf1cfd",
      "metadata": {
        "id": "e2bf1cfd",
        "outputId": "ae78b36d-7ccd-403b-c059-1d24077c2d7d"
      },
      "outputs": [
        {
          "data": {
            "text/plain": [
              "['cool', 'cool', 'cool', 'cool', 'cool']"
            ]
          },
          "execution_count": 63,
          "metadata": {},
          "output_type": "execute_result"
        }
      ],
      "source": [
        "[ \"cool\" for i in range(5) ]"
      ]
    },
    {
      "cell_type": "code",
      "execution_count": null,
      "id": "cbb46c5c",
      "metadata": {
        "id": "cbb46c5c",
        "outputId": "a4151a6e-246d-4249-e15f-99c49ff2d90f"
      },
      "outputs": [
        {
          "data": {
            "text/plain": [
              "'\\nQuestion 2 - \\n\\nPrint the multiplication table till 10 using a single line of python code.\\n\\n1 2 3 4 5 6 7 8 9 10\\n2 4 6 8 10 12 14 16 18 20\\n.\\n.\\n.\\n.\\n.\\n10 20 30 40 50 60 70 80 90 100\\n'"
            ]
          },
          "execution_count": 64,
          "metadata": {},
          "output_type": "execute_result"
        }
      ],
      "source": [
        "'''\n",
        "Question 2 - \n",
        "\n",
        "Print the multiplication table till 10 using a single line of python code.\n",
        "\n",
        "1 2 3 4 5 6 7 8 9 10\n",
        "2 4 6 8 10 12 14 16 18 20\n",
        ".\n",
        ".\n",
        ".\n",
        ".\n",
        ".\n",
        "10 20 30 40 50 60 70 80 90 100\n",
        "'''"
      ]
    },
    {
      "cell_type": "code",
      "execution_count": null,
      "id": "03982778",
      "metadata": {
        "id": "03982778",
        "outputId": "7ebd02b9-3daf-41ca-8b0e-66ce1c1cdbce"
      },
      "outputs": [
        {
          "data": {
            "text/plain": [
              "[[1, 2, 3, 4, 5, 6, 7, 8, 9, 10],\n",
              " [2, 4, 6, 8, 10, 12, 14, 16, 18, 20],\n",
              " [3, 6, 9, 12, 15, 18, 21, 24, 27, 30],\n",
              " [4, 8, 12, 16, 20, 24, 28, 32, 36, 40],\n",
              " [5, 10, 15, 20, 25, 30, 35, 40, 45, 50],\n",
              " [6, 12, 18, 24, 30, 36, 42, 48, 54, 60],\n",
              " [7, 14, 21, 28, 35, 42, 49, 56, 63, 70],\n",
              " [8, 16, 24, 32, 40, 48, 56, 64, 72, 80],\n",
              " [9, 18, 27, 36, 45, 54, 63, 72, 81, 90],\n",
              " [10, 20, 30, 40, 50, 60, 70, 80, 90, 100]]"
            ]
          },
          "execution_count": 66,
          "metadata": {},
          "output_type": "execute_result"
        }
      ],
      "source": [
        "[ [ i*j for j in range(1,11) ] for i in range(1,11) ]"
      ]
    },
    {
      "cell_type": "code",
      "execution_count": null,
      "id": "6b50c1ae",
      "metadata": {
        "id": "6b50c1ae"
      },
      "outputs": [],
      "source": [
        "result = []\n",
        "for i in range(1,11):\n",
        "    row = []\n",
        "    for j in range(1,11):\n",
        "        row.append(i*j)\n",
        "        \n",
        "    result.append(row)"
      ]
    },
    {
      "cell_type": "code",
      "execution_count": null,
      "id": "2425b472",
      "metadata": {
        "id": "2425b472",
        "outputId": "f8504127-a524-4a19-e62d-e0dc2c7a84df"
      },
      "outputs": [
        {
          "data": {
            "text/plain": [
              "[[1, 2, 3, 4, 5, 6, 7, 8, 9, 10],\n",
              " [2, 4, 6, 8, 10, 12, 14, 16, 18, 20],\n",
              " [3, 6, 9, 12, 15, 18, 21, 24, 27, 30],\n",
              " [4, 8, 12, 16, 20, 24, 28, 32, 36, 40],\n",
              " [5, 10, 15, 20, 25, 30, 35, 40, 45, 50],\n",
              " [6, 12, 18, 24, 30, 36, 42, 48, 54, 60],\n",
              " [7, 14, 21, 28, 35, 42, 49, 56, 63, 70],\n",
              " [8, 16, 24, 32, 40, 48, 56, 64, 72, 80],\n",
              " [9, 18, 27, 36, 45, 54, 63, 72, 81, 90],\n",
              " [10, 20, 30, 40, 50, 60, 70, 80, 90, 100]]"
            ]
          },
          "execution_count": 68,
          "metadata": {},
          "output_type": "execute_result"
        }
      ],
      "source": [
        "result"
      ]
    },
    {
      "cell_type": "code",
      "execution_count": null,
      "id": "b1e9c4e9",
      "metadata": {
        "id": "b1e9c4e9"
      },
      "outputs": [],
      "source": [
        "t1 = ( i for i in range(1,11) )"
      ]
    },
    {
      "cell_type": "code",
      "execution_count": null,
      "id": "f6547ba9",
      "metadata": {
        "id": "f6547ba9",
        "outputId": "dee920d7-e918-4e90-b963-b99219cd3525"
      },
      "outputs": [
        {
          "data": {
            "text/plain": [
              "(1, 2, 3, 4, 5, 6, 7, 8, 9, 10)"
            ]
          },
          "execution_count": 72,
          "metadata": {},
          "output_type": "execute_result"
        }
      ],
      "source": [
        "tuple(t1) # generator object"
      ]
    },
    {
      "cell_type": "code",
      "execution_count": null,
      "id": "094c3073",
      "metadata": {
        "id": "094c3073"
      },
      "outputs": [],
      "source": [
        "s1 = { i for i in range(1,11) }"
      ]
    },
    {
      "cell_type": "code",
      "execution_count": null,
      "id": "a571b705",
      "metadata": {
        "id": "a571b705",
        "outputId": "d4e8d783-ebcd-47c1-fc07-c615214860cf"
      },
      "outputs": [
        {
          "data": {
            "text/plain": [
              "{1, 2, 3, 4, 5, 6, 7, 8, 9, 10}"
            ]
          },
          "execution_count": 74,
          "metadata": {},
          "output_type": "execute_result"
        }
      ],
      "source": [
        "s1"
      ]
    },
    {
      "cell_type": "code",
      "execution_count": null,
      "id": "2a33e9b3",
      "metadata": {
        "id": "2a33e9b3"
      },
      "outputs": [],
      "source": [
        "d1 = { f\"value - {i}\": i**2 for i in range(1,11) }"
      ]
    },
    {
      "cell_type": "code",
      "execution_count": null,
      "id": "d5544aa7",
      "metadata": {
        "id": "d5544aa7",
        "outputId": "593015b3-eaf5-498e-fcef-37a26e263f81"
      },
      "outputs": [
        {
          "data": {
            "text/plain": [
              "{'value - 1': 1,\n",
              " 'value - 2': 4,\n",
              " 'value - 3': 9,\n",
              " 'value - 4': 16,\n",
              " 'value - 5': 25,\n",
              " 'value - 6': 36,\n",
              " 'value - 7': 49,\n",
              " 'value - 8': 64,\n",
              " 'value - 9': 81,\n",
              " 'value - 10': 100}"
            ]
          },
          "execution_count": 78,
          "metadata": {},
          "output_type": "execute_result"
        }
      ],
      "source": [
        "d1"
      ]
    },
    {
      "cell_type": "code",
      "execution_count": null,
      "id": "8363d619",
      "metadata": {
        "id": "8363d619"
      },
      "outputs": [],
      "source": [
        "s1 = \" i**2 for i in range(1,11) \""
      ]
    },
    {
      "cell_type": "code",
      "execution_count": null,
      "id": "b43b0cfe",
      "metadata": {
        "id": "b43b0cfe",
        "outputId": "4b17a030-4c98-4486-83da-0787bcb81363"
      },
      "outputs": [
        {
          "data": {
            "text/plain": [
              "' i**2 for i in range(1,11) '"
            ]
          },
          "execution_count": 80,
          "metadata": {},
          "output_type": "execute_result"
        }
      ],
      "source": [
        "s1"
      ]
    },
    {
      "cell_type": "code",
      "execution_count": null,
      "id": "ac230d55",
      "metadata": {
        "id": "ac230d55"
      },
      "outputs": [],
      "source": [
        "s1 = \"i**2\""
      ]
    },
    {
      "cell_type": "code",
      "execution_count": null,
      "id": "845ef0f5",
      "metadata": {
        "id": "845ef0f5",
        "outputId": "40d9d834-a769-4868-f50a-fb66040d4e0b"
      },
      "outputs": [
        {
          "data": {
            "text/plain": [
              "10"
            ]
          },
          "execution_count": 85,
          "metadata": {},
          "output_type": "execute_result"
        }
      ],
      "source": [
        "i"
      ]
    },
    {
      "cell_type": "code",
      "execution_count": null,
      "id": "79fc1b23",
      "metadata": {
        "id": "79fc1b23",
        "outputId": "3c53919b-02c1-4760-e47c-26774c329c46"
      },
      "outputs": [
        {
          "data": {
            "text/plain": [
              "'i**2'"
            ]
          },
          "execution_count": 82,
          "metadata": {},
          "output_type": "execute_result"
        }
      ],
      "source": [
        "s1"
      ]
    },
    {
      "cell_type": "code",
      "execution_count": null,
      "id": "c7428378",
      "metadata": {
        "id": "c7428378"
      },
      "outputs": [],
      "source": [
        "s1 = f\"{i**2}\""
      ]
    },
    {
      "cell_type": "code",
      "execution_count": null,
      "id": "367bbf9c",
      "metadata": {
        "id": "367bbf9c",
        "outputId": "efbe5b09-e3e1-45e1-de04-7a088c771fa1"
      },
      "outputs": [
        {
          "data": {
            "text/plain": [
              "'100'"
            ]
          },
          "execution_count": 84,
          "metadata": {},
          "output_type": "execute_result"
        }
      ],
      "source": [
        "s1"
      ]
    },
    {
      "cell_type": "code",
      "execution_count": null,
      "id": "e4e72723",
      "metadata": {
        "id": "e4e72723",
        "outputId": "2e67da56-c4e3-4ed5-e677-66c37fecda31"
      },
      "outputs": [
        {
          "data": {
            "text/plain": [
              "[[1, 2, 3, 4, 5, 6, 7, 8, 9, 10],\n",
              " [2, 4, 6, 8, 10, 12, 14, 16, 18, 20],\n",
              " [3, 6, 9, 12, 15, 18, 21, 24, 27, 30],\n",
              " [4, 8, 12, 16, 20, 24, 28, 32, 36, 40],\n",
              " [5, 10, 15, 20, 25, 30, 35, 40, 45, 50],\n",
              " [6, 12, 18, 24, 30, 36, 42, 48, 54, 60],\n",
              " [7, 14, 21, 28, 35, 42, 49, 56, 63, 70],\n",
              " [8, 16, 24, 32, 40, 48, 56, 64, 72, 80],\n",
              " [9, 18, 27, 36, 45, 54, 63, 72, 81, 90],\n",
              " [10, 20, 30, 40, 50, 60, 70, 80, 90, 100]]"
            ]
          },
          "execution_count": 86,
          "metadata": {},
          "output_type": "execute_result"
        }
      ],
      "source": [
        "[ [ i*j for j in range(1,11) ] for i in range(1,11) ]"
      ]
    },
    {
      "cell_type": "code",
      "execution_count": null,
      "id": "5f956bb2",
      "metadata": {
        "id": "5f956bb2"
      },
      "outputs": [],
      "source": []
    }
  ],
  "metadata": {
    "kernelspec": {
      "display_name": "Python 3 (ipykernel)",
      "language": "python",
      "name": "python3"
    },
    "language_info": {
      "codemirror_mode": {
        "name": "ipython",
        "version": 3
      },
      "file_extension": ".py",
      "mimetype": "text/x-python",
      "name": "python",
      "nbconvert_exporter": "python",
      "pygments_lexer": "ipython3",
      "version": "3.9.5"
    },
    "colab": {
      "provenance": []
    }
  },
  "nbformat": 4,
  "nbformat_minor": 5
}