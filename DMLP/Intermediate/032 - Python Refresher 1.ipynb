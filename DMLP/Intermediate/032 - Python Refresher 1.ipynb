{
  "cells": [
    {
      "cell_type": "markdown",
      "metadata": {
        "id": "view-in-github",
        "colab_type": "text"
      },
      "source": [
        "<a href=\"https://colab.research.google.com/github/ishwarraja/Scaler/blob/main/DMLP/Intermediate/032%20-%20Python%20Refresher%201.ipynb\" target=\"_parent\"><img src=\"https://colab.research.google.com/assets/colab-badge.svg\" alt=\"Open In Colab\"/></a>"
      ]
    },
    {
      "cell_type": "code",
      "execution_count": null,
      "id": "09daf701",
      "metadata": {
        "id": "09daf701"
      },
      "outputs": [],
      "source": [
        "a = 56"
      ]
    },
    {
      "cell_type": "code",
      "execution_count": null,
      "id": "d95f3723",
      "metadata": {
        "id": "d95f3723",
        "outputId": "cb499e59-d126-4baa-9562-598d23cab0e3"
      },
      "outputs": [
        {
          "data": {
            "text/plain": [
              "int"
            ]
          },
          "execution_count": 2,
          "metadata": {},
          "output_type": "execute_result"
        }
      ],
      "source": [
        "type(a)"
      ]
    },
    {
      "cell_type": "code",
      "execution_count": null,
      "id": "8c04221f",
      "metadata": {
        "id": "8c04221f",
        "outputId": "faac13b3-e202-4f51-c4a1-c9aebab5d322"
      },
      "outputs": [
        {
          "data": {
            "text/plain": [
              "True"
            ]
          },
          "execution_count": 3,
          "metadata": {},
          "output_type": "execute_result"
        }
      ],
      "source": [
        "isinstance(a, int)"
      ]
    },
    {
      "cell_type": "code",
      "execution_count": null,
      "id": "60735f08",
      "metadata": {
        "id": "60735f08",
        "outputId": "0c318178-74cc-41d9-99fd-1bfea9330111"
      },
      "outputs": [
        {
          "data": {
            "text/plain": [
              "True"
            ]
          },
          "execution_count": 4,
          "metadata": {},
          "output_type": "execute_result"
        }
      ],
      "source": [
        "isinstance(a, object)"
      ]
    },
    {
      "cell_type": "code",
      "execution_count": null,
      "id": "52f4bda3",
      "metadata": {
        "id": "52f4bda3",
        "outputId": "a2d990fc-700b-4d84-bf1a-b040eefbcb44"
      },
      "outputs": [
        {
          "data": {
            "text/plain": [
              "True"
            ]
          },
          "execution_count": 5,
          "metadata": {},
          "output_type": "execute_result"
        }
      ],
      "source": [
        "isinstance(True, object)"
      ]
    },
    {
      "cell_type": "code",
      "execution_count": null,
      "id": "a239fc50",
      "metadata": {
        "id": "a239fc50",
        "outputId": "aa73192f-c2f3-4852-8988-0a6b1b5bfe97"
      },
      "outputs": [
        {
          "data": {
            "text/plain": [
              "True"
            ]
          },
          "execution_count": 6,
          "metadata": {},
          "output_type": "execute_result"
        }
      ],
      "source": [
        "isinstance(print, object)"
      ]
    },
    {
      "cell_type": "code",
      "execution_count": null,
      "id": "03baf67b",
      "metadata": {
        "id": "03baf67b",
        "outputId": "3f78bf42-36bc-4387-efa6-6551c138fe60"
      },
      "outputs": [
        {
          "data": {
            "text/plain": [
              "-4"
            ]
          },
          "execution_count": 8,
          "metadata": {},
          "output_type": "execute_result"
        }
      ],
      "source": [
        "-10 // (10 % 7)\n",
        "\n",
        "# 10 % 7 -> 3\n",
        "# -10 // 3 -> -3.333333 -> -4"
      ]
    },
    {
      "cell_type": "code",
      "execution_count": null,
      "id": "3cfe40ec",
      "metadata": {
        "id": "3cfe40ec"
      },
      "outputs": [],
      "source": [
        "a = 5"
      ]
    },
    {
      "cell_type": "code",
      "execution_count": null,
      "id": "5e8cd27d",
      "metadata": {
        "id": "5e8cd27d"
      },
      "outputs": [],
      "source": [
        "a = 6"
      ]
    },
    {
      "cell_type": "code",
      "execution_count": null,
      "id": "fc2cf4ff",
      "metadata": {
        "id": "fc2cf4ff",
        "outputId": "5a99a810-8969-4bb8-eb45-824754c25922"
      },
      "outputs": [
        {
          "data": {
            "text/plain": [
              "6"
            ]
          },
          "execution_count": 11,
          "metadata": {},
          "output_type": "execute_result"
        }
      ],
      "source": [
        "a"
      ]
    },
    {
      "cell_type": "code",
      "execution_count": null,
      "id": "436a6792",
      "metadata": {
        "id": "436a6792"
      },
      "outputs": [],
      "source": [
        "a = 10"
      ]
    },
    {
      "cell_type": "code",
      "execution_count": null,
      "id": "e9a62667",
      "metadata": {
        "id": "e9a62667",
        "outputId": "52410cbb-4b88-4b16-9565-54f765d300bd"
      },
      "outputs": [
        {
          "data": {
            "text/plain": [
              "140396843821648"
            ]
          },
          "execution_count": 13,
          "metadata": {},
          "output_type": "execute_result"
        }
      ],
      "source": [
        "id(a)"
      ]
    },
    {
      "cell_type": "code",
      "execution_count": null,
      "id": "e732917e",
      "metadata": {
        "id": "e732917e"
      },
      "outputs": [],
      "source": [
        "a = 20"
      ]
    },
    {
      "cell_type": "code",
      "execution_count": null,
      "id": "e981d88f",
      "metadata": {
        "id": "e981d88f",
        "outputId": "1b34b5f8-5457-43a1-cc8f-41fe1035813b"
      },
      "outputs": [
        {
          "data": {
            "text/plain": [
              "140396843821968"
            ]
          },
          "execution_count": 15,
          "metadata": {},
          "output_type": "execute_result"
        }
      ],
      "source": [
        "id(a)"
      ]
    },
    {
      "cell_type": "code",
      "execution_count": null,
      "id": "f028f4ac",
      "metadata": {
        "id": "f028f4ac"
      },
      "outputs": [],
      "source": [
        "a = 50"
      ]
    },
    {
      "cell_type": "code",
      "execution_count": null,
      "id": "457d9203",
      "metadata": {
        "id": "457d9203",
        "outputId": "4e8fc54c-567b-4921-cc81-4e094a13d026"
      },
      "outputs": [
        {
          "data": {
            "text/plain": [
              "140396843822928"
            ]
          },
          "execution_count": 17,
          "metadata": {},
          "output_type": "execute_result"
        }
      ],
      "source": [
        "id(a)"
      ]
    },
    {
      "cell_type": "code",
      "execution_count": null,
      "id": "6c6d113e",
      "metadata": {
        "id": "6c6d113e"
      },
      "outputs": [],
      "source": [
        "b = 50"
      ]
    },
    {
      "cell_type": "code",
      "execution_count": null,
      "id": "aa14201a",
      "metadata": {
        "id": "aa14201a",
        "outputId": "fac3072a-e834-4148-f91c-a8ca5e25a0d9"
      },
      "outputs": [
        {
          "data": {
            "text/plain": [
              "140396843822928"
            ]
          },
          "execution_count": 20,
          "metadata": {},
          "output_type": "execute_result"
        }
      ],
      "source": [
        "id(b)"
      ]
    },
    {
      "cell_type": "code",
      "execution_count": null,
      "id": "17b5d762",
      "metadata": {
        "id": "17b5d762"
      },
      "outputs": [],
      "source": [
        "b = 100"
      ]
    },
    {
      "cell_type": "code",
      "execution_count": null,
      "id": "30a427bb",
      "metadata": {
        "id": "30a427bb",
        "outputId": "e0813b0f-3d0a-43ac-ac19-111c9e4e6f5a"
      },
      "outputs": [
        {
          "data": {
            "text/plain": [
              "140396844013008"
            ]
          },
          "execution_count": 22,
          "metadata": {},
          "output_type": "execute_result"
        }
      ],
      "source": [
        "id(b)"
      ]
    },
    {
      "cell_type": "code",
      "execution_count": null,
      "id": "702adedb",
      "metadata": {
        "id": "702adedb",
        "outputId": "7ecf64f5-e920-46a2-95bb-bab6bca37771"
      },
      "outputs": [
        {
          "data": {
            "text/plain": [
              "50"
            ]
          },
          "execution_count": 23,
          "metadata": {},
          "output_type": "execute_result"
        }
      ],
      "source": [
        "a"
      ]
    },
    {
      "cell_type": "code",
      "execution_count": null,
      "id": "f504ffb8",
      "metadata": {
        "id": "f504ffb8"
      },
      "outputs": [],
      "source": [
        "a = \"random\""
      ]
    },
    {
      "cell_type": "code",
      "execution_count": null,
      "id": "c5569cfc",
      "metadata": {
        "id": "c5569cfc"
      },
      "outputs": [],
      "source": [
        "b = \"random\""
      ]
    },
    {
      "cell_type": "code",
      "execution_count": null,
      "id": "1ee41bc7",
      "metadata": {
        "id": "1ee41bc7",
        "outputId": "532e646c-4921-49e9-bc01-73ab8e67d5d5"
      },
      "outputs": [
        {
          "data": {
            "text/plain": [
              "True"
            ]
          },
          "execution_count": 26,
          "metadata": {},
          "output_type": "execute_result"
        }
      ],
      "source": [
        "id(a) == id(b)"
      ]
    },
    {
      "cell_type": "code",
      "execution_count": null,
      "id": "95fdc94a",
      "metadata": {
        "id": "95fdc94a",
        "outputId": "2b4ea0cc-ee35-4b44-cea8-f958172ad3eb"
      },
      "outputs": [
        {
          "data": {
            "text/plain": [
              "'\\nQuestion 1 - \\nWrite a simple program which takes a number as input from the user.\\n\\nPrint \"Foo\" if number is a multiple of 3\\nPrint \"Bar\" if number is a multiple of 5\\nPrint \"FooBar\" if number is a multiple of 15\\n'"
            ]
          },
          "execution_count": 27,
          "metadata": {},
          "output_type": "execute_result"
        }
      ],
      "source": [
        "'''\n",
        "Question 1 - \n",
        "Write a simple program which takes a number as input from the user.\n",
        "\n",
        "Print \"Foo\" if number is a multiple of 3\n",
        "Print \"Bar\" if number is a multiple of 5\n",
        "Print \"FooBar\" if number is a multiple of 15\n",
        "'''"
      ]
    },
    {
      "cell_type": "code",
      "execution_count": null,
      "id": "59d5c95c",
      "metadata": {
        "id": "59d5c95c",
        "outputId": "51539060-1aca-48c4-81b6-102425fe309f"
      },
      "outputs": [
        {
          "name": "stdout",
          "output_type": "stream",
          "text": [
            "22\n"
          ]
        }
      ],
      "source": [
        "number = int(input())\n",
        "\n",
        "if number % 15 == 0:\n",
        "    print(\"FooBar\")\n",
        "elif number % 3 == 0:\n",
        "    print(\"Foo\")\n",
        "elif number % 5 == 0:\n",
        "    print(\"Bar\")"
      ]
    },
    {
      "cell_type": "code",
      "execution_count": null,
      "id": "87ba5430",
      "metadata": {
        "id": "87ba5430",
        "outputId": "b3a0c7a9-d525-410a-8280-c94138fa7581"
      },
      "outputs": [
        {
          "name": "stdout",
          "output_type": "stream",
          "text": [
            "15\n",
            "Bar\n"
          ]
        }
      ],
      "source": [
        "number = int(input())\n",
        "\n",
        "if number % 5 == 0:\n",
        "    print(\"Bar\")\n",
        "elif number % 3 == 0:\n",
        "    print(\"Foo\")\n",
        "elif number % 15 == 0:\n",
        "    print(\"FooBar\")"
      ]
    },
    {
      "cell_type": "markdown",
      "id": "8a3cbb4c",
      "metadata": {
        "id": "8a3cbb4c"
      },
      "source": [
        "### Iteration Protocol"
      ]
    },
    {
      "cell_type": "code",
      "execution_count": null,
      "id": "4e4250af",
      "metadata": {
        "id": "4e4250af"
      },
      "outputs": [],
      "source": [
        "# iter() and next()"
      ]
    },
    {
      "cell_type": "code",
      "execution_count": null,
      "id": "829b78dc",
      "metadata": {
        "id": "829b78dc",
        "outputId": "c69ca733-c626-40d0-bdbf-5ccef8a83624"
      },
      "outputs": [
        {
          "name": "stdout",
          "output_type": "stream",
          "text": [
            "s\n",
            "t\n",
            "r\n",
            "i\n",
            "n\n",
            "g\n"
          ]
        }
      ],
      "source": [
        "for i in \"string\":\n",
        "    print(i)"
      ]
    },
    {
      "cell_type": "code",
      "execution_count": null,
      "id": "ab1f25a8",
      "metadata": {
        "id": "ab1f25a8",
        "outputId": "8dab7308-c2b3-4eff-d603-dfb4618502b8"
      },
      "outputs": [
        {
          "name": "stdout",
          "output_type": "stream",
          "text": [
            "1\n",
            "2\n",
            "3\n"
          ]
        }
      ],
      "source": [
        "for i in [1,2,3]:\n",
        "    print(i)"
      ]
    },
    {
      "cell_type": "code",
      "execution_count": null,
      "id": "0c2153c1",
      "metadata": {
        "id": "0c2153c1",
        "outputId": "1a1aa390-ca68-4c12-8a6d-c64635c984e6"
      },
      "outputs": [
        {
          "ename": "TypeError",
          "evalue": "'int' object is not iterable",
          "output_type": "error",
          "traceback": [
            "\u001b[0;31m---------------------------------------------------------------------------\u001b[0m",
            "\u001b[0;31mTypeError\u001b[0m                                 Traceback (most recent call last)",
            "\u001b[0;32m/var/folders/nn/c52y0d3j0gq59dpsswchkt2r0000gn/T/ipykernel_10414/2311998893.py\u001b[0m in \u001b[0;36m<module>\u001b[0;34m\u001b[0m\n\u001b[0;32m----> 1\u001b[0;31m \u001b[0;32mfor\u001b[0m \u001b[0mi\u001b[0m \u001b[0;32min\u001b[0m \u001b[0;36m45\u001b[0m\u001b[0;34m:\u001b[0m\u001b[0;34m\u001b[0m\u001b[0;34m\u001b[0m\u001b[0m\n\u001b[0m\u001b[1;32m      2\u001b[0m     \u001b[0mprint\u001b[0m\u001b[0;34m(\u001b[0m\u001b[0mi\u001b[0m\u001b[0;34m)\u001b[0m\u001b[0;34m\u001b[0m\u001b[0;34m\u001b[0m\u001b[0m\n",
            "\u001b[0;31mTypeError\u001b[0m: 'int' object is not iterable"
          ]
        }
      ],
      "source": [
        "for i in 45:\n",
        "    print(i)"
      ]
    },
    {
      "cell_type": "code",
      "execution_count": null,
      "id": "1a9ff926",
      "metadata": {
        "id": "1a9ff926"
      },
      "outputs": [],
      "source": [
        "a = \"python\""
      ]
    },
    {
      "cell_type": "code",
      "execution_count": null,
      "id": "4f57841e",
      "metadata": {
        "id": "4f57841e"
      },
      "outputs": [],
      "source": [
        "it = iter(a) # passing an iterable to the iter function will return an iterator"
      ]
    },
    {
      "cell_type": "code",
      "execution_count": null,
      "id": "93e925d4",
      "metadata": {
        "id": "93e925d4",
        "outputId": "a1da7b72-a665-4307-9aea-64fd6867edb6"
      },
      "outputs": [
        {
          "data": {
            "text/plain": [
              "<str_iterator at 0x7fb0900dcf70>"
            ]
          },
          "execution_count": 39,
          "metadata": {},
          "output_type": "execute_result"
        }
      ],
      "source": [
        "it"
      ]
    },
    {
      "cell_type": "code",
      "execution_count": null,
      "id": "71ec1dac",
      "metadata": {
        "id": "71ec1dac",
        "outputId": "e4d707ee-9fbf-422f-d3f5-41172a1865a1"
      },
      "outputs": [
        {
          "data": {
            "text/plain": [
              "'p'"
            ]
          },
          "execution_count": 40,
          "metadata": {},
          "output_type": "execute_result"
        }
      ],
      "source": [
        "next(it)"
      ]
    },
    {
      "cell_type": "code",
      "execution_count": null,
      "id": "f6ff28f4",
      "metadata": {
        "id": "f6ff28f4",
        "outputId": "5746d371-06b1-4667-9f41-210f2ce28f71"
      },
      "outputs": [
        {
          "data": {
            "text/plain": [
              "'y'"
            ]
          },
          "execution_count": 41,
          "metadata": {},
          "output_type": "execute_result"
        }
      ],
      "source": [
        "next(it)"
      ]
    },
    {
      "cell_type": "code",
      "execution_count": null,
      "id": "9c47d319",
      "metadata": {
        "id": "9c47d319",
        "outputId": "fa28c8e9-cb5d-415d-ea6a-d4701aa8a45a"
      },
      "outputs": [
        {
          "data": {
            "text/plain": [
              "'t'"
            ]
          },
          "execution_count": 42,
          "metadata": {},
          "output_type": "execute_result"
        }
      ],
      "source": [
        "next(it)"
      ]
    },
    {
      "cell_type": "code",
      "execution_count": null,
      "id": "1991e147",
      "metadata": {
        "id": "1991e147",
        "outputId": "f9f5b36c-49be-421e-998a-70a672d14997"
      },
      "outputs": [
        {
          "data": {
            "text/plain": [
              "'h'"
            ]
          },
          "execution_count": 43,
          "metadata": {},
          "output_type": "execute_result"
        }
      ],
      "source": [
        "next(it)"
      ]
    },
    {
      "cell_type": "code",
      "execution_count": null,
      "id": "e4fb3361",
      "metadata": {
        "id": "e4fb3361",
        "outputId": "d9ec285c-d83c-488d-b064-bbb622cdd896"
      },
      "outputs": [
        {
          "data": {
            "text/plain": [
              "'o'"
            ]
          },
          "execution_count": 44,
          "metadata": {},
          "output_type": "execute_result"
        }
      ],
      "source": [
        "next(it)"
      ]
    },
    {
      "cell_type": "code",
      "execution_count": null,
      "id": "644422ea",
      "metadata": {
        "id": "644422ea",
        "outputId": "f8bc2e0a-45b6-48c6-de79-9ce7de1ea93f"
      },
      "outputs": [
        {
          "data": {
            "text/plain": [
              "'n'"
            ]
          },
          "execution_count": 45,
          "metadata": {},
          "output_type": "execute_result"
        }
      ],
      "source": [
        "next(it)"
      ]
    },
    {
      "cell_type": "code",
      "execution_count": null,
      "id": "b03961c4",
      "metadata": {
        "id": "b03961c4",
        "outputId": "52bd3ec1-df55-452d-dcc7-dcf3b6395c2f"
      },
      "outputs": [
        {
          "ename": "StopIteration",
          "evalue": "",
          "output_type": "error",
          "traceback": [
            "\u001b[0;31m---------------------------------------------------------------------------\u001b[0m",
            "\u001b[0;31mStopIteration\u001b[0m                             Traceback (most recent call last)",
            "\u001b[0;32m/var/folders/nn/c52y0d3j0gq59dpsswchkt2r0000gn/T/ipykernel_10414/600241529.py\u001b[0m in \u001b[0;36m<module>\u001b[0;34m\u001b[0m\n\u001b[0;32m----> 1\u001b[0;31m \u001b[0mnext\u001b[0m\u001b[0;34m(\u001b[0m\u001b[0mit\u001b[0m\u001b[0;34m)\u001b[0m\u001b[0;34m\u001b[0m\u001b[0;34m\u001b[0m\u001b[0m\n\u001b[0m",
            "\u001b[0;31mStopIteration\u001b[0m: "
          ]
        }
      ],
      "source": [
        "next(it)"
      ]
    },
    {
      "cell_type": "code",
      "execution_count": null,
      "id": "6d224c19",
      "metadata": {
        "id": "6d224c19"
      },
      "outputs": [],
      "source": [
        "a = [1,2,3,4,5]"
      ]
    },
    {
      "cell_type": "code",
      "execution_count": null,
      "id": "2b688b19",
      "metadata": {
        "id": "2b688b19"
      },
      "outputs": [],
      "source": [
        "it = iter(a)"
      ]
    },
    {
      "cell_type": "code",
      "execution_count": null,
      "id": "24881de6",
      "metadata": {
        "id": "24881de6",
        "outputId": "fc7a51ce-ad6f-4a15-f670-b79c33f584de"
      },
      "outputs": [
        {
          "data": {
            "text/plain": [
              "<list_iterator at 0x7fb0900dc3d0>"
            ]
          },
          "execution_count": 49,
          "metadata": {},
          "output_type": "execute_result"
        }
      ],
      "source": [
        "it"
      ]
    },
    {
      "cell_type": "code",
      "execution_count": null,
      "id": "df32b567",
      "metadata": {
        "id": "df32b567"
      },
      "outputs": [],
      "source": [
        "a = range(5)"
      ]
    },
    {
      "cell_type": "code",
      "execution_count": null,
      "id": "fc31f546",
      "metadata": {
        "id": "fc31f546"
      },
      "outputs": [],
      "source": [
        "it = iter(a)"
      ]
    },
    {
      "cell_type": "code",
      "execution_count": null,
      "id": "feeeec36",
      "metadata": {
        "id": "feeeec36",
        "outputId": "4cd85f2d-75f9-43da-90a2-e5f0a3455b8d"
      },
      "outputs": [
        {
          "data": {
            "text/plain": [
              "<range_iterator at 0x7fb0900dcdb0>"
            ]
          },
          "execution_count": 52,
          "metadata": {},
          "output_type": "execute_result"
        }
      ],
      "source": [
        "it"
      ]
    },
    {
      "cell_type": "code",
      "execution_count": null,
      "id": "04a292d5",
      "metadata": {
        "id": "04a292d5"
      },
      "outputs": [],
      "source": [
        "board = [[\"\"]*3]*3"
      ]
    },
    {
      "cell_type": "code",
      "execution_count": null,
      "id": "e909325a",
      "metadata": {
        "id": "e909325a",
        "outputId": "c516fa9e-f718-491b-e3c5-fa31d9fb45b7"
      },
      "outputs": [
        {
          "data": {
            "text/plain": [
              "[['', '', ''], ['', '', ''], ['', '', '']]"
            ]
          },
          "execution_count": 55,
          "metadata": {},
          "output_type": "execute_result"
        }
      ],
      "source": [
        "board"
      ]
    },
    {
      "cell_type": "code",
      "execution_count": null,
      "id": "1c65d032",
      "metadata": {
        "id": "1c65d032"
      },
      "outputs": [],
      "source": [
        "board[0][0] = \"0\""
      ]
    },
    {
      "cell_type": "code",
      "execution_count": null,
      "id": "7ae89464",
      "metadata": {
        "id": "7ae89464",
        "outputId": "c21182c0-2a29-44ca-8d5f-961f4dce98f0"
      },
      "outputs": [
        {
          "data": {
            "text/plain": [
              "[['0', '', ''], ['0', '', ''], ['0', '', '']]"
            ]
          },
          "execution_count": 57,
          "metadata": {},
          "output_type": "execute_result"
        }
      ],
      "source": [
        "board"
      ]
    },
    {
      "cell_type": "code",
      "execution_count": null,
      "id": "9510b074",
      "metadata": {
        "id": "9510b074"
      },
      "outputs": [],
      "source": [
        "# HOMEWORK - Explain the above!"
      ]
    },
    {
      "cell_type": "markdown",
      "id": "e538158c",
      "metadata": {
        "id": "e538158c"
      },
      "source": [
        "### Comprehension (List Comprehension)"
      ]
    },
    {
      "cell_type": "code",
      "execution_count": null,
      "id": "078811af",
      "metadata": {
        "id": "078811af"
      },
      "outputs": [],
      "source": [
        "result = []\n",
        "for i in range(1,11):\n",
        "    result.append(i**2)"
      ]
    },
    {
      "cell_type": "code",
      "execution_count": null,
      "id": "d13b34c8",
      "metadata": {
        "id": "d13b34c8",
        "outputId": "0a53921a-be1d-4eea-b669-cc4397144c53"
      },
      "outputs": [
        {
          "data": {
            "text/plain": [
              "[1, 4, 9, 16, 25, 36, 49, 64, 81, 100]"
            ]
          },
          "execution_count": 60,
          "metadata": {},
          "output_type": "execute_result"
        }
      ],
      "source": [
        "result"
      ]
    },
    {
      "cell_type": "code",
      "execution_count": null,
      "id": "19cde341",
      "metadata": {
        "id": "19cde341"
      },
      "outputs": [],
      "source": [
        "result = [ i**2 for i in range(1, 11) ]"
      ]
    },
    {
      "cell_type": "code",
      "execution_count": null,
      "id": "9fbaf836",
      "metadata": {
        "id": "9fbaf836",
        "outputId": "c4556cc2-d6f8-4630-9e98-8950dada19d5"
      },
      "outputs": [
        {
          "data": {
            "text/plain": [
              "[1, 4, 9, 16, 25, 36, 49, 64, 81, 100]"
            ]
          },
          "execution_count": 62,
          "metadata": {},
          "output_type": "execute_result"
        }
      ],
      "source": [
        "result"
      ]
    },
    {
      "cell_type": "code",
      "execution_count": null,
      "id": "e2bf1cfd",
      "metadata": {
        "id": "e2bf1cfd",
        "outputId": "ae78b36d-7ccd-403b-c059-1d24077c2d7d"
      },
      "outputs": [
        {
          "data": {
            "text/plain": [
              "['cool', 'cool', 'cool', 'cool', 'cool']"
            ]
          },
          "execution_count": 63,
          "metadata": {},
          "output_type": "execute_result"
        }
      ],
      "source": [
        "[ \"cool\" for i in range(5) ]"
      ]
    },
    {
      "cell_type": "code",
      "execution_count": null,
      "id": "cbb46c5c",
      "metadata": {
        "id": "cbb46c5c",
        "outputId": "a4151a6e-246d-4249-e15f-99c49ff2d90f"
      },
      "outputs": [
        {
          "data": {
            "text/plain": [
              "'\\nQuestion 2 - \\n\\nPrint the multiplication table till 10 using a single line of python code.\\n\\n1 2 3 4 5 6 7 8 9 10\\n2 4 6 8 10 12 14 16 18 20\\n.\\n.\\n.\\n.\\n.\\n10 20 30 40 50 60 70 80 90 100\\n'"
            ]
          },
          "execution_count": 64,
          "metadata": {},
          "output_type": "execute_result"
        }
      ],
      "source": [
        "'''\n",
        "Question 2 - \n",
        "\n",
        "Print the multiplication table till 10 using a single line of python code.\n",
        "\n",
        "1 2 3 4 5 6 7 8 9 10\n",
        "2 4 6 8 10 12 14 16 18 20\n",
        ".\n",
        ".\n",
        ".\n",
        ".\n",
        ".\n",
        "10 20 30 40 50 60 70 80 90 100\n",
        "'''"
      ]
    },
    {
      "cell_type": "code",
      "execution_count": null,
      "id": "03982778",
      "metadata": {
        "id": "03982778",
        "outputId": "7ebd02b9-3daf-41ca-8b0e-66ce1c1cdbce"
      },
      "outputs": [
        {
          "data": {
            "text/plain": [
              "[[1, 2, 3, 4, 5, 6, 7, 8, 9, 10],\n",
              " [2, 4, 6, 8, 10, 12, 14, 16, 18, 20],\n",
              " [3, 6, 9, 12, 15, 18, 21, 24, 27, 30],\n",
              " [4, 8, 12, 16, 20, 24, 28, 32, 36, 40],\n",
              " [5, 10, 15, 20, 25, 30, 35, 40, 45, 50],\n",
              " [6, 12, 18, 24, 30, 36, 42, 48, 54, 60],\n",
              " [7, 14, 21, 28, 35, 42, 49, 56, 63, 70],\n",
              " [8, 16, 24, 32, 40, 48, 56, 64, 72, 80],\n",
              " [9, 18, 27, 36, 45, 54, 63, 72, 81, 90],\n",
              " [10, 20, 30, 40, 50, 60, 70, 80, 90, 100]]"
            ]
          },
          "execution_count": 66,
          "metadata": {},
          "output_type": "execute_result"
        }
      ],
      "source": [
        "[ [ i*j for j in range(1,11) ] for i in range(1,11) ]"
      ]
    },
    {
      "cell_type": "code",
      "execution_count": null,
      "id": "6b50c1ae",
      "metadata": {
        "id": "6b50c1ae"
      },
      "outputs": [],
      "source": [
        "result = []\n",
        "for i in range(1,11):\n",
        "    row = []\n",
        "    for j in range(1,11):\n",
        "        row.append(i*j)\n",
        "        \n",
        "    result.append(row)"
      ]
    },
    {
      "cell_type": "code",
      "execution_count": null,
      "id": "2425b472",
      "metadata": {
        "id": "2425b472",
        "outputId": "f8504127-a524-4a19-e62d-e0dc2c7a84df"
      },
      "outputs": [
        {
          "data": {
            "text/plain": [
              "[[1, 2, 3, 4, 5, 6, 7, 8, 9, 10],\n",
              " [2, 4, 6, 8, 10, 12, 14, 16, 18, 20],\n",
              " [3, 6, 9, 12, 15, 18, 21, 24, 27, 30],\n",
              " [4, 8, 12, 16, 20, 24, 28, 32, 36, 40],\n",
              " [5, 10, 15, 20, 25, 30, 35, 40, 45, 50],\n",
              " [6, 12, 18, 24, 30, 36, 42, 48, 54, 60],\n",
              " [7, 14, 21, 28, 35, 42, 49, 56, 63, 70],\n",
              " [8, 16, 24, 32, 40, 48, 56, 64, 72, 80],\n",
              " [9, 18, 27, 36, 45, 54, 63, 72, 81, 90],\n",
              " [10, 20, 30, 40, 50, 60, 70, 80, 90, 100]]"
            ]
          },
          "execution_count": 68,
          "metadata": {},
          "output_type": "execute_result"
        }
      ],
      "source": [
        "result"
      ]
    },
    {
      "cell_type": "code",
      "execution_count": null,
      "id": "b1e9c4e9",
      "metadata": {
        "id": "b1e9c4e9"
      },
      "outputs": [],
      "source": [
        "t1 = ( i for i in range(1,11) )"
      ]
    },
    {
      "cell_type": "code",
      "execution_count": null,
      "id": "f6547ba9",
      "metadata": {
        "id": "f6547ba9",
        "outputId": "dee920d7-e918-4e90-b963-b99219cd3525"
      },
      "outputs": [
        {
          "data": {
            "text/plain": [
              "(1, 2, 3, 4, 5, 6, 7, 8, 9, 10)"
            ]
          },
          "execution_count": 72,
          "metadata": {},
          "output_type": "execute_result"
        }
      ],
      "source": [
        "tuple(t1) # generator object"
      ]
    },
    {
      "cell_type": "code",
      "execution_count": null,
      "id": "094c3073",
      "metadata": {
        "id": "094c3073"
      },
      "outputs": [],
      "source": [
        "s1 = { i for i in range(1,11) }"
      ]
    },
    {
      "cell_type": "code",
      "execution_count": null,
      "id": "a571b705",
      "metadata": {
        "id": "a571b705",
        "outputId": "d4e8d783-ebcd-47c1-fc07-c615214860cf"
      },
      "outputs": [
        {
          "data": {
            "text/plain": [
              "{1, 2, 3, 4, 5, 6, 7, 8, 9, 10}"
            ]
          },
          "execution_count": 74,
          "metadata": {},
          "output_type": "execute_result"
        }
      ],
      "source": [
        "s1"
      ]
    },
    {
      "cell_type": "code",
      "execution_count": null,
      "id": "2a33e9b3",
      "metadata": {
        "id": "2a33e9b3"
      },
      "outputs": [],
      "source": [
        "d1 = { f\"value - {i}\": i**2 for i in range(1,11) }"
      ]
    },
    {
      "cell_type": "code",
      "execution_count": null,
      "id": "d5544aa7",
      "metadata": {
        "id": "d5544aa7",
        "outputId": "593015b3-eaf5-498e-fcef-37a26e263f81"
      },
      "outputs": [
        {
          "data": {
            "text/plain": [
              "{'value - 1': 1,\n",
              " 'value - 2': 4,\n",
              " 'value - 3': 9,\n",
              " 'value - 4': 16,\n",
              " 'value - 5': 25,\n",
              " 'value - 6': 36,\n",
              " 'value - 7': 49,\n",
              " 'value - 8': 64,\n",
              " 'value - 9': 81,\n",
              " 'value - 10': 100}"
            ]
          },
          "execution_count": 78,
          "metadata": {},
          "output_type": "execute_result"
        }
      ],
      "source": [
        "d1"
      ]
    },
    {
      "cell_type": "code",
      "execution_count": null,
      "id": "8363d619",
      "metadata": {
        "id": "8363d619"
      },
      "outputs": [],
      "source": [
        "s1 = \" i**2 for i in range(1,11) \""
      ]
    },
    {
      "cell_type": "code",
      "execution_count": null,
      "id": "b43b0cfe",
      "metadata": {
        "id": "b43b0cfe",
        "outputId": "4b17a030-4c98-4486-83da-0787bcb81363"
      },
      "outputs": [
        {
          "data": {
            "text/plain": [
              "' i**2 for i in range(1,11) '"
            ]
          },
          "execution_count": 80,
          "metadata": {},
          "output_type": "execute_result"
        }
      ],
      "source": [
        "s1"
      ]
    },
    {
      "cell_type": "code",
      "execution_count": null,
      "id": "ac230d55",
      "metadata": {
        "id": "ac230d55"
      },
      "outputs": [],
      "source": [
        "s1 = \"i**2\""
      ]
    },
    {
      "cell_type": "code",
      "execution_count": null,
      "id": "845ef0f5",
      "metadata": {
        "id": "845ef0f5",
        "outputId": "40d9d834-a769-4868-f50a-fb66040d4e0b"
      },
      "outputs": [
        {
          "data": {
            "text/plain": [
              "10"
            ]
          },
          "execution_count": 85,
          "metadata": {},
          "output_type": "execute_result"
        }
      ],
      "source": [
        "i"
      ]
    },
    {
      "cell_type": "code",
      "execution_count": null,
      "id": "79fc1b23",
      "metadata": {
        "id": "79fc1b23",
        "outputId": "3c53919b-02c1-4760-e47c-26774c329c46"
      },
      "outputs": [
        {
          "data": {
            "text/plain": [
              "'i**2'"
            ]
          },
          "execution_count": 82,
          "metadata": {},
          "output_type": "execute_result"
        }
      ],
      "source": [
        "s1"
      ]
    },
    {
      "cell_type": "code",
      "execution_count": null,
      "id": "c7428378",
      "metadata": {
        "id": "c7428378"
      },
      "outputs": [],
      "source": [
        "s1 = f\"{i**2}\""
      ]
    },
    {
      "cell_type": "code",
      "execution_count": null,
      "id": "367bbf9c",
      "metadata": {
        "id": "367bbf9c",
        "outputId": "efbe5b09-e3e1-45e1-de04-7a088c771fa1"
      },
      "outputs": [
        {
          "data": {
            "text/plain": [
              "'100'"
            ]
          },
          "execution_count": 84,
          "metadata": {},
          "output_type": "execute_result"
        }
      ],
      "source": [
        "s1"
      ]
    },
    {
      "cell_type": "code",
      "execution_count": null,
      "id": "e4e72723",
      "metadata": {
        "id": "e4e72723",
        "outputId": "2e67da56-c4e3-4ed5-e677-66c37fecda31"
      },
      "outputs": [
        {
          "data": {
            "text/plain": [
              "[[1, 2, 3, 4, 5, 6, 7, 8, 9, 10],\n",
              " [2, 4, 6, 8, 10, 12, 14, 16, 18, 20],\n",
              " [3, 6, 9, 12, 15, 18, 21, 24, 27, 30],\n",
              " [4, 8, 12, 16, 20, 24, 28, 32, 36, 40],\n",
              " [5, 10, 15, 20, 25, 30, 35, 40, 45, 50],\n",
              " [6, 12, 18, 24, 30, 36, 42, 48, 54, 60],\n",
              " [7, 14, 21, 28, 35, 42, 49, 56, 63, 70],\n",
              " [8, 16, 24, 32, 40, 48, 56, 64, 72, 80],\n",
              " [9, 18, 27, 36, 45, 54, 63, 72, 81, 90],\n",
              " [10, 20, 30, 40, 50, 60, 70, 80, 90, 100]]"
            ]
          },
          "execution_count": 86,
          "metadata": {},
          "output_type": "execute_result"
        }
      ],
      "source": [
        "[ [ i*j for j in range(1,11) ] for i in range(1,11) ]"
      ]
    },
    {
      "cell_type": "code",
      "execution_count": null,
      "id": "5f956bb2",
      "metadata": {
        "id": "5f956bb2"
      },
      "outputs": [],
      "source": []
    },
    {
      "cell_type": "markdown",
      "source": [
        "##ASSIGNMENT QUESTION"
      ],
      "metadata": {
        "id": "eiC_ei_dtF0l"
      },
      "id": "eiC_ei_dtF0l"
    },
    {
      "cell_type": "markdown",
      "source": [
        "###Q1 VALID STATEMENT\n",
        "\n",
        "Which of the following are valid statements in python: Assume that the variable ‘a’ has already been declared:\n",
        "\n",
        "a.if a>=2:\n",
        "      print(\"TRUE\")\n",
        "\n",
        "b.if (a=>2):\n",
        "      print(\"TRUE\")\n",
        "\n",
        "c.if (a%2!=0):\n",
        "      print(\"TRUE\")\n",
        "\n",
        "d.if a//3=1:\n",
        "      print(\"TRUE\")"
      ],
      "metadata": {
        "id": "jbdJh0wyumDY"
      },
      "id": "jbdJh0wyumDY"
    },
    {
      "cell_type": "code",
      "source": [
        "if a>=2:\n",
        "      print(\"TRUE\")\n",
        "\n",
        "# if (a=>2):\n",
        "#       print(\"TRUE\")\n",
        "\n",
        "if (a%2!=0):\n",
        "      print(\"TRUE\")\n",
        "\n",
        "# if a//3=1:\n",
        "#       print(\"TRUE\")"
      ],
      "metadata": {
        "colab": {
          "base_uri": "https://localhost:8080/",
          "height": 240
        },
        "id": "X_nWka6QusJN",
        "outputId": "c85ea9ac-aa23-498d-da2c-e798a9edd745"
      },
      "id": "X_nWka6QusJN",
      "execution_count": 6,
      "outputs": [
        {
          "output_type": "error",
          "ename": "NameError",
          "evalue": "ignored",
          "traceback": [
            "\u001b[0;31m---------------------------------------------------------------------------\u001b[0m",
            "\u001b[0;31mNameError\u001b[0m                                 Traceback (most recent call last)",
            "\u001b[0;32m<ipython-input-6-0bcb07efc6f7>\u001b[0m in \u001b[0;36m<module>\u001b[0;34m\u001b[0m\n\u001b[0;32m----> 1\u001b[0;31m \u001b[0;32mif\u001b[0m \u001b[0ma\u001b[0m\u001b[0;34m>=\u001b[0m\u001b[0;36m2\u001b[0m\u001b[0;34m:\u001b[0m\u001b[0;34m\u001b[0m\u001b[0;34m\u001b[0m\u001b[0m\n\u001b[0m\u001b[1;32m      2\u001b[0m       \u001b[0mprint\u001b[0m\u001b[0;34m(\u001b[0m\u001b[0;34m\"TRUE\"\u001b[0m\u001b[0;34m)\u001b[0m\u001b[0;34m\u001b[0m\u001b[0;34m\u001b[0m\u001b[0m\n\u001b[1;32m      3\u001b[0m \u001b[0;34m\u001b[0m\u001b[0m\n\u001b[1;32m      4\u001b[0m \u001b[0;31m# if (a=>2):\u001b[0m\u001b[0;34m\u001b[0m\u001b[0;34m\u001b[0m\u001b[0m\n\u001b[1;32m      5\u001b[0m \u001b[0;31m#       print(\"TRUE\")\u001b[0m\u001b[0;34m\u001b[0m\u001b[0;34m\u001b[0m\u001b[0m\n",
            "\u001b[0;31mNameError\u001b[0m: name 'a' is not defined"
          ]
        }
      ]
    },
    {
      "cell_type": "markdown",
      "source": [
        "### Q2 (Number of Days)\n",
        "\n",
        "Problem Description:\n",
        "\n",
        "Write a program to return the number of days in a specific month in a non-leap year. You are given the index of the month. Assume that this indexing starts from 1. For eg: 1 for January, 2 for February, ....so on till 12 for December.\n",
        "\n",
        "Input Format:\n",
        "\n",
        "The number of test cases. For each testcase there will be a single line of input with integer representing the index of month.\n",
        "\n",
        "\n",
        "Output Format:\n",
        "\n",
        "No.of Days in the respective month in integer format\n",
        "\n",
        "\n",
        "Sample Input:\n",
        "\n",
        "1\n",
        "12\n",
        "\n",
        "\n",
        "Sample Output:\n",
        "\n",
        "31\n",
        "\n",
        "Sample explanation:\n",
        "\n",
        "December has 31 days."
      ],
      "metadata": {
        "id": "QSk1ZsActKWS"
      },
      "id": "QSk1ZsActKWS"
    },
    {
      "cell_type": "code",
      "source": [
        "## APPROACH --> 1\n",
        "\n",
        "def no_of_days(n):\n",
        "    '''n => it's the month index.\n",
        "       output => an integer for number of days in month at index n is expected.'''\n",
        "    ans = None\n",
        "    arr=[31,28,31,30,31,30,31,31,30,31,30,31]\n",
        "    for i in range(0,len(arr)):\n",
        "        if i == n:\n",
        "            ans = arr[i-1]\n",
        "\n",
        "    # ans = None\n",
        "    # YOUR CODE GOES HERE\n",
        "    \n",
        "    \n",
        "    \n",
        "    return ans\n",
        "\n",
        "print(\"Result: \",no_of_days(2))"
      ],
      "metadata": {
        "colab": {
          "base_uri": "https://localhost:8080/"
        },
        "id": "qeL4O-L3tGHN",
        "outputId": "3ddb149e-ac78-4cc9-e259-642728c9d3cd"
      },
      "id": "qeL4O-L3tGHN",
      "execution_count": 1,
      "outputs": [
        {
          "output_type": "stream",
          "name": "stdout",
          "text": [
            "Result:  28\n"
          ]
        }
      ]
    },
    {
      "cell_type": "code",
      "source": [
        "## APPROACH --> 2\n",
        "\n",
        "def no_of_days(n):\n",
        "  ans = None\n",
        "  if n == 2:\n",
        "    ans = 28\n",
        "  if n < 8:\n",
        "    if n%2 ==0:\n",
        "      ans =31\n",
        "    else:\n",
        "      ans = 30\n",
        "  elif n > 8:\n",
        "    if n%2 ==0:\n",
        "      ans = 30\n",
        "    else:\n",
        "      ans =31\n",
        "  return ans\n",
        "\n",
        "print(\"Result: \",no_of_days(7))\n",
        "print(\"Result: \",no_of_days(11))\n",
        "\n"
      ],
      "metadata": {
        "colab": {
          "base_uri": "https://localhost:8080/"
        },
        "id": "cLH2Ni83twbN",
        "outputId": "ff8c51a2-974a-43cc-8968-6944b9221495"
      },
      "id": "cLH2Ni83twbN",
      "execution_count": 3,
      "outputs": [
        {
          "output_type": "stream",
          "name": "stdout",
          "text": [
            "Result:  30\n",
            "Result:  31\n"
          ]
        }
      ]
    },
    {
      "cell_type": "code",
      "source": [],
      "metadata": {
        "id": "7spdwxszubPM"
      },
      "id": "7spdwxszubPM",
      "execution_count": null,
      "outputs": []
    },
    {
      "cell_type": "markdown",
      "source": [
        "###Q3. Type of triangles\n",
        "\n",
        "Complete the code snippet in order to classify the triangle into equilateral, isosceles, and scalene on the basis of its sides a, b and c.\n",
        "\n",
        "if (a==b __1__ a==c) and b==c:\n",
        "  print(\"equilateral\")\n",
        "elif a==b __2__ b==c or c==a:\n",
        "  print(\"isosceles\")\n",
        "else:\n",
        "  print('scalene')\n",
        "\n",
        "Which of the options can be placed at the first blank __1__ and the second blank __2__ to get the correct output?"
      ],
      "metadata": {
        "id": "tMcVmba1u_i4"
      },
      "id": "tMcVmba1u_i4"
    },
    {
      "cell_type": "code",
      "source": [],
      "metadata": {
        "id": "aKHWpfH_u_uL"
      },
      "id": "aKHWpfH_u_uL",
      "execution_count": null,
      "outputs": []
    },
    {
      "cell_type": "markdown",
      "source": [
        "###Q4. Which condition?\n",
        "\n",
        "Which of the if-elif-else statements will get executed if the following code snippet is run?\n",
        "\n",
        "if False:                                       #1\n",
        "    print(\"Artificial Intelligence\")\n",
        "elif True:                                      #2\n",
        "    print(\"Machine Learning\")\n",
        "elif True:                                      #3\n",
        "    print(\"Data Science\")\n",
        "else:                                           #4\n",
        "    print(\"Deep Learning\")                      \n",
        "\n",
        "Mark the correct option."
      ],
      "metadata": {
        "id": "25TswrYNvsEM"
      },
      "id": "25TswrYNvsEM"
    },
    {
      "cell_type": "code",
      "source": [
        "if False:                                       #1\n",
        "    print(\"Artificial Intelligence\")\n",
        "elif True:                                      #2\n",
        "    print(\"Machine Learning\")\n",
        "elif True:                                      #3\n",
        "    print(\"Data Science\")\n",
        "else:                                           #4\n",
        "    print(\"Deep Learning\")                      "
      ],
      "metadata": {
        "colab": {
          "base_uri": "https://localhost:8080/"
        },
        "id": "M1t3-DqUvsNW",
        "outputId": "3cf8f489-fbcb-4875-8f25-c06908141f85"
      },
      "id": "M1t3-DqUvsNW",
      "execution_count": 7,
      "outputs": [
        {
          "output_type": "stream",
          "name": "stdout",
          "text": [
            "Machine Learning\n"
          ]
        }
      ]
    },
    {
      "cell_type": "markdown",
      "source": [
        "###Q5. Nested If-Else\n",
        "\n",
        "Given the nested if-else structure below, what will be the value of \"a\" after code execution completes\n",
        "\n",
        "a = 4\n",
        "b = -5\n",
        "\n",
        "if a > 0:\n",
        "    if b < 0:\n",
        "        a = a - 2 \n",
        "    elif a > 5:\n",
        "        a = a - 4\n",
        "    else:\n",
        "        a = a + 3\n",
        "else:\n",
        "    b = b + 2"
      ],
      "metadata": {
        "id": "INRByW8c2xNj"
      },
      "id": "INRByW8c2xNj"
    },
    {
      "cell_type": "code",
      "source": [],
      "metadata": {
        "id": "_bx2Y1wJ2xlI"
      },
      "id": "_bx2Y1wJ2xlI",
      "execution_count": null,
      "outputs": []
    },
    {
      "cell_type": "markdown",
      "source": [
        "###Q6. Check and check\n",
        "\n",
        "What is the output of the following code:\n",
        "\n",
        "ANS = 3"
      ],
      "metadata": {
        "id": "iqfF5GEI2x0D"
      },
      "id": "iqfF5GEI2x0D"
    },
    {
      "cell_type": "code",
      "source": [
        "a = 1\n",
        "b = 2\n",
        "c = 3\n",
        "if a > b:\n",
        "    if a > c:\n",
        "        print(a)\n",
        "    else:\n",
        "        print(c)\n",
        "else:\n",
        "    if b > c:\n",
        "        print(b)\n",
        "    else:\n",
        "        print(c)"
      ],
      "metadata": {
        "id": "NjgajiT93x2z"
      },
      "id": "NjgajiT93x2z",
      "execution_count": null,
      "outputs": []
    },
    {
      "cell_type": "markdown",
      "source": [
        "###Q7. If Boolean\n",
        "\n",
        "What will be the output of the following code:"
      ],
      "metadata": {
        "id": "Wm-yBayE3hmn"
      },
      "id": "Wm-yBayE3hmn"
    },
    {
      "cell_type": "code",
      "source": [
        "if False:\n",
        "  print(\"1\")\n",
        "elif True:\n",
        "  print(\"2\")\n",
        "elif True:\n",
        "  print(\"3\")\n",
        "else:\n",
        "  print(\"4\")"
      ],
      "metadata": {
        "id": "9ibEsQVL2yCi"
      },
      "id": "9ibEsQVL2yCi",
      "execution_count": null,
      "outputs": []
    },
    {
      "cell_type": "markdown",
      "source": [
        "###Q8. Simple Interest\n",
        "\n",
        "\n",
        "Problem Description:\n",
        "\n",
        "Write a program to calculate the total amount if the principal amount, simple interest rate per annum, and time in the number of days are given. The simple interest rate per annum is provided as a percentage. Assuming that there are 365 days in a year, print the total amount rounded up to 2 decimal places.\n",
        "\n",
        "Note 1: Use round(ans,2) to round up ans up to two decimals\n",
        "\n",
        "Note 2: You need not take input in this problem, you need only to implement the function provided.\n",
        "\n",
        "Input Format:\n",
        "\n",
        "For each testcase there will be three lines of input as follows:  \n",
        "The 3 lines have numbers  \n",
        "The first line describes the time in number of days in int format \n",
        "The second line describes the principal amount in float format\n",
        "The third line describes the interest rate per annum in percentage in float format\n",
        "\n",
        "Output Format:\n",
        "\n",
        "Total amount in float format\n",
        "\n",
        "Sample Input:\n",
        "\n",
        "1  \n",
        "789\n",
        "10000.0\n",
        "1.3\n",
        "\n",
        "Sample Output:\n",
        "\n",
        "10281.01"
      ],
      "metadata": {
        "id": "nYmcqpFu36dG"
      },
      "id": "nYmcqpFu36dG"
    },
    {
      "cell_type": "code",
      "source": [
        "def simple_int(time,pa,ir):\n",
        "    si=(pa*(1+(time/365)*(ir/100)))\n",
        "    ans=round(si,2)\n",
        "    return ans\n",
        "\n",
        "time = 789\n",
        "pa = 10000.0\n",
        "ir = 1.3\n",
        "print(\"Result: \",simple_int(time,pa,ir))"
      ],
      "metadata": {
        "colab": {
          "base_uri": "https://localhost:8080/"
        },
        "id": "VD5fCVeMv3dV",
        "outputId": "0e2d070a-2336-438c-e834-b55f3669385d"
      },
      "id": "VD5fCVeMv3dV",
      "execution_count": 8,
      "outputs": [
        {
          "output_type": "stream",
          "name": "stdout",
          "text": [
            "Result:  10281.01\n"
          ]
        }
      ]
    },
    {
      "cell_type": "markdown",
      "source": [
        "###Q9. print x and y\n",
        "\n",
        "\n",
        "Which statement from the options can be used in the place of blank(????????) in the above code snippet to get 200 100 as the output.\n",
        "\n",
        "print(x, end=\" \")"
      ],
      "metadata": {
        "id": "vTvKt_bl8x5-"
      },
      "id": "vTvKt_bl8x5-"
    },
    {
      "cell_type": "code",
      "source": [
        "y = 100 \\\n",
        "# + 20 \\\n",
        "+ 20 \n",
        "x = 200\n",
        "????????\n",
        "print(y)\n",
        "\n"
      ],
      "metadata": {
        "id": "1ST2eD5s8yFf"
      },
      "id": "1ST2eD5s8yFf",
      "execution_count": null,
      "outputs": []
    },
    {
      "cell_type": "markdown",
      "source": [
        "###Q10. If-Else-Output\n",
        "\n",
        "What will be the output of the following code:\n",
        "\n",
        "\n",
        "The correct answer is: Error\n",
        "\n",
        "**Explanation:**\n",
        "Since the statement x=4 is between the if block and the else block, this code will produce an error. Else block should always immediately follow an if-elif block"
      ],
      "metadata": {
        "id": "W7AP7IwF9F2K"
      },
      "id": "W7AP7IwF9F2K"
    },
    {
      "cell_type": "code",
      "source": [
        "x = 2\n",
        "if x==2:\n",
        "    x = 3\n",
        "x = 4\n",
        "else:\n",
        "    x = 5\n",
        "print(x)"
      ],
      "metadata": {
        "colab": {
          "base_uri": "https://localhost:8080/",
          "height": 133
        },
        "id": "pcVVyaGT9GAF",
        "outputId": "d0fd7d13-c5e8-4944-c5f0-f2c7ce5f15da"
      },
      "id": "pcVVyaGT9GAF",
      "execution_count": 9,
      "outputs": [
        {
          "output_type": "error",
          "ename": "SyntaxError",
          "evalue": "ignored",
          "traceback": [
            "\u001b[0;36m  File \u001b[0;32m\"<ipython-input-9-f39cd7db9a9c>\"\u001b[0;36m, line \u001b[0;32m5\u001b[0m\n\u001b[0;31m    else:\u001b[0m\n\u001b[0m    ^\u001b[0m\n\u001b[0;31mSyntaxError\u001b[0m\u001b[0;31m:\u001b[0m invalid syntax\n"
          ]
        }
      ]
    }
  ],
  "metadata": {
    "kernelspec": {
      "display_name": "Python 3 (ipykernel)",
      "language": "python",
      "name": "python3"
    },
    "language_info": {
      "codemirror_mode": {
        "name": "ipython",
        "version": 3
      },
      "file_extension": ".py",
      "mimetype": "text/x-python",
      "name": "python",
      "nbconvert_exporter": "python",
      "pygments_lexer": "ipython3",
      "version": "3.9.5"
    },
    "colab": {
      "provenance": [],
      "toc_visible": true,
      "include_colab_link": true
    }
  },
  "nbformat": 4,
  "nbformat_minor": 5
}