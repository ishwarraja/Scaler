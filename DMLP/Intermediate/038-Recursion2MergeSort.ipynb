{
  "cells": [
    {
      "cell_type": "markdown",
      "metadata": {
        "id": "view-in-github",
        "colab_type": "text"
      },
      "source": [
        "<a href=\"https://colab.research.google.com/github/ishwarraja/Scaler/blob/main/DMLP/Intermediate/038-Recursion2MergeSort.ipynb\" target=\"_parent\"><img src=\"https://colab.research.google.com/assets/colab-badge.svg\" alt=\"Open In Colab\"/></a>"
      ]
    },
    {
      "cell_type": "code",
      "execution_count": null,
      "id": "1e94addc",
      "metadata": {
        "id": "1e94addc"
      },
      "outputs": [],
      "source": [
        "def card_game(a):\n",
        "    # BASE CONDITION\n",
        "    if len(a) == 1:\n",
        "        return a\n",
        "    \n",
        "    result = a[::2] # All elements at even indexes\n",
        "    \n",
        "    return result + card_game(a[1::2])"
      ]
    },
    {
      "cell_type": "code",
      "execution_count": null,
      "id": "62d94383",
      "metadata": {
        "id": "62d94383",
        "outputId": "773c6381-282b-41a8-f5ee-2e5b3b36d381"
      },
      "outputs": [
        {
          "data": {
            "text/plain": [
              "[1, 3, 5, 2, 6, 4]"
            ]
          },
          "execution_count": 2,
          "metadata": {},
          "output_type": "execute_result"
        }
      ],
      "source": [
        "card_game([1,2,3,4,5,6])"
      ]
    },
    {
      "cell_type": "code",
      "execution_count": null,
      "id": "131bcba0",
      "metadata": {
        "id": "131bcba0",
        "outputId": "92d756de-a728-46c8-912e-c1a2320ef015"
      },
      "outputs": [
        {
          "data": {
            "text/plain": [
              "'\\nQuestion 1 - \\n\\nYou are given two lists as input both of which are sorted.\\nWrite a function to generate a result which merges these lists such that the result is also sorted.\\n\\nExample - \\nA = [1,3,5,6,7]\\nB = [2,4,8]\\nResult = [1,2,3,4,5,6,7,8]\\n'"
            ]
          },
          "execution_count": 3,
          "metadata": {},
          "output_type": "execute_result"
        }
      ],
      "source": [
        "'''\n",
        "Question 1 - \n",
        "\n",
        "You are given two lists as input both of which are sorted.\n",
        "Write a function to generate a result which merges these lists such that the result is also sorted.\n",
        "\n",
        "Example - \n",
        "A = [1,3,5,6,7]\n",
        "B = [2,4,8]\n",
        "Result = [1,2,3,4,5,6,7,8]\n",
        "'''"
      ]
    },
    {
      "cell_type": "code",
      "execution_count": null,
      "id": "84b522de",
      "metadata": {
        "id": "84b522de"
      },
      "outputs": [],
      "source": [
        "def sorted_merge(a, b):\n",
        "    i, j = 0, 0\n",
        "    \n",
        "    result = []\n",
        "    \n",
        "    while i < len(a) and j < len(b):\n",
        "        if a[i] <= b[j]:\n",
        "            result.append(a[i])\n",
        "            i += 1\n",
        "        else:\n",
        "            result.append(b[j])\n",
        "            j += 1\n",
        "            \n",
        "    if i < len(a):\n",
        "        result += a[i:]\n",
        "    elif j < len(b):\n",
        "        result += b[j:]\n",
        "        \n",
        "    return result"
      ]
    },
    {
      "cell_type": "code",
      "execution_count": null,
      "id": "74c98d8c",
      "metadata": {
        "id": "74c98d8c",
        "outputId": "7d65f172-48a0-45eb-f80b-2b6d4dc2ad8f"
      },
      "outputs": [
        {
          "data": {
            "text/plain": [
              "[1, 2, 3, 4, 5, 6, 7, 8, 9, 10]"
            ]
          },
          "execution_count": 6,
          "metadata": {},
          "output_type": "execute_result"
        }
      ],
      "source": [
        "sorted_merge([1,3,5,6,7],[2,4,8,9,10])"
      ]
    },
    {
      "cell_type": "code",
      "execution_count": null,
      "id": "359a1d3a",
      "metadata": {
        "id": "359a1d3a"
      },
      "outputs": [],
      "source": [
        "def merge_sort(a):\n",
        "    # BASE CONDITION\n",
        "    if len(a) <= 1:\n",
        "        return a\n",
        "    \n",
        "    # RECURSIVE PART\n",
        "    n = len(a)\n",
        "    \n",
        "    left = merge_sort(a[:n//2])\n",
        "    right = merge_sort(a[n//2:])\n",
        "    \n",
        "    # MERGING PART\n",
        "    i, j = 0, 0\n",
        "    \n",
        "    result = []\n",
        "    \n",
        "    while i < len(left) and j < len(right):\n",
        "        if left[i] <= right[j]:\n",
        "            result.append(left[i])\n",
        "            i += 1\n",
        "        else:\n",
        "            result.append(right[j])\n",
        "            j += 1\n",
        "            \n",
        "    if i < len(left):\n",
        "        result += left[i:]\n",
        "    elif j < len(right):\n",
        "        result += right[j:]\n",
        "        \n",
        "    return result"
      ]
    },
    {
      "cell_type": "code",
      "execution_count": null,
      "id": "62dffdd7",
      "metadata": {
        "id": "62dffdd7",
        "outputId": "0e40a499-91dd-4881-fec1-b76a54f8623c"
      },
      "outputs": [
        {
          "data": {
            "text/plain": [
              "[1, 2, 3, 4, 6, 7, 9, 10]"
            ]
          },
          "execution_count": 8,
          "metadata": {},
          "output_type": "execute_result"
        }
      ],
      "source": [
        "merge_sort([6,7,1,4,9,2,10,3])"
      ]
    },
    {
      "cell_type": "code",
      "execution_count": null,
      "id": "b97faa9c",
      "metadata": {
        "id": "b97faa9c"
      },
      "outputs": [],
      "source": []
    }
  ],
  "metadata": {
    "kernelspec": {
      "display_name": "Python 3 (ipykernel)",
      "language": "python",
      "name": "python3"
    },
    "language_info": {
      "codemirror_mode": {
        "name": "ipython",
        "version": 3
      },
      "file_extension": ".py",
      "mimetype": "text/x-python",
      "name": "python",
      "nbconvert_exporter": "python",
      "pygments_lexer": "ipython3",
      "version": "3.9.5"
    },
    "colab": {
      "provenance": [],
      "include_colab_link": true
    }
  },
  "nbformat": 4,
  "nbformat_minor": 5
}