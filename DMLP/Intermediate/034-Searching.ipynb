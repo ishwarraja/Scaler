{
  "cells": [
    {
      "cell_type": "markdown",
      "metadata": {
        "id": "view-in-github",
        "colab_type": "text"
      },
      "source": [
        "<a href=\"https://colab.research.google.com/github/ishwarraja/Scaler/blob/main/DMLP/Intermediate/034-Searching.ipynb\" target=\"_parent\"><img src=\"https://colab.research.google.com/assets/colab-badge.svg\" alt=\"Open In Colab\"/></a>"
      ]
    },
    {
      "cell_type": "code",
      "execution_count": null,
      "id": "5a7d2b2c",
      "metadata": {
        "id": "5a7d2b2c",
        "outputId": "c3edce5d-d8ed-4080-a369-296e4ccd5fd0"
      },
      "outputs": [
        {
          "data": {
            "text/plain": [
              "'\\nQuestion 1 - \\n\\nGiven a list of elements and a target element;\\n    - return the index of the target if the target is present in the list\\n    - else return -1\\n    \\nEXAMPLE - \\nInput - \\nl = [10, 20, 30, 40, 50]\\ntarget = 40\\n\\nOutput - 3\\n'"
            ]
          },
          "execution_count": 1,
          "metadata": {},
          "output_type": "execute_result"
        }
      ],
      "source": [
        "'''\n",
        "Question 1 - \n",
        "\n",
        "Given a list of elements and a target element;\n",
        "    - return the index of the target if the target is present in the list\n",
        "    - else return -1\n",
        "    \n",
        "EXAMPLE - \n",
        "Input - \n",
        "l = [10, 20, 30, 40, 50]\n",
        "target = 40\n",
        "\n",
        "Output - 3\n",
        "'''"
      ]
    },
    {
      "cell_type": "code",
      "execution_count": null,
      "id": "c1a3a157",
      "metadata": {
        "id": "c1a3a157"
      },
      "outputs": [],
      "source": [
        "# Approach 1\n",
        "def linear_search(a, target):\n",
        "    for i in range(len(a)):\n",
        "        if target == a[i]:\n",
        "            return i\n",
        "        \n",
        "    return -1"
      ]
    },
    {
      "cell_type": "code",
      "execution_count": null,
      "id": "e6a66217",
      "metadata": {
        "id": "e6a66217"
      },
      "outputs": [],
      "source": [
        "l = [10, 20, 30, 40, 50]\n",
        "target = 40"
      ]
    },
    {
      "cell_type": "code",
      "execution_count": null,
      "id": "4c1ab3f2",
      "metadata": {
        "id": "4c1ab3f2",
        "outputId": "deac390d-8556-421b-cf3c-5acac982fb9b"
      },
      "outputs": [
        {
          "data": {
            "text/plain": [
              "-1"
            ]
          },
          "execution_count": 6,
          "metadata": {},
          "output_type": "execute_result"
        }
      ],
      "source": [
        "linear_search(l, 100)"
      ]
    },
    {
      "cell_type": "code",
      "execution_count": null,
      "id": "10b538de",
      "metadata": {
        "id": "10b538de"
      },
      "outputs": [],
      "source": [
        "# enumeration"
      ]
    },
    {
      "cell_type": "code",
      "execution_count": null,
      "id": "924b9954",
      "metadata": {
        "id": "924b9954"
      },
      "outputs": [],
      "source": [
        "enumerated_l = enumerate(l)"
      ]
    },
    {
      "cell_type": "code",
      "execution_count": null,
      "id": "d7d8ea03",
      "metadata": {
        "id": "d7d8ea03",
        "outputId": "90fd894f-a040-4546-f787-9ac4fc9f366b"
      },
      "outputs": [
        {
          "data": {
            "text/plain": [
              "<enumerate at 0x7fddb02e9a40>"
            ]
          },
          "execution_count": 9,
          "metadata": {},
          "output_type": "execute_result"
        }
      ],
      "source": [
        "enumerated_l"
      ]
    },
    {
      "cell_type": "code",
      "execution_count": null,
      "id": "11fc0057",
      "metadata": {
        "id": "11fc0057",
        "outputId": "f81bfeb2-3d68-4d7e-dccb-ead7542f34d6"
      },
      "outputs": [
        {
          "data": {
            "text/plain": [
              "[(0, 10), (1, 20), (2, 30), (3, 40), (4, 50)]"
            ]
          },
          "execution_count": 10,
          "metadata": {},
          "output_type": "execute_result"
        }
      ],
      "source": [
        "list(enumerated_l)"
      ]
    },
    {
      "cell_type": "code",
      "execution_count": null,
      "id": "f5757476",
      "metadata": {
        "id": "f5757476"
      },
      "outputs": [],
      "source": [
        "# Approach 2\n",
        "def linear_search_enumerated(a, target):\n",
        "    for index, value in enumerate(a):\n",
        "        if value == target:\n",
        "            return index\n",
        "        \n",
        "    return -1"
      ]
    },
    {
      "cell_type": "code",
      "execution_count": null,
      "id": "da65ffaf",
      "metadata": {
        "id": "da65ffaf",
        "outputId": "cf040a6b-d7b6-4e64-a73f-001ab836952a"
      },
      "outputs": [
        {
          "data": {
            "text/plain": [
              "3"
            ]
          },
          "execution_count": 16,
          "metadata": {},
          "output_type": "execute_result"
        }
      ],
      "source": [
        "linear_search_enumerated(l, 40)"
      ]
    },
    {
      "cell_type": "code",
      "execution_count": null,
      "id": "9e974ccb",
      "metadata": {
        "id": "9e974ccb",
        "outputId": "b5915765-83d2-4198-fc1c-7f2510822efd"
      },
      "outputs": [
        {
          "data": {
            "text/plain": [
              "'\\nSuppose that the list is of n elements (length).\\nTarget is present at the last position or not present.\\nHow many times will the loop run in this case?\\n\\n- IN THIS WORST CASE SCENARIO - n operations\\n'"
            ]
          },
          "execution_count": 21,
          "metadata": {},
          "output_type": "execute_result"
        }
      ],
      "source": [
        "'''\n",
        "Suppose that the list is of n elements (length).\n",
        "Target is present at the last position or not present.\n",
        "How many times will the loop run in this case?\n",
        "\n",
        "- IN THIS WORST CASE SCENARIO - n operations\n",
        "'''"
      ]
    },
    {
      "cell_type": "code",
      "execution_count": null,
      "id": "4b3475fd",
      "metadata": {
        "id": "4b3475fd"
      },
      "outputs": [],
      "source": [
        "def binary_search(a, target):\n",
        "    start, end = 0, len(a) - 1\n",
        "    \n",
        "    while start <= end:\n",
        "        mid = ( start + end ) // 2\n",
        "        \n",
        "        if target == a[mid]:\n",
        "            return mid\n",
        "        elif target > a[mid]:\n",
        "            start = mid + 1\n",
        "        else:\n",
        "            end = mid - 1\n",
        "            \n",
        "    return -1"
      ]
    },
    {
      "cell_type": "code",
      "execution_count": null,
      "id": "4f07c383",
      "metadata": {
        "id": "4f07c383"
      },
      "outputs": [],
      "source": [
        "a = [10, 20, 30, 40, 50, 60, 70, 80, 90, 100]"
      ]
    },
    {
      "cell_type": "code",
      "execution_count": null,
      "id": "46ed4386",
      "metadata": {
        "id": "46ed4386",
        "outputId": "17b726f9-5c44-4009-9691-4c7be991033d"
      },
      "outputs": [
        {
          "data": {
            "text/plain": [
              "0"
            ]
          },
          "execution_count": 27,
          "metadata": {},
          "output_type": "execute_result"
        }
      ],
      "source": [
        "binary_search(a, 10)"
      ]
    },
    {
      "cell_type": "code",
      "execution_count": null,
      "id": "e95298d0",
      "metadata": {
        "id": "e95298d0"
      },
      "outputs": [],
      "source": [
        "def linear_search_count(a, target):\n",
        "    count = 0\n",
        "    \n",
        "    for index, value in enumerate(a):\n",
        "        count += 1\n",
        "        \n",
        "        if value == target:\n",
        "            print(f\"I ran {count} times!\")\n",
        "            return index\n",
        "        \n",
        "    print(f\"I ran {count} times!\")\n",
        "    return -1"
      ]
    },
    {
      "cell_type": "code",
      "execution_count": null,
      "id": "c9da79be",
      "metadata": {
        "id": "c9da79be"
      },
      "outputs": [],
      "source": [
        "def binary_search_count(a, target):\n",
        "    start, end = 0, len(a) - 1\n",
        "    count = 0\n",
        "    \n",
        "    while start <= end:\n",
        "        mid = ( start + end ) // 2\n",
        "        \n",
        "        count += 1\n",
        "        \n",
        "        if target == a[mid]:\n",
        "            print(f\"I ran {count} times!\")\n",
        "            return mid\n",
        "        elif target > a[mid]:\n",
        "            start = mid + 1\n",
        "        else:\n",
        "            end = mid - 1\n",
        "    \n",
        "    print(f\"I ran {count} times!\")\n",
        "    return -1"
      ]
    },
    {
      "cell_type": "code",
      "execution_count": null,
      "id": "5c0f1032",
      "metadata": {
        "id": "5c0f1032"
      },
      "outputs": [],
      "source": [
        "a = [10, 20, 30, 40, 50, 60, 70, 80, 90, 100]"
      ]
    },
    {
      "cell_type": "code",
      "execution_count": null,
      "id": "19c970ee",
      "metadata": {
        "id": "19c970ee",
        "outputId": "944176ae-38c9-40ad-fbfb-b8c507c5df13"
      },
      "outputs": [
        {
          "name": "stdout",
          "output_type": "stream",
          "text": [
            "I ran 8 times!\n"
          ]
        },
        {
          "data": {
            "text/plain": [
              "7"
            ]
          },
          "execution_count": 32,
          "metadata": {},
          "output_type": "execute_result"
        }
      ],
      "source": [
        "linear_search_count(a, 80)"
      ]
    },
    {
      "cell_type": "code",
      "execution_count": null,
      "id": "a4960633",
      "metadata": {
        "id": "a4960633",
        "outputId": "a0bd2e99-4fc5-4911-b4df-0fc6be19850f"
      },
      "outputs": [
        {
          "name": "stdout",
          "output_type": "stream",
          "text": [
            "I ran 2 times!\n"
          ]
        },
        {
          "data": {
            "text/plain": [
              "7"
            ]
          },
          "execution_count": 33,
          "metadata": {},
          "output_type": "execute_result"
        }
      ],
      "source": [
        "binary_search_count(a, 80)"
      ]
    },
    {
      "cell_type": "code",
      "execution_count": null,
      "id": "c11d4002",
      "metadata": {
        "id": "c11d4002"
      },
      "outputs": [],
      "source": [
        "a = list(range(1, 1001))"
      ]
    },
    {
      "cell_type": "code",
      "execution_count": null,
      "id": "2f1e251f",
      "metadata": {
        "id": "2f1e251f",
        "outputId": "2f370947-a1e7-47c4-d30c-3b145468e32c"
      },
      "outputs": [
        {
          "name": "stdout",
          "output_type": "stream",
          "text": [
            "I ran 767 times!\n"
          ]
        },
        {
          "data": {
            "text/plain": [
              "766"
            ]
          },
          "execution_count": 36,
          "metadata": {},
          "output_type": "execute_result"
        }
      ],
      "source": [
        "linear_search_count(a, 767)"
      ]
    },
    {
      "cell_type": "code",
      "execution_count": null,
      "id": "2b4d3760",
      "metadata": {
        "id": "2b4d3760",
        "outputId": "ef447559-3ab5-4c55-ac5a-bcc616f1b423"
      },
      "outputs": [
        {
          "name": "stdout",
          "output_type": "stream",
          "text": [
            "I ran 9 times!\n"
          ]
        },
        {
          "data": {
            "text/plain": [
              "766"
            ]
          },
          "execution_count": 37,
          "metadata": {},
          "output_type": "execute_result"
        }
      ],
      "source": [
        "binary_search_count(a, 767)"
      ]
    },
    {
      "cell_type": "code",
      "execution_count": null,
      "id": "37ae7068",
      "metadata": {
        "id": "37ae7068"
      },
      "outputs": [],
      "source": []
    }
  ],
  "metadata": {
    "kernelspec": {
      "display_name": "Python 3 (ipykernel)",
      "language": "python",
      "name": "python3"
    },
    "language_info": {
      "codemirror_mode": {
        "name": "ipython",
        "version": 3
      },
      "file_extension": ".py",
      "mimetype": "text/x-python",
      "name": "python",
      "nbconvert_exporter": "python",
      "pygments_lexer": "ipython3",
      "version": "3.9.5"
    },
    "colab": {
      "provenance": [],
      "include_colab_link": true
    }
  },
  "nbformat": 4,
  "nbformat_minor": 5
}