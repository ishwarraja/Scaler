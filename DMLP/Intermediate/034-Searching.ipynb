{
  "cells": [
    {
      "cell_type": "markdown",
      "metadata": {
        "id": "view-in-github",
        "colab_type": "text"
      },
      "source": [
        "<a href=\"https://colab.research.google.com/github/ishwarraja/Scaler/blob/main/DMLP/Intermediate/034-Searching.ipynb\" target=\"_parent\"><img src=\"https://colab.research.google.com/assets/colab-badge.svg\" alt=\"Open In Colab\"/></a>"
      ]
    },
    {
      "cell_type": "code",
      "execution_count": null,
      "id": "5a7d2b2c",
      "metadata": {
        "id": "5a7d2b2c",
        "outputId": "c3edce5d-d8ed-4080-a369-296e4ccd5fd0"
      },
      "outputs": [
        {
          "data": {
            "text/plain": [
              "'\\nQuestion 1 - \\n\\nGiven a list of elements and a target element;\\n    - return the index of the target if the target is present in the list\\n    - else return -1\\n    \\nEXAMPLE - \\nInput - \\nl = [10, 20, 30, 40, 50]\\ntarget = 40\\n\\nOutput - 3\\n'"
            ]
          },
          "execution_count": 1,
          "metadata": {},
          "output_type": "execute_result"
        }
      ],
      "source": [
        "'''\n",
        "Question 1 - \n",
        "\n",
        "Given a list of elements and a target element;\n",
        "    - return the index of the target if the target is present in the list\n",
        "    - else return -1\n",
        "    \n",
        "EXAMPLE - \n",
        "Input - \n",
        "l = [10, 20, 30, 40, 50]\n",
        "target = 40\n",
        "\n",
        "Output - 3\n",
        "'''"
      ]
    },
    {
      "cell_type": "code",
      "execution_count": null,
      "id": "c1a3a157",
      "metadata": {
        "id": "c1a3a157"
      },
      "outputs": [],
      "source": [
        "# Approach 1\n",
        "def linear_search(a, target):\n",
        "    for i in range(len(a)):\n",
        "        if target == a[i]:\n",
        "            return i\n",
        "        \n",
        "    return -1"
      ]
    },
    {
      "cell_type": "code",
      "execution_count": null,
      "id": "e6a66217",
      "metadata": {
        "id": "e6a66217"
      },
      "outputs": [],
      "source": [
        "l = [10, 20, 30, 40, 50]\n",
        "target = 40"
      ]
    },
    {
      "cell_type": "code",
      "execution_count": null,
      "id": "4c1ab3f2",
      "metadata": {
        "id": "4c1ab3f2",
        "outputId": "deac390d-8556-421b-cf3c-5acac982fb9b"
      },
      "outputs": [
        {
          "data": {
            "text/plain": [
              "-1"
            ]
          },
          "execution_count": 6,
          "metadata": {},
          "output_type": "execute_result"
        }
      ],
      "source": [
        "linear_search(l, 100)"
      ]
    },
    {
      "cell_type": "code",
      "execution_count": null,
      "id": "10b538de",
      "metadata": {
        "id": "10b538de"
      },
      "outputs": [],
      "source": [
        "# enumeration"
      ]
    },
    {
      "cell_type": "code",
      "execution_count": null,
      "id": "924b9954",
      "metadata": {
        "id": "924b9954"
      },
      "outputs": [],
      "source": [
        "enumerated_l = enumerate(l)"
      ]
    },
    {
      "cell_type": "code",
      "execution_count": null,
      "id": "d7d8ea03",
      "metadata": {
        "id": "d7d8ea03",
        "outputId": "90fd894f-a040-4546-f787-9ac4fc9f366b"
      },
      "outputs": [
        {
          "data": {
            "text/plain": [
              "<enumerate at 0x7fddb02e9a40>"
            ]
          },
          "execution_count": 9,
          "metadata": {},
          "output_type": "execute_result"
        }
      ],
      "source": [
        "enumerated_l"
      ]
    },
    {
      "cell_type": "code",
      "execution_count": null,
      "id": "11fc0057",
      "metadata": {
        "id": "11fc0057",
        "outputId": "f81bfeb2-3d68-4d7e-dccb-ead7542f34d6"
      },
      "outputs": [
        {
          "data": {
            "text/plain": [
              "[(0, 10), (1, 20), (2, 30), (3, 40), (4, 50)]"
            ]
          },
          "execution_count": 10,
          "metadata": {},
          "output_type": "execute_result"
        }
      ],
      "source": [
        "list(enumerated_l)"
      ]
    },
    {
      "cell_type": "code",
      "execution_count": null,
      "id": "f5757476",
      "metadata": {
        "id": "f5757476"
      },
      "outputs": [],
      "source": [
        "# Approach 2\n",
        "def linear_search_enumerated(a, target):\n",
        "    for index, value in enumerate(a):\n",
        "        if value == target:\n",
        "            return index\n",
        "        \n",
        "    return -1"
      ]
    },
    {
      "cell_type": "code",
      "execution_count": null,
      "id": "da65ffaf",
      "metadata": {
        "id": "da65ffaf",
        "outputId": "cf040a6b-d7b6-4e64-a73f-001ab836952a"
      },
      "outputs": [
        {
          "data": {
            "text/plain": [
              "3"
            ]
          },
          "execution_count": 16,
          "metadata": {},
          "output_type": "execute_result"
        }
      ],
      "source": [
        "linear_search_enumerated(l, 40)"
      ]
    },
    {
      "cell_type": "code",
      "execution_count": null,
      "id": "9e974ccb",
      "metadata": {
        "id": "9e974ccb",
        "outputId": "b5915765-83d2-4198-fc1c-7f2510822efd"
      },
      "outputs": [
        {
          "data": {
            "text/plain": [
              "'\\nSuppose that the list is of n elements (length).\\nTarget is present at the last position or not present.\\nHow many times will the loop run in this case?\\n\\n- IN THIS WORST CASE SCENARIO - n operations\\n'"
            ]
          },
          "execution_count": 21,
          "metadata": {},
          "output_type": "execute_result"
        }
      ],
      "source": [
        "'''\n",
        "Suppose that the list is of n elements (length).\n",
        "Target is present at the last position or not present.\n",
        "How many times will the loop run in this case?\n",
        "\n",
        "- IN THIS WORST CASE SCENARIO - n operations\n",
        "'''"
      ]
    },
    {
      "cell_type": "code",
      "execution_count": null,
      "id": "4b3475fd",
      "metadata": {
        "id": "4b3475fd"
      },
      "outputs": [],
      "source": [
        "def binary_search(a, target):\n",
        "    start, end = 0, len(a) - 1\n",
        "    \n",
        "    while start <= end:\n",
        "        mid = ( start + end ) // 2\n",
        "        \n",
        "        if target == a[mid]:\n",
        "            return mid\n",
        "        elif target > a[mid]:\n",
        "            start = mid + 1\n",
        "        else:\n",
        "            end = mid - 1\n",
        "            \n",
        "    return -1"
      ]
    },
    {
      "cell_type": "code",
      "execution_count": null,
      "id": "4f07c383",
      "metadata": {
        "id": "4f07c383"
      },
      "outputs": [],
      "source": [
        "a = [10, 20, 30, 40, 50, 60, 70, 80, 90, 100]"
      ]
    },
    {
      "cell_type": "code",
      "execution_count": null,
      "id": "46ed4386",
      "metadata": {
        "id": "46ed4386",
        "outputId": "17b726f9-5c44-4009-9691-4c7be991033d"
      },
      "outputs": [
        {
          "data": {
            "text/plain": [
              "0"
            ]
          },
          "execution_count": 27,
          "metadata": {},
          "output_type": "execute_result"
        }
      ],
      "source": [
        "binary_search(a, 10)"
      ]
    },
    {
      "cell_type": "code",
      "execution_count": null,
      "id": "e95298d0",
      "metadata": {
        "id": "e95298d0"
      },
      "outputs": [],
      "source": [
        "def linear_search_count(a, target):\n",
        "    count = 0\n",
        "    \n",
        "    for index, value in enumerate(a):\n",
        "        count += 1\n",
        "        \n",
        "        if value == target:\n",
        "            print(f\"I ran {count} times!\")\n",
        "            return index\n",
        "        \n",
        "    print(f\"I ran {count} times!\")\n",
        "    return -1"
      ]
    },
    {
      "cell_type": "code",
      "execution_count": null,
      "id": "c9da79be",
      "metadata": {
        "id": "c9da79be"
      },
      "outputs": [],
      "source": [
        "def binary_search_count(a, target):\n",
        "    start, end = 0, len(a) - 1\n",
        "    count = 0\n",
        "    \n",
        "    while start <= end:\n",
        "        mid = ( start + end ) // 2\n",
        "        \n",
        "        count += 1\n",
        "        \n",
        "        if target == a[mid]:\n",
        "            print(f\"I ran {count} times!\")\n",
        "            return mid\n",
        "        elif target > a[mid]:\n",
        "            start = mid + 1\n",
        "        else:\n",
        "            end = mid - 1\n",
        "    \n",
        "    print(f\"I ran {count} times!\")\n",
        "    return -1"
      ]
    },
    {
      "cell_type": "code",
      "execution_count": null,
      "id": "5c0f1032",
      "metadata": {
        "id": "5c0f1032"
      },
      "outputs": [],
      "source": [
        "a = [10, 20, 30, 40, 50, 60, 70, 80, 90, 100]"
      ]
    },
    {
      "cell_type": "code",
      "execution_count": null,
      "id": "19c970ee",
      "metadata": {
        "id": "19c970ee",
        "outputId": "944176ae-38c9-40ad-fbfb-b8c507c5df13"
      },
      "outputs": [
        {
          "name": "stdout",
          "output_type": "stream",
          "text": [
            "I ran 8 times!\n"
          ]
        },
        {
          "data": {
            "text/plain": [
              "7"
            ]
          },
          "execution_count": 32,
          "metadata": {},
          "output_type": "execute_result"
        }
      ],
      "source": [
        "linear_search_count(a, 80)"
      ]
    },
    {
      "cell_type": "code",
      "execution_count": null,
      "id": "a4960633",
      "metadata": {
        "id": "a4960633",
        "outputId": "a0bd2e99-4fc5-4911-b4df-0fc6be19850f"
      },
      "outputs": [
        {
          "name": "stdout",
          "output_type": "stream",
          "text": [
            "I ran 2 times!\n"
          ]
        },
        {
          "data": {
            "text/plain": [
              "7"
            ]
          },
          "execution_count": 33,
          "metadata": {},
          "output_type": "execute_result"
        }
      ],
      "source": [
        "binary_search_count(a, 80)"
      ]
    },
    {
      "cell_type": "code",
      "execution_count": null,
      "id": "c11d4002",
      "metadata": {
        "id": "c11d4002"
      },
      "outputs": [],
      "source": [
        "a = list(range(1, 1001))"
      ]
    },
    {
      "cell_type": "code",
      "execution_count": null,
      "id": "2f1e251f",
      "metadata": {
        "id": "2f1e251f",
        "outputId": "2f370947-a1e7-47c4-d30c-3b145468e32c"
      },
      "outputs": [
        {
          "name": "stdout",
          "output_type": "stream",
          "text": [
            "I ran 767 times!\n"
          ]
        },
        {
          "data": {
            "text/plain": [
              "766"
            ]
          },
          "execution_count": 36,
          "metadata": {},
          "output_type": "execute_result"
        }
      ],
      "source": [
        "linear_search_count(a, 767)"
      ]
    },
    {
      "cell_type": "code",
      "execution_count": null,
      "id": "2b4d3760",
      "metadata": {
        "id": "2b4d3760",
        "outputId": "ef447559-3ab5-4c55-ac5a-bcc616f1b423"
      },
      "outputs": [
        {
          "name": "stdout",
          "output_type": "stream",
          "text": [
            "I ran 9 times!\n"
          ]
        },
        {
          "data": {
            "text/plain": [
              "766"
            ]
          },
          "execution_count": 37,
          "metadata": {},
          "output_type": "execute_result"
        }
      ],
      "source": [
        "binary_search_count(a, 767)"
      ]
    },
    {
      "cell_type": "code",
      "execution_count": null,
      "id": "37ae7068",
      "metadata": {
        "id": "37ae7068"
      },
      "outputs": [],
      "source": []
    },
    {
      "cell_type": "markdown",
      "source": [
        "# ASSIGNMENT"
      ],
      "metadata": {
        "id": "9QcuyL8shdpA"
      },
      "id": "9QcuyL8shdpA"
    },
    {
      "cell_type": "markdown",
      "source": [
        "##Q1. space complexity linear search\n",
        "\n",
        "For a linear search, what’s the correct space complexity?"
      ],
      "metadata": {
        "id": "C8IzvOfThgPo"
      },
      "id": "C8IzvOfThgPo"
    },
    {
      "cell_type": "code",
      "source": [
        "#O(1) is correct asnwer since we aren’t using any extra variables or array to store the data, and just comparing the value at each point of the iteration."
      ],
      "metadata": {
        "id": "ZoNHHTUqhghn"
      },
      "id": "ZoNHHTUqhghn",
      "execution_count": null,
      "outputs": []
    },
    {
      "cell_type": "markdown",
      "source": [
        "##Q2. search character in string\n",
        "\n",
        "Complete the linear search code given below, which searches for a given character in a string:\n",
        "\n",
        "string='hello'\n",
        "char='e'\n",
        "for i in range(0,____):                                    #Blank\n",
        "  if string[i] == char:\n",
        "    print('Found the required character at position: ', i) #i is the index of char"
      ],
      "metadata": {
        "id": "PuIuwPdRhs5I"
      },
      "id": "PuIuwPdRhs5I"
    },
    {
      "cell_type": "code",
      "source": [
        "'''\n",
        "len(string) is the correct answer.\n",
        "\n",
        "Explanation:\n",
        "\n",
        "    We need to search whether the charcter is present in the string or not, hence we iterate upto the length of the string for its each character, i.e., string.\n",
        "    Now, if we take len(string) + 1, the last iteration of the loop will check of string[len(string)], which would give out of bounds index error, since our array indexing starts from 0.\n",
        "    len(char) or len(char)+1 are out of consideration as we don’t need to iterate through the char, we need to iterate through the string.\n",
        "\n",
        "Hence, the correct answer is len(string)\n",
        "\n",
        "'''\n",
        "\n",
        "string='hello'\n",
        "char='e'\n",
        "for i in range(0,len(string)):                                    #Blank\n",
        "  if string[i] == char:\n",
        "    print('Found the required character at position: ', i) #i is the index of char"
      ],
      "metadata": {
        "id": "n5fYoG8DhtJI"
      },
      "id": "n5fYoG8DhtJI",
      "execution_count": null,
      "outputs": []
    },
    {
      "cell_type": "markdown",
      "source": [
        "##Q3. Linear search\n",
        "\n",
        "Which of the statements aren’t true for linear search?"
      ],
      "metadata": {
        "id": "Cni0mVtuhtSx"
      },
      "id": "Cni0mVtuhtSx"
    },
    {
      "cell_type": "code",
      "source": [
        "'''\n",
        "\n",
        "    The worst case time complexity is O(log n)\n",
        "    Linear search can be applied to only numerical values.\n",
        "    Above are the correct asnwers (i.e. statements which are false about linear search).\n",
        "\n",
        "Explanation:\n",
        "\n",
        "    In linear search, the order of data is irrelevant since the search will iterate through every element in the array.\n",
        "    The worst case time complexity is O(n), since the iteration is done through the whole length of the array of size n.\n",
        "    The best case would be, when the element is found in the first position itself, so number of comparisions would be one, hence constant time.\n",
        "    Also, linear search isn’t specific to only numerical data, and can be applied to any kind of data.\n",
        "\n",
        "\n",
        "'''\n",
        "\n"
      ],
      "metadata": {
        "id": "iDQ3oFKLhtaU"
      },
      "id": "iDQ3oFKLhtaU",
      "execution_count": null,
      "outputs": []
    },
    {
      "cell_type": "markdown",
      "source": [
        "##Q4. iterations in binary search\n",
        "\n",
        "Given a python list data = [12, 23, 35, 42, 56], and key = 23. After how many iterations in the binary search, the key will be found?"
      ],
      "metadata": {
        "id": "fft2cGvmhtiZ"
      },
      "id": "fft2cGvmhtiZ"
    },
    {
      "cell_type": "code",
      "source": [
        "'''\n",
        "3 is the correct answer.\n",
        "\n",
        "The mid element in binary search is calculated by (low+high)/2.\n",
        "\n",
        "Intially low=0 and high=4.\n",
        "So, mid = 0+4/2 = 4/2 = 2\n",
        "\n",
        "The element at index 2 is 35. First comparison will be between 23 and 35. Since 23 < 35, we look at the left subarray, which is [12, 23]. Update the high value to mid -1.\n",
        "\n",
        "Now low=0 and high=1\n",
        "So, mid = 0+1/2 = 1/2 = 0\n",
        "\n",
        "The element at index 0 is 12. Second comparison will be between 23 and 12. Since 23 > 12, we look at the right sub array, which is [23]. Update the low value to mid+1.\n",
        "\n",
        "Now low=1 and high=1\n",
        "So, mid = 1+1/2 = 2/2 = 1\n",
        "\n",
        "The element at index 1 is 23. Finally the 3rd comparison is between 23 and 23. Since both are equal, we have found the required key in the 3rd comparision.\n",
        "'''"
      ],
      "metadata": {
        "id": "BKlRyZaehtpr"
      },
      "id": "BKlRyZaehtpr",
      "execution_count": null,
      "outputs": []
    },
    {
      "cell_type": "markdown",
      "source": [
        "##Q5. correct for binary search\n",
        "\n",
        "Which of the following options is correct for binary search?\n",
        "\n"
      ],
      "metadata": {
        "id": "3Vi6T8qkhtzV"
      },
      "id": "3Vi6T8qkhtzV"
    },
    {
      "cell_type": "code",
      "source": [
        "'''\n",
        "The correct options are:\n",
        "\n",
        "    The best-case time complexity is O(1)\n",
        "    It is a type of divide and conquer algorithm\n",
        "\n",
        "\n",
        "The best case time complexity is constant time complexity O(1). This is correct\n",
        "When the element is found in the first comparison itself, i.e., the middle element is the required key. Suppose we have a list [10,20,30,40,50] and we are searching for the key 30.\n",
        "The value of mid = (low + high)/2 = (0+4)/2 = 4/2 = 2\n",
        "The value of mid =30 which is same as the key we are looking for. So in one comparison we find the element and hence it take constant time, O(1).\n",
        "\n",
        "The worst case time complexity is O(n2). This is incorrect.\n",
        "The worst case time complexity would be O(logn), since we keep on dividing the array into halves until the target element is found.\n",
        "In the worst case the target will be found in the last division of length 1. Suppose we have a list [10,20,30,40,50] and we are searching for the key 50.\n",
        "In first iteration, mid = 30 and key>mid. So we update low = mid+1 = 3\n",
        "In second iteration, mid = 40 and key>mid. So we again update low = mid+1 = 4.\n",
        "In third iteration, mid = 50 and key==mid. So we get our element in 3rd iteration.\n",
        "\n",
        "Even in the case the element is not in the array, we would take O(logn) that is worst time complexity.\n",
        "\n",
        "The data doesn’t need to be sorted for binary search to work. This is incorrect.\n",
        "The data has to be sorted for binary search algorithm to work.\n",
        "\n",
        "Finally, since we divide the array and search at every step, it’s a divide and conquer algorithm. This is correct.\n",
        "We divide the array in left and right subarrays depending on the value of mid. This saves time by not making us search in the part that will never contain the element we are looking for.\n",
        "'''"
      ],
      "metadata": {
        "id": "o381jzjuht66"
      },
      "id": "o381jzjuht66",
      "execution_count": null,
      "outputs": []
    },
    {
      "cell_type": "markdown",
      "source": [
        "##Q6. binary search using for loop\n",
        "\n",
        "Complete the following code with the correct option, for implementation of binary search using a while loop:"
      ],
      "metadata": {
        "id": "-7U7kjpainY7"
      },
      "id": "-7U7kjpainY7"
    },
    {
      "cell_type": "code",
      "source": [
        "def bin_search(arr, key):\n",
        "  low = 0\n",
        "  high = len(arr) - 1\n",
        "  mid = 0\n",
        "  while low <= high:              #blank1\n",
        "    mid = ((high + low) // 2)           #blank2\n",
        "    if arr[mid] < key:\n",
        "      low = mid + 1\n",
        "    elif arr[mid] > key:\n",
        "      high = mid - 1\n",
        "    else:\n",
        "      return mid\n",
        "  return \"Element not found\"\n",
        "\n",
        "\n",
        "'''\n",
        "low <= high, (high + low) // 2 is correct answer.\n",
        "\n",
        "    In the first blank, we check if the low index hasn't become greater than the high index, since we keep on increasing the lower index and decreasing the upper index in the code.\n",
        "    This makes sure that the array keeps on dividing into subarrays until a certain limit, i.e., either until the element is found, or until both left and right indices become equal.\n",
        "\n",
        "\n",
        "    In the second blank we calculate the middle index value from the values of low and high indices, as the average integer value (since position can't be a float value, we perform floor division) of the low and high index.\n",
        "\n",
        "\n",
        "\n",
        "Option 1: low<high and (high-low)//2 won’t be the right option as it can fail in the cases when the target is at an index where low==high index. For example consider bin_search([1,2,3,4,5],2). And also mid is also not correct.\n",
        "\n",
        "Option 2: low<=high and (low+high)/2 won’t be the right option as it can give float value to mid which will give error.\n",
        "\n",
        "Option 4: low>high wont be the correct option as low is the start index and high is the end index in the array. So this will always be false and the search will not even take place.\n",
        "\n",
        "'''\n",
        "\n"
      ],
      "metadata": {
        "id": "DpZXf5t9inlN"
      },
      "id": "DpZXf5t9inlN",
      "execution_count": null,
      "outputs": []
    },
    {
      "cell_type": "markdown",
      "source": [
        "## Q7. Function's results\n",
        "\n",
        "Which of the options is correct for the following code snippet?"
      ],
      "metadata": {
        "id": "CzbrQ5Rwinyi"
      },
      "id": "CzbrQ5Rwinyi"
    },
    {
      "cell_type": "code",
      "source": [
        "\n",
        "\n",
        "def sentinelSearch(ar,target,n):\n",
        "  last = ar[n-1]\n",
        "  ar[n-1] = target\n",
        "  i = 0\n",
        "  while ar[i]!=target:\n",
        "    i+=1\n",
        "  ar[n-1] = last\n",
        "  if (i<n-1) or target==ar[n-1]:\n",
        "    return i\n",
        "  else:\n",
        "    return -1\n",
        "\n",
        "\n",
        "'''\n",
        "sentinelSearch([1,2,3,4,5],5,5) will return 4, is the correct answer.\n",
        "\n",
        "This is a version of sequential or linear search where maximum of N+2 comparisons will take place.\n",
        "\n",
        "Whereas in normal version of linear search using for loop a maximum of 2N + 1 comparisons will take place, (N comparisons against every element in the search list and N+1 comparisons to test against the end of the loop condition).\n",
        "\n",
        "Suppose we have a list as [1,2,3,4,5].\n",
        "For sequential linear search, the first n+1 comparisons take place for the loop variable to check if we are in the range of list elements. The other n comparisons takes place for each element in list with target element.\n",
        "\n",
        "The code has also linear time complexity therefore it can not outperform binary search which has a time complexity of O(logN).\n",
        "\n",
        "'''\n",
        "\n"
      ],
      "metadata": {
        "id": "IbbUgk0Iin-F"
      },
      "id": "IbbUgk0Iin-F",
      "execution_count": null,
      "outputs": []
    },
    {
      "cell_type": "markdown",
      "source": [
        "##Q8. Correct about the code\n",
        "\n",
        "Choose the options which are correct about the following code snippet which was written to implement recursive binary search.\n",
        "\n"
      ],
      "metadata": {
        "id": "QQpMFasVioG8"
      },
      "id": "QQpMFasVioG8"
    },
    {
      "cell_type": "code",
      "source": [
        "# key -> The value to search in the list\n",
        "# values -> The list of Integers\n",
        "# lower -> The lower index value\n",
        "# upper -> The upper index value\n",
        "def recur_search(key, values, lower, upper):\n",
        "  if (upper < lower):\n",
        "    return False\n",
        "\n",
        "  mid = (lower + upper) // 2\n",
        "\n",
        "  if (key == values[mid]):\n",
        "    return True;\n",
        " \n",
        "  elif (key < values[mid]):\n",
        "    recur_search(key, values, lower, mid - 1)\n",
        "\n",
        "  else: \n",
        "    recur_search(key, values, mid + 1, upper)\n",
        "\n",
        "  return False\n",
        "\n",
        "'''\n",
        "The correct options are:\n",
        "\n",
        "    recur_search(5, [1, 2, 3, 4, 5], 0, 4) will return False\n",
        "    recur_search(3, [1, 2, 3, 4, 5], 0, 4) will return True\n",
        "\n",
        "The function is calling itself correctly but it’s not returning the results, that’s the only problem here that causes it to return False even if the target is present in the list.\n",
        "Therefore we just have to add return before the function calls in elif and else blocks.\n",
        "i.e return recur_search(key, values, lower, mid - 1) in elif block.\n",
        "and return recur_search(key, values, mid + 1, upper) in else block.\n",
        "\n",
        "Even though we are not returning the results in the function recur_search(3, [1, 2, 3, 4, 5], 0, 4) returns true because it directly goes to the base condition that values[mid]==3, where mid=2 therefore it returns True.\n",
        "'''\n",
        "\n"
      ],
      "metadata": {
        "id": "7Mr9pa2jioQE"
      },
      "id": "7Mr9pa2jioQE",
      "execution_count": null,
      "outputs": []
    },
    {
      "cell_type": "markdown",
      "source": [
        "##Q9. Searching using binary search\n",
        "\n",
        "Which of the following options is correct for searching an element using binary search?\n"
      ],
      "metadata": {
        "id": "gHgEHKOeioX6"
      },
      "id": "gHgEHKOeioX6"
    },
    {
      "cell_type": "code",
      "source": [
        "A.  def bin_search(data, low, high, element):\n",
        "      mid = low + (high - low)//2\n",
        "      if low > high:\n",
        "        return -1\n",
        "      elif data[mid] == element:\n",
        "        return mid\n",
        "      elif data[mid] < element:\n",
        "        return bin_search(data, mid + 1, high, element)\n",
        "      else:\n",
        "        return bin_search(data, low, mid - 1, element)\n",
        "\n",
        "B. def bin_search(data, low, high, element):\n",
        "     mid = low + (high + low)//2\n",
        "     if low > high:\n",
        "       return -1\n",
        "     elif data[mid] == element:\n",
        "       return mid\n",
        "     elif data[mid] < element:\n",
        "       return bin_search(data, mid - 1, high, element)\n",
        "     else:\n",
        "       return bin_search(data, low, mid + 1, element)\n",
        "\n",
        "C.  def bin_search(data, low, high, element):\n",
        "      mid = low + (high - low)//2\n",
        "      if low > high:\n",
        "        return -1\n",
        "      elif data[mid] == element:\n",
        "        return mid\n",
        "      elif data[mid] < element:\n",
        "        return bin_search(data, mid, high, element)\n",
        "      else:\n",
        "        return bin_search(data, low, mid - 1, element)\n",
        "D. def bin_search(data, low, high, element):\n",
        "     mid = low + ((high - low)//2) + 1\n",
        "     if low > high:\n",
        "       return -1\n",
        "     elif data[mid] == element:\n",
        "       return mid\n",
        "     elif data[mid] < element:\n",
        "       return bin_search(data, mid, high, element)\n",
        "     else:\n",
        "       return bin_search(data, low, mid - 1, element)\n",
        "\n",
        "\n",
        "'''\n",
        "Option A is correct asnwer.\n",
        "\n",
        "We first calculate the middle index, and check if that is the element at the index we want to find. If not, we call the function again with 2 sub arrays, one till mid-1 and the other starting from mid+1.\n",
        "\n",
        "If middle element is less than the required element, that means the required element must be to the right subarray. In which case we move to the right sub array. Thus option B is wrong since it moves to the left subarray in this case.\n",
        "\n",
        "We can see that in both options C and D, the values of high and low doesn’t change on the recursion call when the middle element is less than the required element, thus that can create an infinite loop.\n",
        "\n",
        "Hence option A is the correct answer.\n",
        "'''\n"
      ],
      "metadata": {
        "id": "vBcgwZEBiogQ"
      },
      "id": "vBcgwZEBiogQ",
      "execution_count": null,
      "outputs": []
    },
    {
      "cell_type": "markdown",
      "source": [
        "##Q10. Equal or smaller elements\n",
        "\n",
        "Given a sorted array A of size N. Find the number of elements that are less than or equal to B.\n",
        "\n",
        "NOTE: Expected Time Complexity O(log N)\n",
        "\n",
        "Input Format:\n",
        "\n",
        "Space separated values for elements in array A.\n",
        "An integer B.\n",
        "\n",
        "Output Format:\n",
        "\n",
        "Return an integer denoting the number of elements which are less than or equal to B.\n",
        "\n",
        "Example Input:\n",
        "\n",
        "Input 1:\n",
        "A = [1, 3, 4, 4, 6]\n",
        "B = 4\n",
        "\n",
        "Input 2:\n",
        "A = [1, 2, 5, 5]\n",
        "B = 3\n",
        "\n",
        "Example Output:\n",
        "\n",
        "Output 1:\n",
        "4\n",
        "\n",
        "Output 2:\n",
        "2\n",
        "\n",
        "Example Explanation:\n",
        "Explanation 1: 4 elements (1, 3, 4, 4) are less than or equal to 4.\n",
        "Explanation 2: 2 elements (1, 2) are less than or equal to 3."
      ],
      "metadata": {
        "id": "sTCa-XG3ionh"
      },
      "id": "sTCa-XG3ionh"
    },
    {
      "cell_type": "code",
      "source": [
        "'''Algorithmic Approach:\n",
        "\n",
        "    Initialize two variables, left as 0 and right as length of A - 1. These will be the indexes for the iteration.\n",
        "    Run a loop with the condition till left <= right and calculate mid as (left + right) / 2\n",
        "    Check if middle element is less than or equal to B\n",
        "    If yes, increment count and left by 1\n",
        "    At least (mid + 1) elements are there whose values are less than or equal to key\n",
        "    If B is smaller, ignore right half (do right = mid-1\n",
        "    Finally return the count\n",
        "'''\n",
        "\n",
        "class Solution:\n",
        "  \"\"\"\n",
        "    @param A : list of integers\n",
        "    @param B : integer\n",
        "    @return an integer\n",
        "  \"\"\"\n",
        "  def solve(self,A, B):\n",
        "    n = len(A)\n",
        "    left = 0\n",
        "    right = n - 1\n",
        "    count = 0\n",
        "\n",
        "    while (left <= right):  \n",
        "      mid = int((right + left) / 2) \n",
        "\n",
        "      # Check if middle element is less than or equal to B\n",
        "      if (A[mid] <= B):  \n",
        "        # At least (mid + 1) elements are there whose values are less than or equal to key \n",
        "        count = mid + 1\n",
        "        left = mid + 1\n",
        "\n",
        "        # If B is smaller, ignore right half \n",
        "      else: \n",
        "        right = mid - 1\n",
        "\n",
        "    return count "
      ],
      "metadata": {
        "id": "Vwii0QXEiov3"
      },
      "id": "Vwii0QXEiov3",
      "execution_count": null,
      "outputs": []
    },
    {
      "cell_type": "markdown",
      "source": [
        "##Q11. Sorted Insert in Position\n",
        "\n",
        "Given a sorted array A of size N and a target value B, return the index of the target in the list (0-based indexing) if the target is found.\n",
        "If not found, return the index where it would be if it were inserted.\n",
        "\n",
        "NOTE: You may assume no duplicates in the array. Users are expected to solve this in O(log(N)) time.\n",
        "\n",
        "Input Format:\n",
        "\n",
        "The first argument is an integer array A of size N.\n",
        "The second argument is an integer B.\n",
        "\n",
        "Output Format:\n",
        "\n",
        "Return an integer denoting the index of the target value.\n",
        "\n",
        "Example Input:\n",
        "\n",
        "Input 1:\n",
        "A = [1, 3, 5, 6]\n",
        "B = 5\n",
        "\n",
        "Input 2:\n",
        "A = [1]\n",
        "B = 2\n",
        "\n",
        "Example Output\n",
        "\n",
        "Output 1:\n",
        "2 \n",
        "Output 2:\n",
        "1\n",
        "\n",
        "Example Explanation:\n",
        "\n",
        "Explanation 1: The target value 5 is present at index 2.\n",
        "Explanation 2: The target value 2 is expected to be present at index 1."
      ],
      "metadata": {
        "id": "mjR9BBYIio3K"
      },
      "id": "mjR9BBYIio3K"
    },
    {
      "cell_type": "code",
      "source": [
        "'''ALGORITHM\n",
        "\n",
        "We can use binary search.\n",
        "\n",
        "We initialise 2 variables, low=0 and high=len(arr)-1\n",
        "\n",
        "Now we perform the binary search until the value of low is less than equal to high.\n",
        "\n",
        "For each iteration we calculate the value of mid by (low+high)/2.\n",
        "Check if the mid element is the target element or not.\n",
        "\n",
        "If target>arr[mid], we perform our binary search again on the right subarray.\n",
        "If target<arr[mid], we perform our binary search again on the left subarray.\n",
        "\n",
        "This continues until we get our element.\n",
        "\n",
        "But if the element is not present in the array, at one instance the value low will exceed high and the loop breaks.\n",
        "The index of low is the same index where the target element would have been inserted.\n",
        "\n",
        "CODE\n",
        "'''\n",
        "\n",
        "class Solution:\n",
        "\n",
        "  \"\"\"\n",
        "  @param A : list of integers\n",
        "  @param B : integer\n",
        "  @return an integer\n",
        "  \"\"\"\n",
        "\n",
        "  def searchInsert(self, A, B):\n",
        "    n = len(A)\n",
        "    low = 0\n",
        "    high = n - 1\n",
        "    while low <= high:\n",
        "      mid = (low + high) / 2\n",
        "      mid = int(mid)\n",
        "\n",
        "      if A[mid] == B:\n",
        "        return mid\n",
        "\n",
        "      elif A[mid] < B:\n",
        "        low = mid + 1\n",
        "\n",
        "      else:\n",
        "        high = mid - 1\n",
        "\n",
        "    return low"
      ],
      "metadata": {
        "id": "6zTV_QXPio-9"
      },
      "id": "6zTV_QXPio-9",
      "execution_count": null,
      "outputs": []
    }
  ],
  "metadata": {
    "kernelspec": {
      "display_name": "Python 3 (ipykernel)",
      "language": "python",
      "name": "python3"
    },
    "language_info": {
      "codemirror_mode": {
        "name": "ipython",
        "version": 3
      },
      "file_extension": ".py",
      "mimetype": "text/x-python",
      "name": "python",
      "nbconvert_exporter": "python",
      "pygments_lexer": "ipython3",
      "version": "3.9.5"
    },
    "colab": {
      "provenance": [],
      "toc_visible": true,
      "include_colab_link": true
    }
  },
  "nbformat": 4,
  "nbformat_minor": 5
}