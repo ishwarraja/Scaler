{
  "nbformat": 4,
  "nbformat_minor": 0,
  "metadata": {
    "colab": {
      "provenance": [],
      "authorship_tag": "ABX9TyOywmXpnUywl49lPxJ57X8e",
      "include_colab_link": true
    },
    "kernelspec": {
      "name": "python3",
      "display_name": "Python 3"
    },
    "language_info": {
      "name": "python"
    }
  },
  "cells": [
    {
      "cell_type": "markdown",
      "metadata": {
        "id": "view-in-github",
        "colab_type": "text"
      },
      "source": [
        "<a href=\"https://colab.research.google.com/github/ishwarraja/Scaler/blob/main/DMLP/Intermediate/046-FunctionalProgramming_2.ipynb\" target=\"_parent\"><img src=\"https://colab.research.google.com/assets/colab-badge.svg\" alt=\"Open In Colab\"/></a>"
      ]
    },
    {
      "cell_type": "code",
      "execution_count": null,
      "metadata": {
        "id": "s7v1HYUSEzu-"
      },
      "outputs": [],
      "source": []
    },
    {
      "cell_type": "markdown",
      "source": [
        "#ASSIGNMENT"
      ],
      "metadata": {
        "id": "Q8lEy1UwE64d"
      }
    },
    {
      "cell_type": "markdown",
      "source": [
        "##Q3"
      ],
      "metadata": {
        "id": "rdXzzzTKGJjM"
      }
    },
    {
      "cell_type": "code",
      "source": [
        "import functools\n",
        "lists = [1,2,3,4]\n",
        "print(functools.reduce(lambda x,y : x if x > y else y ,lists))"
      ],
      "metadata": {
        "colab": {
          "base_uri": "https://localhost:8080/"
        },
        "id": "cMtxcm7eGJza",
        "outputId": "3bacbf3b-9da2-41eb-b498-f4395f183efb"
      },
      "execution_count": null,
      "outputs": [
        {
          "output_type": "stream",
          "name": "stdout",
          "text": [
            "4\n"
          ]
        }
      ]
    },
    {
      "cell_type": "markdown",
      "source": [
        "##Q4"
      ],
      "metadata": {
        "id": "Jq5jXQouFy5_"
      }
    },
    {
      "cell_type": "code",
      "source": [
        "sentence = \"abc cde def\"\n",
        "result = list(map(lambda x: list(x), sentence.split(\" \")))\n",
        "print(result)"
      ],
      "metadata": {
        "colab": {
          "base_uri": "https://localhost:8080/"
        },
        "id": "AJoR1bkkFzQL",
        "outputId": "b86b6018-724e-4a61-ba00-0d39d2095e3c"
      },
      "execution_count": null,
      "outputs": [
        {
          "output_type": "stream",
          "name": "stdout",
          "text": [
            "[['a', 'b', 'c'], ['c', 'd', 'e'], ['d', 'e', 'f']]\n"
          ]
        }
      ]
    },
    {
      "cell_type": "markdown",
      "source": [
        "##Q5"
      ],
      "metadata": {
        "id": "O00VKH8uFfjX"
      }
    },
    {
      "cell_type": "code",
      "source": [
        "list1 = [[1,2,3],[4,5,6],[7,8,9]]\n",
        "list2 = [[9,8,7],[6,5,4],[3,2,1]]\n",
        "ls11,ls12,ls13=list1\n",
        "ls21,ls22,ls23=list2\n",
        "print(list(zip(ls11,ls12,ls13,ls21,ls22,ls23)))"
      ],
      "metadata": {
        "colab": {
          "base_uri": "https://localhost:8080/"
        },
        "id": "STf-NySLFf3P",
        "outputId": "eba7f3f9-733a-4415-d27d-82bbc23d7c6a"
      },
      "execution_count": null,
      "outputs": [
        {
          "output_type": "stream",
          "name": "stdout",
          "text": [
            "[(1, 4, 7, 9, 6, 3), (2, 5, 8, 8, 5, 2), (3, 6, 9, 7, 4, 1)]\n"
          ]
        }
      ]
    },
    {
      "cell_type": "markdown",
      "source": [
        "##Q6"
      ],
      "metadata": {
        "id": "Rect0MiDE-Ts"
      }
    },
    {
      "cell_type": "code",
      "source": [
        "array  = [1, 2, 3, 4, 5]\n",
        "def func1(x):\n",
        "    return x<0\n",
        "result=filter(func1, array)\n",
        "print(list(result))"
      ],
      "metadata": {
        "colab": {
          "base_uri": "https://localhost:8080/"
        },
        "id": "ACpxg-s9E7Iv",
        "outputId": "541fd868-a26f-498b-e91d-932a1f7a1621"
      },
      "execution_count": null,
      "outputs": [
        {
          "output_type": "stream",
          "name": "stdout",
          "text": [
            "[]\n"
          ]
        }
      ]
    },
    {
      "cell_type": "code",
      "source": [
        "list(filter(lambda x:x<0, array))"
      ],
      "metadata": {
        "colab": {
          "base_uri": "https://localhost:8080/"
        },
        "id": "uPYUusbWFD1f",
        "outputId": "9e4838ee-ec71-4e67-a65c-a7be6a592a76"
      },
      "execution_count": null,
      "outputs": [
        {
          "output_type": "execute_result",
          "data": {
            "text/plain": [
              "[]"
            ]
          },
          "metadata": {},
          "execution_count": 2
        }
      ]
    },
    {
      "cell_type": "code",
      "source": [
        "list(filter(lambda x, y: x<0,array))"
      ],
      "metadata": {
        "colab": {
          "base_uri": "https://localhost:8080/",
          "height": 169
        },
        "id": "mrkum_ehFLbW",
        "outputId": "4f282a0f-11f1-4a62-e7ff-978710bc01d9"
      },
      "execution_count": null,
      "outputs": [
        {
          "output_type": "error",
          "ename": "TypeError",
          "evalue": "ignored",
          "traceback": [
            "\u001b[0;31m---------------------------------------------------------------------------\u001b[0m",
            "\u001b[0;31mTypeError\u001b[0m                                 Traceback (most recent call last)",
            "\u001b[0;32m<ipython-input-3-e0e9006546f6>\u001b[0m in \u001b[0;36m<cell line: 1>\u001b[0;34m()\u001b[0m\n\u001b[0;32m----> 1\u001b[0;31m \u001b[0mlist\u001b[0m\u001b[0;34m(\u001b[0m\u001b[0mfilter\u001b[0m\u001b[0;34m(\u001b[0m\u001b[0;32mlambda\u001b[0m \u001b[0mx\u001b[0m\u001b[0;34m,\u001b[0m \u001b[0my\u001b[0m\u001b[0;34m:\u001b[0m \u001b[0mx\u001b[0m\u001b[0;34m<\u001b[0m\u001b[0;36m0\u001b[0m\u001b[0;34m,\u001b[0m\u001b[0marray\u001b[0m\u001b[0;34m)\u001b[0m\u001b[0;34m)\u001b[0m\u001b[0;34m\u001b[0m\u001b[0;34m\u001b[0m\u001b[0m\n\u001b[0m",
            "\u001b[0;31mTypeError\u001b[0m: <lambda>() missing 1 required positional argument: 'y'"
          ]
        }
      ]
    },
    {
      "cell_type": "code",
      "source": [
        "list(filter(reduce x<0, array))"
      ],
      "metadata": {
        "colab": {
          "base_uri": "https://localhost:8080/",
          "height": 133
        },
        "id": "yg2Cc4KqFN5p",
        "outputId": "8f5806b4-dabd-4fa7-f508-3d55bb584785"
      },
      "execution_count": null,
      "outputs": [
        {
          "output_type": "error",
          "ename": "SyntaxError",
          "evalue": "ignored",
          "traceback": [
            "\u001b[0;36m  File \u001b[0;32m\"<ipython-input-4-71a5b1aab1ef>\"\u001b[0;36m, line \u001b[0;32m1\u001b[0m\n\u001b[0;31m    list(filter(reduce x<0, array))\u001b[0m\n\u001b[0m                       ^\u001b[0m\n\u001b[0;31mSyntaxError\u001b[0m\u001b[0;31m:\u001b[0m invalid syntax\n"
          ]
        }
      ]
    },
    {
      "cell_type": "code",
      "source": [
        "list(reduce(x: x<0, array))"
      ],
      "metadata": {
        "colab": {
          "base_uri": "https://localhost:8080/",
          "height": 133
        },
        "id": "HD6wTU8yFQX_",
        "outputId": "f96a4d6b-9a32-45dd-c5f9-9f5330affb76"
      },
      "execution_count": null,
      "outputs": [
        {
          "output_type": "error",
          "ename": "SyntaxError",
          "evalue": "ignored",
          "traceback": [
            "\u001b[0;36m  File \u001b[0;32m\"<ipython-input-5-0034d46309bd>\"\u001b[0;36m, line \u001b[0;32m1\u001b[0m\n\u001b[0;31m    list(reduce(x: x<0, array))\u001b[0m\n\u001b[0m                 ^\u001b[0m\n\u001b[0;31mSyntaxError\u001b[0m\u001b[0;31m:\u001b[0m invalid syntax\n"
          ]
        }
      ]
    },
    {
      "cell_type": "code",
      "source": [
        "from functools import reduce\n",
        "array = {1, 2, 3}\n",
        "result = lambda array: reduce(lambda P, x: P + [subset | {x} for subset in P], array , [set()]) \n",
        "\n",
        "print(result(array)) \n"
      ],
      "metadata": {
        "id": "bBbU62juFTN4",
        "colab": {
          "base_uri": "https://localhost:8080/"
        },
        "outputId": "36a65bc2-a007-4187-f4ea-138e73c679e0"
      },
      "execution_count": 1,
      "outputs": [
        {
          "output_type": "stream",
          "name": "stdout",
          "text": [
            "[set(), {1}, {2}, {1, 2}, {3}, {1, 3}, {2, 3}, {1, 2, 3}]\n"
          ]
        }
      ]
    },
    {
      "cell_type": "code",
      "source": [
        "array = [ [1, [ [ 2 ] ], [ [ [ 3 ] ] ], [ [ 4 ], 5 ] ]]\n",
        "result = lambda x: sum(map(result, x), [ ] ) if isinstance(x, list) else [x]\n",
        "print(result(array))"
      ],
      "metadata": {
        "colab": {
          "base_uri": "https://localhost:8080/"
        },
        "id": "1ss6r_jHf32L",
        "outputId": "16978145-00d3-470d-d7f1-5aa91deb9d47"
      },
      "execution_count": 2,
      "outputs": [
        {
          "output_type": "stream",
          "name": "stdout",
          "text": [
            "[1, 2, 3, 4, 5]\n"
          ]
        }
      ]
    },
    {
      "cell_type": "code",
      "source": [
        "string = '''\n",
        "We spent several years building our own database engine, Amazon Aurora, a fully-managed MySQL and PostgreSQL-compatible service with the same or better durability and availability as\n",
        "the commercial engines, but at one-tenth of the cost. We were not surprised when this worked.\n",
        "'''\n",
        "result = lambda key, val: key[ key.find(val) -18 : key.find(val) +18 ] if val in key else -1\n",
        "\n",
        "print(result(string, 'SQL'))"
      ],
      "metadata": {
        "colab": {
          "base_uri": "https://localhost:8080/"
        },
        "id": "Mgw3Mgm0gEUm",
        "outputId": "2b9e976b-e3f0-4b21-e207-aa1b60734eff"
      },
      "execution_count": 3,
      "outputs": [
        {
          "output_type": "stream",
          "name": "stdout",
          "text": [
            "a fully-managed MySQL and PostgreSQL\n"
          ]
        }
      ]
    },
    {
      "cell_type": "code",
      "source": [
        "class student: \n",
        "    def __init__(self): \n",
        "        '''The student class is initialized'''\n",
        "\n",
        "    def print_student(self): \n",
        "        '''Returns the student description'''\n",
        "        print('student description') \n",
        "\n",
        "help(student)"
      ],
      "metadata": {
        "colab": {
          "base_uri": "https://localhost:8080/"
        },
        "id": "Up2ZGH03gJnR",
        "outputId": "e1713cd8-b274-40ed-bc56-280349e27f2f"
      },
      "execution_count": 1,
      "outputs": [
        {
          "output_type": "stream",
          "name": "stdout",
          "text": [
            "Help on class student in module __main__:\n",
            "\n",
            "class student(builtins.object)\n",
            " |  Methods defined here:\n",
            " |  \n",
            " |  __init__(self)\n",
            " |      The student class is initialized\n",
            " |  \n",
            " |  print_student(self)\n",
            " |      Returns the student description\n",
            " |  \n",
            " |  ----------------------------------------------------------------------\n",
            " |  Data descriptors defined here:\n",
            " |  \n",
            " |  __dict__\n",
            " |      dictionary for instance variables (if defined)\n",
            " |  \n",
            " |  __weakref__\n",
            " |      list of weak references to the object (if defined)\n",
            "\n"
          ]
        }
      ]
    },
    {
      "cell_type": "code",
      "source": [
        "class Parent:\n",
        "    def test(self):\n",
        "        print(\"test of parent called\", end=\", \")\n",
        "class Child1(Parent):\n",
        "    def test(self):\n",
        "        print(\"test of child1 called\", end=\", \")\n",
        "        super().test()\n",
        "class Child2(Parent):\n",
        "    def test(self):\n",
        "        print(\"test of child2 called\", end=\", \")\n",
        "        super().test()\n",
        "class Brother(Child1,Child2):\n",
        "    def test2(self):\n",
        "        print(\"test of Brother called\", end=\", \" )\n",
        "\n",
        "obj= Brother()\n",
        "obj.test()"
      ],
      "metadata": {
        "colab": {
          "base_uri": "https://localhost:8080/"
        },
        "id": "6KyNU45nczKq",
        "outputId": "4386765a-3735-4170-d841-770383f574fa"
      },
      "execution_count": 2,
      "outputs": [
        {
          "output_type": "stream",
          "name": "stdout",
          "text": [
            "test of child1 called, test of child2 called, test of parent called, "
          ]
        }
      ]
    },
    {
      "cell_type": "code",
      "source": [
        "class Demo:\n",
        "    def __new__(self):\n",
        "        self.__init__(self)\n",
        "        print(\"Demo's __new__() invoked\")\n",
        "\n",
        "    def __init__(self):\n",
        "        print(\"Demo's __init__() invoked\")\n",
        "\n",
        "class Derived_Demo(Demo):\n",
        "    def __new__(self):\n",
        "        print(\"Derived_Demo's __new__() invoked\")\n",
        "    \n",
        "    def __init__(self):\n",
        "        print(\"Derived_Demo's __init__() invoked\")\n",
        "\n",
        "def main():\n",
        "    obj1 = Derived_Demo()\n",
        "    obj2 = Demo()\n",
        "\n",
        "main()"
      ],
      "metadata": {
        "colab": {
          "base_uri": "https://localhost:8080/"
        },
        "id": "3tLtKOAQdNxB",
        "outputId": "110be54b-ea2f-4376-add9-1f9f654ca489"
      },
      "execution_count": 3,
      "outputs": [
        {
          "output_type": "stream",
          "name": "stdout",
          "text": [
            "Derived_Demo's __new__() invoked\n",
            "Demo's __init__() invoked\n",
            "Demo's __new__() invoked\n"
          ]
        }
      ]
    },
    {
      "cell_type": "code",
      "source": [],
      "metadata": {
        "id": "wnHbuskldanj"
      },
      "execution_count": null,
      "outputs": []
    }
  ]
}