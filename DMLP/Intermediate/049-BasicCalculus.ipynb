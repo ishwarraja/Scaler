{
  "nbformat": 4,
  "nbformat_minor": 0,
  "metadata": {
    "colab": {
      "provenance": [],
      "authorship_tag": "ABX9TyOsZytkso8ujpqxJ0ay/omr",
      "include_colab_link": true
    },
    "kernelspec": {
      "name": "python3",
      "display_name": "Python 3"
    },
    "language_info": {
      "name": "python"
    }
  },
  "cells": [
    {
      "cell_type": "markdown",
      "metadata": {
        "id": "view-in-github",
        "colab_type": "text"
      },
      "source": [
        "<a href=\"https://colab.research.google.com/github/ishwarraja/Scaler/blob/main/DMLP/Intermediate/049-BasicCalculus.ipynb\" target=\"_parent\"><img src=\"https://colab.research.google.com/assets/colab-badge.svg\" alt=\"Open In Colab\"/></a>"
      ]
    },
    {
      "cell_type": "code",
      "execution_count": 6,
      "metadata": {
        "colab": {
          "base_uri": "https://localhost:8080/"
        },
        "id": "qC6BtscRe_dQ",
        "outputId": "34d84a55-4791-42ea-fa6f-187e122f1f59"
      },
      "outputs": [
        {
          "output_type": "stream",
          "name": "stdout",
          "text": [
            "123.02\n"
          ]
        }
      ],
      "source": [
        "import math\n",
        "def roundup(a, digits):\n",
        "       n = 10**-digits\n",
        "       return round(math.ceil(a/n)*n,digits)\n",
        "print(roundup(123.01247,2))"
      ]
    },
    {
      "cell_type": "code",
      "source": [
        "class student: \n",
        "    def __init__(self): \n",
        "        '''The student class is initialized'''\n",
        "\n",
        "    def print_student(self): \n",
        "        '''Returns the student description'''\n",
        "        print('student description') \n",
        "\n",
        "help(student)"
      ],
      "metadata": {
        "colab": {
          "base_uri": "https://localhost:8080/"
        },
        "id": "0YmkkuDVfPsG",
        "outputId": "69c42b7c-da3a-4b75-f37e-41dfdb9734d1"
      },
      "execution_count": 7,
      "outputs": [
        {
          "output_type": "stream",
          "name": "stdout",
          "text": [
            "Help on class student in module __main__:\n",
            "\n",
            "class student(builtins.object)\n",
            " |  Methods defined here:\n",
            " |  \n",
            " |  __init__(self)\n",
            " |      The student class is initialized\n",
            " |  \n",
            " |  print_student(self)\n",
            " |      Returns the student description\n",
            " |  \n",
            " |  ----------------------------------------------------------------------\n",
            " |  Data descriptors defined here:\n",
            " |  \n",
            " |  __dict__\n",
            " |      dictionary for instance variables (if defined)\n",
            " |  \n",
            " |  __weakref__\n",
            " |      list of weak references to the object (if defined)\n",
            "\n"
          ]
        }
      ]
    },
    {
      "cell_type": "code",
      "source": [],
      "metadata": {
        "id": "lJZw1VxYk-0H"
      },
      "execution_count": null,
      "outputs": []
    }
  ]
}