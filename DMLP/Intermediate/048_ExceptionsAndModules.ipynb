{
  "cells": [
    {
      "cell_type": "markdown",
      "metadata": {
        "id": "view-in-github",
        "colab_type": "text"
      },
      "source": [
        "<a href=\"https://colab.research.google.com/github/ishwarraja/Scaler/blob/main/DMLP/Intermediate/048_ExceptionsAndModules.ipynb\" target=\"_parent\"><img src=\"https://colab.research.google.com/assets/colab-badge.svg\" alt=\"Open In Colab\"/></a>"
      ]
    },
    {
      "cell_type": "code",
      "execution_count": null,
      "metadata": {
        "id": "68232a30",
        "outputId": "8c176114-191a-47d5-ba50-56d046d256e2"
      },
      "outputs": [
        {
          "ename": "ZeroDivisionError",
          "evalue": "division by zero",
          "output_type": "error",
          "traceback": [
            "\u001b[0;31m---------------------------------------------------------------------------\u001b[0m",
            "\u001b[0;31mZeroDivisionError\u001b[0m                         Traceback (most recent call last)",
            "\u001b[0;32m/var/folders/nn/c52y0d3j0gq59dpsswchkt2r0000gn/T/ipykernel_2936/1455669704.py\u001b[0m in \u001b[0;36m<module>\u001b[0;34m\u001b[0m\n\u001b[0;32m----> 1\u001b[0;31m \u001b[0;36m1\u001b[0m \u001b[0;34m/\u001b[0m \u001b[0;36m0\u001b[0m\u001b[0;34m\u001b[0m\u001b[0;34m\u001b[0m\u001b[0m\n\u001b[0m",
            "\u001b[0;31mZeroDivisionError\u001b[0m: division by zero"
          ]
        }
      ],
      "source": [
        "1 / 0"
      ],
      "id": "68232a30"
    },
    {
      "cell_type": "code",
      "execution_count": null,
      "metadata": {
        "id": "eacf657b",
        "outputId": "6bf2744b-650e-4d82-d449-ae7ca54e337e"
      },
      "outputs": [
        {
          "ename": "NameError",
          "evalue": "name 'var' is not defined",
          "output_type": "error",
          "traceback": [
            "\u001b[0;31m---------------------------------------------------------------------------\u001b[0m",
            "\u001b[0;31mNameError\u001b[0m                                 Traceback (most recent call last)",
            "\u001b[0;32m/var/folders/nn/c52y0d3j0gq59dpsswchkt2r0000gn/T/ipykernel_2936/2734745701.py\u001b[0m in \u001b[0;36m<module>\u001b[0;34m\u001b[0m\n\u001b[0;32m----> 1\u001b[0;31m \u001b[0mprint\u001b[0m\u001b[0;34m(\u001b[0m\u001b[0mvar\u001b[0m\u001b[0;34m)\u001b[0m\u001b[0;34m\u001b[0m\u001b[0;34m\u001b[0m\u001b[0m\n\u001b[0m",
            "\u001b[0;31mNameError\u001b[0m: name 'var' is not defined"
          ]
        }
      ],
      "source": [
        "print(var)"
      ],
      "id": "eacf657b"
    },
    {
      "cell_type": "code",
      "execution_count": null,
      "metadata": {
        "id": "00b16f36",
        "outputId": "27cc77ca-35ce-404a-8543-0d5b289a95f3"
      },
      "outputs": [
        {
          "ename": "IndentationError",
          "evalue": "expected an indented block (3614531987.py, line 1)",
          "output_type": "error",
          "traceback": [
            "\u001b[0;36m  File \u001b[0;32m\"/var/folders/nn/c52y0d3j0gq59dpsswchkt2r0000gn/T/ipykernel_2936/3614531987.py\"\u001b[0;36m, line \u001b[0;32m1\u001b[0m\n\u001b[0;31m    if 573:\u001b[0m\n\u001b[0m           ^\u001b[0m\n\u001b[0;31mIndentationError\u001b[0m\u001b[0;31m:\u001b[0m expected an indented block\n"
          ]
        }
      ],
      "source": [
        "if 573:"
      ],
      "id": "00b16f36"
    },
    {
      "cell_type": "code",
      "execution_count": null,
      "metadata": {
        "id": "7f12b58b",
        "outputId": "55e256d3-83f7-4ab7-87a1-b912e4c112ce"
      },
      "outputs": [
        {
          "ename": "AttributeError",
          "evalue": "'str' object has no attribute 'sort'",
          "output_type": "error",
          "traceback": [
            "\u001b[0;31m---------------------------------------------------------------------------\u001b[0m",
            "\u001b[0;31mAttributeError\u001b[0m                            Traceback (most recent call last)",
            "\u001b[0;32m/var/folders/nn/c52y0d3j0gq59dpsswchkt2r0000gn/T/ipykernel_2936/2691597495.py\u001b[0m in \u001b[0;36m<module>\u001b[0;34m\u001b[0m\n\u001b[0;32m----> 1\u001b[0;31m \u001b[0;34m\"random\"\u001b[0m\u001b[0;34m.\u001b[0m\u001b[0msort\u001b[0m\u001b[0;34m(\u001b[0m\u001b[0;34m)\u001b[0m\u001b[0;34m\u001b[0m\u001b[0;34m\u001b[0m\u001b[0m\n\u001b[0m",
            "\u001b[0;31mAttributeError\u001b[0m: 'str' object has no attribute 'sort'"
          ]
        }
      ],
      "source": [
        "\"random\".sort()"
      ],
      "id": "7f12b58b"
    },
    {
      "cell_type": "code",
      "execution_count": null,
      "metadata": {
        "id": "02407003",
        "outputId": "82aebeff-3576-476f-f19f-247d91d32aad"
      },
      "outputs": [
        {
          "name": "stdout",
          "output_type": "stream",
          "text": [
            "ArithmeticError\n",
            "AssertionError\n",
            "AttributeError\n",
            "BlockingIOError\n",
            "BrokenPipeError\n",
            "BufferError\n",
            "ChildProcessError\n",
            "ConnectionAbortedError\n",
            "ConnectionError\n",
            "ConnectionRefusedError\n",
            "ConnectionResetError\n",
            "EOFError\n",
            "EnvironmentError\n",
            "FileExistsError\n",
            "FileNotFoundError\n",
            "FloatingPointError\n",
            "IOError\n",
            "ImportError\n",
            "IndentationError\n",
            "IndexError\n",
            "InterruptedError\n",
            "IsADirectoryError\n",
            "KeyError\n",
            "LookupError\n",
            "MemoryError\n",
            "ModuleNotFoundError\n",
            "NameError\n",
            "NotADirectoryError\n",
            "NotImplementedError\n",
            "OSError\n",
            "OverflowError\n",
            "PermissionError\n",
            "ProcessLookupError\n",
            "RecursionError\n",
            "ReferenceError\n",
            "RuntimeError\n",
            "SyntaxError\n",
            "SystemError\n",
            "TabError\n",
            "TimeoutError\n",
            "TypeError\n",
            "UnboundLocalError\n",
            "UnicodeDecodeError\n",
            "UnicodeEncodeError\n",
            "UnicodeError\n",
            "UnicodeTranslateError\n",
            "ValueError\n",
            "ZeroDivisionError\n"
          ]
        }
      ],
      "source": [
        "for i in dir(__builtins__):\n",
        "    if \"Error\" in i:\n",
        "        print(i)"
      ],
      "id": "02407003"
    },
    {
      "cell_type": "code",
      "execution_count": null,
      "metadata": {
        "id": "8eb5b222",
        "outputId": "cd1b6ba4-9305-493f-eac7-3a76633539d5"
      },
      "outputs": [
        {
          "name": "stdout",
          "output_type": "stream",
          "text": [
            "Hello2!\n"
          ]
        },
        {
          "ename": "ZeroDivisionError",
          "evalue": "division by zero",
          "output_type": "error",
          "traceback": [
            "\u001b[0;31m---------------------------------------------------------------------------\u001b[0m",
            "\u001b[0;31mZeroDivisionError\u001b[0m                         Traceback (most recent call last)",
            "\u001b[0;32m/var/folders/nn/c52y0d3j0gq59dpsswchkt2r0000gn/T/ipykernel_2936/2394280922.py\u001b[0m in \u001b[0;36m<module>\u001b[0;34m\u001b[0m\n\u001b[1;32m      4\u001b[0m \u001b[0;34m\u001b[0m\u001b[0m\n\u001b[1;32m      5\u001b[0m \u001b[0mprint\u001b[0m\u001b[0;34m(\u001b[0m\u001b[0;34m\"Hello2!\"\u001b[0m\u001b[0;34m)\u001b[0m\u001b[0;34m\u001b[0m\u001b[0;34m\u001b[0m\u001b[0m\n\u001b[0;32m----> 6\u001b[0;31m \u001b[0msomething\u001b[0m\u001b[0;34m(\u001b[0m\u001b[0;34m)\u001b[0m\u001b[0;34m\u001b[0m\u001b[0;34m\u001b[0m\u001b[0m\n\u001b[0m",
            "\u001b[0;32m/var/folders/nn/c52y0d3j0gq59dpsswchkt2r0000gn/T/ipykernel_2936/2394280922.py\u001b[0m in \u001b[0;36msomething\u001b[0;34m()\u001b[0m\n\u001b[1;32m      1\u001b[0m \u001b[0;32mdef\u001b[0m \u001b[0msomething\u001b[0m\u001b[0;34m(\u001b[0m\u001b[0;34m)\u001b[0m\u001b[0;34m:\u001b[0m\u001b[0;34m\u001b[0m\u001b[0;34m\u001b[0m\u001b[0m\n\u001b[0;32m----> 2\u001b[0;31m     \u001b[0;36m1\u001b[0m \u001b[0;34m/\u001b[0m \u001b[0;36m0\u001b[0m\u001b[0;34m\u001b[0m\u001b[0;34m\u001b[0m\u001b[0m\n\u001b[0m\u001b[1;32m      3\u001b[0m     \u001b[0mprint\u001b[0m\u001b[0;34m(\u001b[0m\u001b[0;34m\"Hello!\"\u001b[0m\u001b[0;34m)\u001b[0m\u001b[0;34m\u001b[0m\u001b[0;34m\u001b[0m\u001b[0m\n\u001b[1;32m      4\u001b[0m \u001b[0;34m\u001b[0m\u001b[0m\n\u001b[1;32m      5\u001b[0m \u001b[0mprint\u001b[0m\u001b[0;34m(\u001b[0m\u001b[0;34m\"Hello2!\"\u001b[0m\u001b[0;34m)\u001b[0m\u001b[0;34m\u001b[0m\u001b[0;34m\u001b[0m\u001b[0m\n",
            "\u001b[0;31mZeroDivisionError\u001b[0m: division by zero"
          ]
        }
      ],
      "source": [
        "def something():\n",
        "    1 / 0\n",
        "    print(\"Hello!\")\n",
        "    \n",
        "print(\"Hello2!\")\n",
        "something()"
      ],
      "id": "8eb5b222"
    },
    {
      "cell_type": "code",
      "execution_count": null,
      "metadata": {
        "id": "f2dd3d66"
      },
      "outputs": [],
      "source": [
        "def weird_function(a):\n",
        "    return a / 0"
      ],
      "id": "f2dd3d66"
    },
    {
      "cell_type": "code",
      "execution_count": null,
      "metadata": {
        "id": "79112a16"
      },
      "outputs": [],
      "source": [
        "# Error Handling"
      ],
      "id": "79112a16"
    },
    {
      "cell_type": "code",
      "execution_count": null,
      "metadata": {
        "id": "6983486f",
        "outputId": "15259420-4b55-4222-aa79-7b82fdf9a56d"
      },
      "outputs": [
        {
          "name": "stdout",
          "output_type": "stream",
          "text": [
            "An error has occured! You can't divide by zero.\n"
          ]
        }
      ],
      "source": [
        "try: # standard code\n",
        "    weird_function(5)\n",
        "except: # this runs if an error occurs in the try block\n",
        "    print(\"An error has occured! You can't divide by zero.\")"
      ],
      "id": "6983486f"
    },
    {
      "cell_type": "code",
      "execution_count": null,
      "metadata": {
        "id": "29d907f9",
        "outputId": "ea1ffa9d-0f88-4dc8-f5e8-a3606497a354"
      },
      "outputs": [
        {
          "name": "stdout",
          "output_type": "stream",
          "text": [
            "Current element - 2\n",
            "Result = 2.5\n",
            "--------------------\n",
            "Current element - 0\n",
            "Error - division by zero!\n",
            "--------------------\n",
            "Current element - hello\n",
            "Error - invalid literal for int() with base 10: 'hello'!\n",
            "--------------------\n",
            "Current element - None\n",
            "Error - int() argument must be a string, a bytes-like object or a number, not 'NoneType'!\n",
            "--------------------\n"
          ]
        }
      ],
      "source": [
        "l = [2, 0, \"hello\", None]\n",
        "\n",
        "for element in l:\n",
        "    try:\n",
        "        print(f\"Current element - {element}\")\n",
        "        result = 5 / int(element)\n",
        "        print(f\"Result = {result}\")\n",
        "    except Exception as e:\n",
        "        print(f\"Error - {e}!\")\n",
        "        \n",
        "    print(\"-\"*20)"
      ],
      "id": "29d907f9"
    },
    {
      "cell_type": "code",
      "execution_count": null,
      "metadata": {
        "id": "f1101c0a",
        "outputId": "a41c4b51-1dfe-40fc-f5be-42aaa3dd684c"
      },
      "outputs": [
        {
          "name": "stdout",
          "output_type": "stream",
          "text": [
            "Current element - 2\n",
            "Result = 2.5\n",
            "--------------------\n",
            "Current element - 0\n",
            "ARE YOU CRAZY?\n",
            "--------------------\n",
            "Current element - hello\n",
            "WHAT?\n",
            "--------------------\n",
            "Current element - None\n",
            "Error - int() argument must be a string, a bytes-like object or a number, not 'NoneType'!\n",
            "--------------------\n"
          ]
        }
      ],
      "source": [
        "l = [2, 0, \"hello\", None]\n",
        "\n",
        "for element in l:\n",
        "    try:\n",
        "        print(f\"Current element - {element}\")\n",
        "        result = 5 / int(element)\n",
        "        print(f\"Result = {result}\")\n",
        "    except ZeroDivisionError as z: # Only for ZeroDivisionError\n",
        "        print(\"ARE YOU CRAZY?\")\n",
        "    except ValueError as v: # Only for ValueError\n",
        "        print(\"WHAT?\")\n",
        "    except Exception as e: # All the rest of the errors\n",
        "        print(f\"Error - {e}!\")\n",
        "        \n",
        "    print(\"-\"*20)"
      ],
      "id": "f1101c0a"
    },
    {
      "cell_type": "code",
      "execution_count": null,
      "metadata": {
        "id": "893ae2af",
        "outputId": "373c6f16-f5ae-4383-a90b-d3f74b320be2"
      },
      "outputs": [
        {
          "name": "stdout",
          "output_type": "stream",
          "text": [
            "TRY\n",
            "ELSE\n"
          ]
        }
      ],
      "source": [
        "try:\n",
        "    print(\"TRY\")\n",
        "    # 1 / 0\n",
        "except:\n",
        "    print(\"EXCEPT - If exception occurs!\")\n",
        "else:\n",
        "    print(\"ELSE - If exception does not occur!\")"
      ],
      "id": "893ae2af"
    },
    {
      "cell_type": "code",
      "execution_count": null,
      "metadata": {
        "id": "baefa452",
        "outputId": "cfa79462-e155-4fa4-df47-c79a759422da"
      },
      "outputs": [
        {
          "name": "stdout",
          "output_type": "stream",
          "text": [
            "TRY\n",
            "EXCEPT - If exception occurs!\n",
            "FINALLY - Runs no matter what!\n",
            "WHY NOT THIS?\n"
          ]
        }
      ],
      "source": [
        "# HOMEWORK -> Read about else and finally\n",
        "\n",
        "try:\n",
        "    print(\"TRY\")\n",
        "    1 / 0\n",
        "except:\n",
        "    print(\"EXCEPT - If exception occurs!\")\n",
        "else:\n",
        "    print(\"ELSE - If exception does not occur!\")\n",
        "finally:\n",
        "    print(\"FINALLY - Runs no matter what!\")\n",
        "    \n",
        "print(\"WHY NOT THIS?\")"
      ],
      "id": "baefa452"
    },
    {
      "cell_type": "code",
      "execution_count": null,
      "metadata": {
        "id": "e498bd47"
      },
      "outputs": [],
      "source": [
        "import math\n",
        "# Using import, you can load another python file i.e. module into your current file"
      ],
      "id": "e498bd47"
    },
    {
      "cell_type": "code",
      "execution_count": null,
      "metadata": {
        "id": "4c497c5d",
        "outputId": "9780a33c-d9dc-429e-c27e-6712e126dc7c"
      },
      "outputs": [
        {
          "data": {
            "text/plain": [
              "3.1622776601683795"
            ]
          },
          "execution_count": 28,
          "metadata": {},
          "output_type": "execute_result"
        }
      ],
      "source": [
        "math.sqrt(10)"
      ],
      "id": "4c497c5d"
    },
    {
      "cell_type": "code",
      "execution_count": null,
      "metadata": {
        "id": "2fd1de48",
        "outputId": "25aa4b31-dbf6-40d3-9850-5dfac6145ef4"
      },
      "outputs": [
        {
          "data": {
            "text/plain": [
              "10"
            ]
          },
          "execution_count": 29,
          "metadata": {},
          "output_type": "execute_result"
        }
      ],
      "source": [
        "math.floor(10.5)"
      ],
      "id": "2fd1de48"
    },
    {
      "cell_type": "code",
      "execution_count": null,
      "metadata": {
        "id": "6c7302fb",
        "outputId": "2043a5ef-5acd-4f96-da92-b0612dc1e006"
      },
      "outputs": [
        {
          "data": {
            "text/plain": [
              "120"
            ]
          },
          "execution_count": 31,
          "metadata": {},
          "output_type": "execute_result"
        }
      ],
      "source": [
        "math.factorial(5)"
      ],
      "id": "6c7302fb"
    },
    {
      "cell_type": "code",
      "execution_count": null,
      "metadata": {
        "id": "cd6d49e1"
      },
      "outputs": [],
      "source": [
        "# help(math)"
      ],
      "id": "cd6d49e1"
    },
    {
      "cell_type": "code",
      "execution_count": null,
      "metadata": {
        "id": "c8ee5aeb"
      },
      "outputs": [],
      "source": [
        "import random"
      ],
      "id": "c8ee5aeb"
    },
    {
      "cell_type": "code",
      "execution_count": null,
      "metadata": {
        "id": "353bbb85",
        "outputId": "2189a915-43d5-4116-9e07-558d34b6e1ee"
      },
      "outputs": [
        {
          "data": {
            "text/plain": [
              "86"
            ]
          },
          "execution_count": 40,
          "metadata": {},
          "output_type": "execute_result"
        }
      ],
      "source": [
        "random.randint(0, 100)"
      ],
      "id": "353bbb85"
    },
    {
      "cell_type": "code",
      "execution_count": null,
      "metadata": {
        "id": "5b134483"
      },
      "outputs": [],
      "source": [
        "import math"
      ],
      "id": "5b134483"
    },
    {
      "cell_type": "code",
      "execution_count": null,
      "metadata": {
        "id": "7e4ae523"
      },
      "outputs": [],
      "source": [
        "from math import *"
      ],
      "id": "7e4ae523"
    },
    {
      "cell_type": "code",
      "execution_count": null,
      "metadata": {
        "id": "fff50ead",
        "outputId": "e9954a18-4b2d-4f75-a065-52878a23bfa8"
      },
      "outputs": [
        {
          "data": {
            "text/plain": [
              "120"
            ]
          },
          "execution_count": 43,
          "metadata": {},
          "output_type": "execute_result"
        }
      ],
      "source": [
        "factorial(5)"
      ],
      "id": "fff50ead"
    },
    {
      "cell_type": "code",
      "execution_count": null,
      "metadata": {
        "id": "df2e3068",
        "outputId": "c2ff23b8-da8f-4561-f1c4-15efda1dd09a"
      },
      "outputs": [
        {
          "data": {
            "text/plain": [
              "3.1622776601683795"
            ]
          },
          "execution_count": 44,
          "metadata": {},
          "output_type": "execute_result"
        }
      ],
      "source": [
        "sqrt(10)"
      ],
      "id": "df2e3068"
    },
    {
      "cell_type": "code",
      "execution_count": null,
      "metadata": {
        "id": "77a4911b"
      },
      "outputs": [],
      "source": [
        "import math as m"
      ],
      "id": "77a4911b"
    },
    {
      "cell_type": "code",
      "execution_count": null,
      "metadata": {
        "id": "d1ccd658",
        "outputId": "a4978548-86c2-4965-abdb-d56a8ab6106e"
      },
      "outputs": [
        {
          "data": {
            "text/plain": [
              "120"
            ]
          },
          "execution_count": 46,
          "metadata": {},
          "output_type": "execute_result"
        }
      ],
      "source": [
        "m.factorial(5)"
      ],
      "id": "d1ccd658"
    },
    {
      "cell_type": "code",
      "execution_count": null,
      "metadata": {
        "id": "f54caaab",
        "outputId": "9fcc1dc0-72ed-4373-d912-e3b64870965f"
      },
      "outputs": [
        {
          "data": {
            "text/plain": [
              "3.1622776601683795"
            ]
          },
          "execution_count": 47,
          "metadata": {},
          "output_type": "execute_result"
        }
      ],
      "source": [
        "m.sqrt(10)"
      ],
      "id": "f54caaab"
    },
    {
      "cell_type": "code",
      "execution_count": null,
      "metadata": {
        "id": "d3cd6321"
      },
      "outputs": [],
      "source": [
        "from functools import reduce"
      ],
      "id": "d3cd6321"
    },
    {
      "cell_type": "code",
      "execution_count": null,
      "metadata": {
        "id": "8c5948d0"
      },
      "outputs": [],
      "source": [
        "from math import factorial, sqrt, floor"
      ],
      "id": "8c5948d0"
    },
    {
      "cell_type": "code",
      "execution_count": null,
      "metadata": {
        "id": "e5c4660f"
      },
      "outputs": [],
      "source": [
        "from math import factorial as f, sqrt as s"
      ],
      "id": "e5c4660f"
    },
    {
      "cell_type": "code",
      "execution_count": null,
      "metadata": {
        "id": "30b498a4"
      },
      "outputs": [],
      "source": [
        "# HOMEWORK!\n",
        "# Create a custom sorting module!\n",
        "# Bubble, Selection, Insertion and Merge.\n",
        "# Each sort should have the key functionality."
      ],
      "id": "30b498a4"
    },
    {
      "cell_type": "code",
      "execution_count": null,
      "metadata": {
        "colab": {
          "background_save": true,
          "base_uri": "https://localhost:8080/",
          "height": 187
        },
        "id": "0b2229f2",
        "outputId": "9b3c6a97-96eb-40d3-fb47-92a0f50ae5c1"
      },
      "outputs": [
        {
          "name": "stdout",
          "output_type": "stream",
          "text": [
            "120\n"
          ]
        }
      ],
      "source": [
        " from math import factorial\n",
        " print(math.factorial(5)) "
      ],
      "id": "0b2229f2"
    },
    {
      "cell_type": "code",
      "source": [
        "!ls"
      ],
      "metadata": {
        "colab": {
          "base_uri": "https://localhost:8080/"
        },
        "id": "h4tSqvyMztUJ",
        "outputId": "eed7d0ae-f0d1-46e1-a064-d8adc3980c45"
      },
      "id": "h4tSqvyMztUJ",
      "execution_count": 1,
      "outputs": [
        {
          "output_type": "stream",
          "name": "stdout",
          "text": [
            "sample_data  temp.txt\n"
          ]
        }
      ]
    },
    {
      "cell_type": "code",
      "source": [
        "f = open('temp.txt')\n",
        "f.read()"
      ],
      "metadata": {
        "colab": {
          "base_uri": "https://localhost:8080/",
          "height": 35
        },
        "id": "WPZCluY5z3w9",
        "outputId": "d68277c2-4349-4c97-db4c-e81180b53993"
      },
      "id": "WPZCluY5z3w9",
      "execution_count": 12,
      "outputs": [
        {
          "output_type": "execute_result",
          "data": {
            "text/plain": [
              "'Readme\\nHow to write text files in Python\\n'"
            ],
            "application/vnd.google.colaboratory.intrinsic+json": {
              "type": "string"
            }
          },
          "metadata": {},
          "execution_count": 12
        }
      ]
    },
    {
      "cell_type": "code",
      "source": [
        "lines = ['Readme', 'How to write text files in Python']\n",
        "with open('temp.txt', 'w') as f:\n",
        "    for line in lines:\n",
        "        f.write(line)\n",
        "        f.write('\\n')"
      ],
      "metadata": {
        "id": "L-GL-Guh0PrD"
      },
      "id": "L-GL-Guh0PrD",
      "execution_count": 6,
      "outputs": []
    },
    {
      "cell_type": "code",
      "source": [
        "res = random.seed(10)\n",
        "print(res)"
      ],
      "metadata": {
        "colab": {
          "base_uri": "https://localhost:8080/"
        },
        "id": "Q4U4Q2PK15kS",
        "outputId": "573cc0f3-0407-4d22-8f3f-f24cdfe0e221"
      },
      "id": "Q4U4Q2PK15kS",
      "execution_count": 8,
      "outputs": [
        {
          "output_type": "stream",
          "name": "stdout",
          "text": [
            "None\n"
          ]
        }
      ]
    },
    {
      "cell_type": "code",
      "source": [
        "import random\n"
      ],
      "metadata": {
        "id": "eArN8f0-0qg8"
      },
      "id": "eArN8f0-0qg8",
      "execution_count": 2,
      "outputs": []
    },
    {
      "cell_type": "code",
      "source": [
        "array = list(range(100))\n",
        "print(array)"
      ],
      "metadata": {
        "colab": {
          "base_uri": "https://localhost:8080/"
        },
        "id": "NzdroD2_0tD1",
        "outputId": "4e180710-9f3f-4ff6-84aa-bc9b90604d0b"
      },
      "id": "NzdroD2_0tD1",
      "execution_count": 9,
      "outputs": [
        {
          "output_type": "stream",
          "name": "stdout",
          "text": [
            "[0, 1, 2, 3, 4, 5, 6, 7, 8, 9, 10, 11, 12, 13, 14, 15, 16, 17, 18, 19, 20, 21, 22, 23, 24, 25, 26, 27, 28, 29, 30, 31, 32, 33, 34, 35, 36, 37, 38, 39, 40, 41, 42, 43, 44, 45, 46, 47, 48, 49, 50, 51, 52, 53, 54, 55, 56, 57, 58, 59, 60, 61, 62, 63, 64, 65, 66, 67, 68, 69, 70, 71, 72, 73, 74, 75, 76, 77, 78, 79, 80, 81, 82, 83, 84, 85, 86, 87, 88, 89, 90, 91, 92, 93, 94, 95, 96, 97, 98, 99]\n"
          ]
        }
      ]
    },
    {
      "cell_type": "code",
      "source": [],
      "metadata": {
        "id": "T-Fvt4c07KIA"
      },
      "id": "T-Fvt4c07KIA",
      "execution_count": null,
      "outputs": []
    }
  ],
  "metadata": {
    "colab": {
      "provenance": [],
      "include_colab_link": true
    },
    "kernelspec": {
      "display_name": "Python 3 (ipykernel)",
      "language": "python",
      "name": "python3"
    },
    "language_info": {
      "codemirror_mode": {
        "name": "ipython",
        "version": 3
      },
      "file_extension": ".py",
      "mimetype": "text/x-python",
      "name": "python",
      "nbconvert_exporter": "python",
      "pygments_lexer": "ipython3",
      "version": "3.9.5"
    }
  },
  "nbformat": 4,
  "nbformat_minor": 5
}