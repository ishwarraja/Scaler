{
  "cells": [
    {
      "cell_type": "code",
      "execution_count": null,
      "id": "d08ed31b",
      "metadata": {
        "id": "d08ed31b"
      },
      "outputs": [],
      "source": [
        "def factorial(n):\n",
        "    # Base condition\n",
        "    if n == 0 or n == 1:\n",
        "        return 1\n",
        "    \n",
        "    # Recursive Call\n",
        "    result = n * factorial(n - 1)\n",
        "    \n",
        "    return result"
      ]
    },
    {
      "cell_type": "code",
      "execution_count": null,
      "id": "5510397e",
      "metadata": {
        "id": "5510397e"
      },
      "outputs": [],
      "source": [
        "def random_sum(a, b):\n",
        "    return a + b"
      ]
    },
    {
      "cell_type": "code",
      "execution_count": null,
      "id": "fcfa8bef",
      "metadata": {
        "id": "fcfa8bef"
      },
      "outputs": [],
      "source": [
        "result = random_sum(4, 5)"
      ]
    },
    {
      "cell_type": "code",
      "execution_count": null,
      "id": "8ab94c34",
      "metadata": {
        "id": "8ab94c34",
        "outputId": "be9abd5c-e75d-44e2-982d-a0bf8673f242"
      },
      "outputs": [
        {
          "data": {
            "text/plain": [
              "9"
            ]
          },
          "execution_count": 4,
          "metadata": {},
          "output_type": "execute_result"
        }
      ],
      "source": [
        "result"
      ]
    },
    {
      "cell_type": "code",
      "execution_count": null,
      "id": "350376bd",
      "metadata": {
        "id": "350376bd"
      },
      "outputs": [],
      "source": [
        "def factorial(n):\n",
        "    if n < 0 or type(n) != int:\n",
        "        return \"NOT DEFINED\"\n",
        "    \n",
        "    # Base condition\n",
        "    if n == 0 or n == 1:\n",
        "        return 1\n",
        "    \n",
        "    # Recursive Call\n",
        "    result = n * factorial(n - 1)\n",
        "    \n",
        "    return result"
      ]
    },
    {
      "cell_type": "code",
      "execution_count": null,
      "id": "d085210b",
      "metadata": {
        "id": "d085210b",
        "outputId": "3c7f003f-4d1b-4874-887a-9a15e0e86cdd"
      },
      "outputs": [
        {
          "data": {
            "text/plain": [
              "24"
            ]
          },
          "execution_count": 8,
          "metadata": {},
          "output_type": "execute_result"
        }
      ],
      "source": [
        "factorial(4)"
      ]
    },
    {
      "cell_type": "code",
      "execution_count": null,
      "id": "8634c5b5",
      "metadata": {
        "id": "8634c5b5"
      },
      "outputs": [],
      "source": [
        "for i in range(10):\n",
        "    if i == 0:\n",
        "        break"
      ]
    },
    {
      "cell_type": "code",
      "execution_count": null,
      "id": "2d21d1ac",
      "metadata": {
        "id": "2d21d1ac"
      },
      "outputs": [],
      "source": [
        "def fibonacci_number(n):\n",
        "    if n < 0:\n",
        "        return \"NOT DEFINED\"\n",
        "    elif n == 0:\n",
        "        return 0\n",
        "    elif n == 1 or n == 2:\n",
        "        return 1\n",
        "    else:\n",
        "        return fibonacci_number(n - 1) + fibonacci_number(n - 2)"
      ]
    },
    {
      "cell_type": "code",
      "execution_count": null,
      "id": "bf1655b5",
      "metadata": {
        "id": "bf1655b5",
        "outputId": "c26e291e-2db0-47c4-bbae-f9a8a8cb2a62"
      },
      "outputs": [
        {
          "data": {
            "text/plain": [
              "8"
            ]
          },
          "execution_count": 11,
          "metadata": {},
          "output_type": "execute_result"
        }
      ],
      "source": [
        "fibonacci_number(6)"
      ]
    },
    {
      "cell_type": "code",
      "execution_count": null,
      "id": "8fd22d70",
      "metadata": {
        "id": "8fd22d70"
      },
      "outputs": [],
      "source": []
    }
  ],
  "metadata": {
    "kernelspec": {
      "display_name": "Python 3 (ipykernel)",
      "language": "python",
      "name": "python3"
    },
    "language_info": {
      "codemirror_mode": {
        "name": "ipython",
        "version": 3
      },
      "file_extension": ".py",
      "mimetype": "text/x-python",
      "name": "python",
      "nbconvert_exporter": "python",
      "pygments_lexer": "ipython3",
      "version": "3.9.5"
    },
    "colab": {
      "provenance": []
    }
  },
  "nbformat": 4,
  "nbformat_minor": 5
}