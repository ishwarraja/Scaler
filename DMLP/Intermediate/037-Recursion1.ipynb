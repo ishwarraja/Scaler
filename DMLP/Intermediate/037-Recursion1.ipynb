{
  "cells": [
    {
      "cell_type": "markdown",
      "metadata": {
        "id": "view-in-github",
        "colab_type": "text"
      },
      "source": [
        "<a href=\"https://colab.research.google.com/github/ishwarraja/Scaler/blob/main/DMLP/Intermediate/037-Recursion1.ipynb\" target=\"_parent\"><img src=\"https://colab.research.google.com/assets/colab-badge.svg\" alt=\"Open In Colab\"/></a>"
      ]
    },
    {
      "cell_type": "code",
      "execution_count": null,
      "id": "d08ed31b",
      "metadata": {
        "id": "d08ed31b"
      },
      "outputs": [],
      "source": [
        "def factorial(n):\n",
        "    # Base condition\n",
        "    if n == 0 or n == 1:\n",
        "        return 1\n",
        "    \n",
        "    # Recursive Call\n",
        "    result = n * factorial(n - 1)\n",
        "    \n",
        "    return result"
      ]
    },
    {
      "cell_type": "code",
      "execution_count": null,
      "id": "5510397e",
      "metadata": {
        "id": "5510397e"
      },
      "outputs": [],
      "source": [
        "def random_sum(a, b):\n",
        "    return a + b"
      ]
    },
    {
      "cell_type": "code",
      "execution_count": null,
      "id": "fcfa8bef",
      "metadata": {
        "id": "fcfa8bef"
      },
      "outputs": [],
      "source": [
        "result = random_sum(4, 5)"
      ]
    },
    {
      "cell_type": "code",
      "execution_count": null,
      "id": "8ab94c34",
      "metadata": {
        "id": "8ab94c34",
        "outputId": "be9abd5c-e75d-44e2-982d-a0bf8673f242"
      },
      "outputs": [
        {
          "data": {
            "text/plain": [
              "9"
            ]
          },
          "execution_count": 4,
          "metadata": {},
          "output_type": "execute_result"
        }
      ],
      "source": [
        "result"
      ]
    },
    {
      "cell_type": "code",
      "execution_count": null,
      "id": "350376bd",
      "metadata": {
        "id": "350376bd"
      },
      "outputs": [],
      "source": [
        "def factorial(n):\n",
        "    if n < 0 or type(n) != int:\n",
        "        return \"NOT DEFINED\"\n",
        "    \n",
        "    # Base condition\n",
        "    if n == 0 or n == 1:\n",
        "        return 1\n",
        "    \n",
        "    # Recursive Call\n",
        "    result = n * factorial(n - 1)\n",
        "    \n",
        "    return result"
      ]
    },
    {
      "cell_type": "code",
      "execution_count": null,
      "id": "d085210b",
      "metadata": {
        "id": "d085210b",
        "outputId": "3c7f003f-4d1b-4874-887a-9a15e0e86cdd"
      },
      "outputs": [
        {
          "data": {
            "text/plain": [
              "24"
            ]
          },
          "execution_count": 8,
          "metadata": {},
          "output_type": "execute_result"
        }
      ],
      "source": [
        "factorial(4)"
      ]
    },
    {
      "cell_type": "code",
      "execution_count": null,
      "id": "8634c5b5",
      "metadata": {
        "id": "8634c5b5"
      },
      "outputs": [],
      "source": [
        "for i in range(10):\n",
        "    if i == 0:\n",
        "        break"
      ]
    },
    {
      "cell_type": "code",
      "execution_count": null,
      "id": "2d21d1ac",
      "metadata": {
        "id": "2d21d1ac"
      },
      "outputs": [],
      "source": [
        "def fibonacci_number(n):\n",
        "    if n < 0:\n",
        "        return \"NOT DEFINED\"\n",
        "    elif n == 0:\n",
        "        return 0\n",
        "    elif n == 1 or n == 2:\n",
        "        return 1\n",
        "    else:\n",
        "        return fibonacci_number(n - 1) + fibonacci_number(n - 2)"
      ]
    },
    {
      "cell_type": "code",
      "execution_count": null,
      "id": "bf1655b5",
      "metadata": {
        "id": "bf1655b5",
        "outputId": "c26e291e-2db0-47c4-bbae-f9a8a8cb2a62"
      },
      "outputs": [
        {
          "data": {
            "text/plain": [
              "8"
            ]
          },
          "execution_count": 11,
          "metadata": {},
          "output_type": "execute_result"
        }
      ],
      "source": [
        "fibonacci_number(6)"
      ]
    },
    {
      "cell_type": "code",
      "execution_count": null,
      "id": "8fd22d70",
      "metadata": {
        "id": "8fd22d70"
      },
      "outputs": [],
      "source": []
    },
    {
      "cell_type": "markdown",
      "source": [
        "#ASSIGNMENT"
      ],
      "metadata": {
        "id": "WdbMJ13Vq6Sb"
      },
      "id": "WdbMJ13Vq6Sb"
    },
    {
      "cell_type": "markdown",
      "source": [
        "##Q1. Factorial by Recursion\n",
        "\n",
        "Fill the line of code for calculating the factorial of a number.\n",
        "\n"
      ],
      "metadata": {
        "id": "ywdY2NUZq8nM"
      },
      "id": "ywdY2NUZq8nM"
    },
    {
      "cell_type": "code",
      "source": [
        "def fact(num):\n",
        "    if num == 0: \n",
        "        return 1\n",
        "    else:\n",
        "        return ____\n",
        "\n",
        "Correct Answer: num*fact(num-1)\n",
        "\n",
        "For calculating the factorial of any number n, we have the following recurrence relation\n",
        "n! = n.(n-1)!\n",
        "n!=1 if n=0 or n=1\n",
        "\n",
        "So for any number n, if the num is not equal to zero, we go to the else part. We then multiply that number with the value returned when we call the same function on the number-1.\n",
        "\n",
        "For example, we have n=3\n",
        "3 is not equal to 0. So we return 3.fact(2).\n",
        "\n",
        "For fact(2)\n",
        "2 is not equal to 0. So we return 2.fact(1).\n",
        "\n",
        "For fact(1)\n",
        "1 is not equal to 0. So we return 1.fact(0).\n",
        "\n",
        "For fact(0)\n",
        "0 is equal to 0. So we return 1.\n",
        "\n",
        "So from fact(1) we get 1.1=1\n",
        "From fact(2) we get 2.1 = 2\n",
        "From fact(3) we get 3.2 = 6 which is our answer.\n",
        "\n",
        "Hence, num*fact(num-1) is returned in the end in the recursive factorial function.\n",
        "\n"
      ],
      "metadata": {
        "id": "mI9_ln0Cq6b6"
      },
      "id": "mI9_ln0Cq6b6",
      "execution_count": null,
      "outputs": []
    },
    {
      "cell_type": "markdown",
      "source": [
        "##Q2. What will it return?\n",
        "\n",
        "What will fun(4,8) return if fun() is defined as the following:\n",
        "\n"
      ],
      "metadata": {
        "id": "Yj9UwFtkq6n9"
      },
      "id": "Yj9UwFtkq6n9"
    },
    {
      "cell_type": "code",
      "source": [
        "The correct answer is: 12\n",
        "\n",
        "Explanation:\n",
        "\n",
        "    This function keeps making recursive calls to itself.\n",
        "    In each recursive call the value of i becomes i-1, and the value of j becomes j+1.\n",
        "    This continues till the value of i becomes 0, and then the function returns j.\n",
        "        fun(4,8) calls fun(4-1,8+1)\n",
        "        fun(3,9) calls fun(3-1,9+1)\n",
        "        fun(2,10) calls fun(2-1,10+1)\n",
        "        fun(1,11) calls fun(1-1,11+1)\n",
        "        fun(0,12) is the base case so it returns j=12\n",
        "    This 12 is returned by all the previous function calls. Hence, our answer becomes 12.\n",
        "\n",
        "\n"
      ],
      "metadata": {
        "id": "6UYSPomNq6v2"
      },
      "id": "6UYSPomNq6v2",
      "execution_count": null,
      "outputs": []
    },
    {
      "cell_type": "markdown",
      "source": [
        "##Q3. How many times will it print?\n",
        "\n",
        "According to the following code snippet, how many times will the print(\"*\") statement be executed if we call the function count_freq(256, 4)?"
      ],
      "metadata": {
        "id": "gfH4WI_Oq64s"
      },
      "id": "gfH4WI_Oq64s"
    },
    {
      "cell_type": "code",
      "source": [
        "\n",
        "def count_freq(x, y):\n",
        "  if(y!=1):\n",
        "    if(x!=1):\n",
        "      print(\"*\")\n",
        "      count_freq(x/2,y)\n",
        "    else:\n",
        "      print(\"#\")\n",
        "      y=y-1\n",
        "      count_freq(x,y)\n",
        "\n",
        "Correct Answer: 8\n",
        "\n",
        "The print(“*”) will be executed every time after halving(x/2) the value of x, until x=1.\n",
        "From 256 to 1, we are continuously halving the value of x.\n",
        "So we divide 256 by 2, then 128 by 2…so on\n",
        "\n",
        "Let us assume the value of x is halved k times until we get x=1.\n",
        "\n",
        "We can get the equation as,\n",
        "256/2k =1\n",
        "256 = 2k\n",
        "\n",
        "For k = 8 this equation satisfies. So, the print(“*”) will be exeucted 8 times.\n",
        "\n",
        "After x=1, y is updated 3 times and print(“#”) is executed three times."
      ],
      "metadata": {
        "id": "DfAy_9wsq7BD"
      },
      "id": "DfAy_9wsq7BD",
      "execution_count": null,
      "outputs": []
    },
    {
      "cell_type": "markdown",
      "source": [
        "##Q4. Occurrence of \"hi\"\n",
        "\n",
        "Problem Description:\n",
        "\n",
        "Write a recursive function that returns the number of occurrences of \"hi\" in the string passed as a parameter to the function.\n",
        "\n",
        "Input Format:\n",
        "\n",
        "The function has two arguments count which is 0 by default and represents the count of \"hi\" in s.\n",
        "The second argument to this function is s.\n",
        "\n",
        "Output Format:\n",
        "\n",
        "Return the count of 'hi' occurrences in the string in integer format for each testcase.\n",
        "\n",
        "Sample Input:\n",
        "\n",
        "'hishisha'\n",
        "\n",
        "Sample Output:\n",
        "\n",
        "2\n",
        "\n",
        "Sample explanation:\n",
        "\n",
        "'hi' occurs at index [0,1] and [3,4] in the string 'hishisha' therefore 2 is returned.\n"
      ],
      "metadata": {
        "id": "rHd6iVS3q7JH"
      },
      "id": "rHd6iVS3q7JH"
    },
    {
      "cell_type": "code",
      "source": [
        "'''\n",
        "ALGORITHM\n",
        "\n",
        "    In the base case, if the string's length is less than 2, \"hi\" cannot be present, hence return the count.\n",
        "    Otherwise, check if the first character is h and the second character is i if yes increment the count.\n",
        "    Call the recursion with the sliced string by 1 character.\n",
        "\n",
        "CODE\n",
        "'''\n",
        "def countHi(s, count=0):\n",
        "    if len(s)<2:\n",
        "        return count\n",
        "    if s[0] == 'h' and s[1]=='i':\n",
        "        count+=1\n",
        "    return countHi(s[1:] , count)"
      ],
      "metadata": {
        "id": "PuZu5uOiq7R-"
      },
      "id": "PuZu5uOiq7R-",
      "execution_count": null,
      "outputs": []
    },
    {
      "cell_type": "markdown",
      "source": [
        "##Q5. Recursions' I & J\n",
        "\n",
        "Predict the output of the following code snippet:-"
      ],
      "metadata": {
        "id": "d2rGXH4sq7a2"
      },
      "id": "d2rGXH4sq7a2"
    },
    {
      "cell_type": "code",
      "source": [
        "def fun(i,j):\n",
        "  if(i==0):\n",
        "    return j\n",
        "  else:\n",
        "    return fun(j,i-5)\n",
        "\n",
        "print(fun(15,8))\n",
        "\n",
        "'''\n",
        "Correct Answer: -7\n",
        "\n",
        "This function keeps making recursive calls to itself. In each recursive call the value of first parameter becomes same as second paramerer, and the value of second paramater becomes value of first parameter-5. This continues till the value of i becomes 0, and then returns j.\n",
        "\n",
        "The call stack look something like:-\n",
        "fun(15,8) –> i !=0 —> call fun(8,15-5)\n",
        "fun(8,10) –> i !=0 —> call fun(10,8-5)\n",
        "fun(10,3) –> i !=0 —> call fun(3,10-5)\n",
        "fun(3,5) –> i !=0 —> call fun(5,-2)\n",
        "fun(5,-2) –> i !=0 —> call fun(-2,0)\n",
        "fun(-2,0) –> i !=0 —> call fun(0,-7)\n",
        "fun(0,-7) –> i ==0 —> return j=-7\n",
        "\n",
        "Which returns -7.\n",
        "\n",
        "'''"
      ],
      "metadata": {
        "id": "zET1iXZbq7jN"
      },
      "id": "zET1iXZbq7jN",
      "execution_count": null,
      "outputs": []
    },
    {
      "cell_type": "markdown",
      "source": [],
      "metadata": {
        "id": "4JEEg9hDq7qf"
      },
      "id": "4JEEg9hDq7qf"
    },
    {
      "cell_type": "code",
      "source": [],
      "metadata": {
        "id": "omk1Ytg6q7yk"
      },
      "id": "omk1Ytg6q7yk",
      "execution_count": null,
      "outputs": []
    }
  ],
  "metadata": {
    "kernelspec": {
      "display_name": "Python 3 (ipykernel)",
      "language": "python",
      "name": "python3"
    },
    "language_info": {
      "codemirror_mode": {
        "name": "ipython",
        "version": 3
      },
      "file_extension": ".py",
      "mimetype": "text/x-python",
      "name": "python",
      "nbconvert_exporter": "python",
      "pygments_lexer": "ipython3",
      "version": "3.9.5"
    },
    "colab": {
      "provenance": [],
      "toc_visible": true,
      "include_colab_link": true
    }
  },
  "nbformat": 4,
  "nbformat_minor": 5
}