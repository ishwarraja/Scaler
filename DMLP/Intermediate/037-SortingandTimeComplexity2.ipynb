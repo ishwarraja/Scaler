{
  "cells": [
    {
      "cell_type": "markdown",
      "metadata": {
        "id": "view-in-github",
        "colab_type": "text"
      },
      "source": [
        "<a href=\"https://colab.research.google.com/github/ishwarraja/Scaler/blob/main/DMLP/Intermediate/037-SortingandTimeComplexity2.ipynb\" target=\"_parent\"><img src=\"https://colab.research.google.com/assets/colab-badge.svg\" alt=\"Open In Colab\"/></a>"
      ]
    },
    {
      "cell_type": "code",
      "execution_count": null,
      "id": "2c595dc3",
      "metadata": {
        "id": "2c595dc3"
      },
      "outputs": [],
      "source": [
        "def bubble_sort_optimized(a):\n",
        "    for i in range(len(a)):\n",
        "        is_sorted = True\n",
        "        \n",
        "        for j in range(len(a) - i - 1):\n",
        "            if a[j] > a[j+1]:\n",
        "                is_sorted = False\n",
        "                a[j], a[j+1] = a[j+1], a[j]\n",
        "        \n",
        "        if is_sorted:\n",
        "            break\n",
        "                \n",
        "    return a"
      ]
    },
    {
      "cell_type": "code",
      "execution_count": null,
      "id": "82c73a2f",
      "metadata": {
        "id": "82c73a2f"
      },
      "outputs": [],
      "source": [
        "def bubble_sort_visual_unoptimized(a):\n",
        "    print(a)\n",
        "    count = 0\n",
        "    \n",
        "    for i in range(len(a)):\n",
        "        for j in range(len(a) - i - 1):\n",
        "            count += 1\n",
        "            \n",
        "            if a[j] > a[j+1]:\n",
        "                a[j], a[j+1] = a[j+1], a[j]\n",
        "                \n",
        "            print(f\"\\t{a}\")\n",
        "        \n",
        "        print(\"-\"*25)\n",
        "        print(a)\n",
        "        \n",
        "    print(f\"I ran {count} times!\")\n",
        "                \n",
        "    return a"
      ]
    },
    {
      "cell_type": "code",
      "execution_count": null,
      "id": "e3801a61",
      "metadata": {
        "id": "e3801a61"
      },
      "outputs": [],
      "source": [
        "def bubble_sort_visual_optimized(a):\n",
        "    print(a)\n",
        "    count = 0\n",
        "    \n",
        "    for i in range(len(a)): # 1\n",
        "        is_sorted = True\n",
        "        \n",
        "        for j in range(len(a) - i - 1): # n\n",
        "            count += 1\n",
        "            \n",
        "            if a[j] > a[j+1]:\n",
        "                is_sorted = False\n",
        "                a[j], a[j+1] = a[j+1], a[j]\n",
        "                \n",
        "            print(f\"\\t{a}\")\n",
        "        \n",
        "        print(\"-\"*25)\n",
        "        print(a)\n",
        "        \n",
        "        if is_sorted:\n",
        "            break\n",
        "        \n",
        "    print(f\"I ran {count} times!\")\n",
        "                \n",
        "    return a"
      ]
    },
    {
      "cell_type": "code",
      "execution_count": null,
      "id": "667723da",
      "metadata": {
        "id": "667723da",
        "outputId": "447a1e23-ae60-4855-c6b6-15f529d96078"
      },
      "outputs": [
        {
          "name": "stdout",
          "output_type": "stream",
          "text": [
            "[1, 2, 3, 4, 5]\n",
            "\t[1, 2, 3, 4, 5]\n",
            "\t[1, 2, 3, 4, 5]\n",
            "\t[1, 2, 3, 4, 5]\n",
            "\t[1, 2, 3, 4, 5]\n",
            "-------------------------\n",
            "[1, 2, 3, 4, 5]\n",
            "I ran 4 times!\n"
          ]
        },
        {
          "data": {
            "text/plain": [
              "[1, 2, 3, 4, 5]"
            ]
          },
          "execution_count": 10,
          "metadata": {},
          "output_type": "execute_result"
        }
      ],
      "source": [
        "bubble_sort_visual_optimized([1,2,3,4,5])"
      ]
    },
    {
      "cell_type": "code",
      "execution_count": null,
      "id": "a14c1e00",
      "metadata": {
        "id": "a14c1e00",
        "outputId": "101e8851-c696-4ab6-e40d-ac580920af37"
      },
      "outputs": [
        {
          "name": "stdout",
          "output_type": "stream",
          "text": [
            "[1, 2, 3, 4, 5]\n",
            "\t[1, 2, 3, 4, 5]\n",
            "\t[1, 2, 3, 4, 5]\n",
            "\t[1, 2, 3, 4, 5]\n",
            "\t[1, 2, 3, 4, 5]\n",
            "-------------------------\n",
            "[1, 2, 3, 4, 5]\n",
            "\t[1, 2, 3, 4, 5]\n",
            "\t[1, 2, 3, 4, 5]\n",
            "\t[1, 2, 3, 4, 5]\n",
            "-------------------------\n",
            "[1, 2, 3, 4, 5]\n",
            "\t[1, 2, 3, 4, 5]\n",
            "\t[1, 2, 3, 4, 5]\n",
            "-------------------------\n",
            "[1, 2, 3, 4, 5]\n",
            "\t[1, 2, 3, 4, 5]\n",
            "-------------------------\n",
            "[1, 2, 3, 4, 5]\n",
            "-------------------------\n",
            "[1, 2, 3, 4, 5]\n",
            "I ran 10 times!\n"
          ]
        },
        {
          "data": {
            "text/plain": [
              "[1, 2, 3, 4, 5]"
            ]
          },
          "execution_count": 11,
          "metadata": {},
          "output_type": "execute_result"
        }
      ],
      "source": [
        "bubble_sort_visual_unoptimized([1,2,3,4,5])"
      ]
    },
    {
      "cell_type": "code",
      "execution_count": null,
      "id": "17d86e1f",
      "metadata": {
        "id": "17d86e1f",
        "outputId": "a0845990-78f3-4845-a5e2-7d9f99efe3a1"
      },
      "outputs": [
        {
          "data": {
            "text/plain": [
              "'\\nO() -> Worst case time complexity\\nOmega() -> Best case time complexity\\n\\nUnoptimized Bubble Sort - \\nO(n^2)\\nOmega(n^2)\\n\\nOptimized Bubble Sort - \\nO(n^2)\\nOmega(n)\\n'"
            ]
          },
          "execution_count": 12,
          "metadata": {},
          "output_type": "execute_result"
        }
      ],
      "source": [
        "'''\n",
        "O() -> Worst case time complexity\n",
        "Omega() -> Best case time complexity\n",
        "\n",
        "Unoptimized Bubble Sort - \n",
        "O(n^2)\n",
        "Omega(n^2)\n",
        "\n",
        "Optimized Bubble Sort - \n",
        "O(n^2)\n",
        "Omega(n)\n",
        "'''"
      ]
    },
    {
      "cell_type": "code",
      "execution_count": null,
      "id": "52400952",
      "metadata": {
        "id": "52400952"
      },
      "outputs": [],
      "source": [
        "def selection_sort(a):\n",
        "    for i in range(len(a) - 1):\n",
        "        current_min = i\n",
        "        \n",
        "        for j in range(i + 1, len(a)):\n",
        "            if a[current_min] > a[j]:\n",
        "                current_min = j\n",
        "        \n",
        "        if current_min != i:\n",
        "            a[current_min], a[i] = a[i], a[current_min]\n",
        "            \n",
        "    return a"
      ]
    },
    {
      "cell_type": "code",
      "execution_count": null,
      "id": "67f67d89",
      "metadata": {
        "id": "67f67d89",
        "outputId": "8160ed23-d539-4c7c-b89c-585a0be5e149"
      },
      "outputs": [
        {
          "data": {
            "text/plain": [
              "[1, 2, 3, 4, 5, 8, 9]"
            ]
          },
          "execution_count": 15,
          "metadata": {},
          "output_type": "execute_result"
        }
      ],
      "source": [
        "selection_sort([2,8,5,3,9,4,1])"
      ]
    },
    {
      "cell_type": "code",
      "execution_count": null,
      "id": "e216c11a",
      "metadata": {
        "id": "e216c11a"
      },
      "outputs": [],
      "source": [
        "def selection_sort_visual(a):\n",
        "    print(f\"{a}\")\n",
        "    \n",
        "    for i in range(len(a) - 1):\n",
        "        current_min = i\n",
        "        \n",
        "        for j in range(i + 1, len(a)):\n",
        "            if a[current_min] > a[j]:\n",
        "                current_min = j\n",
        "        \n",
        "        if current_min != i:\n",
        "            a[current_min], a[i] = a[i], a[current_min]\n",
        "            \n",
        "        print(f\"{a}\")\n",
        "            \n",
        "    return a"
      ]
    },
    {
      "cell_type": "code",
      "execution_count": null,
      "id": "66bcb61d",
      "metadata": {
        "id": "66bcb61d",
        "outputId": "65ca0c26-76e2-46b6-8218-754e75a1fa28"
      },
      "outputs": [
        {
          "name": "stdout",
          "output_type": "stream",
          "text": [
            "[2, 8, 5, 3, 9, 4, 1]\n",
            "[1, 8, 5, 3, 9, 4, 2]\n",
            "[1, 2, 5, 3, 9, 4, 8]\n",
            "[1, 2, 3, 5, 9, 4, 8]\n",
            "[1, 2, 3, 4, 9, 5, 8]\n",
            "[1, 2, 3, 4, 5, 9, 8]\n",
            "[1, 2, 3, 4, 5, 8, 9]\n"
          ]
        },
        {
          "data": {
            "text/plain": [
              "[1, 2, 3, 4, 5, 8, 9]"
            ]
          },
          "execution_count": 18,
          "metadata": {},
          "output_type": "execute_result"
        }
      ],
      "source": [
        "selection_sort_visual([2,8,5,3,9,4,1])"
      ]
    },
    {
      "cell_type": "code",
      "execution_count": null,
      "id": "719ef007",
      "metadata": {
        "id": "719ef007",
        "outputId": "452508a6-1092-4b84-947c-790d649922a1"
      },
      "outputs": [
        {
          "data": {
            "text/plain": [
              "'\\nSelection Sort - \\nO(n^2)\\nOmega(n^2) <- Explore optimizations on selection sort\\n'"
            ]
          },
          "execution_count": 19,
          "metadata": {},
          "output_type": "execute_result"
        }
      ],
      "source": [
        "'''\n",
        "Selection Sort - \n",
        "O(n^2)\n",
        "Omega(n^2) <- Explore optimizations on selection sort\n",
        "'''"
      ]
    },
    {
      "cell_type": "code",
      "execution_count": null,
      "id": "5db63735",
      "metadata": {
        "id": "5db63735"
      },
      "outputs": [],
      "source": [
        "def insertion_sort(a):\n",
        "    for i in range(1, len(a)):\n",
        "        index_to_insert = i\n",
        "        j = i - 1\n",
        "        \n",
        "        while j >= 0:\n",
        "            if a[j] < a[index_to_insert]:\n",
        "                break\n",
        "                \n",
        "            a[j], a[index_to_insert] = a[index_to_insert], a[j]\n",
        "            index_to_insert = j\n",
        "            j -= 1\n",
        "    \n",
        "    return a"
      ]
    },
    {
      "cell_type": "code",
      "execution_count": null,
      "id": "d05b2548",
      "metadata": {
        "id": "d05b2548"
      },
      "outputs": [],
      "source": [
        "def insertion_sort_visual(a):\n",
        "    for i in range(1, len(a)):\n",
        "        index_to_insert = i\n",
        "        j = i - 1\n",
        "        \n",
        "        print(a[:index_to_insert], \"|\", a[index_to_insert:])\n",
        "        \n",
        "        while j >= 0:\n",
        "            if a[j] < a[index_to_insert]:\n",
        "                break\n",
        "                \n",
        "            a[j], a[index_to_insert] = a[index_to_insert], a[j]\n",
        "            index_to_insert = j\n",
        "            j -= 1\n",
        "            \n",
        "            print(f\"\\t {a}\")\n",
        "            \n",
        "        print(\"-\"*25)\n",
        "    \n",
        "    return a"
      ]
    },
    {
      "cell_type": "code",
      "execution_count": null,
      "id": "b751cffe",
      "metadata": {
        "id": "b751cffe",
        "outputId": "7b28236d-1b68-4c60-98a7-4e14fd3c1d2c"
      },
      "outputs": [
        {
          "name": "stdout",
          "output_type": "stream",
          "text": [
            "[4] | [5, 1, 3, 2]\n",
            "-------------------------\n",
            "[4, 5] | [1, 3, 2]\n",
            "\t [4, 1, 5, 3, 2]\n",
            "\t [1, 4, 5, 3, 2]\n",
            "-------------------------\n",
            "[1, 4, 5] | [3, 2]\n",
            "\t [1, 4, 3, 5, 2]\n",
            "\t [1, 3, 4, 5, 2]\n",
            "-------------------------\n",
            "[1, 3, 4, 5] | [2]\n",
            "\t [1, 3, 4, 2, 5]\n",
            "\t [1, 3, 2, 4, 5]\n",
            "\t [1, 2, 3, 4, 5]\n",
            "-------------------------\n"
          ]
        },
        {
          "data": {
            "text/plain": [
              "[1, 2, 3, 4, 5]"
            ]
          },
          "execution_count": 24,
          "metadata": {},
          "output_type": "execute_result"
        }
      ],
      "source": [
        "insertion_sort_visual([4,5,1,3,2])"
      ]
    },
    {
      "cell_type": "code",
      "execution_count": null,
      "id": "c9a65ee0",
      "metadata": {
        "id": "c9a65ee0",
        "outputId": "2d427fde-e0bf-4d8e-ea45-b00a98f44163"
      },
      "outputs": [
        {
          "data": {
            "text/plain": [
              "''"
            ]
          },
          "execution_count": 25,
          "metadata": {},
          "output_type": "execute_result"
        }
      ],
      "source": [
        "'''\n",
        "Insertion Sort -\n",
        "O(n^2)\n",
        "Omega(n)\n",
        "'''"
      ]
    },
    {
      "cell_type": "code",
      "execution_count": null,
      "id": "b08ceba7",
      "metadata": {
        "id": "b08ceba7",
        "outputId": "b0e659fc-cac8-4177-94df-a78277f9b0ba"
      },
      "outputs": [
        {
          "name": "stdout",
          "output_type": "stream",
          "text": [
            "[1] | [2, 3, 4, 5]\n",
            "-------------------------\n",
            "[1, 2] | [3, 4, 5]\n",
            "-------------------------\n",
            "[1, 2, 3] | [4, 5]\n",
            "-------------------------\n",
            "[1, 2, 3, 4] | [5]\n",
            "-------------------------\n"
          ]
        },
        {
          "data": {
            "text/plain": [
              "[1, 2, 3, 4, 5]"
            ]
          },
          "execution_count": 26,
          "metadata": {},
          "output_type": "execute_result"
        }
      ],
      "source": [
        "insertion_sort_visual([1,2,3,4,5])"
      ]
    },
    {
      "cell_type": "code",
      "execution_count": null,
      "id": "f370175c",
      "metadata": {
        "id": "f370175c"
      },
      "outputs": [],
      "source": [
        "def random(n):\n",
        "    x = n\n",
        "    y = n + x # y = 2n\n",
        "    z = n + y # z = 3n\n",
        "    \n",
        "    for i in range(x):\n",
        "        if z > 2 * n:\n",
        "            break"
      ]
    },
    {
      "cell_type": "code",
      "execution_count": null,
      "id": "56993939",
      "metadata": {
        "id": "56993939"
      },
      "outputs": [],
      "source": [
        "def random(n):\n",
        "    x = n # 1 operation\n",
        "\n",
        "    for i in range(x): # n operations\n",
        "        for j in range(x): # 1 operatiion -> because of the break statement\n",
        "            if x == n:\n",
        "                break"
      ]
    },
    {
      "cell_type": "code",
      "execution_count": null,
      "id": "e62aa25f",
      "metadata": {
        "id": "e62aa25f"
      },
      "outputs": [],
      "source": []
    }
  ],
  "metadata": {
    "kernelspec": {
      "display_name": "Python 3 (ipykernel)",
      "language": "python",
      "name": "python3"
    },
    "language_info": {
      "codemirror_mode": {
        "name": "ipython",
        "version": 3
      },
      "file_extension": ".py",
      "mimetype": "text/x-python",
      "name": "python",
      "nbconvert_exporter": "python",
      "pygments_lexer": "ipython3",
      "version": "3.9.5"
    },
    "colab": {
      "provenance": [],
      "include_colab_link": true
    }
  },
  "nbformat": 4,
  "nbformat_minor": 5
}