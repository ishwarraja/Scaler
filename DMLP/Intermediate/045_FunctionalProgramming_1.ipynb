{
  "nbformat": 4,
  "nbformat_minor": 0,
  "metadata": {
    "colab": {
      "provenance": [],
      "authorship_tag": "ABX9TyMD0NN2eQi2lm6QLQ2E22zu",
      "include_colab_link": true
    },
    "kernelspec": {
      "name": "python3",
      "display_name": "Python 3"
    },
    "language_info": {
      "name": "python"
    }
  },
  "cells": [
    {
      "cell_type": "markdown",
      "metadata": {
        "id": "view-in-github",
        "colab_type": "text"
      },
      "source": [
        "<a href=\"https://colab.research.google.com/github/ishwarraja/Scaler/blob/main/DMLP/Intermediate/045_FunctionalProgramming_1.ipynb\" target=\"_parent\"><img src=\"https://colab.research.google.com/assets/colab-badge.svg\" alt=\"Open In Colab\"/></a>"
      ]
    },
    {
      "cell_type": "markdown",
      "source": [
        "#ASSIGNMENT"
      ],
      "metadata": {
        "id": "aieNxAkbHRTs"
      }
    },
    {
      "cell_type": "markdown",
      "source": [
        "##Q1. lambda in python\n",
        "\n",
        "\n",
        "What will be the output of the following code snippet:\n",
        "\n",
        "def func2(c, d):\n",
        "    return c, d\n",
        "\n",
        "def func1(a, b):\n",
        "    c = a**1\n",
        "    d = b**2\n",
        "    return lambda: func2(c,d)\n",
        "\n",
        "result = func1(1, 2)\n",
        "\n",
        "print(result())"
      ],
      "metadata": {
        "id": "0Tuex78uHUaY"
      }
    },
    {
      "cell_type": "code",
      "source": [
        "'''\n",
        "(1,4) is the correct answer.\n",
        "\n",
        "#take input return c,d\n",
        "\n",
        "def func2(c, d):\n",
        "    return c, d\n",
        "\n",
        "\n",
        "#return lambda function having func2 as expression.\n",
        "def func1(a, b):\n",
        "    c = a**1 #a power of 1\n",
        "    d = b**2 #b power of 2\n",
        "    return lambda: func2(c,d)\n",
        "\n",
        "result = func1(1, 2) #result is a function here not a tuple.\n",
        "\n",
        "print(result()) # call result function and print the output\n",
        "'''"
      ],
      "metadata": {
        "id": "1LFCtNeQHZVO"
      },
      "execution_count": null,
      "outputs": []
    },
    {
      "cell_type": "markdown",
      "source": [
        "##Q2. odd lambda\n",
        "\n",
        "What will be the output of the following code snippet:\n",
        "\n",
        "odd=lambda x: bool(x%2)\n",
        "result=[n for n in range(10)]\n",
        "\n",
        "for i in result:\n",
        "    if odd(i):\n",
        "        continue       \n",
        "    else:\n",
        "        print(i, end=\" \")\n",
        "\n",
        "        "
      ],
      "metadata": {
        "id": "sLwByD3LHidT"
      }
    },
    {
      "cell_type": "code",
      "source": [
        "'''\n",
        "0 2 4 6 8 is correct asnwer.\n",
        "\n",
        "bool(x%2) will return False for every even number as bool(0)=False.\n",
        "So, if an odd number is encountered, the current iteration of the for loop is jumped using continue and only numbers divisible by 2 are printed.\n",
        "\n",
        "'''"
      ],
      "metadata": {
        "id": "73aIaqrLHoTh"
      },
      "execution_count": null,
      "outputs": []
    },
    {
      "cell_type": "markdown",
      "source": [
        "##Q3. words of length\n",
        "\n",
        "Problem Description\n",
        "Write a Python function that takes a string and a length value as input arguments and returns the words from the string whose length is equal to the provided input length value.\n",
        "\n",
        "\n",
        "\n",
        "Input Format\n",
        "The string\n",
        "Value of the length of word\n",
        "\n",
        "\n",
        "\n",
        "Output Format\n",
        "A list of strings containing the words having length equal to the value provided in input.\n",
        "\n",
        "\n",
        "\n",
        "Example Input\n",
        "\"The world has changed and none of us can go back all we can do is our best and sometimes the best that we can do is to start over\n",
        "5\n",
        "\n",
        "\n",
        "\n",
        "Example Output\n",
        "[‘world’, ‘start’]\n",
        "\n",
        "\n",
        "\n",
        "Example Explanation\n",
        "The string has only two words with length of 5 which are \"world\" and \"start\".\n",
        "\n",
        "\n"
      ],
      "metadata": {
        "id": "4x6yDtWFHsvY"
      }
    },
    {
      "cell_type": "code",
      "source": [
        "'''\n",
        "ALGORITHM\n",
        "\n",
        "1. We first split our entire sentence based on spaces to obtain the words in the sentence.\n",
        "2. We then iterate through each word and store their lengths in a separate list called length_word.\n",
        "3. Now we iterate through each length in the list, and check if the length matches the provided length in the input.\n",
        "4. If the length matches, we store the word whose length it is by referring to the word list and move to the further lengths.\n",
        "\n",
        "CODE\n",
        "'''\n",
        "def LengthSequence(string,length):\n",
        "\n",
        "  #splitting the string to get each and every word \n",
        "  words = string.split()\n",
        "  length_words = []\n",
        "  result= []\n",
        "\n",
        "  #storing each word length in the string obtained by split in list\n",
        "\n",
        "  for i in words:\n",
        "    length_words.append(len(i))\n",
        "\n",
        "  # iterating through the length list to check which word length matches\n",
        "  for i in range(len(length_words)):\n",
        "    if length_words[i]==length:\n",
        "      result.append(words[i])\n",
        "\n",
        "  return result\n"
      ],
      "metadata": {
        "id": "lUqs7mprHtD-"
      },
      "execution_count": null,
      "outputs": []
    },
    {
      "cell_type": "markdown",
      "source": [
        "##Q4. 2nd lowest\n",
        "\n",
        "Problem Description\n",
        "Complete the Python function second_lowest() to find the second-lowest grade of students from the given names and grades of each student using lists and lambda function. For the input, the number of students, names, and the grades of each student were given.\n",
        "\n",
        "\n",
        "\n",
        "Input Format\n",
        "\n",
        "An integer N representing the number of students\n",
        "# Input of student name and grades for each N student\n",
        "Name of Student\n",
        "Grade of Student\n",
        "\n",
        "\n",
        "\n",
        "Output Format\n",
        "\n",
        "A 2D list containing list of names and grades of students.\n",
        "The 2nd lowest Grade\n",
        "The list of names of student having 2nd lowest grade\n",
        "\n",
        "\n",
        "\n",
        "Example Input\n",
        "\n",
        "5 #Number of students\n",
        "S ROY \n",
        "1 \n",
        "B BOSE\n",
        "3\n",
        "N KAR\n",
        "2\n",
        "C DUTTA\n",
        "1\n",
        "G GHOSH\n",
        "1\n",
        "\n",
        "\n",
        "\n",
        "Example Output\n",
        "\n",
        "[['S ROY', 1.0], ['B BOSE', 3.0], ['N KAR', 2.0], ['C DUTTA', 1.0], ['G GHOSH', 1.0]]\n",
        "2.0\n",
        "N KAR\n",
        "\n",
        "\n",
        "\n",
        "Example Explanation\n",
        "Initially, the input data is printed in the form of 2d-list. Post that, the second-lowest grade is printed, and after that, we print the name(s) of the student who has that grade.\n",
        "\n",
        "\n"
      ],
      "metadata": {
        "id": "sMPqxb0NIeud"
      }
    },
    {
      "cell_type": "code",
      "source": [
        "'''\n",
        "ALGORITHM\n",
        "\n",
        "    Once the 2D list is formed, sort the data as per the scores\n",
        "    Then keep on comparing the scores till the 2nd lowest score is found.\n",
        "    Now filter the data for students which have this lowest score, and return the required data.\n",
        "\n",
        "CODE\n",
        "'''\n",
        "def second_lowest(students, scores):\n",
        "    '''\n",
        "    input:\n",
        "    students -> a list of students\n",
        "    scores -> list of the scores, with each score being that of the ith student\n",
        "\n",
        "    output:\n",
        "    student_data -> 2d list of data, with each inner list having name of student as 1st and score of 2nd as second element respectively\n",
        "    second_low_score -> the second lowest score\n",
        "    second_names -> list of students with score same as second lowest score, in the same order as in the students list\n",
        "    '''\n",
        "    student_data, second_low_score, second_names = None, None, None\n",
        "\n",
        "    # Your code starts here\n",
        "\n",
        "    student_data = []\n",
        "    second_low_score = 0\n",
        "    for i in range(len(students)):\n",
        "      student_data.append([students[i],scores[i]])\n",
        "    order = sorted(student_data,key=lambda x: int(x[1]))\n",
        "    for i in range(len(students)):\n",
        "      if order[i][1] != order[0][1]:\n",
        "        second_low_score=order[i][1]\n",
        "        break\n",
        "    second_names=[x[0] for x in order if x[1] == second_low_score]\n",
        "\n",
        "    # Your code ends here\n",
        "    return student_data, second_low_score, second_names\n"
      ],
      "metadata": {
        "id": "t-YDNOu5IfAM"
      },
      "execution_count": null,
      "outputs": []
    },
    {
      "cell_type": "markdown",
      "source": [
        "##Q5. Nested Sort\n",
        "\n",
        "Problem Description\n",
        "\n",
        "You are given a nested list of strings of varying lengths.\n",
        "\n",
        "For each list, sort the string on the basis of the number of times the character ‘a’ appears in the string such that the string having the most number of ‘a’ comes first in the lists.\n",
        "\n",
        "Complete the python function and return the sorted list.\n",
        "\n",
        "Note: If 2 strings has the same number of 'a', keep them in the same order as entered in the list.\n",
        "\n",
        "Input Format\n",
        "Number of lists\n",
        "Space separated strings for each list\n",
        "\n",
        "\n",
        "\n",
        "Output Format\n",
        "Sorted list of strings based on number of ‘a’\n",
        "\n",
        "\n",
        "\n",
        "Example Input\n",
        "3\n",
        "mango banana guava\n",
        "rose sandalwood\n",
        "bccc aaa baac c\n",
        "\n",
        "\n",
        "\n",
        "Example Output\n",
        "[['banana', 'guava', 'mango'], ['sandalwood', 'rose'], ['aaa', 'baac', 'bccc', 'c']]\n",
        "\n",
        "\n"
      ],
      "metadata": {
        "id": "7wgIvR1vIzuO"
      }
    },
    {
      "cell_type": "code",
      "source": [
        "\n",
        "\n",
        "def sort_list(list1):\n",
        "    # for i in list1:\n",
        "    return sorted(list1, key = lambda x: x.count('a'),reverse=True)\n",
        "\n",
        "\n",
        "def sort_strings(str_list):\n",
        "\t#str_list-> nested list of strings\n",
        "    res = []\n",
        "\t# return the sorted list of strings on the basis of number of times ‘a’ occurs\n",
        "\tfor i in range(len(str_list)):\n",
        "        tempVal = sort_list(str_list[i])\n",
        "        res.append(tempVal)\n",
        "\t# code starts here\n",
        "\t\n",
        "\t#code ends here\n",
        "\t\n",
        "\treturn res\n"
      ],
      "metadata": {
        "id": "IoWg1JNHI5lO"
      },
      "execution_count": null,
      "outputs": []
    },
    {
      "cell_type": "markdown",
      "source": [
        "## Q6. Sort Strings\n",
        "\n",
        "Problem Description\n",
        "Given a list of strings of varying lengths, complete the python function to sort the list of strings based on their lengths and return the sorted list.\n",
        "\n",
        "Note: In case 2 strings have the same length, they are sorted in ascending order of their lexicographic index.\n",
        "\n",
        "Input Format\n",
        "List of Strings\n",
        "\n",
        "\n",
        "\n",
        "Output Format\n",
        "Sorted list of strings based on length\n",
        "\n",
        "\n",
        "\n",
        "Example Input\n",
        "cccc b dd aaa\n",
        "\n",
        "\n",
        "\n",
        "Example Output\n",
        "['b', 'dd', 'aaa', 'cccc']\n",
        "\n",
        "\n"
      ],
      "metadata": {
        "id": "MghAMJRuI7_I"
      }
    },
    {
      "cell_type": "code",
      "source": [
        "'''\n",
        "Algorithm\n",
        "\n",
        "    We use the sorted function.\n",
        "    In order to sort on basis of lexicographic order and lengths, we need to first know which order is preserved by the sorted function.\n",
        "    First we sort the list of strings on the basis of lexicographic order using sort() function.\n",
        "    Then we use the sorted() function on the list, and pass length as the criteria for sorting.\n",
        "    We then return the list.\n",
        "\n",
        "CODE\n",
        "'''\n",
        "def sort_strings(str_lst):\n",
        "\n",
        "   # Sorting the list of strings first on the basis of lexicographic index\n",
        "   str_lst.sort()\n",
        "\n",
        "   # Sorting the list based on their length. The lexicographic order is preserved by the sorted() function.\n",
        "   str_lst = sorted(str_lst, key=len)\n",
        "\n",
        "   # Returning the finally sorted list\n",
        "   return str_lst"
      ],
      "metadata": {
        "id": "wC1wLkYsJDSl"
      },
      "execution_count": null,
      "outputs": []
    },
    {
      "cell_type": "code",
      "execution_count": 12,
      "metadata": {
        "colab": {
          "base_uri": "https://localhost:8080/"
        },
        "id": "TQ4kNwDJzc34",
        "outputId": "41985610-b1d9-4179-9c34-0be0d11f897b"
      },
      "outputs": [
        {
          "output_type": "stream",
          "name": "stdout",
          "text": [
            "Result:  ['aaa', 'b', 'ccc', 'dd']\n"
          ]
        },
        {
          "output_type": "execute_result",
          "data": {
            "text/plain": [
              "['b', 'dd', 'aaa', 'ccc']"
            ]
          },
          "metadata": {},
          "execution_count": 12
        }
      ],
      "source": [
        "\n",
        "\n",
        "\n",
        "def sort_strings(str_list):\n",
        "\t#str_list-> list of strings\n",
        "\t\n",
        "\t# return the sorted list of strings on the basis of criteria mentioned\n",
        "  res = sorted(str_list)\n",
        "  print(\"Result: \",res)\n",
        "  res.sort(key=len)\n",
        "\t# code starts here\n",
        "\n",
        "\t#code ends here\n",
        "\n",
        "  return res\n",
        "\n",
        "list1 = ['ccc','b','dd','aaa']\n",
        "# list1 = ['ddd', 'acb', 'abc', 'cbde']\n",
        "sort_strings(list1)"
      ]
    },
    {
      "cell_type": "markdown",
      "source": [],
      "metadata": {
        "id": "ce4CKfDKO8Ri"
      }
    },
    {
      "cell_type": "markdown",
      "source": [],
      "metadata": {
        "id": "RgbkNw5RO8Wv"
      }
    },
    {
      "cell_type": "code",
      "source": [
        "from re import S\n",
        "heights = [160,150,175,180,145,163]\n",
        "\n",
        "def sizeCheck(sizeVal):\n",
        "  if sizeVal > 160: \n",
        "    return Large\n",
        "  elif sizeVal > 150:\n",
        "    return Medium\n",
        "  else:\n",
        "    return Small \n",
        "\n",
        "\n",
        "m = list(map())"
      ],
      "metadata": {
        "id": "EXQDVadEO8l1"
      },
      "execution_count": null,
      "outputs": []
    },
    {
      "cell_type": "code",
      "source": [
        "A = [1,0,0]\n",
        "B = [0,0,1]\n",
        "\n",
        "m = list(map(lambda x,y : x ==y, A,B))\n",
        "print(m)"
      ],
      "metadata": {
        "colab": {
          "base_uri": "https://localhost:8080/"
        },
        "id": "S18Ve-2CQfTQ",
        "outputId": "c55cd8d5-7b26-4bcd-f7d1-714c1df52ecd"
      },
      "execution_count": 14,
      "outputs": [
        {
          "output_type": "stream",
          "name": "stdout",
          "text": [
            "[False, True, False]\n"
          ]
        }
      ]
    },
    {
      "cell_type": "markdown",
      "source": [
        "#ASSIGNMENT"
      ],
      "metadata": {
        "id": "yWI5ScfRmOLi"
      }
    },
    {
      "cell_type": "code",
      "source": [
        "def check(emails):\n",
        "    '''\n",
        "    input:\n",
        "    emails -> list of emails to check\n",
        "    \n",
        "    output:\n",
        "    verified_lex -> the verified list of emails, in lexicographical order\n",
        "    '''\n",
        "    \n",
        "    verified_lex = []\n",
        "    \n",
        "    # Your code starts here\n",
        "    for i in emails:\n",
        "        x,y = i.split('@')\n",
        "        if (x<= 20) and y.find(\".com\"):\n",
        "            verified_lex.append(i)\n",
        "\n",
        "    # Your code ends here\n",
        "    return verified_lex\n",
        "\n",
        "# A = ['brian-23@scaler.com', 'brute_54@scaler.com', 'sara@scaler.com']\n",
        "A = ['john_doe@gmail.com','ramesh_acharya_123456@xyz.com','kyuss.com']\n",
        "print(check(A))"
      ],
      "metadata": {
        "colab": {
          "base_uri": "https://localhost:8080/",
          "height": 329
        },
        "id": "gYp3zl_xSHcu",
        "outputId": "21e679f3-029d-4194-cb18-e37cc08bbaca"
      },
      "execution_count": 9,
      "outputs": [
        {
          "output_type": "error",
          "ename": "ValueError",
          "evalue": "ignored",
          "traceback": [
            "\u001b[0;31m---------------------------------------------------------------------------\u001b[0m",
            "\u001b[0;31mValueError\u001b[0m                                Traceback (most recent call last)",
            "\u001b[0;32m<ipython-input-9-22c1ceae8d9e>\u001b[0m in \u001b[0;36m<cell line: 24>\u001b[0;34m()\u001b[0m\n\u001b[1;32m     22\u001b[0m \u001b[0;31m# A = ['brian-23@scaler.com', 'brute_54@scaler.com', 'sara@scaler.com']\u001b[0m\u001b[0;34m\u001b[0m\u001b[0;34m\u001b[0m\u001b[0m\n\u001b[1;32m     23\u001b[0m \u001b[0mA\u001b[0m \u001b[0;34m=\u001b[0m \u001b[0;34m[\u001b[0m\u001b[0;34m'john_doe@gmail.com'\u001b[0m\u001b[0;34m,\u001b[0m\u001b[0;34m'ramesh_acharya_123456@xyz.com'\u001b[0m\u001b[0;34m,\u001b[0m\u001b[0;34m'kyuss.com'\u001b[0m\u001b[0;34m]\u001b[0m\u001b[0;34m\u001b[0m\u001b[0;34m\u001b[0m\u001b[0m\n\u001b[0;32m---> 24\u001b[0;31m \u001b[0mprint\u001b[0m\u001b[0;34m(\u001b[0m\u001b[0mcheck\u001b[0m\u001b[0;34m(\u001b[0m\u001b[0mA\u001b[0m\u001b[0;34m)\u001b[0m\u001b[0;34m)\u001b[0m\u001b[0;34m\u001b[0m\u001b[0;34m\u001b[0m\u001b[0m\n\u001b[0m",
            "\u001b[0;32m<ipython-input-9-22c1ceae8d9e>\u001b[0m in \u001b[0;36mcheck\u001b[0;34m(emails)\u001b[0m\n\u001b[1;32m     13\u001b[0m     \u001b[0;32mfor\u001b[0m \u001b[0mi\u001b[0m \u001b[0;32min\u001b[0m \u001b[0memails\u001b[0m\u001b[0;34m:\u001b[0m\u001b[0;34m\u001b[0m\u001b[0;34m\u001b[0m\u001b[0m\n\u001b[1;32m     14\u001b[0m       \u001b[0;32mif\u001b[0m \u001b[0mi\u001b[0m\u001b[0;34m.\u001b[0m\u001b[0mfind\u001b[0m\u001b[0;34m(\u001b[0m\u001b[0;34m'@'\u001b[0m\u001b[0;34m)\u001b[0m\u001b[0;34m:\u001b[0m\u001b[0;34m\u001b[0m\u001b[0;34m\u001b[0m\u001b[0m\n\u001b[0;32m---> 15\u001b[0;31m         \u001b[0mx\u001b[0m\u001b[0;34m,\u001b[0m\u001b[0my\u001b[0m \u001b[0;34m=\u001b[0m \u001b[0mi\u001b[0m\u001b[0;34m.\u001b[0m\u001b[0msplit\u001b[0m\u001b[0;34m(\u001b[0m\u001b[0;34m'@'\u001b[0m\u001b[0;34m)\u001b[0m\u001b[0;34m\u001b[0m\u001b[0;34m\u001b[0m\u001b[0m\n\u001b[0m\u001b[1;32m     16\u001b[0m       \u001b[0;32mif\u001b[0m \u001b[0my\u001b[0m\u001b[0;34m.\u001b[0m\u001b[0mfind\u001b[0m\u001b[0;34m(\u001b[0m\u001b[0;34m\".com\"\u001b[0m\u001b[0;34m)\u001b[0m\u001b[0;34m:\u001b[0m\u001b[0;34m\u001b[0m\u001b[0;34m\u001b[0m\u001b[0m\n\u001b[1;32m     17\u001b[0m           \u001b[0mverified_lex\u001b[0m\u001b[0;34m.\u001b[0m\u001b[0mappend\u001b[0m\u001b[0;34m(\u001b[0m\u001b[0mi\u001b[0m\u001b[0;34m)\u001b[0m\u001b[0;34m\u001b[0m\u001b[0;34m\u001b[0m\u001b[0m\n",
            "\u001b[0;31mValueError\u001b[0m: not enough values to unpack (expected 2, got 1)"
          ]
        }
      ]
    },
    {
      "cell_type": "code",
      "source": [
        "import re\n",
        "def check(emails):\n",
        "    '''\n",
        "    input:\n",
        "    emails -> list of emails to check\n",
        "    \n",
        "    output:\n",
        "    verified_lex -> the verified list of emails, in lexicographical order\n",
        "    '''\n",
        "    \n",
        "    verified_lex = []\n",
        "    \n",
        "    # Your code starts here\n",
        "    for i in emails:\n",
        "      if re.findall('\\S+@\\S+',i):\n",
        "        verified_lex.append(i)\n",
        "      \n",
        "\n",
        "    # Your code ends here\n",
        "    return sorted(verified_lex)\n",
        "\n",
        "# A = ['brian-23@scaler.com', 'brute_54@scaler.com', 'sara@scaler.com']\n",
        "A = ['john_doe@gmail.com','ramesh_acharya_123456@xyz.com','kyuss.com']\n",
        "print(check(A))"
      ],
      "metadata": {
        "colab": {
          "base_uri": "https://localhost:8080/"
        },
        "id": "KAgWfpnWmYKy",
        "outputId": "97e3f63a-de66-4e73-8745-ae9edc71fc7d"
      },
      "execution_count": 10,
      "outputs": [
        {
          "output_type": "stream",
          "name": "stdout",
          "text": [
            "['john_doe@gmail.com', 'ramesh_acharya_123456@xyz.com']\n"
          ]
        }
      ]
    }
  ]
}