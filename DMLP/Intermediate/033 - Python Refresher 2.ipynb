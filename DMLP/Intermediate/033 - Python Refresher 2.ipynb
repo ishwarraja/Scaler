{
  "cells": [
    {
      "cell_type": "markdown",
      "metadata": {
        "id": "view-in-github",
        "colab_type": "text"
      },
      "source": [
        "<a href=\"https://colab.research.google.com/github/ishwarraja/Scaler/blob/main/DMLP/Intermediate/033%20-%20Python%20Refresher%202.ipynb\" target=\"_parent\"><img src=\"https://colab.research.google.com/assets/colab-badge.svg\" alt=\"Open In Colab\"/></a>"
      ]
    },
    {
      "cell_type": "code",
      "execution_count": null,
      "id": "6ef21629",
      "metadata": {
        "id": "6ef21629"
      },
      "outputs": [],
      "source": [
        "result = [ [ i*j for j in range(1, 11) ] for i in range(1, 11) ]"
      ]
    },
    {
      "cell_type": "code",
      "execution_count": null,
      "id": "fa6082b3",
      "metadata": {
        "id": "fa6082b3",
        "outputId": "1d2dc359-2097-41fb-90b9-f94c319bf953"
      },
      "outputs": [
        {
          "data": {
            "text/plain": [
              "[[1, 2, 3, 4, 5, 6, 7, 8, 9, 10],\n",
              " [2, 4, 6, 8, 10, 12, 14, 16, 18, 20],\n",
              " [3, 6, 9, 12, 15, 18, 21, 24, 27, 30],\n",
              " [4, 8, 12, 16, 20, 24, 28, 32, 36, 40],\n",
              " [5, 10, 15, 20, 25, 30, 35, 40, 45, 50],\n",
              " [6, 12, 18, 24, 30, 36, 42, 48, 54, 60],\n",
              " [7, 14, 21, 28, 35, 42, 49, 56, 63, 70],\n",
              " [8, 16, 24, 32, 40, 48, 56, 64, 72, 80],\n",
              " [9, 18, 27, 36, 45, 54, 63, 72, 81, 90],\n",
              " [10, 20, 30, 40, 50, 60, 70, 80, 90, 100]]"
            ]
          },
          "execution_count": 2,
          "metadata": {},
          "output_type": "execute_result"
        }
      ],
      "source": [
        "result"
      ]
    },
    {
      "cell_type": "code",
      "execution_count": null,
      "id": "98a45e9a",
      "metadata": {
        "id": "98a45e9a"
      },
      "outputs": [],
      "source": [
        "result1 = [ i*j for j in range(1, 11) for i in range(1, 11) ]"
      ]
    },
    {
      "cell_type": "code",
      "execution_count": null,
      "id": "f979a0a6",
      "metadata": {
        "id": "f979a0a6"
      },
      "outputs": [],
      "source": [
        "# result1"
      ]
    },
    {
      "cell_type": "code",
      "execution_count": null,
      "id": "838f50c2",
      "metadata": {
        "id": "838f50c2",
        "outputId": "fb55ac89-2694-492c-fb3a-dda6943abd64"
      },
      "outputs": [
        {
          "data": {
            "text/plain": [
              "'\\nAccording to our understanding ->\\n    - for i in [\"A\", \"B\"] -> OUTER LOOP\\n    - for j in [1, 2] -> INNER LOOP\\n    \\n    - OUTPUT -> [(\"A\", 1), (\"A\", 2), (\"B\", 1), (\"B\", 2)]\\n'"
            ]
          },
          "execution_count": 10,
          "metadata": {},
          "output_type": "execute_result"
        }
      ],
      "source": [
        "random = [ (i, j) for j in [1, 2] for i in [\"A\", \"B\"] ]\n",
        "# LEFT (OUTERMOST) -> RIGHT (INNERMOST)\n",
        "\n",
        "'''\n",
        "According to our understanding ->\n",
        "    - for i in [\"A\", \"B\"] -> OUTER LOOP\n",
        "    - for j in [1, 2] -> INNER LOOP\n",
        "    \n",
        "    - OUTPUT -> [(\"A\", 1), (\"A\", 2), (\"B\", 1), (\"B\", 2)]\n",
        "'''"
      ]
    },
    {
      "cell_type": "code",
      "execution_count": null,
      "id": "d1018ef1",
      "metadata": {
        "id": "d1018ef1",
        "outputId": "d8c528b9-6ec5-405d-cf8f-720576ffcced"
      },
      "outputs": [
        {
          "data": {
            "text/plain": [
              "[('A', 1), ('B', 1), ('A', 2), ('B', 2)]"
            ]
          },
          "execution_count": 11,
          "metadata": {},
          "output_type": "execute_result"
        }
      ],
      "source": [
        "random"
      ]
    },
    {
      "cell_type": "code",
      "execution_count": null,
      "id": "6bd0b3ae",
      "metadata": {
        "id": "6bd0b3ae",
        "outputId": "30a344fb-26e9-43d1-ae46-7b17ecd1dc8f"
      },
      "outputs": [
        {
          "data": {
            "text/plain": [
              "'\\nQuestion 1 - \\n\\nEncryption - We have 26 letters in the english alphabet.\\nLet\\'s say I place a mirror between letters M and N splitting the alphabet into two mirrored sides.\\n\\nGiven a word, produce the mirror image of that word.\\n\\nINPUT - \"acy\"\\nOUTPUT - \"zxb\"\\n\\nEXPLANATION ->\\n\"a\" -> \"z\"\\n\"c\" -> \"x\"\\n\"y\" -> \"b\"\\n'"
            ]
          },
          "execution_count": 12,
          "metadata": {},
          "output_type": "execute_result"
        }
      ],
      "source": [
        "'''\n",
        "Question 1 - \n",
        "\n",
        "Encryption - We have 26 letters in the english alphabet.\n",
        "Let's say I place a mirror between letters M and N splitting the alphabet into two mirrored sides.\n",
        "\n",
        "Given a word, produce the mirror image of that word.\n",
        "\n",
        "INPUT - \"acy\"\n",
        "OUTPUT - \"zxb\"\n",
        "\n",
        "EXPLANATION ->\n",
        "\"a\" -> \"z\"\n",
        "\"c\" -> \"x\"\n",
        "\"y\" -> \"b\"\n",
        "'''"
      ]
    },
    {
      "cell_type": "code",
      "execution_count": null,
      "id": "b1673bd7",
      "metadata": {
        "id": "b1673bd7"
      },
      "outputs": [],
      "source": [
        "letter = \"m\"\n",
        "distance_from_a = ord(letter) - ord(\"a\")"
      ]
    },
    {
      "cell_type": "code",
      "execution_count": null,
      "id": "ef7f5552",
      "metadata": {
        "id": "ef7f5552",
        "outputId": "ba797133-98b3-4c0f-f78c-35fc943a7841"
      },
      "outputs": [
        {
          "data": {
            "text/plain": [
              "12"
            ]
          },
          "execution_count": 17,
          "metadata": {},
          "output_type": "execute_result"
        }
      ],
      "source": [
        "distance_from_a"
      ]
    },
    {
      "cell_type": "code",
      "execution_count": null,
      "id": "a4583fbb",
      "metadata": {
        "id": "a4583fbb"
      },
      "outputs": [],
      "source": [
        "mirror_letter = chr(ord(\"z\") - distance_from_a)"
      ]
    },
    {
      "cell_type": "code",
      "execution_count": null,
      "id": "ace88c22",
      "metadata": {
        "id": "ace88c22",
        "outputId": "52671780-7b81-44e9-833f-3d19c2653113"
      },
      "outputs": [
        {
          "data": {
            "text/plain": [
              "'n'"
            ]
          },
          "execution_count": 20,
          "metadata": {},
          "output_type": "execute_result"
        }
      ],
      "source": [
        "mirror_letter"
      ]
    },
    {
      "cell_type": "code",
      "execution_count": null,
      "id": "1914ab02",
      "metadata": {
        "id": "1914ab02"
      },
      "outputs": [],
      "source": [
        "def mirror_image_encryption(message):\n",
        "    result = \"\"\n",
        "    \n",
        "    for i in message:\n",
        "        if i == \" \":\n",
        "            result += i\n",
        "        else:\n",
        "            distance = ord(i) - ord(\"a\")\n",
        "            result += chr(ord(\"z\") - distance)\n",
        "            \n",
        "    return result"
      ]
    },
    {
      "cell_type": "code",
      "execution_count": null,
      "id": "dca7c18e",
      "metadata": {
        "id": "dca7c18e",
        "outputId": "16f2aa13-ce9f-438d-dfa6-2c1d93589969"
      },
      "outputs": [
        {
          "data": {
            "text/plain": [
              "'abcd zyxw nm'"
            ]
          },
          "execution_count": 22,
          "metadata": {},
          "output_type": "execute_result"
        }
      ],
      "source": [
        "mirror_image_encryption(\"zyxw abcd mn\")"
      ]
    },
    {
      "cell_type": "code",
      "execution_count": null,
      "id": "bfb7c7e1",
      "metadata": {
        "id": "bfb7c7e1"
      },
      "outputs": [],
      "source": [
        "def coolest_pattern_ever(n):\n",
        "    for i in range(n):\n",
        "        for j in range(n):\n",
        "            print(max(i + 1, j + 1, n - i, n - j), end = \" \")\n",
        "            \n",
        "        print()"
      ]
    },
    {
      "cell_type": "code",
      "execution_count": null,
      "id": "830bba94",
      "metadata": {
        "id": "830bba94",
        "outputId": "44d2950b-afff-4592-b62d-ec712aeb2ab0"
      },
      "outputs": [
        {
          "name": "stdout",
          "output_type": "stream",
          "text": [
            "8 8 8 8 8 8 8 8 \n",
            "8 7 7 7 7 7 7 8 \n",
            "8 7 6 6 6 6 7 8 \n",
            "8 7 6 5 5 6 7 8 \n",
            "8 7 6 5 5 6 7 8 \n",
            "8 7 6 6 6 6 7 8 \n",
            "8 7 7 7 7 7 7 8 \n",
            "8 8 8 8 8 8 8 8 \n"
          ]
        }
      ],
      "source": [
        "coolest_pattern_ever(8)"
      ]
    },
    {
      "cell_type": "code",
      "execution_count": null,
      "id": "4ffa3d41",
      "metadata": {
        "id": "4ffa3d41",
        "outputId": "24df64e5-1e8b-4e69-9d38-5d5dbdc63d76"
      },
      "outputs": [
        {
          "data": {
            "text/plain": [
              "'\\nQuestion 2 - \\n\\nMarvel v/s DC - There are a total of 50 people in a class numbered from 1 to 50.\\nYou will get two lists as input. \\n    - One would contain list of all numbers who are Marvel fans\\n    - Other would contain list of all numbers who are DC fans\\n    \\nOutput -> \\n1. List of all people who are not a fan of either Marvel or DC\\n2. List of all the people who are a fan of both.\\n'"
            ]
          },
          "execution_count": 28,
          "metadata": {},
          "output_type": "execute_result"
        }
      ],
      "source": [
        "'''\n",
        "Question 2 - \n",
        "\n",
        "Marvel v/s DC - There are a total of 50 people in a class numbered from 1 to 50.\n",
        "You will get two lists as input. \n",
        "    - One would contain list of all numbers who are Marvel fans\n",
        "    - Other would contain list of all numbers who are DC fans\n",
        "    \n",
        "Output -> \n",
        "1. List of all people who are not a fan of either Marvel or DC\n",
        "2. List of all the people who are a fan of both.\n",
        "'''"
      ]
    },
    {
      "cell_type": "code",
      "execution_count": null,
      "id": "3aa3b3dd",
      "metadata": {
        "id": "3aa3b3dd"
      },
      "outputs": [],
      "source": [
        "marvel_fans = [1,4,5,10,15,16,18,19,20,25,31,32,33,36,39,41,49,50]\n",
        "dc_fans = [4,5,7,12,14,22,27,35,45]"
      ]
    },
    {
      "cell_type": "code",
      "execution_count": null,
      "id": "6e57637a",
      "metadata": {
        "id": "6e57637a"
      },
      "outputs": [],
      "source": [
        "def marvel_vs_dc(marvel_fans, dc_fans):\n",
        "    fans_of_both = set(marvel_fans) & set(dc_fans)\n",
        "    \n",
        "    entire_class = set(range(1,51))\n",
        "    fans_of_neither = entire_class - (set(marvel_fans) | set(dc_fans))\n",
        "    \n",
        "    return fans_of_neither, fans_of_both"
      ]
    },
    {
      "cell_type": "code",
      "execution_count": null,
      "id": "4d26b401",
      "metadata": {
        "id": "4d26b401",
        "outputId": "3a48af96-6ad6-4244-b7f7-c10721fa4f4d"
      },
      "outputs": [
        {
          "data": {
            "text/plain": [
              "({2,\n",
              "  3,\n",
              "  6,\n",
              "  8,\n",
              "  9,\n",
              "  11,\n",
              "  13,\n",
              "  17,\n",
              "  21,\n",
              "  23,\n",
              "  24,\n",
              "  26,\n",
              "  28,\n",
              "  29,\n",
              "  30,\n",
              "  34,\n",
              "  37,\n",
              "  38,\n",
              "  40,\n",
              "  42,\n",
              "  43,\n",
              "  44,\n",
              "  46,\n",
              "  47,\n",
              "  48},\n",
              " {4, 5})"
            ]
          },
          "execution_count": 31,
          "metadata": {},
          "output_type": "execute_result"
        }
      ],
      "source": [
        "marvel_vs_dc(marvel_fans, dc_fans)"
      ]
    },
    {
      "cell_type": "code",
      "execution_count": null,
      "id": "6fef8864",
      "metadata": {
        "id": "6fef8864",
        "outputId": "6ff16020-04d6-4869-9304-f17b1c7d32b6"
      },
      "outputs": [
        {
          "data": {
            "text/plain": [
              "'\\nQuestion 3 - \\n\\nUltimate Palindrome - Given a number as input return True if ultimate palindrome else False.\\n    - Palindrome ( 767, 7657567 )\\n    - Prime Number\\n'"
            ]
          },
          "execution_count": 32,
          "metadata": {},
          "output_type": "execute_result"
        }
      ],
      "source": [
        "'''\n",
        "Question 3 - \n",
        "\n",
        "Ultimate Palindrome - Given a number as input return True if ultimate palindrome else False.\n",
        "    - Palindrome ( 767, 7657567 )\n",
        "    - Prime Number\n",
        "'''"
      ]
    },
    {
      "cell_type": "code",
      "execution_count": null,
      "id": "841dc13e",
      "metadata": {
        "id": "841dc13e"
      },
      "outputs": [],
      "source": [
        "number = 78987"
      ]
    },
    {
      "cell_type": "code",
      "execution_count": null,
      "id": "0b1713a5",
      "metadata": {
        "id": "0b1713a5"
      },
      "outputs": [],
      "source": [
        "string_number = str(number)"
      ]
    },
    {
      "cell_type": "code",
      "execution_count": null,
      "id": "a3307e41",
      "metadata": {
        "id": "a3307e41",
        "outputId": "d3772fc7-fcf4-4e96-d149-01a3f61190e1"
      },
      "outputs": [
        {
          "data": {
            "text/plain": [
              "'78987'"
            ]
          },
          "execution_count": 35,
          "metadata": {},
          "output_type": "execute_result"
        }
      ],
      "source": [
        "string_number"
      ]
    },
    {
      "cell_type": "code",
      "execution_count": null,
      "id": "05849c8c",
      "metadata": {
        "id": "05849c8c",
        "outputId": "5a7739a5-fb03-4690-8eb2-71b193217558"
      },
      "outputs": [
        {
          "data": {
            "text/plain": [
              "True"
            ]
          },
          "execution_count": 36,
          "metadata": {},
          "output_type": "execute_result"
        }
      ],
      "source": [
        "string_number == string_number[::-1]"
      ]
    },
    {
      "cell_type": "code",
      "execution_count": null,
      "id": "68fca6c7",
      "metadata": {
        "id": "68fca6c7"
      },
      "outputs": [],
      "source": [
        "def ultimate_palindrome(number):\n",
        "    s = str(number)\n",
        "    \n",
        "    # check for palindrome\n",
        "    is_palindrome = s == s[::-1]\n",
        "    \n",
        "    # check for prime\n",
        "    is_prime = True\n",
        "    \n",
        "    for i in range(2, number // 2 + 1):\n",
        "        if number % i == 0:\n",
        "            is_prime = False\n",
        "            break\n",
        "            \n",
        "    return is_palindrome and is_prime"
      ]
    },
    {
      "cell_type": "code",
      "execution_count": null,
      "id": "f927fb0d",
      "metadata": {
        "id": "f927fb0d",
        "outputId": "a910d571-8f71-4686-b9f0-c2f0d63bd791"
      },
      "outputs": [
        {
          "data": {
            "text/plain": [
              "False"
            ]
          },
          "execution_count": 39,
          "metadata": {},
          "output_type": "execute_result"
        }
      ],
      "source": [
        "ultimate_palindrome(7278)"
      ]
    },
    {
      "cell_type": "code",
      "execution_count": null,
      "id": "6dd6338d",
      "metadata": {
        "id": "6dd6338d"
      },
      "outputs": [],
      "source": [
        "# HOMEWORK - Reverse a number without using strings"
      ]
    },
    {
      "cell_type": "code",
      "execution_count": null,
      "id": "0004f60d",
      "metadata": {
        "id": "0004f60d"
      },
      "outputs": [],
      "source": []
    },
    {
      "cell_type": "markdown",
      "source": [
        "#Assignment\n"
      ],
      "metadata": {
        "id": "JLgm0TM3bTyh"
      },
      "id": "JLgm0TM3bTyh"
    },
    {
      "cell_type": "code",
      "source": [
        "for i in range(-6, -10, -1):\n",
        "     print(i, end =\" \")"
      ],
      "metadata": {
        "id": "JrzJEQXtbY06",
        "outputId": "a11e0ab0-0fb4-4831-a267-5b71e5a2254b",
        "colab": {
          "base_uri": "https://localhost:8080/"
        }
      },
      "id": "JrzJEQXtbY06",
      "execution_count": 1,
      "outputs": [
        {
          "output_type": "stream",
          "name": "stdout",
          "text": [
            "-6 -7 -8 -9 "
          ]
        }
      ]
    },
    {
      "cell_type": "code",
      "source": [
        "x = [1, 2]\n",
        "y = [2, 3]\n",
        "\n",
        "for i in x:\n",
        "    for j in y:\n",
        "        print(i, j, end= \" \")"
      ],
      "metadata": {
        "id": "M_5BHGGubY9g",
        "outputId": "e99dc171-d5a3-4869-f678-5fbc1c0e670d",
        "colab": {
          "base_uri": "https://localhost:8080/"
        }
      },
      "id": "M_5BHGGubY9g",
      "execution_count": 2,
      "outputs": [
        {
          "output_type": "stream",
          "name": "stdout",
          "text": [
            "1 2 1 3 2 2 2 3 "
          ]
        }
      ]
    },
    {
      "cell_type": "code",
      "source": [
        "x = 1\n",
        "for i in range(x):\n",
        "    x=x+1\n",
        "    print(i, end= \" \")"
      ],
      "metadata": {
        "id": "NfLKGo5NbZA4",
        "outputId": "b03d3174-ca0b-4dbc-ace1-b0c10e91b837",
        "colab": {
          "base_uri": "https://localhost:8080/"
        }
      },
      "id": "NfLKGo5NbZA4",
      "execution_count": 3,
      "outputs": [
        {
          "output_type": "stream",
          "name": "stdout",
          "text": [
            "0 "
          ]
        }
      ]
    },
    {
      "cell_type": "code",
      "source": [],
      "metadata": {
        "id": "W2RjDpQBbZEz"
      },
      "id": "W2RjDpQBbZEz",
      "execution_count": null,
      "outputs": []
    },
    {
      "cell_type": "markdown",
      "source": [
        "# New section"
      ],
      "metadata": {
        "id": "2kwD63dqbXNy"
      },
      "id": "2kwD63dqbXNy"
    }
  ],
  "metadata": {
    "kernelspec": {
      "display_name": "Python 3 (ipykernel)",
      "language": "python",
      "name": "python3"
    },
    "language_info": {
      "codemirror_mode": {
        "name": "ipython",
        "version": 3
      },
      "file_extension": ".py",
      "mimetype": "text/x-python",
      "name": "python",
      "nbconvert_exporter": "python",
      "pygments_lexer": "ipython3",
      "version": "3.9.5"
    },
    "colab": {
      "provenance": [],
      "toc_visible": true,
      "include_colab_link": true
    }
  },
  "nbformat": 4,
  "nbformat_minor": 5
}