{
  "cells": [
    {
      "cell_type": "markdown",
      "metadata": {
        "id": "view-in-github",
        "colab_type": "text"
      },
      "source": [
        "<a href=\"https://colab.research.google.com/github/ishwarraja/Scaler/blob/main/DMLP/Intermediate/033%20-%20Python%20Refresher%202.ipynb\" target=\"_parent\"><img src=\"https://colab.research.google.com/assets/colab-badge.svg\" alt=\"Open In Colab\"/></a>"
      ]
    },
    {
      "cell_type": "code",
      "execution_count": null,
      "id": "6ef21629",
      "metadata": {
        "id": "6ef21629"
      },
      "outputs": [],
      "source": [
        "result = [ [ i*j for j in range(1, 11) ] for i in range(1, 11) ]"
      ]
    },
    {
      "cell_type": "code",
      "execution_count": null,
      "id": "fa6082b3",
      "metadata": {
        "id": "fa6082b3",
        "outputId": "1d2dc359-2097-41fb-90b9-f94c319bf953"
      },
      "outputs": [
        {
          "data": {
            "text/plain": [
              "[[1, 2, 3, 4, 5, 6, 7, 8, 9, 10],\n",
              " [2, 4, 6, 8, 10, 12, 14, 16, 18, 20],\n",
              " [3, 6, 9, 12, 15, 18, 21, 24, 27, 30],\n",
              " [4, 8, 12, 16, 20, 24, 28, 32, 36, 40],\n",
              " [5, 10, 15, 20, 25, 30, 35, 40, 45, 50],\n",
              " [6, 12, 18, 24, 30, 36, 42, 48, 54, 60],\n",
              " [7, 14, 21, 28, 35, 42, 49, 56, 63, 70],\n",
              " [8, 16, 24, 32, 40, 48, 56, 64, 72, 80],\n",
              " [9, 18, 27, 36, 45, 54, 63, 72, 81, 90],\n",
              " [10, 20, 30, 40, 50, 60, 70, 80, 90, 100]]"
            ]
          },
          "execution_count": 2,
          "metadata": {},
          "output_type": "execute_result"
        }
      ],
      "source": [
        "result"
      ]
    },
    {
      "cell_type": "code",
      "execution_count": null,
      "id": "98a45e9a",
      "metadata": {
        "id": "98a45e9a"
      },
      "outputs": [],
      "source": [
        "result1 = [ i*j for j in range(1, 11) for i in range(1, 11) ]"
      ]
    },
    {
      "cell_type": "code",
      "execution_count": null,
      "id": "f979a0a6",
      "metadata": {
        "id": "f979a0a6"
      },
      "outputs": [],
      "source": [
        "# result1"
      ]
    },
    {
      "cell_type": "code",
      "execution_count": null,
      "id": "838f50c2",
      "metadata": {
        "id": "838f50c2",
        "outputId": "fb55ac89-2694-492c-fb3a-dda6943abd64"
      },
      "outputs": [
        {
          "data": {
            "text/plain": [
              "'\\nAccording to our understanding ->\\n    - for i in [\"A\", \"B\"] -> OUTER LOOP\\n    - for j in [1, 2] -> INNER LOOP\\n    \\n    - OUTPUT -> [(\"A\", 1), (\"A\", 2), (\"B\", 1), (\"B\", 2)]\\n'"
            ]
          },
          "execution_count": 10,
          "metadata": {},
          "output_type": "execute_result"
        }
      ],
      "source": [
        "random = [ (i, j) for j in [1, 2] for i in [\"A\", \"B\"] ]\n",
        "# LEFT (OUTERMOST) -> RIGHT (INNERMOST)\n",
        "\n",
        "'''\n",
        "According to our understanding ->\n",
        "    - for i in [\"A\", \"B\"] -> OUTER LOOP\n",
        "    - for j in [1, 2] -> INNER LOOP\n",
        "    \n",
        "    - OUTPUT -> [(\"A\", 1), (\"A\", 2), (\"B\", 1), (\"B\", 2)]\n",
        "'''"
      ]
    },
    {
      "cell_type": "code",
      "execution_count": null,
      "id": "d1018ef1",
      "metadata": {
        "id": "d1018ef1",
        "outputId": "d8c528b9-6ec5-405d-cf8f-720576ffcced"
      },
      "outputs": [
        {
          "data": {
            "text/plain": [
              "[('A', 1), ('B', 1), ('A', 2), ('B', 2)]"
            ]
          },
          "execution_count": 11,
          "metadata": {},
          "output_type": "execute_result"
        }
      ],
      "source": [
        "random"
      ]
    },
    {
      "cell_type": "code",
      "execution_count": null,
      "id": "6bd0b3ae",
      "metadata": {
        "id": "6bd0b3ae",
        "outputId": "30a344fb-26e9-43d1-ae46-7b17ecd1dc8f"
      },
      "outputs": [
        {
          "data": {
            "text/plain": [
              "'\\nQuestion 1 - \\n\\nEncryption - We have 26 letters in the english alphabet.\\nLet\\'s say I place a mirror between letters M and N splitting the alphabet into two mirrored sides.\\n\\nGiven a word, produce the mirror image of that word.\\n\\nINPUT - \"acy\"\\nOUTPUT - \"zxb\"\\n\\nEXPLANATION ->\\n\"a\" -> \"z\"\\n\"c\" -> \"x\"\\n\"y\" -> \"b\"\\n'"
            ]
          },
          "execution_count": 12,
          "metadata": {},
          "output_type": "execute_result"
        }
      ],
      "source": [
        "'''\n",
        "Question 1 - \n",
        "\n",
        "Encryption - We have 26 letters in the english alphabet.\n",
        "Let's say I place a mirror between letters M and N splitting the alphabet into two mirrored sides.\n",
        "\n",
        "Given a word, produce the mirror image of that word.\n",
        "\n",
        "INPUT - \"acy\"\n",
        "OUTPUT - \"zxb\"\n",
        "\n",
        "EXPLANATION ->\n",
        "\"a\" -> \"z\"\n",
        "\"c\" -> \"x\"\n",
        "\"y\" -> \"b\"\n",
        "'''"
      ]
    },
    {
      "cell_type": "code",
      "execution_count": null,
      "id": "b1673bd7",
      "metadata": {
        "id": "b1673bd7"
      },
      "outputs": [],
      "source": [
        "letter = \"m\"\n",
        "distance_from_a = ord(letter) - ord(\"a\")"
      ]
    },
    {
      "cell_type": "code",
      "execution_count": null,
      "id": "ef7f5552",
      "metadata": {
        "id": "ef7f5552",
        "outputId": "ba797133-98b3-4c0f-f78c-35fc943a7841"
      },
      "outputs": [
        {
          "data": {
            "text/plain": [
              "12"
            ]
          },
          "execution_count": 17,
          "metadata": {},
          "output_type": "execute_result"
        }
      ],
      "source": [
        "distance_from_a"
      ]
    },
    {
      "cell_type": "code",
      "execution_count": null,
      "id": "a4583fbb",
      "metadata": {
        "id": "a4583fbb"
      },
      "outputs": [],
      "source": [
        "mirror_letter = chr(ord(\"z\") - distance_from_a)"
      ]
    },
    {
      "cell_type": "code",
      "execution_count": null,
      "id": "ace88c22",
      "metadata": {
        "id": "ace88c22",
        "outputId": "52671780-7b81-44e9-833f-3d19c2653113"
      },
      "outputs": [
        {
          "data": {
            "text/plain": [
              "'n'"
            ]
          },
          "execution_count": 20,
          "metadata": {},
          "output_type": "execute_result"
        }
      ],
      "source": [
        "mirror_letter"
      ]
    },
    {
      "cell_type": "code",
      "execution_count": null,
      "id": "1914ab02",
      "metadata": {
        "id": "1914ab02"
      },
      "outputs": [],
      "source": [
        "def mirror_image_encryption(message):\n",
        "    result = \"\"\n",
        "    \n",
        "    for i in message:\n",
        "        if i == \" \":\n",
        "            result += i\n",
        "        else:\n",
        "            distance = ord(i) - ord(\"a\")\n",
        "            result += chr(ord(\"z\") - distance)\n",
        "            \n",
        "    return result"
      ]
    },
    {
      "cell_type": "code",
      "execution_count": null,
      "id": "dca7c18e",
      "metadata": {
        "id": "dca7c18e",
        "outputId": "16f2aa13-ce9f-438d-dfa6-2c1d93589969"
      },
      "outputs": [
        {
          "data": {
            "text/plain": [
              "'abcd zyxw nm'"
            ]
          },
          "execution_count": 22,
          "metadata": {},
          "output_type": "execute_result"
        }
      ],
      "source": [
        "mirror_image_encryption(\"zyxw abcd mn\")"
      ]
    },
    {
      "cell_type": "code",
      "execution_count": null,
      "id": "bfb7c7e1",
      "metadata": {
        "id": "bfb7c7e1"
      },
      "outputs": [],
      "source": [
        "def coolest_pattern_ever(n):\n",
        "    for i in range(n):\n",
        "        for j in range(n):\n",
        "            print(max(i + 1, j + 1, n - i, n - j), end = \" \")\n",
        "            \n",
        "        print()"
      ]
    },
    {
      "cell_type": "code",
      "execution_count": null,
      "id": "830bba94",
      "metadata": {
        "id": "830bba94",
        "outputId": "44d2950b-afff-4592-b62d-ec712aeb2ab0"
      },
      "outputs": [
        {
          "name": "stdout",
          "output_type": "stream",
          "text": [
            "8 8 8 8 8 8 8 8 \n",
            "8 7 7 7 7 7 7 8 \n",
            "8 7 6 6 6 6 7 8 \n",
            "8 7 6 5 5 6 7 8 \n",
            "8 7 6 5 5 6 7 8 \n",
            "8 7 6 6 6 6 7 8 \n",
            "8 7 7 7 7 7 7 8 \n",
            "8 8 8 8 8 8 8 8 \n"
          ]
        }
      ],
      "source": [
        "coolest_pattern_ever(8)"
      ]
    },
    {
      "cell_type": "code",
      "execution_count": null,
      "id": "4ffa3d41",
      "metadata": {
        "id": "4ffa3d41",
        "outputId": "24df64e5-1e8b-4e69-9d38-5d5dbdc63d76"
      },
      "outputs": [
        {
          "data": {
            "text/plain": [
              "'\\nQuestion 2 - \\n\\nMarvel v/s DC - There are a total of 50 people in a class numbered from 1 to 50.\\nYou will get two lists as input. \\n    - One would contain list of all numbers who are Marvel fans\\n    - Other would contain list of all numbers who are DC fans\\n    \\nOutput -> \\n1. List of all people who are not a fan of either Marvel or DC\\n2. List of all the people who are a fan of both.\\n'"
            ]
          },
          "execution_count": 28,
          "metadata": {},
          "output_type": "execute_result"
        }
      ],
      "source": [
        "'''\n",
        "Question 2 - \n",
        "\n",
        "Marvel v/s DC - There are a total of 50 people in a class numbered from 1 to 50.\n",
        "You will get two lists as input. \n",
        "    - One would contain list of all numbers who are Marvel fans\n",
        "    - Other would contain list of all numbers who are DC fans\n",
        "    \n",
        "Output -> \n",
        "1. List of all people who are not a fan of either Marvel or DC\n",
        "2. List of all the people who are a fan of both.\n",
        "'''"
      ]
    },
    {
      "cell_type": "code",
      "execution_count": null,
      "id": "3aa3b3dd",
      "metadata": {
        "id": "3aa3b3dd"
      },
      "outputs": [],
      "source": [
        "marvel_fans = [1,4,5,10,15,16,18,19,20,25,31,32,33,36,39,41,49,50]\n",
        "dc_fans = [4,5,7,12,14,22,27,35,45]"
      ]
    },
    {
      "cell_type": "code",
      "execution_count": null,
      "id": "6e57637a",
      "metadata": {
        "id": "6e57637a"
      },
      "outputs": [],
      "source": [
        "def marvel_vs_dc(marvel_fans, dc_fans):\n",
        "    fans_of_both = set(marvel_fans) & set(dc_fans)\n",
        "    \n",
        "    entire_class = set(range(1,51))\n",
        "    fans_of_neither = entire_class - (set(marvel_fans) | set(dc_fans))\n",
        "    \n",
        "    return fans_of_neither, fans_of_both"
      ]
    },
    {
      "cell_type": "code",
      "execution_count": null,
      "id": "4d26b401",
      "metadata": {
        "id": "4d26b401",
        "outputId": "3a48af96-6ad6-4244-b7f7-c10721fa4f4d"
      },
      "outputs": [
        {
          "data": {
            "text/plain": [
              "({2,\n",
              "  3,\n",
              "  6,\n",
              "  8,\n",
              "  9,\n",
              "  11,\n",
              "  13,\n",
              "  17,\n",
              "  21,\n",
              "  23,\n",
              "  24,\n",
              "  26,\n",
              "  28,\n",
              "  29,\n",
              "  30,\n",
              "  34,\n",
              "  37,\n",
              "  38,\n",
              "  40,\n",
              "  42,\n",
              "  43,\n",
              "  44,\n",
              "  46,\n",
              "  47,\n",
              "  48},\n",
              " {4, 5})"
            ]
          },
          "execution_count": 31,
          "metadata": {},
          "output_type": "execute_result"
        }
      ],
      "source": [
        "marvel_vs_dc(marvel_fans, dc_fans)"
      ]
    },
    {
      "cell_type": "code",
      "execution_count": null,
      "id": "6fef8864",
      "metadata": {
        "id": "6fef8864",
        "outputId": "6ff16020-04d6-4869-9304-f17b1c7d32b6"
      },
      "outputs": [
        {
          "data": {
            "text/plain": [
              "'\\nQuestion 3 - \\n\\nUltimate Palindrome - Given a number as input return True if ultimate palindrome else False.\\n    - Palindrome ( 767, 7657567 )\\n    - Prime Number\\n'"
            ]
          },
          "execution_count": 32,
          "metadata": {},
          "output_type": "execute_result"
        }
      ],
      "source": [
        "'''\n",
        "Question 3 - \n",
        "\n",
        "Ultimate Palindrome - Given a number as input return True if ultimate palindrome else False.\n",
        "    - Palindrome ( 767, 7657567 )\n",
        "    - Prime Number\n",
        "'''"
      ]
    },
    {
      "cell_type": "code",
      "execution_count": null,
      "id": "841dc13e",
      "metadata": {
        "id": "841dc13e"
      },
      "outputs": [],
      "source": [
        "number = 78987"
      ]
    },
    {
      "cell_type": "code",
      "execution_count": null,
      "id": "0b1713a5",
      "metadata": {
        "id": "0b1713a5"
      },
      "outputs": [],
      "source": [
        "string_number = str(number)"
      ]
    },
    {
      "cell_type": "code",
      "execution_count": null,
      "id": "a3307e41",
      "metadata": {
        "id": "a3307e41",
        "outputId": "d3772fc7-fcf4-4e96-d149-01a3f61190e1"
      },
      "outputs": [
        {
          "data": {
            "text/plain": [
              "'78987'"
            ]
          },
          "execution_count": 35,
          "metadata": {},
          "output_type": "execute_result"
        }
      ],
      "source": [
        "string_number"
      ]
    },
    {
      "cell_type": "code",
      "execution_count": null,
      "id": "05849c8c",
      "metadata": {
        "id": "05849c8c",
        "outputId": "5a7739a5-fb03-4690-8eb2-71b193217558"
      },
      "outputs": [
        {
          "data": {
            "text/plain": [
              "True"
            ]
          },
          "execution_count": 36,
          "metadata": {},
          "output_type": "execute_result"
        }
      ],
      "source": [
        "string_number == string_number[::-1]"
      ]
    },
    {
      "cell_type": "code",
      "execution_count": null,
      "id": "68fca6c7",
      "metadata": {
        "id": "68fca6c7"
      },
      "outputs": [],
      "source": [
        "def ultimate_palindrome(number):\n",
        "    s = str(number)\n",
        "    \n",
        "    # check for palindrome\n",
        "    is_palindrome = s == s[::-1]\n",
        "    \n",
        "    # check for prime\n",
        "    is_prime = True\n",
        "    \n",
        "    for i in range(2, number // 2 + 1):\n",
        "        if number % i == 0:\n",
        "            is_prime = False\n",
        "            break\n",
        "            \n",
        "    return is_palindrome and is_prime"
      ]
    },
    {
      "cell_type": "code",
      "execution_count": null,
      "id": "f927fb0d",
      "metadata": {
        "id": "f927fb0d",
        "outputId": "a910d571-8f71-4686-b9f0-c2f0d63bd791"
      },
      "outputs": [
        {
          "data": {
            "text/plain": [
              "False"
            ]
          },
          "execution_count": 39,
          "metadata": {},
          "output_type": "execute_result"
        }
      ],
      "source": [
        "ultimate_palindrome(7278)"
      ]
    },
    {
      "cell_type": "code",
      "execution_count": null,
      "id": "6dd6338d",
      "metadata": {
        "id": "6dd6338d"
      },
      "outputs": [],
      "source": [
        "# HOMEWORK - Reverse a number without using strings"
      ]
    },
    {
      "cell_type": "code",
      "execution_count": null,
      "id": "0004f60d",
      "metadata": {
        "id": "0004f60d"
      },
      "outputs": [],
      "source": []
    },
    {
      "cell_type": "markdown",
      "source": [
        "#Assignment\n"
      ],
      "metadata": {
        "id": "JLgm0TM3bTyh"
      },
      "id": "JLgm0TM3bTyh"
    },
    {
      "cell_type": "code",
      "source": [
        "for i in range(-6, -10, -1):\n",
        "     print(i, end =\" \")"
      ],
      "metadata": {
        "id": "JrzJEQXtbY06",
        "outputId": "a11e0ab0-0fb4-4831-a267-5b71e5a2254b",
        "colab": {
          "base_uri": "https://localhost:8080/"
        }
      },
      "id": "JrzJEQXtbY06",
      "execution_count": null,
      "outputs": [
        {
          "output_type": "stream",
          "name": "stdout",
          "text": [
            "-6 -7 -8 -9 "
          ]
        }
      ]
    },
    {
      "cell_type": "code",
      "source": [
        "x = [1, 2]\n",
        "y = [2, 3]\n",
        "\n",
        "for i in x:\n",
        "    for j in y:\n",
        "        print(i, j, end= \" \")"
      ],
      "metadata": {
        "id": "M_5BHGGubY9g",
        "outputId": "e99dc171-d5a3-4869-f678-5fbc1c0e670d",
        "colab": {
          "base_uri": "https://localhost:8080/"
        }
      },
      "id": "M_5BHGGubY9g",
      "execution_count": null,
      "outputs": [
        {
          "output_type": "stream",
          "name": "stdout",
          "text": [
            "1 2 1 3 2 2 2 3 "
          ]
        }
      ]
    },
    {
      "cell_type": "code",
      "source": [
        "x = 1\n",
        "for i in range(x):\n",
        "    x=x+1\n",
        "    print(i, end= \" \")"
      ],
      "metadata": {
        "id": "NfLKGo5NbZA4",
        "outputId": "b03d3174-ca0b-4dbc-ace1-b0c10e91b837",
        "colab": {
          "base_uri": "https://localhost:8080/"
        }
      },
      "id": "NfLKGo5NbZA4",
      "execution_count": null,
      "outputs": [
        {
          "output_type": "stream",
          "name": "stdout",
          "text": [
            "0 "
          ]
        }
      ]
    },
    {
      "cell_type": "code",
      "source": [],
      "metadata": {
        "id": "W2RjDpQBbZEz"
      },
      "id": "W2RjDpQBbZEz",
      "execution_count": null,
      "outputs": []
    },
    {
      "cell_type": "markdown",
      "source": [
        "# New section"
      ],
      "metadata": {
        "id": "2kwD63dqbXNy"
      },
      "id": "2kwD63dqbXNy"
    },
    {
      "cell_type": "code",
      "source": [],
      "metadata": {
        "id": "5ffbhZ2R2xKl"
      },
      "id": "5ffbhZ2R2xKl",
      "execution_count": null,
      "outputs": []
    },
    {
      "cell_type": "code",
      "source": [],
      "metadata": {
        "id": "z7o-CMIk2xXV"
      },
      "id": "z7o-CMIk2xXV",
      "execution_count": null,
      "outputs": []
    },
    {
      "cell_type": "code",
      "source": [],
      "metadata": {
        "id": "p3jmh6pD2xa_"
      },
      "id": "p3jmh6pD2xa_",
      "execution_count": null,
      "outputs": []
    },
    {
      "cell_type": "markdown",
      "source": [
        "##Q4. Power of 2\n",
        "Problem Description:\n",
        "Write a program to find out if the given number n is a power of 2 or not. Print \"Yes\" if the number is power of two else print \"No\". Assume that 0 <= n <= 1018\n",
        "\n",
        "Input Format:\n",
        "The number n in integer format\n",
        "Output Format:\n",
        "Print \"Yes\" if true else \"No\" in string format.\n",
        "Sample Input 1:4\n",
        "Sample Output 1:Yes\n",
        "Sample Input 2:15\n",
        "Sample Output 2:No"
      ],
      "metadata": {
        "id": "4x1vMts3OjHL"
      },
      "id": "4x1vMts3OjHL"
    },
    {
      "cell_type": "code",
      "source": [
        "# x = int(input())\n",
        "x = 1\n",
        "p = 1\n",
        "ans=\"No\"\n",
        "\n",
        "#YOUR CODE GOES HERE\n",
        "if x % 2 == 0 or x == 1:\n",
        "    print(\"Yes\")\n",
        "else:\n",
        "    print(\"No\")"
      ],
      "metadata": {
        "id": "AVWYYXHg2xeo",
        "outputId": "80d0a644-264f-4600-aa42-4acba6e621e8",
        "colab": {
          "base_uri": "https://localhost:8080/"
        }
      },
      "id": "AVWYYXHg2xeo",
      "execution_count": 2,
      "outputs": [
        {
          "output_type": "stream",
          "name": "stdout",
          "text": [
            "Yes\n"
          ]
        }
      ]
    },
    {
      "cell_type": "code",
      "source": [
        "x = int(input())\n",
        "p = 1\n",
        "ans=\"No\"\n",
        "\n",
        "for i in range(64):\n",
        "    if p==x:\n",
        "        ans=\"Yes\"\n",
        "    p*=2\n",
        "print(ans)"
      ],
      "metadata": {
        "id": "lwmUDzCm3t3i",
        "outputId": "50dd6fb5-6eb0-47e5-cd21-d78dfa297c65",
        "colab": {
          "base_uri": "https://localhost:8080/"
        }
      },
      "id": "lwmUDzCm3t3i",
      "execution_count": 5,
      "outputs": [
        {
          "output_type": "stream",
          "name": "stdout",
          "text": [
            "3\n",
            "No\n"
          ]
        }
      ]
    },
    {
      "cell_type": "markdown",
      "source": [
        "##Q5. Sum even_odd\n",
        "\n",
        "Problem Description:\n",
        "You are given an integer n, you need to find and return the sum of all even numbers and the sum of all odd numbers between 1 and n inclusive.\n",
        "Input Format:The only argument to the function is n.\n",
        "Output Format:Return integers denoting the sum of even numbers and the sum of odd numbers between [1, A] (both inclusive).\n",
        "Sample Input:\n",
        "1\n",
        "5\n",
        "Sample Output:\n",
        "6 9\n",
        "Output Explanation:\n",
        "6 is the sum of all even numbers between [1,5] i.e. 2+4\n",
        "9 is the sum of all odd numbers between [1,5] i.e. 1+3+5\n",
        "\n",
        "Python 3 (python-3.8)\n",
        "Syncing code...\n",
        "1"
      ],
      "metadata": {
        "id": "Ta6Qhkd8OT0z"
      },
      "id": "Ta6Qhkd8OT0z"
    },
    {
      "cell_type": "code",
      "source": [
        "def sum_even_odd(n):\n",
        "    sum_even=0\n",
        "    sum_odd=0\n",
        "    '''input: n = A single integer for the range where n is inclusive\n",
        "       output: sum_even and sum_odd is returned'''\n",
        "    \n",
        "    # YOUR CODE GOES HERE\n",
        "    for i in range(1,n+1):\n",
        "        if(i%2 == 0):\n",
        "            print(i)\n",
        "            sum_even = sum_even + i\n",
        "        else:\n",
        "            sum_odd = sum_odd + i\n",
        "    \n",
        "    return sum_even,sum_odd\n",
        "\n",
        "print(\"Result: \", sum_even_odd(10))"
      ],
      "metadata": {
        "id": "6ISzbh33GzFw",
        "outputId": "8fc651c7-b1c9-4873-deda-c76b9e41ce5b",
        "colab": {
          "base_uri": "https://localhost:8080/"
        }
      },
      "id": "6ISzbh33GzFw",
      "execution_count": 7,
      "outputs": [
        {
          "output_type": "stream",
          "name": "stdout",
          "text": [
            "2\n",
            "4\n",
            "6\n",
            "8\n",
            "10\n",
            "Result:  (30, 25)\n"
          ]
        }
      ]
    },
    {
      "cell_type": "code",
      "source": [
        "from PyDictionary import PyDictionary\n",
        "  \n",
        "  \n",
        "dict = PyDictionary()"
      ],
      "metadata": {
        "id": "5l3QnylxTJS7",
        "outputId": "19c93ea5-862c-4460-e456-21c457245de4",
        "colab": {
          "base_uri": "https://localhost:8080/"
        }
      },
      "id": "5l3QnylxTJS7",
      "execution_count": 14,
      "outputs": [
        {
          "output_type": "stream",
          "name": "stdout",
          "text": [
            "Looking in indexes: https://pypi.org/simple, https://us-python.pkg.dev/colab-wheels/public/simple/\n",
            "\u001b[31mERROR: Could not find a version that satisfies the requirement load_dictionary (from versions: none)\u001b[0m\u001b[31m\n",
            "\u001b[0m\u001b[31mERROR: No matching distribution found for load_dictionary\u001b[0m\u001b[31m\n",
            "\u001b[0m"
          ]
        }
      ]
    },
    {
      "cell_type": "markdown",
      "source": [],
      "metadata": {
        "id": "a9VL2x1HM6SG"
      },
      "id": "a9VL2x1HM6SG"
    },
    {
      "cell_type": "code",
      "source": [
        "def product(lst):\n",
        "    ''' input:lst-List of elements in integer format\n",
        "         output:Return the product as result.'''\n",
        "    \n",
        "    result = 1\n",
        "    # YOUR CODE GOES HERE\n",
        "    for i in lst:\n",
        "        result = result * i\n",
        "    return result"
      ],
      "metadata": {
        "id": "gg7ew-wVTLkR"
      },
      "id": "gg7ew-wVTLkR",
      "execution_count": null,
      "outputs": []
    },
    {
      "cell_type": "markdown",
      "source": [
        "##Q6. print values\n",
        "\n",
        "What will be the output of the following code:\n",
        "\n",
        "for i in range(1):\n",
        "    for j in range(2):\n",
        "        for k in range(1):\n",
        "            print(\"a\", end=\" \")\n",
        "        print(end=\"\")\n",
        "    print(\"c\")"
      ],
      "metadata": {
        "id": "kXWyz-R7O2Hn"
      },
      "id": "kXWyz-R7O2Hn"
    },
    {
      "cell_type": "code",
      "source": [
        "for i in range(1):\n",
        "    for j in range(2):\n",
        "        for k in range(1):\n",
        "            print(\"a\", end=\" \")\n",
        "        print(end=\"\")\n",
        "    print(\"c\")"
      ],
      "metadata": {
        "id": "6VwYFJnb8-Hn",
        "outputId": "e381a68e-c29a-468f-f372-6ba09d6616e2",
        "colab": {
          "base_uri": "https://localhost:8080/"
        }
      },
      "id": "6VwYFJnb8-Hn",
      "execution_count": 6,
      "outputs": [
        {
          "output_type": "stream",
          "name": "stdout",
          "text": [
            "a a c\n"
          ]
        }
      ]
    },
    {
      "cell_type": "markdown",
      "source": [
        "##Q7. Product of elements\n",
        "Problem Description:\n",
        "Write a program that returns the product of all elements present in the array.\n",
        "Constraints:\n",
        "1 <= |A| <= 100\n",
        "1 <= A <= 100\n",
        "Note: It is guaranteed that the resultant product will be <= 1015\n",
        "Input Format:An integer array A as the function argument\n",
        "Output Format:Product of elements in integer format\n",
        "Sample Input:A = [7, 9, 2, 51]\n",
        "Sample Output:6426\n",
        "Sample explanation:\n",
        "The product of all the elements is 7 * 9 * 2 * 51 = 6426 is returned."
      ],
      "metadata": {
        "id": "PhurBpkMM84O"
      },
      "id": "PhurBpkMM84O"
    },
    {
      "cell_type": "code",
      "source": [
        "def product(lst):\n",
        "    ''' input:lst-List of elements in integer format\n",
        "         output:Return the product as result.'''\n",
        "    \n",
        "    result = 1\n",
        "    # YOUR CODE GOES HERE\n",
        "    for i in lst:\n",
        "        result = result * i\n",
        "    return result\n",
        "\n",
        "A = [7, 9, 2, 51] \n",
        "print(\"Result\",product(A))"
      ],
      "metadata": {
        "id": "79obd4ydM9Jr",
        "outputId": "a5247f27-05f4-4a54-ebf1-1322345d1309",
        "colab": {
          "base_uri": "https://localhost:8080/"
        }
      },
      "id": "79obd4ydM9Jr",
      "execution_count": 8,
      "outputs": [
        {
          "output_type": "stream",
          "name": "stdout",
          "text": [
            "Result 6426\n"
          ]
        }
      ]
    },
    {
      "cell_type": "markdown",
      "source": [
        "##Q8. Cricket Players\n",
        "\n",
        "Which of the options adds the elements 'Dhoni' and 'Virat' to the end of the given list?\n",
        "players = ['Jadeja','Rahul','Rohit'].\n",
        "So, the resultant list will be players = ['Jadeja','Rahul','Rohit','Dhoni','Virat']."
      ],
      "metadata": {
        "id": "qeISG7-qNfAE"
      },
      "id": "qeISG7-qNfAE"
    },
    {
      "cell_type": "code",
      "source": [
        "\n",
        "\n",
        "players = ['Jadeja','Rahul','Rohit']\n",
        "# players+='Dhoni Virat' --> Not Working\n",
        "# players[len(players):] = ['Dhoni','Virat'] ---> Working\n",
        "players[-1:] = ['Dhoni','Virat']\n",
        "# players+=['Dhoni','Virat']-Working\n",
        "print(players)\n"
      ],
      "metadata": {
        "id": "xNvhgHOS9WTB",
        "outputId": "b7356912-e57a-4da2-b2dd-56847168275e",
        "colab": {
          "base_uri": "https://localhost:8080/"
        }
      },
      "id": "xNvhgHOS9WTB",
      "execution_count": 12,
      "outputs": [
        {
          "output_type": "stream",
          "name": "stdout",
          "text": [
            "['Jadeja', 'Rahul', 'Dhoni', 'Virat']\n"
          ]
        }
      ]
    },
    {
      "cell_type": "code",
      "source": [
        "def perfect_number(n):\n",
        "  x = n\n",
        "  mid = x//2\n",
        "  ans = 0\n",
        "  for i in range(mid):\n",
        "    ans = ans + i\n",
        "    if ans == mid:\n",
        "      return 1\n",
        "  return 0\n",
        "\n",
        "\n",
        "print(perfect_number(496))\n",
        "\n",
        "\n"
      ],
      "metadata": {
        "id": "2Sg8xfiW9G9I",
        "outputId": "d4b62ed6-c7da-4080-a9f8-bcf61b56d379",
        "colab": {
          "base_uri": "https://localhost:8080/"
        }
      },
      "id": "2Sg8xfiW9G9I",
      "execution_count": 9,
      "outputs": [
        {
          "output_type": "stream",
          "name": "stdout",
          "text": [
            "0\n"
          ]
        }
      ]
    },
    {
      "cell_type": "code",
      "source": [
        "a= ['data', 'python', 'scaler', 'ML', 'foo', 'Jupyter', 'lists']\n",
        "print(a[-6:-3])\n",
        "print(a[5::-3])\n",
        "print(a[-7])\n",
        "print(a[:]==a)\n"
      ],
      "metadata": {
        "id": "05BqCjYP_ta4",
        "outputId": "f8dd838e-4570-494e-ab1e-240f42d9500e",
        "colab": {
          "base_uri": "https://localhost:8080/"
        }
      },
      "id": "05BqCjYP_ta4",
      "execution_count": 12,
      "outputs": [
        {
          "output_type": "stream",
          "name": "stdout",
          "text": [
            "['python', 'scaler', 'ML']\n",
            "['Jupyter', 'scaler']\n",
            "data\n",
            "True\n"
          ]
        }
      ]
    },
    {
      "cell_type": "markdown",
      "source": [
        "##Q10. Perfect Number\n",
        "\n",
        "Problem Description:\n",
        "Write a function to check whether a given number n as an input to the function is a perfect number or not. If the given integer is a perfect number return 1 else return 0.\n",
        "Note: In number theory, a perfect number is a positive integer that is equal to the sum of its proper positive divisors, that is, the sum of its positive divisors excluding the number itself (also known as its aliquot sum).\n",
        "Input Format:The only argument to the function is an integer n.\n",
        "Output Format:Print out 1 if the number is perfect else 0 in integer format.\n",
        "Sample Input: 6\n",
        "Sample Output:1\n",
        "Sample Explanation:\n",
        "Given number is 6. 1, 2, and 3 are its proper positive divisors, and 1 + 2 + 3 = 6. Equivalently, the number 6 is equal to half the sum of all its positive divisors: ( 1 + 2 + 3 + 6 ) / 2 = 6. Hence 6 is a perfect number."
      ],
      "metadata": {
        "id": "S0QTwFWKN2Te"
      },
      "id": "S0QTwFWKN2Te"
    },
    {
      "cell_type": "code",
      "source": [
        "def perfect_number(n):\n",
        "  x = n\n",
        "  mid = x//2\n",
        "  ans = 0\n",
        "  for i in range(1,mid):\n",
        "    if n%i == 0:\n",
        "      ans = ans + i\n",
        "    if ans == mid:\n",
        "      return 1\n",
        "  return 0\n",
        "\n",
        "\n",
        "print(perfect_number(496))"
      ],
      "metadata": {
        "id": "gpL1_vwq-WhX",
        "outputId": "2c9eef46-2245-4ca1-8134-f4c792c50324",
        "colab": {
          "base_uri": "https://localhost:8080/"
        }
      },
      "id": "gpL1_vwq-WhX",
      "execution_count": 11,
      "outputs": [
        {
          "output_type": "stream",
          "name": "stdout",
          "text": [
            "1\n"
          ]
        }
      ]
    }
  ],
  "metadata": {
    "kernelspec": {
      "display_name": "Python 3 (ipykernel)",
      "language": "python",
      "name": "python3"
    },
    "language_info": {
      "codemirror_mode": {
        "name": "ipython",
        "version": 3
      },
      "file_extension": ".py",
      "mimetype": "text/x-python",
      "name": "python",
      "nbconvert_exporter": "python",
      "pygments_lexer": "ipython3",
      "version": "3.9.5"
    },
    "colab": {
      "provenance": [],
      "toc_visible": true,
      "include_colab_link": true
    }
  },
  "nbformat": 4,
  "nbformat_minor": 5
}