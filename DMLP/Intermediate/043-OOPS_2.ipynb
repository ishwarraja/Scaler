{
  "cells": [
    {
      "cell_type": "markdown",
      "metadata": {
        "id": "view-in-github",
        "colab_type": "text"
      },
      "source": [
        "<a href=\"https://colab.research.google.com/github/ishwarraja/Scaler/blob/main/DMLP/Intermediate/043-OOPS_2.ipynb\" target=\"_parent\"><img src=\"https://colab.research.google.com/assets/colab-badge.svg\" alt=\"Open In Colab\"/></a>"
      ]
    },
    {
      "cell_type": "code",
      "execution_count": null,
      "id": "6ffca820",
      "metadata": {
        "id": "6ffca820"
      },
      "outputs": [],
      "source": [
        "class Student:\n",
        "    def __init__(self, name, age):\n",
        "        print(f\"ID of self - {id(self)}\")\n",
        "        \n",
        "        # Instane Variables / Instance Attributes\n",
        "        self.name = name\n",
        "        self.age = age"
      ]
    },
    {
      "cell_type": "code",
      "execution_count": null,
      "id": "d9e537d4",
      "metadata": {
        "id": "d9e537d4",
        "outputId": "e1f4c9ba-6ad8-4b0d-c405-a866d552db2e"
      },
      "outputs": [
        {
          "name": "stdout",
          "output_type": "stream",
          "text": [
            "ID of self - 140162770981408\n"
          ]
        }
      ],
      "source": [
        "a = Student(\"Bipin Kalra\", 5000)"
      ]
    },
    {
      "cell_type": "code",
      "execution_count": null,
      "id": "bc068c16",
      "metadata": {
        "id": "bc068c16",
        "outputId": "f5f996a2-7f9f-4345-c395-59632eca908e"
      },
      "outputs": [
        {
          "data": {
            "text/plain": [
              "140162770981408"
            ]
          },
          "execution_count": 16,
          "metadata": {},
          "output_type": "execute_result"
        }
      ],
      "source": [
        "id(a)"
      ]
    },
    {
      "cell_type": "code",
      "execution_count": null,
      "id": "3c3759dc",
      "metadata": {
        "id": "3c3759dc",
        "outputId": "9da2d448-2127-4d08-d179-a5e67b6db43e"
      },
      "outputs": [
        {
          "data": {
            "text/plain": [
              "<__main__.Student at 0x7f7a302cd220>"
            ]
          },
          "execution_count": 17,
          "metadata": {},
          "output_type": "execute_result"
        }
      ],
      "source": [
        "a"
      ]
    },
    {
      "cell_type": "code",
      "execution_count": null,
      "id": "51ed9653",
      "metadata": {
        "id": "51ed9653",
        "outputId": "ea5cec85-0f0a-45b1-940e-01212e8efbd2"
      },
      "outputs": [
        {
          "data": {
            "text/plain": [
              "'Bipin Kalra'"
            ]
          },
          "execution_count": 18,
          "metadata": {},
          "output_type": "execute_result"
        }
      ],
      "source": [
        "a.name"
      ]
    },
    {
      "cell_type": "code",
      "execution_count": null,
      "id": "cfb36517",
      "metadata": {
        "id": "cfb36517",
        "outputId": "11cd1656-e02a-46a4-d6a0-c1e847d7de42"
      },
      "outputs": [
        {
          "data": {
            "text/plain": [
              "5000"
            ]
          },
          "execution_count": 19,
          "metadata": {},
          "output_type": "execute_result"
        }
      ],
      "source": [
        "a.age"
      ]
    },
    {
      "cell_type": "code",
      "execution_count": null,
      "id": "1a02e2a6",
      "metadata": {
        "id": "1a02e2a6"
      },
      "outputs": [],
      "source": [
        "class Dog:\n",
        "    # CLASS VARIABLE\n",
        "    kind = \"labra\"\n",
        "    \n",
        "    def __init__(self, name):\n",
        "        # INSTANCE VARIABLE\n",
        "        self.name = name"
      ]
    },
    {
      "cell_type": "code",
      "execution_count": null,
      "id": "8f8f7ba7",
      "metadata": {
        "id": "8f8f7ba7"
      },
      "outputs": [],
      "source": [
        "d1 = Dog(\"Tuffy\")\n",
        "d2 = Dog(\"Scooby\")"
      ]
    },
    {
      "cell_type": "code",
      "execution_count": null,
      "id": "d7316909",
      "metadata": {
        "id": "d7316909",
        "outputId": "229d2165-1a25-4e61-c141-b4c9b85eea2a"
      },
      "outputs": [
        {
          "data": {
            "text/plain": [
              "'Tuffy'"
            ]
          },
          "execution_count": 23,
          "metadata": {},
          "output_type": "execute_result"
        }
      ],
      "source": [
        "d1.name"
      ]
    },
    {
      "cell_type": "code",
      "execution_count": null,
      "id": "c8dcf79c",
      "metadata": {
        "id": "c8dcf79c",
        "outputId": "a2eea236-480f-45cd-b0e7-4db693ecfe60"
      },
      "outputs": [
        {
          "data": {
            "text/plain": [
              "'Scooby'"
            ]
          },
          "execution_count": 24,
          "metadata": {},
          "output_type": "execute_result"
        }
      ],
      "source": [
        "d2.name"
      ]
    },
    {
      "cell_type": "code",
      "execution_count": null,
      "id": "bb0d4872",
      "metadata": {
        "id": "bb0d4872",
        "outputId": "1e46077b-d479-4ee5-c904-9c4f4bdfe2ad"
      },
      "outputs": [
        {
          "data": {
            "text/plain": [
              "'labra'"
            ]
          },
          "execution_count": 25,
          "metadata": {},
          "output_type": "execute_result"
        }
      ],
      "source": [
        "d1.kind"
      ]
    },
    {
      "cell_type": "code",
      "execution_count": null,
      "id": "7eb17de2",
      "metadata": {
        "id": "7eb17de2",
        "outputId": "ac84234e-7a53-4c34-c7f5-6a3f6cdd1e45"
      },
      "outputs": [
        {
          "data": {
            "text/plain": [
              "'labra'"
            ]
          },
          "execution_count": 26,
          "metadata": {},
          "output_type": "execute_result"
        }
      ],
      "source": [
        "d2.kind"
      ]
    },
    {
      "cell_type": "code",
      "execution_count": null,
      "id": "ed120d9f",
      "metadata": {
        "id": "ed120d9f"
      },
      "outputs": [],
      "source": [
        "# FROM AN OBJECT -> YOU CAN ACCESS BOTH INSTANCE AND CLASS VARIABLES"
      ]
    },
    {
      "cell_type": "code",
      "execution_count": null,
      "id": "c4f6d663",
      "metadata": {
        "id": "c4f6d663",
        "outputId": "a4a0888a-0c94-410a-fd79-460064bb709a"
      },
      "outputs": [
        {
          "data": {
            "text/plain": [
              "'labra'"
            ]
          },
          "execution_count": 28,
          "metadata": {},
          "output_type": "execute_result"
        }
      ],
      "source": [
        "Dog.kind"
      ]
    },
    {
      "cell_type": "code",
      "execution_count": null,
      "id": "4a2e0886",
      "metadata": {
        "id": "4a2e0886",
        "outputId": "98bdecdb-2023-4fb5-ba5d-3ec39bc6b3f3"
      },
      "outputs": [
        {
          "ename": "AttributeError",
          "evalue": "type object 'Dog' has no attribute 'name'",
          "output_type": "error",
          "traceback": [
            "\u001b[0;31m---------------------------------------------------------------------------\u001b[0m",
            "\u001b[0;31mAttributeError\u001b[0m                            Traceback (most recent call last)",
            "\u001b[0;32m/var/folders/nn/c52y0d3j0gq59dpsswchkt2r0000gn/T/ipykernel_55835/4053790346.py\u001b[0m in \u001b[0;36m<module>\u001b[0;34m\u001b[0m\n\u001b[0;32m----> 1\u001b[0;31m \u001b[0mDog\u001b[0m\u001b[0;34m.\u001b[0m\u001b[0mname\u001b[0m\u001b[0;34m\u001b[0m\u001b[0;34m\u001b[0m\u001b[0m\n\u001b[0m",
            "\u001b[0;31mAttributeError\u001b[0m: type object 'Dog' has no attribute 'name'"
          ]
        }
      ],
      "source": [
        "Dog.name"
      ]
    },
    {
      "cell_type": "code",
      "execution_count": null,
      "id": "594f998e",
      "metadata": {
        "id": "594f998e"
      },
      "outputs": [],
      "source": [
        "d1.kind = \"german shepherd\""
      ]
    },
    {
      "cell_type": "code",
      "execution_count": null,
      "id": "c8ecc5a7",
      "metadata": {
        "id": "c8ecc5a7",
        "outputId": "c091b213-bae0-4804-bad6-36df43a5dc3a"
      },
      "outputs": [
        {
          "data": {
            "text/plain": [
              "'german shepherd'"
            ]
          },
          "execution_count": 31,
          "metadata": {},
          "output_type": "execute_result"
        }
      ],
      "source": [
        "d1.kind"
      ]
    },
    {
      "cell_type": "code",
      "execution_count": null,
      "id": "a1898001",
      "metadata": {
        "id": "a1898001",
        "outputId": "803960c9-2e73-4608-f868-9db3a96a4fe8"
      },
      "outputs": [
        {
          "data": {
            "text/plain": [
              "'labra'"
            ]
          },
          "execution_count": 32,
          "metadata": {},
          "output_type": "execute_result"
        }
      ],
      "source": [
        "d2.kind"
      ]
    },
    {
      "cell_type": "code",
      "execution_count": null,
      "id": "32f43ab1",
      "metadata": {
        "id": "32f43ab1",
        "outputId": "0ffb6a33-e22b-4a4d-9615-0abb42b45180"
      },
      "outputs": [
        {
          "data": {
            "text/plain": [
              "'labra'"
            ]
          },
          "execution_count": 33,
          "metadata": {},
          "output_type": "execute_result"
        }
      ],
      "source": [
        "Dog.kind"
      ]
    },
    {
      "cell_type": "code",
      "execution_count": null,
      "id": "836572b3",
      "metadata": {
        "id": "836572b3"
      },
      "outputs": [],
      "source": [
        "class Dog:\n",
        "    tricks = []\n",
        "    \n",
        "    def __init__(self, name):\n",
        "        self.name = name\n",
        "        \n",
        "    def teach_trick(self, trick):\n",
        "        self.tricks.append(trick)"
      ]
    },
    {
      "cell_type": "code",
      "execution_count": null,
      "id": "e310f756",
      "metadata": {
        "id": "e310f756"
      },
      "outputs": [],
      "source": [
        "d1 = Dog(\"Tuffy\")\n",
        "d2 = Dog(\"Scooby\")"
      ]
    },
    {
      "cell_type": "code",
      "execution_count": null,
      "id": "18fb302f",
      "metadata": {
        "id": "18fb302f"
      },
      "outputs": [],
      "source": [
        "d1.teach_trick(\"jump\")"
      ]
    },
    {
      "cell_type": "code",
      "execution_count": null,
      "id": "f8ca6472",
      "metadata": {
        "id": "f8ca6472"
      },
      "outputs": [],
      "source": [
        "d1.teach_trick(\"sit\")"
      ]
    },
    {
      "cell_type": "code",
      "execution_count": null,
      "id": "cd2ed86b",
      "metadata": {
        "id": "cd2ed86b",
        "outputId": "fddd3e57-7365-4038-8cf2-4f5b82a80da6"
      },
      "outputs": [
        {
          "data": {
            "text/plain": [
              "['jump', 'sit']"
            ]
          },
          "execution_count": 40,
          "metadata": {},
          "output_type": "execute_result"
        }
      ],
      "source": [
        "d1.tricks"
      ]
    },
    {
      "cell_type": "code",
      "execution_count": null,
      "id": "16f8f388",
      "metadata": {
        "id": "16f8f388",
        "outputId": "19b73157-dc45-4a0e-885b-a7001efa3d20"
      },
      "outputs": [
        {
          "data": {
            "text/plain": [
              "['jump', 'sit']"
            ]
          },
          "execution_count": 42,
          "metadata": {},
          "output_type": "execute_result"
        }
      ],
      "source": [
        "d2.tricks"
      ]
    },
    {
      "cell_type": "code",
      "execution_count": null,
      "id": "9bdcb154",
      "metadata": {
        "id": "9bdcb154",
        "outputId": "c97afb56-efb5-4324-ac9d-2f062a028890"
      },
      "outputs": [
        {
          "data": {
            "text/plain": [
              "['jump', 'sit']"
            ]
          },
          "execution_count": 43,
          "metadata": {},
          "output_type": "execute_result"
        }
      ],
      "source": [
        "Dog.tricks"
      ]
    },
    {
      "cell_type": "code",
      "execution_count": null,
      "id": "7f1826cf",
      "metadata": {
        "id": "7f1826cf",
        "outputId": "0c740f94-3722-4d0c-a205-77260921f77c"
      },
      "outputs": [
        {
          "data": {
            "text/plain": [
              "'\\nClass Variables vs Instance Variables ->\\n\\nUpdating an class variable using an object - \\n    - Mutable Variable -> The class variable itself is modified\\n    - Immutable Variable -> A new instance variable is created just for that object\\n'"
            ]
          },
          "execution_count": 44,
          "metadata": {},
          "output_type": "execute_result"
        }
      ],
      "source": [
        "'''\n",
        "Class Variables vs Instance Variables ->\n",
        "\n",
        "Updating an class variable using an object - \n",
        "    - Mutable Variable -> The class variable itself is modified\n",
        "    - Immutable Variable -> A new instance variable is created just for that object\n",
        "'''"
      ]
    },
    {
      "cell_type": "code",
      "execution_count": null,
      "id": "cb1676c4",
      "metadata": {
        "id": "cb1676c4"
      },
      "outputs": [],
      "source": [
        "# MAGIC METHODS / DUNDERS"
      ]
    },
    {
      "cell_type": "code",
      "execution_count": null,
      "id": "e9d4199a",
      "metadata": {
        "id": "e9d4199a"
      },
      "outputs": [],
      "source": [
        "class Car:\n",
        "    def __init__(self, name, milaege):\n",
        "        self.name = name\n",
        "        self.milaege = milaege\n",
        "        \n",
        "    def __str__(self):\n",
        "        return f\"{self.name} -> {self.milaege}\"\n",
        "    \n",
        "    def __add__(self, other):\n",
        "        return self.name + other.name\n",
        "    \n",
        "    def __gt__(self, other):\n",
        "        return self.milaege > other.milaege"
      ]
    },
    {
      "cell_type": "code",
      "execution_count": null,
      "id": "82932842",
      "metadata": {
        "id": "82932842"
      },
      "outputs": [],
      "source": [
        "c1 = Car(\"Nexon\", 13)\n",
        "c2 = Car(\"Altroz\", 14)"
      ]
    },
    {
      "cell_type": "code",
      "execution_count": null,
      "id": "11273ff9",
      "metadata": {
        "id": "11273ff9",
        "outputId": "5865abd4-928b-4431-b8df-c6196566500a"
      },
      "outputs": [
        {
          "name": "stdout",
          "output_type": "stream",
          "text": [
            "Nexon -> 13\n"
          ]
        }
      ],
      "source": [
        "print(c1)\n",
        "\n",
        "# Car.__str__(c1)"
      ]
    },
    {
      "cell_type": "code",
      "execution_count": null,
      "id": "c9c2bce3",
      "metadata": {
        "id": "c9c2bce3",
        "outputId": "3068c6b6-53d2-464e-a06a-75cf45e862b1"
      },
      "outputs": [
        {
          "name": "stdout",
          "output_type": "stream",
          "text": [
            "Altroz -> 14\n"
          ]
        }
      ],
      "source": [
        "print(c2)"
      ]
    },
    {
      "cell_type": "code",
      "execution_count": null,
      "id": "a93c4636",
      "metadata": {
        "id": "a93c4636",
        "outputId": "32d9ac6a-82b2-4b38-b130-beb41e5aafe1"
      },
      "outputs": [
        {
          "data": {
            "text/plain": [
              "'NexonAltroz'"
            ]
          },
          "execution_count": 73,
          "metadata": {},
          "output_type": "execute_result"
        }
      ],
      "source": [
        "c1 + c2\n",
        "\n",
        "# c1.__add__(c2)\n",
        "# Car.__add__(c1, c2)"
      ]
    },
    {
      "cell_type": "code",
      "execution_count": null,
      "id": "0bac827a",
      "metadata": {
        "id": "0bac827a",
        "outputId": "b24beee4-3b0a-41c0-c45f-84dddc6793ee"
      },
      "outputs": [
        {
          "data": {
            "text/plain": [
              "False"
            ]
          },
          "execution_count": 74,
          "metadata": {},
          "output_type": "execute_result"
        }
      ],
      "source": [
        "c1 > c2"
      ]
    },
    {
      "cell_type": "code",
      "execution_count": null,
      "id": "f96c9e26",
      "metadata": {
        "id": "f96c9e26"
      },
      "outputs": [],
      "source": [
        "class BankAccount:\n",
        "    def __init__(self, initial_balance):\n",
        "        self.balance = initial_balance\n",
        "        \n",
        "    def withdraw(self, amount):\n",
        "        self.balance -= amount\n",
        "        \n",
        "    def deposit(self, amount):\n",
        "        self.balance += amount"
      ]
    },
    {
      "cell_type": "code",
      "execution_count": null,
      "id": "ad93cf66",
      "metadata": {
        "id": "ad93cf66"
      },
      "outputs": [],
      "source": [
        "b1 = BankAccount(10000)"
      ]
    },
    {
      "cell_type": "code",
      "execution_count": null,
      "id": "8e398703",
      "metadata": {
        "id": "8e398703",
        "outputId": "815f6380-0284-444f-d86f-254143fa572c"
      },
      "outputs": [
        {
          "data": {
            "text/plain": [
              "10000"
            ]
          },
          "execution_count": 79,
          "metadata": {},
          "output_type": "execute_result"
        }
      ],
      "source": [
        "b1.balance"
      ]
    },
    {
      "cell_type": "code",
      "execution_count": null,
      "id": "6fb93e19",
      "metadata": {
        "id": "6fb93e19"
      },
      "outputs": [],
      "source": [
        "b1.deposit(5000)"
      ]
    },
    {
      "cell_type": "code",
      "execution_count": null,
      "id": "a5b4799b",
      "metadata": {
        "id": "a5b4799b"
      },
      "outputs": [],
      "source": [
        "b1.withdraw(15000)"
      ]
    },
    {
      "cell_type": "code",
      "execution_count": null,
      "id": "7fd5914e",
      "metadata": {
        "id": "7fd5914e",
        "outputId": "d0dfae03-7a59-49ae-fea6-af55d3caec7b"
      },
      "outputs": [
        {
          "data": {
            "text/plain": [
              "0"
            ]
          },
          "execution_count": 82,
          "metadata": {},
          "output_type": "execute_result"
        }
      ],
      "source": [
        "b1.balance"
      ]
    },
    {
      "cell_type": "code",
      "execution_count": null,
      "id": "dd1ce6bb",
      "metadata": {
        "id": "dd1ce6bb"
      },
      "outputs": [],
      "source": [
        "b1.balance = 123456789098765432345678909876543212345678987654321"
      ]
    },
    {
      "cell_type": "code",
      "execution_count": null,
      "id": "b4652be1",
      "metadata": {
        "id": "b4652be1"
      },
      "outputs": [],
      "source": [
        "# Private Variables"
      ]
    },
    {
      "cell_type": "code",
      "execution_count": null,
      "id": "45623b27",
      "metadata": {
        "id": "45623b27"
      },
      "outputs": [],
      "source": [
        "class BankAccount:\n",
        "    def __init__(self, initial_balance):\n",
        "        self.__balance = initial_balance # __balance is a private variable\n",
        "        \n",
        "    def withdraw(self, amount):\n",
        "        self.__balance -= amount\n",
        "        \n",
        "    def deposit(self, amount):\n",
        "        self.__balance += amount\n",
        "        \n",
        "    def show_balance(self):\n",
        "        return f\"Balance = {self.__balance}\""
      ]
    },
    {
      "cell_type": "code",
      "execution_count": null,
      "id": "2b1bb9f5",
      "metadata": {
        "id": "2b1bb9f5"
      },
      "outputs": [],
      "source": [
        "b1 = BankAccount(10000)"
      ]
    },
    {
      "cell_type": "code",
      "execution_count": null,
      "id": "64113eb5",
      "metadata": {
        "id": "64113eb5",
        "outputId": "7d000292-668f-4197-c896-43b2b20a5b0f"
      },
      "outputs": [
        {
          "ename": "AttributeError",
          "evalue": "'BankAccount' object has no attribute '__balance'",
          "output_type": "error",
          "traceback": [
            "\u001b[0;31m---------------------------------------------------------------------------\u001b[0m",
            "\u001b[0;31mAttributeError\u001b[0m                            Traceback (most recent call last)",
            "\u001b[0;32m/var/folders/nn/c52y0d3j0gq59dpsswchkt2r0000gn/T/ipykernel_55835/2775405839.py\u001b[0m in \u001b[0;36m<module>\u001b[0;34m\u001b[0m\n\u001b[0;32m----> 1\u001b[0;31m \u001b[0mb1\u001b[0m\u001b[0;34m.\u001b[0m\u001b[0m__balance\u001b[0m\u001b[0;34m\u001b[0m\u001b[0;34m\u001b[0m\u001b[0m\n\u001b[0m",
            "\u001b[0;31mAttributeError\u001b[0m: 'BankAccount' object has no attribute '__balance'"
          ]
        }
      ],
      "source": [
        "b1.__balance"
      ]
    },
    {
      "cell_type": "code",
      "execution_count": null,
      "id": "aac11a8c",
      "metadata": {
        "id": "aac11a8c",
        "outputId": "38c2cfad-51c2-4199-c412-87267eb531b0"
      },
      "outputs": [
        {
          "data": {
            "text/plain": [
              "'Balance = 10000'"
            ]
          },
          "execution_count": 94,
          "metadata": {},
          "output_type": "execute_result"
        }
      ],
      "source": [
        "b1.show_balance()"
      ]
    },
    {
      "cell_type": "code",
      "execution_count": null,
      "id": "ebb673ac",
      "metadata": {
        "id": "ebb673ac",
        "outputId": "ee238dcd-3e6c-43ab-d3c6-dc7af8dd56e3"
      },
      "outputs": [
        {
          "ename": "AttributeError",
          "evalue": "'BankAccount' object has no attribute '__balance'",
          "output_type": "error",
          "traceback": [
            "\u001b[0;31m---------------------------------------------------------------------------\u001b[0m",
            "\u001b[0;31mAttributeError\u001b[0m                            Traceback (most recent call last)",
            "\u001b[0;32m/var/folders/nn/c52y0d3j0gq59dpsswchkt2r0000gn/T/ipykernel_55835/2775405839.py\u001b[0m in \u001b[0;36m<module>\u001b[0;34m\u001b[0m\n\u001b[0;32m----> 1\u001b[0;31m \u001b[0mb1\u001b[0m\u001b[0;34m.\u001b[0m\u001b[0m__balance\u001b[0m\u001b[0;34m\u001b[0m\u001b[0;34m\u001b[0m\u001b[0m\n\u001b[0m",
            "\u001b[0;31mAttributeError\u001b[0m: 'BankAccount' object has no attribute '__balance'"
          ]
        }
      ],
      "source": [
        "b1.__balance"
      ]
    },
    {
      "cell_type": "code",
      "execution_count": null,
      "id": "bb5700d7",
      "metadata": {
        "id": "bb5700d7"
      },
      "outputs": [],
      "source": [
        "b1.__balance = 12345678987654321345678987654321234567897654321"
      ]
    },
    {
      "cell_type": "code",
      "execution_count": null,
      "id": "40ebe148",
      "metadata": {
        "id": "40ebe148",
        "outputId": "ce40f56b-2b1a-4cf0-ad10-ad8f25e8211a"
      },
      "outputs": [
        {
          "data": {
            "text/plain": [
              "12345678987654321345678987654321234567897654321"
            ]
          },
          "execution_count": 97,
          "metadata": {},
          "output_type": "execute_result"
        }
      ],
      "source": [
        "b1.__balance"
      ]
    },
    {
      "cell_type": "code",
      "execution_count": null,
      "id": "afb7136a",
      "metadata": {
        "id": "afb7136a",
        "outputId": "85dcbe7e-3d52-4dd0-e6c4-586888c0b8a1"
      },
      "outputs": [
        {
          "data": {
            "text/plain": [
              "'Balance = 10000'"
            ]
          },
          "execution_count": 98,
          "metadata": {},
          "output_type": "execute_result"
        }
      ],
      "source": [
        "b1.show_balance()"
      ]
    },
    {
      "cell_type": "code",
      "execution_count": null,
      "id": "74d2f8d7",
      "metadata": {
        "id": "74d2f8d7",
        "outputId": "e879f02b-10e4-4c24-8857-79fb9f4ab874"
      },
      "outputs": [
        {
          "data": {
            "text/plain": [
              "0"
            ]
          },
          "execution_count": 104,
          "metadata": {},
          "output_type": "execute_result"
        }
      ],
      "source": [
        "b1._BankAccount__balance # NAME MANGLING\n",
        "\n",
        "# this variable is created instead of __balance"
      ]
    },
    {
      "cell_type": "code",
      "execution_count": null,
      "id": "5deb573b",
      "metadata": {
        "id": "5deb573b"
      },
      "outputs": [],
      "source": [
        "b1._BankAccount__balance = 0"
      ]
    },
    {
      "cell_type": "code",
      "execution_count": null,
      "id": "5a01ef4b",
      "metadata": {
        "id": "5a01ef4b",
        "outputId": "7e77d5d4-25ee-4a60-d4a9-7272c8198cad"
      },
      "outputs": [
        {
          "data": {
            "text/plain": [
              "'Balance = 0'"
            ]
          },
          "execution_count": 106,
          "metadata": {},
          "output_type": "execute_result"
        }
      ],
      "source": [
        "b1.show_balance()"
      ]
    },
    {
      "cell_type": "code",
      "execution_count": null,
      "id": "4463715e",
      "metadata": {
        "id": "4463715e"
      },
      "outputs": [],
      "source": [
        "class SchoolMember:\n",
        "    def __init__(self, name):\n",
        "        self.name = name\n",
        "        \n",
        "class Student(SchoolMember):\n",
        "    def __init__(self, name, age):\n",
        "        self.age = age\n",
        "        \n",
        "        super().__init__(name)\n",
        "        \n",
        "class Staff(SchoolMember):\n",
        "    def __init__(self, name, salary):\n",
        "        self.salary = salary\n",
        "        \n",
        "        super().__init__(name)\n",
        "        \n",
        "class Teacher(Staff):\n",
        "    def __init__(self, name, salary, department):\n",
        "        self.department = department\n",
        "        \n",
        "        # Staff.__init__(self, name, salary)\n",
        "        super().__init__(name, salary)"
      ]
    },
    {
      "cell_type": "code",
      "execution_count": null,
      "id": "39d04308",
      "metadata": {
        "id": "39d04308"
      },
      "outputs": [],
      "source": [
        "t1 = Teacher(\"Bipin Kalra\", 10, \"Computer Science\")"
      ]
    },
    {
      "cell_type": "code",
      "execution_count": null,
      "id": "d638dc9b",
      "metadata": {
        "id": "d638dc9b",
        "outputId": "e1853431-4730-49c8-bdd4-06182de8079b"
      },
      "outputs": [
        {
          "data": {
            "text/plain": [
              "'Computer Science'"
            ]
          },
          "execution_count": 116,
          "metadata": {},
          "output_type": "execute_result"
        }
      ],
      "source": [
        "t1.department"
      ]
    },
    {
      "cell_type": "code",
      "execution_count": null,
      "id": "9edb67a8",
      "metadata": {
        "id": "9edb67a8",
        "outputId": "3c6ac5db-49db-41f7-a229-6c67adfb15fc"
      },
      "outputs": [
        {
          "data": {
            "text/plain": [
              "'Bipin Kalra'"
            ]
          },
          "execution_count": 117,
          "metadata": {},
          "output_type": "execute_result"
        }
      ],
      "source": [
        "t1.name"
      ]
    },
    {
      "cell_type": "code",
      "execution_count": null,
      "id": "077eed8e",
      "metadata": {
        "id": "077eed8e",
        "outputId": "a30dddcc-17b6-46b4-ff0b-a1980f865f3a"
      },
      "outputs": [
        {
          "data": {
            "text/plain": [
              "10"
            ]
          },
          "execution_count": 118,
          "metadata": {},
          "output_type": "execute_result"
        }
      ],
      "source": [
        "t1.salary"
      ]
    },
    {
      "cell_type": "code",
      "execution_count": null,
      "id": "7c162d6f",
      "metadata": {
        "id": "7c162d6f"
      },
      "outputs": [],
      "source": [
        "class A:\n",
        "    pass\n",
        "\n",
        "class B:\n",
        "    pass\n",
        "\n",
        "class C(A, B):\n",
        "    pass"
      ]
    },
    {
      "cell_type": "code",
      "execution_count": null,
      "id": "36c1736f",
      "metadata": {
        "id": "36c1736f"
      },
      "outputs": [],
      "source": [
        "# Research about how super() works in case of multiple inheritence."
      ]
    },
    {
      "cell_type": "code",
      "execution_count": null,
      "id": "fcb94045",
      "metadata": {
        "id": "fcb94045"
      },
      "outputs": [],
      "source": [
        "# DIAMOND INHERITENCE"
      ]
    },
    {
      "cell_type": "code",
      "execution_count": null,
      "id": "cc1bd149",
      "metadata": {
        "id": "cc1bd149"
      },
      "outputs": [],
      "source": [
        "class A:\n",
        "    x = 10\n",
        "\n",
        "class B(A):\n",
        "    pass\n",
        "\n",
        "class C(B):\n",
        "    pass\n",
        "    \n",
        "class D(A):\n",
        "    x = 5\n",
        "    \n",
        "class E(C, D):\n",
        "    pass"
      ]
    },
    {
      "cell_type": "code",
      "execution_count": null,
      "id": "aa813038",
      "metadata": {
        "id": "aa813038"
      },
      "outputs": [],
      "source": [
        "e = E()"
      ]
    },
    {
      "cell_type": "code",
      "execution_count": null,
      "id": "89496735",
      "metadata": {
        "id": "89496735",
        "outputId": "fad7b79f-1d42-4f25-ffc1-504e8367ea5f"
      },
      "outputs": [
        {
          "data": {
            "text/plain": [
              "5"
            ]
          },
          "execution_count": 141,
          "metadata": {},
          "output_type": "execute_result"
        }
      ],
      "source": [
        "e.x"
      ]
    },
    {
      "cell_type": "code",
      "execution_count": null,
      "id": "a02b9dde",
      "metadata": {
        "id": "a02b9dde",
        "outputId": "3f870580-5464-4886-f8ff-b2f292148d9e"
      },
      "outputs": [
        {
          "data": {
            "text/plain": [
              "(__main__.E, __main__.C, __main__.B, __main__.D, __main__.A, object)"
            ]
          },
          "execution_count": 132,
          "metadata": {},
          "output_type": "execute_result"
        }
      ],
      "source": [
        "E.__mro__ # special parameter to print MRO or Method Resolution Order"
      ]
    },
    {
      "cell_type": "code",
      "execution_count": null,
      "id": "62f93a4a",
      "metadata": {
        "id": "62f93a4a"
      },
      "outputs": [],
      "source": []
    },
    {
      "cell_type": "markdown",
      "source": [
        "#ASSIGNMENT"
      ],
      "metadata": {
        "id": "uWjZoOr6lMpH"
      },
      "id": "uWjZoOr6lMpH"
    },
    {
      "cell_type": "markdown",
      "source": [],
      "metadata": {
        "id": "3_n-JOzxnDdD"
      },
      "id": "3_n-JOzxnDdD"
    },
    {
      "cell_type": "code",
      "source": [
        "\n",
        "    \n",
        "class Smaller:\n",
        "    def __init__(self,a):\n",
        "        self.string=a\n",
        "\n",
        "    def display(self):\n",
        "        print(\"The type of Name is smaller\")\n",
        "    \n",
        "    def evaluate(self):\n",
        "        ans=0\n",
        "        vowel=['a','e','i','o','u']\n",
        "        # YOUR CODE GOES HERE\n",
        "        for i in range(len(self.string)):\n",
        "            if a[i] in vowel:\n",
        "                ans +=1\n",
        "        print(ans)\n",
        "        \n",
        "class Larger:\n",
        "    def __init__(self,a):\n",
        "        self.string=a\n",
        "    \n",
        "    def display(self):\n",
        "        print(\"The type of Name is larger\")\n",
        "    \n",
        "    def evaluate(self):\n",
        "        ans=0\n",
        "        \n",
        "        # YOUR CODE GOES HERE\n",
        "        print(ans)\n",
        "\n",
        "a = \"aman\"\n",
        "def main(a):\n",
        "    '''\n",
        "    input a is string\n",
        "    '''\n",
        "    if len(a)<6:\n",
        "        obj=smaller(a)\n",
        "        obj.display()\n",
        "        obj.evaluate()\n",
        "    else:\n",
        "        obj=larger(a)\n",
        "        obj.display()\n",
        "        obj.evaluate()\n",
        "\n"
      ],
      "metadata": {
        "id": "BjkS-jmCnDrB"
      },
      "id": "BjkS-jmCnDrB",
      "execution_count": 2,
      "outputs": []
    },
    {
      "cell_type": "markdown",
      "source": [
        "##**Q3. Inheritance using ML**\n",
        "\n",
        "You are already given a class Machine_Learning with its constructor and a number of methods. You have to define a class Supervised which will inherit the MachineLearning class with the following data members and methods:\n",
        "\n",
        "Data Members:\n",
        "\n",
        "1. name: string\n",
        "2. category: string\n",
        "\n",
        "Methods:\n",
        "\n",
        "1. Constructor: Initialize the data member and call the parent class constructor\n",
        "2. getname(): Returns the data member name.\n",
        "3. getcategory(): Returns the data member breed.\n",
        "4. type(): Prints 'Supervised Learning Algorithm'.\n",
        "\n",
        "You also have to define a class Unsupervised which will also inherit the MachineLearning class with the same data members and methods as in Supervised, but the type() will have to print Unsupervised Learning Algorithm for this class.\n",
        "\n",
        "Input Format:\n",
        "\n",
        "4 strings each in a new line. First two strings are name and category for Supervised class object and the last two are for Unsupervised class object.\n",
        "\n",
        "Output Format:\n",
        "\n",
        "Name of class is printed for the two instantiated objects.\n",
        "Category of class is printed for the two instantiated objects.\n",
        "type() of class is printed for the two instantiated objects.\n",
        "\n",
        "Sample Input:\n",
        "\n",
        "Logistic Regression\n",
        "Classification Algo\n",
        "k-Means\n",
        "Clustering Algo\n",
        "\n",
        "Sample output:\n",
        "\n",
        "Name: Logistic Regression\n",
        "Category: Classification Algo\n",
        "Supervised Learning Algorithm\n",
        "Name: k-Means\n",
        "Category: Clustering Algo\n",
        "Unsupervised Learning Algorithm\n",
        "\n",
        "Sample's Explanation:\n",
        "\n",
        "For Linear Regression, Classification Algo the type of class is supervised therefore it's printed after its name and category. For k-Means, Clustering Algo the type of class is supervised therefore it's printed after its name and "
      ],
      "metadata": {
        "id": "F3l6sbftmajN"
      },
      "id": "F3l6sbftmajN"
    },
    {
      "cell_type": "code",
      "source": [
        "\n",
        "class MachineLearning:\n",
        "    def __init__(self,name,category):\n",
        "        self.name=name\n",
        "        self.category=category\n",
        "        \n",
        "    def getname(self):\n",
        "        return self.name\n",
        "        \n",
        "    def getcategory(self):\n",
        "        return self.category\n",
        "        \n",
        "    def print(self):\n",
        "        print(\"Name:\",self.name)\n",
        "        print(\"Category:\",self.category)\n",
        "\n",
        "class Supervised(MachineLearning):\n",
        "    def __init__(self,name,category):\n",
        "      super().__init__(name,category)\n",
        "\n",
        "    \n",
        "    def type(self):\n",
        "        #YOUR CODE GOES HERE\n",
        "        return self.type\n",
        "\n",
        "class Unsupervised(MachineLearning):\n",
        "    def __init__(self,name,category):\n",
        "        #YOUR CODE GOES HERE\n",
        "        self.name = name\n",
        "        self.category = category \n",
        "    \n",
        "    def type(self):\n",
        "        #YOUR CODE GOES HERE\n",
        "        return self.type\n",
        "\n",
        "def mlAnalogy(a,b,c,d):\n",
        "    '''\n",
        "    input=> a,b = name and category for Supervised class\n",
        "            c,d = name and category for Unsupervised class\n",
        "    output=> type() is called for both classes in the end, it should first print the Name and Category then the type of class in new lines\n",
        "    '''\n",
        "\n",
        "    obj1=Supervised(a,b)\n",
        "    obj1.type()\n",
        "    obj2=Unsupervised(c,d)\n",
        "    obj2.type()\n",
        "\n",
        "    return None\n",
        "  "
      ],
      "metadata": {
        "id": "5W6A0MwQmbDw"
      },
      "id": "5W6A0MwQmbDw",
      "execution_count": null,
      "outputs": []
    },
    {
      "cell_type": "markdown",
      "source": [
        "##Q4. class solution\n",
        "\n",
        "What will be the output of the following code snippet?"
      ],
      "metadata": {
        "id": "0xd6l1VBk2dU"
      },
      "id": "0xd6l1VBk2dU"
    },
    {
      "cell_type": "code",
      "source": [
        "class solution:\n",
        "  def initial(self,sets):\n",
        "    return self.final(sets)\n",
        " \n",
        "  def final(self, sets):\n",
        "    return list(map(lambda x: ((x**3)%2==0,x**3),sets))\n",
        "\n",
        "print(solution().initial([4,5,6]))"
      ],
      "metadata": {
        "id": "vMMUaFQYk2wj",
        "outputId": "dbcdb9a5-c804-4364-f63c-1cc579c2ab7f",
        "colab": {
          "base_uri": "https://localhost:8080/"
        }
      },
      "id": "vMMUaFQYk2wj",
      "execution_count": 1,
      "outputs": [
        {
          "output_type": "stream",
          "name": "stdout",
          "text": [
            "[(True, 64), (False, 125), (True, 216)]\n"
          ]
        }
      ]
    },
    {
      "cell_type": "markdown",
      "source": [
        "##Q5. student marks"
      ],
      "metadata": {
        "id": "mE2QGaEglU0O"
      },
      "id": "mE2QGaEglU0O"
    },
    {
      "cell_type": "code",
      "source": [
        "class Student:\n",
        "    def __init__(self,roll,marks):\n",
        "        self.roll = roll\n",
        "        self.marks = marks\n",
        "    def display(self):\n",
        "        print('Roll:', self.roll,'Marks:',self.marks, end=\" \")\n",
        "\n",
        "student1 = Student(34,'A')\n",
        "student1.age = 17\n",
        "print(student1.display(), 'Age:',student1.age)"
      ],
      "metadata": {
        "id": "Ekt7dyfzk_Xb",
        "outputId": "88593a2d-6385-44f0-8c5c-4b12152cbfc7",
        "colab": {
          "base_uri": "https://localhost:8080/"
        }
      },
      "id": "Ekt7dyfzk_Xb",
      "execution_count": 2,
      "outputs": [
        {
          "output_type": "stream",
          "name": "stdout",
          "text": [
            "Roll: 34 Marks: A None Age: 17\n"
          ]
        }
      ]
    },
    {
      "cell_type": "markdown",
      "source": [
        "##Q6. pizza's circumference\n",
        "\n",
        "Observe the following code snippet and select the correct option to get the circumference of pizza having radius of 6 cm."
      ],
      "metadata": {
        "id": "8f7iS_sMl-Mb"
      },
      "id": "8f7iS_sMl-Mb"
    },
    {
      "cell_type": "code",
      "source": [
        "class Circle:\n",
        "    pi = 3.14\n",
        "    def __init__(self, diameter):\n",
        "        self.radius = diameter / 2\n",
        "        print(\"Radius: \",self.radius)\n",
        "\n",
        "    def circumference(self):\n",
        "        return 2 * self.pi * self.radius\n",
        "\n",
        "pizza = Circle(6)\n",
        "print(pizza.circumference()) #OptionA -> Working\n",
        "\n",
        "pizza = Circle(12)\n",
        "print(pizza.circumference())\n",
        "# print(pizza.self.circumference()) #OptionD -> NotWorking"
      ],
      "metadata": {
        "id": "0-8wGaOXmMj-",
        "outputId": "d792386f-f355-4e83-c7ae-077380ada412",
        "colab": {
          "base_uri": "https://localhost:8080/"
        }
      },
      "id": "0-8wGaOXmMj-",
      "execution_count": 6,
      "outputs": [
        {
          "output_type": "stream",
          "name": "stdout",
          "text": [
            "Radius:  3.0\n",
            "18.84\n",
            "Radius:  6.0\n",
            "37.68\n"
          ]
        }
      ]
    },
    {
      "cell_type": "markdown",
      "source": [],
      "metadata": {
        "id": "ozaKrMpemDn1"
      },
      "id": "ozaKrMpemDn1"
    }
  ],
  "metadata": {
    "kernelspec": {
      "display_name": "Python 3 (ipykernel)",
      "language": "python",
      "name": "python3"
    },
    "language_info": {
      "codemirror_mode": {
        "name": "ipython",
        "version": 3
      },
      "file_extension": ".py",
      "mimetype": "text/x-python",
      "name": "python",
      "nbconvert_exporter": "python",
      "pygments_lexer": "ipython3",
      "version": "3.9.5"
    },
    "colab": {
      "provenance": [],
      "toc_visible": true,
      "include_colab_link": true
    }
  },
  "nbformat": 4,
  "nbformat_minor": 5
}