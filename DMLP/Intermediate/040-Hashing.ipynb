{
  "cells": [
    {
      "cell_type": "markdown",
      "metadata": {
        "id": "view-in-github",
        "colab_type": "text"
      },
      "source": [
        "<a href=\"https://colab.research.google.com/github/ishwarraja/Scaler/blob/main/DMLP/Intermediate/040-Hashing.ipynb\" target=\"_parent\"><img src=\"https://colab.research.google.com/assets/colab-badge.svg\" alt=\"Open In Colab\"/></a>"
      ]
    },
    {
      "cell_type": "code",
      "execution_count": null,
      "id": "8595396c",
      "metadata": {
        "id": "8595396c",
        "outputId": "7a708a7e-a1e7-45ef-f496-584bd82ce93d"
      },
      "outputs": [
        {
          "data": {
            "text/plain": [
              "0"
            ]
          },
          "execution_count": 2,
          "metadata": {},
          "output_type": "execute_result"
        }
      ],
      "source": [
        "# n = 10\n",
        "\n",
        "100 % 10"
      ]
    },
    {
      "cell_type": "markdown",
      "source": [
        "# INTRODUCTION TO HASHING"
      ],
      "metadata": {
        "id": "b2z5VJwUk0FB"
      },
      "id": "b2z5VJwUk0FB"
    },
    {
      "cell_type": "code",
      "execution_count": null,
      "id": "8eb594d4",
      "metadata": {
        "id": "8eb594d4",
        "outputId": "0e390f52-a06f-4caa-8449-31669c149859"
      },
      "outputs": [
        {
          "data": {
            "text/plain": [
              "0"
            ]
          },
          "execution_count": 3,
          "metadata": {},
          "output_type": "execute_result"
        }
      ],
      "source": [
        "120 % 10"
      ]
    },
    {
      "cell_type": "code",
      "execution_count": null,
      "id": "c9e33b54",
      "metadata": {
        "id": "c9e33b54",
        "outputId": "eff421f8-4a41-42cd-ad96-2560316d984d"
      },
      "outputs": [
        {
          "data": {
            "text/plain": [
              "5"
            ]
          },
          "execution_count": 4,
          "metadata": {},
          "output_type": "execute_result"
        }
      ],
      "source": [
        "135 % 10"
      ]
    },
    {
      "cell_type": "code",
      "execution_count": null,
      "id": "a4c75e02",
      "metadata": {
        "id": "a4c75e02",
        "outputId": "206a3cf8-fdbf-4e62-cd3d-d73b4f1809ce"
      },
      "outputs": [
        {
          "data": {
            "text/plain": [
              "9"
            ]
          },
          "execution_count": 5,
          "metadata": {},
          "output_type": "execute_result"
        }
      ],
      "source": [
        "19999999 % 10"
      ]
    },
    {
      "cell_type": "code",
      "execution_count": null,
      "id": "039418f1",
      "metadata": {
        "id": "039418f1"
      },
      "outputs": [],
      "source": [
        "# Approach 3"
      ]
    },
    {
      "cell_type": "code",
      "execution_count": null,
      "id": "4119c808",
      "metadata": {
        "id": "4119c808"
      },
      "outputs": [],
      "source": [
        "original_list = [1, 10, 50, 67, 89, 77, 145, 346, 32, 23, 567, 899, 999, 444, 678]"
      ]
    },
    {
      "cell_type": "code",
      "execution_count": null,
      "id": "68ceb42e",
      "metadata": {
        "id": "68ceb42e"
      },
      "outputs": [],
      "source": [
        "queries = [30, 77, 89, 123, 345, 1000, 999, 50, 33, 23]"
      ]
    },
    {
      "cell_type": "code",
      "execution_count": null,
      "id": "ad6a2604",
      "metadata": {
        "id": "ad6a2604"
      },
      "outputs": [],
      "source": [
        "flag = [False]*1001"
      ]
    },
    {
      "cell_type": "code",
      "execution_count": null,
      "id": "f431fbfa",
      "metadata": {
        "id": "f431fbfa"
      },
      "outputs": [],
      "source": [
        "for i in original_list:\n",
        "    flag[i] = True"
      ]
    },
    {
      "cell_type": "code",
      "execution_count": null,
      "id": "e39f94d3",
      "metadata": {
        "id": "e39f94d3"
      },
      "outputs": [],
      "source": [
        "# flag"
      ]
    },
    {
      "cell_type": "code",
      "execution_count": null,
      "id": "a2c6b1d3",
      "metadata": {
        "id": "a2c6b1d3"
      },
      "outputs": [],
      "source": [
        "result = []\n",
        "\n",
        "for q in queries:\n",
        "    if flag[q]:\n",
        "        result.append(True)\n",
        "    else:\n",
        "        result.append(False)"
      ]
    },
    {
      "cell_type": "code",
      "execution_count": null,
      "id": "feeaecac",
      "metadata": {
        "id": "feeaecac",
        "outputId": "86502d06-e7b1-4774-d17a-2b0578e41846"
      },
      "outputs": [
        {
          "data": {
            "text/plain": [
              "[False, True, True, False, False, False, True, True, False, True]"
            ]
          },
          "execution_count": 14,
          "metadata": {},
          "output_type": "execute_result"
        }
      ],
      "source": [
        "result"
      ]
    },
    {
      "cell_type": "code",
      "execution_count": null,
      "id": "62100f5d",
      "metadata": {
        "id": "62100f5d"
      },
      "outputs": [],
      "source": []
    },
    {
      "cell_type": "markdown",
      "source": [
        "##ASSIGNMENT PROBLEM"
      ],
      "metadata": {
        "id": "gfUDKthGk8Qc"
      },
      "id": "gfUDKthGk8Qc"
    },
    {
      "cell_type": "markdown",
      "source": [
        "###Q1. Common Elements\n",
        "\n",
        "Problem Description\n",
        "Given two integer arrays, A and B of size N and M, respectively. Your task is to find all the common elements in both the array.\n",
        "NOTE:\n",
        "Each element in the result should appear as many times as it appears in both arrays.\n",
        "The result can be in any order.\n",
        "\n",
        "Problem Constraints\n",
        "\n",
        "1 <= N, M <= 105\n",
        "1 <= A[i] <= 109\n",
        "\n",
        "Input Format\n",
        "First argument is an integer array A of size N.\n",
        "Second argument is an integer array B of size M.\n",
        "\n",
        "Output Format\n",
        "Return an integer array denoting the common elements.\n",
        "\n",
        "Example Input\n",
        "\n",
        "Input 1:\n",
        " A = [1, 2, 2, 1]\n",
        " B = [2, 3, 1, 2]\n",
        "Input 2:\n",
        " A = [2, 1, 4, 10]\n",
        " B = [3, 6, 2, 10, 10]\n",
        "\n",
        "\n",
        "Example Output\n",
        "Output 1: [1, 2, 2]\n",
        "Output 2: [2, 10]\n",
        "\n",
        "Example Explanation\n",
        "Explanation 1:\n",
        " Elements (1, 2, 2) appears in both the array. Note 2 appears twice in both the array.\n",
        "Explantion 2:\n",
        " Elements (2, 10) appears in both the array."
      ],
      "metadata": {
        "id": "xkdsHw2RlA5O"
      },
      "id": "xkdsHw2RlA5O"
    },
    {
      "cell_type": "code",
      "source": [
        "class Solution:\n",
        "    def solve(self, A, B):\n",
        "        n = len(A)\n",
        "        m = len(B)\n",
        "        hashmap = {}\n",
        "        for i in range(n):\n",
        "            if(hashmap.get(A[i]) == None):\n",
        "                hashmap[A[i]] = 1\n",
        "            else:\n",
        "                hashmap[A[i]] += 1\n",
        "        \n",
        "        ans =[] \n",
        "        print(\"HashMap: \",hashmap)\n",
        "        for i in range(m):\n",
        "            if(hashmap.get(B[i]) != None and hashmap[B[i]] != 0):\n",
        "                ans.append(B[i])\n",
        "                hashmap[B[i]] -= 1\n",
        "        print(\"HashMap: \",hashmap)    \n",
        "        return ans\n",
        "\n",
        "A = [1, 2, 2, 1]\n",
        "B = [2, 3, 1, 2]\n",
        "pt1 = Solution()\n",
        "res = pt1.solve(A,B)\n",
        "print(\"Result: \",res)"
      ],
      "metadata": {
        "id": "y9hH24GzlBGX",
        "outputId": "5e5a7c0c-064d-475b-ac35-c5944652b67a",
        "colab": {
          "base_uri": "https://localhost:8080/"
        }
      },
      "id": "y9hH24GzlBGX",
      "execution_count": null,
      "outputs": [
        {
          "output_type": "stream",
          "name": "stdout",
          "text": [
            "HashMap:  {1: 2, 2: 2}\n",
            "HashMap:  {1: 1, 2: 0}\n",
            "Result:  [2, 1, 2]\n"
          ]
        }
      ]
    },
    {
      "cell_type": "markdown",
      "source": [
        "###Q2. First Repeating element\n",
        "\n",
        "Problem Description\n",
        "Given an integer array A of size N, find the first repeating element in it.\n",
        "\n",
        "We need to find the element that occurs more than once and whose index of the first occurrence is the smallest.\n",
        "\n",
        "If there is no repeating element, return -1.\n",
        "\n",
        "\n",
        "\n",
        "Problem Constraints\n",
        "1 <= N <= 105\n",
        "\n",
        "1 <= A[i] <= 109\n",
        "\n",
        "\n",
        "\n",
        "Input Format\n",
        "The first and only argument is an integer array A of size N.\n",
        "\n",
        "\n",
        "\n",
        "Output Format\n",
        "Return an integer denoting the first repeating element.\n",
        "\n",
        "\n",
        "\n",
        "Example Input\n",
        "Input 1: A = [10, 5, 3, 4, 3, 5, 6]\n",
        "Input 2: A = [6, 10, 5, 4, 9, 120]\n",
        "\n",
        "\n",
        "Example Output\n",
        "Output 1: 5\n",
        "Output 2: -1\n",
        "\n",
        "\n",
        "Example Explanation\n",
        "Explanation 1:\n",
        "\n",
        " 5 is the first element that repeats\n",
        "Explanation 2:\n",
        "\n",
        " There is no repeating element, output -1"
      ],
      "metadata": {
        "id": "y7m6XUomlBby"
      },
      "id": "y7m6XUomlBby"
    },
    {
      "cell_type": "code",
      "source": [
        "class Solution:\n",
        "    def solve(self, A):\n",
        "        n = len(A)\n",
        "        # Initialize index of first repeating element\n",
        "        mini = -1\n",
        "    \n",
        "        # Creates an empty hashset named ump\n",
        "        ump = {}\n",
        "    \n",
        "        # Traverse the input array from right to left\n",
        "        for i in range(n-1, -1, -1):\n",
        "            # If element is already in hash set, update min\n",
        "            if (ump.get(A[i]) != None):\n",
        "                mini = i\n",
        "            else:   # Else add element to hash set\n",
        "                ump[A[i]] = 1\n",
        "        \n",
        "        if(mini == -1):\n",
        "            return mini\n",
        "        \n",
        "        return A[mini]\n",
        "\n",
        "A = [10, 5, 3, 4, 3, 5, 6] \n",
        "pt1 = Solution()\n",
        "res = pt1.solve(A)\n",
        "print(\"Result: \",res)"
      ],
      "metadata": {
        "id": "8Lf6LccKlBlu",
        "outputId": "74a9a1c0-f9b7-497b-b4ce-e6fe9deb66c3",
        "colab": {
          "base_uri": "https://localhost:8080/"
        }
      },
      "id": "8Lf6LccKlBlu",
      "execution_count": null,
      "outputs": [
        {
          "output_type": "stream",
          "name": "stdout",
          "text": [
            "Result:  5\n"
          ]
        }
      ]
    },
    {
      "cell_type": "markdown",
      "source": [],
      "metadata": {
        "id": "sFh_DaAblBv6"
      },
      "id": "sFh_DaAblBv6"
    },
    {
      "cell_type": "code",
      "source": [],
      "metadata": {
        "id": "0Pw1fgNTlB4i"
      },
      "id": "0Pw1fgNTlB4i",
      "execution_count": null,
      "outputs": []
    },
    {
      "cell_type": "markdown",
      "source": [
        "### Q4. Sub-array with 0 sum\n",
        "\n",
        "\n",
        "Problem Description\n",
        "Given an array of integers A, find and return whether the given array contains a non-empty subarray with a sum equal to 0.\n",
        "\n",
        "If the given array contains a sub-array with sum zero return 1, else return 0.\n",
        "\n",
        "\n",
        "\n",
        "Problem Constraints\n",
        "1 <= |A| <= 100000\n",
        "\n",
        "-10^9 <= A[i] <= 10^9\n",
        "\n",
        "\n",
        "\n",
        "Input Format\n",
        "The only argument given is the integer array A.\n",
        "\n",
        "\n",
        "\n",
        "Output Format\n",
        "Return whether the given array contains a subarray with a sum equal to 0.\n",
        "\n",
        "\n",
        "\n",
        "Example Input\n",
        "Input 1:\n",
        "\n",
        " A = [1, 2, 3, 4, 5]\n",
        "Input 2:\n",
        "\n",
        " A = [-1, 1]\n",
        "\n",
        "\n",
        "Example Output\n",
        "Output 1:\n",
        "\n",
        " 0\n",
        "Output 2:\n",
        "\n",
        " 1\n",
        "\n",
        "\n",
        "Example Explanation\n",
        "Explanation 1:\n",
        "\n",
        " No subarray has sum 0.\n",
        "Explanation 2:\n",
        "\n",
        " The array has sum 0.\n"
      ],
      "metadata": {
        "id": "-ndlPkIRlCC9"
      },
      "id": "-ndlPkIRlCC9"
    },
    {
      "cell_type": "code",
      "source": [
        "class Solution:\n",
        "  def solve(self,A):\n",
        "    n = len(A)\n",
        "    cur_sum = 0\n",
        "    d = {}\n",
        "    for x in A:\n",
        "      cur_sum += x\n",
        "      if cur_sum == 0 or x ==0 or x in d:\n",
        "        return 1\n",
        "      else:\n",
        "        d[cur_sum] = 1\n",
        "    return 1\n",
        "\n",
        "\n",
        "A = [1,2,3,4,5]\n",
        "pt1 = Solution()\n",
        "res = pt1.solve(A)\n",
        "print(\"Result: \",res)"
      ],
      "metadata": {
        "id": "ao9qC7vtlCLY"
      },
      "id": "ao9qC7vtlCLY",
      "execution_count": null,
      "outputs": []
    },
    {
      "cell_type": "markdown",
      "source": [],
      "metadata": {
        "id": "WW412zsXlCUO"
      },
      "id": "WW412zsXlCUO"
    },
    {
      "cell_type": "code",
      "source": [],
      "metadata": {
        "id": "bGX6EmNTlCdX"
      },
      "id": "bGX6EmNTlCdX",
      "execution_count": null,
      "outputs": []
    }
  ],
  "metadata": {
    "kernelspec": {
      "display_name": "Python 3 (ipykernel)",
      "language": "python",
      "name": "python3"
    },
    "language_info": {
      "codemirror_mode": {
        "name": "ipython",
        "version": 3
      },
      "file_extension": ".py",
      "mimetype": "text/x-python",
      "name": "python",
      "nbconvert_exporter": "python",
      "pygments_lexer": "ipython3",
      "version": "3.9.5"
    },
    "colab": {
      "provenance": [],
      "toc_visible": true,
      "include_colab_link": true
    }
  },
  "nbformat": 4,
  "nbformat_minor": 5
}