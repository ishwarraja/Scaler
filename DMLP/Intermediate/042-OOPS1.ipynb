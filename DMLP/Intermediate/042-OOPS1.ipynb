{
  "cells": [
    {
      "cell_type": "markdown",
      "metadata": {
        "id": "view-in-github",
        "colab_type": "text"
      },
      "source": [
        "<a href=\"https://colab.research.google.com/github/ishwarraja/Scaler/blob/main/DMLP/Intermediate/042-OOPS1.ipynb\" target=\"_parent\"><img src=\"https://colab.research.google.com/assets/colab-badge.svg\" alt=\"Open In Colab\"/></a>"
      ]
    },
    {
      "cell_type": "code",
      "execution_count": null,
      "id": "8b7d1c92",
      "metadata": {
        "id": "8b7d1c92"
      },
      "outputs": [],
      "source": [
        "class Student:\n",
        "    pass"
      ]
    },
    {
      "cell_type": "code",
      "execution_count": null,
      "id": "f0dc9857",
      "metadata": {
        "id": "f0dc9857"
      },
      "outputs": [],
      "source": [
        "s1 = Student() # instantiate a class or create an object of a class"
      ]
    },
    {
      "cell_type": "code",
      "execution_count": null,
      "id": "6471ac27",
      "metadata": {
        "id": "6471ac27",
        "outputId": "36b9cf7e-fdb3-4453-a3f6-6395c8adba0a"
      },
      "outputs": [
        {
          "data": {
            "text/plain": [
              "__main__.Student"
            ]
          },
          "execution_count": 4,
          "metadata": {},
          "output_type": "execute_result"
        }
      ],
      "source": [
        "type(s1)\n",
        "\n",
        "# WE WILL LEARN ABOUT __main__ IN THE MODULES LECTURE"
      ]
    },
    {
      "cell_type": "code",
      "execution_count": null,
      "id": "853c4eb3",
      "metadata": {
        "id": "853c4eb3"
      },
      "outputs": [],
      "source": [
        "s2 = Student()"
      ]
    },
    {
      "cell_type": "code",
      "execution_count": null,
      "id": "0fcb09f4",
      "metadata": {
        "id": "0fcb09f4",
        "outputId": "a30cd111-a2d3-4df7-bdfa-41821efc8004"
      },
      "outputs": [
        {
          "data": {
            "text/plain": [
              "__main__.Student"
            ]
          },
          "execution_count": 6,
          "metadata": {},
          "output_type": "execute_result"
        }
      ],
      "source": [
        "type(s2)"
      ]
    },
    {
      "cell_type": "code",
      "execution_count": null,
      "id": "0558eb0d",
      "metadata": {
        "id": "0558eb0d",
        "outputId": "fc665c21-9210-430c-f36f-ae606f7644c8"
      },
      "outputs": [
        {
          "data": {
            "text/plain": [
              "<__main__.Student at 0x7fe098265430>"
            ]
          },
          "execution_count": 7,
          "metadata": {},
          "output_type": "execute_result"
        }
      ],
      "source": [
        "s1"
      ]
    },
    {
      "cell_type": "code",
      "execution_count": null,
      "id": "2b71e5e5",
      "metadata": {
        "id": "2b71e5e5"
      },
      "outputs": [],
      "source": [
        "s1.name = \"Gaurav\" # obj_name.var_name = value"
      ]
    },
    {
      "cell_type": "code",
      "execution_count": null,
      "id": "3068f56b",
      "metadata": {
        "id": "3068f56b",
        "outputId": "1f346094-740b-4e47-ef57-4d4bbab7a178"
      },
      "outputs": [
        {
          "data": {
            "text/plain": [
              "'Gaurav'"
            ]
          },
          "execution_count": 9,
          "metadata": {},
          "output_type": "execute_result"
        }
      ],
      "source": [
        "s1.name"
      ]
    },
    {
      "cell_type": "code",
      "execution_count": null,
      "id": "431cc3bd",
      "metadata": {
        "id": "431cc3bd",
        "outputId": "2ff3fcaf-399a-496e-ce78-40ce32bc8cb9"
      },
      "outputs": [
        {
          "ename": "AttributeError",
          "evalue": "'Student' object has no attribute 'name'",
          "output_type": "error",
          "traceback": [
            "\u001b[0;31m---------------------------------------------------------------------------\u001b[0m",
            "\u001b[0;31mAttributeError\u001b[0m                            Traceback (most recent call last)",
            "\u001b[0;32m/var/folders/nn/c52y0d3j0gq59dpsswchkt2r0000gn/T/ipykernel_31044/1547413451.py\u001b[0m in \u001b[0;36m<module>\u001b[0;34m\u001b[0m\n\u001b[0;32m----> 1\u001b[0;31m \u001b[0ms2\u001b[0m\u001b[0;34m.\u001b[0m\u001b[0mname\u001b[0m\u001b[0;34m\u001b[0m\u001b[0;34m\u001b[0m\u001b[0m\n\u001b[0m",
            "\u001b[0;31mAttributeError\u001b[0m: 'Student' object has no attribute 'name'"
          ]
        }
      ],
      "source": [
        "s2.name"
      ]
    },
    {
      "cell_type": "code",
      "execution_count": null,
      "id": "783800f2",
      "metadata": {
        "id": "783800f2"
      },
      "outputs": [],
      "source": [
        "class Student:\n",
        "    # A function created inside a class is called a method\n",
        "    # Class Method -> Can only be called by the class name\n",
        "    def hello():\n",
        "        print(\"Hello!\")"
      ]
    },
    {
      "cell_type": "code",
      "execution_count": null,
      "id": "e1990910",
      "metadata": {
        "id": "e1990910"
      },
      "outputs": [],
      "source": [
        "a = Student()"
      ]
    },
    {
      "cell_type": "code",
      "execution_count": null,
      "id": "bcaaccce",
      "metadata": {
        "id": "bcaaccce",
        "outputId": "7d6ab15d-4ce5-4427-8d9c-5a0d4b3e62fd"
      },
      "outputs": [
        {
          "data": {
            "text/plain": [
              "__main__.Student"
            ]
          },
          "execution_count": 13,
          "metadata": {},
          "output_type": "execute_result"
        }
      ],
      "source": [
        "type(a)"
      ]
    },
    {
      "cell_type": "code",
      "execution_count": null,
      "id": "adda0805",
      "metadata": {
        "id": "adda0805",
        "outputId": "bb2909d3-dc7d-415a-eb17-670e3ee9a484"
      },
      "outputs": [
        {
          "name": "stdout",
          "output_type": "stream",
          "text": [
            "Hello!\n"
          ]
        }
      ],
      "source": [
        "Student.hello()\n",
        "# Calling a function directly using the class name"
      ]
    },
    {
      "cell_type": "code",
      "execution_count": null,
      "id": "21ee5274",
      "metadata": {
        "id": "21ee5274",
        "outputId": "8dd2df8b-1bd4-4283-e329-03fa27b3de5b"
      },
      "outputs": [
        {
          "ename": "TypeError",
          "evalue": "hello() takes 0 positional arguments but 1 was given",
          "output_type": "error",
          "traceback": [
            "\u001b[0;31m---------------------------------------------------------------------------\u001b[0m",
            "\u001b[0;31mTypeError\u001b[0m                                 Traceback (most recent call last)",
            "\u001b[0;32m/var/folders/nn/c52y0d3j0gq59dpsswchkt2r0000gn/T/ipykernel_31044/529577821.py\u001b[0m in \u001b[0;36m<module>\u001b[0;34m\u001b[0m\n\u001b[0;32m----> 1\u001b[0;31m \u001b[0mStudent\u001b[0m\u001b[0;34m.\u001b[0m\u001b[0mhello\u001b[0m\u001b[0;34m(\u001b[0m\u001b[0;34m\"random\"\u001b[0m\u001b[0;34m)\u001b[0m\u001b[0;34m\u001b[0m\u001b[0;34m\u001b[0m\u001b[0m\n\u001b[0m",
            "\u001b[0;31mTypeError\u001b[0m: hello() takes 0 positional arguments but 1 was given"
          ]
        }
      ],
      "source": [
        "Student.hello(\"random\")"
      ]
    },
    {
      "cell_type": "code",
      "execution_count": null,
      "id": "6cb5e8a1",
      "metadata": {
        "id": "6cb5e8a1",
        "outputId": "0b69b0ce-8cec-4e05-ccad-ec2671ae5f69"
      },
      "outputs": [
        {
          "ename": "TypeError",
          "evalue": "hello() takes 0 positional arguments but 1 was given",
          "output_type": "error",
          "traceback": [
            "\u001b[0;31m---------------------------------------------------------------------------\u001b[0m",
            "\u001b[0;31mTypeError\u001b[0m                                 Traceback (most recent call last)",
            "\u001b[0;32m/var/folders/nn/c52y0d3j0gq59dpsswchkt2r0000gn/T/ipykernel_31044/2478151117.py\u001b[0m in \u001b[0;36m<module>\u001b[0;34m\u001b[0m\n\u001b[0;32m----> 1\u001b[0;31m \u001b[0ma\u001b[0m\u001b[0;34m.\u001b[0m\u001b[0mhello\u001b[0m\u001b[0;34m(\u001b[0m\u001b[0;34m)\u001b[0m\u001b[0;34m\u001b[0m\u001b[0;34m\u001b[0m\u001b[0m\n\u001b[0m\u001b[1;32m      2\u001b[0m \u001b[0;34m\u001b[0m\u001b[0m\n\u001b[1;32m      3\u001b[0m \u001b[0;31m# Student.hello(a)\u001b[0m\u001b[0;34m\u001b[0m\u001b[0;34m\u001b[0m\u001b[0;34m\u001b[0m\u001b[0m\n\u001b[1;32m      4\u001b[0m \u001b[0;31m# obj.func_name() -> Class_name.func_name(obj)\u001b[0m\u001b[0;34m\u001b[0m\u001b[0;34m\u001b[0m\u001b[0;34m\u001b[0m\u001b[0m\n\u001b[1;32m      5\u001b[0m \u001b[0;31m# Python automatically does this conversion\u001b[0m\u001b[0;34m\u001b[0m\u001b[0;34m\u001b[0m\u001b[0;34m\u001b[0m\u001b[0m\n",
            "\u001b[0;31mTypeError\u001b[0m: hello() takes 0 positional arguments but 1 was given"
          ]
        }
      ],
      "source": [
        "a.hello()\n",
        "\n",
        "# Student.hello(a)\n",
        "# obj.func_name() -> Class_name.func_name(obj)\n",
        "# Python automatically does this conversion"
      ]
    },
    {
      "cell_type": "code",
      "execution_count": null,
      "id": "f9b3da48",
      "metadata": {
        "id": "f9b3da48"
      },
      "outputs": [],
      "source": [
        "class Student:\n",
        "    # INSTANCE METHOD -> Can only be called by objects / instances of a class\n",
        "    def hello(self):\n",
        "        print(id(self))"
      ]
    },
    {
      "cell_type": "code",
      "execution_count": null,
      "id": "a54c1a44",
      "metadata": {
        "id": "a54c1a44"
      },
      "outputs": [],
      "source": [
        "a = Student()"
      ]
    },
    {
      "cell_type": "code",
      "execution_count": null,
      "id": "8c09df3b",
      "metadata": {
        "id": "8c09df3b",
        "outputId": "3ac69c20-3fbc-4bd4-ab0f-3525ee8a1a16"
      },
      "outputs": [
        {
          "name": "stdout",
          "output_type": "stream",
          "text": [
            "140603138528448\n"
          ]
        }
      ],
      "source": [
        "a.hello()\n",
        "\n",
        "# Student.hello(a)"
      ]
    },
    {
      "cell_type": "code",
      "execution_count": null,
      "id": "6a28c124",
      "metadata": {
        "id": "6a28c124",
        "outputId": "333c6799-ea43-4b38-97ab-bb05ff3d2fea"
      },
      "outputs": [
        {
          "data": {
            "text/plain": [
              "140603138528448"
            ]
          },
          "execution_count": 35,
          "metadata": {},
          "output_type": "execute_result"
        }
      ],
      "source": [
        "id(a)"
      ]
    },
    {
      "cell_type": "code",
      "execution_count": null,
      "id": "93ce9dfc",
      "metadata": {
        "id": "93ce9dfc",
        "outputId": "21b86651-1ad3-417d-c2e7-69eec2f09e67"
      },
      "outputs": [
        {
          "ename": "TypeError",
          "evalue": "hello() missing 1 required positional argument: 'self'",
          "output_type": "error",
          "traceback": [
            "\u001b[0;31m---------------------------------------------------------------------------\u001b[0m",
            "\u001b[0;31mTypeError\u001b[0m                                 Traceback (most recent call last)",
            "\u001b[0;32m/var/folders/nn/c52y0d3j0gq59dpsswchkt2r0000gn/T/ipykernel_31044/1833873148.py\u001b[0m in \u001b[0;36m<module>\u001b[0;34m\u001b[0m\n\u001b[0;32m----> 1\u001b[0;31m \u001b[0mStudent\u001b[0m\u001b[0;34m.\u001b[0m\u001b[0mhello\u001b[0m\u001b[0;34m(\u001b[0m\u001b[0;34m)\u001b[0m\u001b[0;34m\u001b[0m\u001b[0;34m\u001b[0m\u001b[0m\n\u001b[0m",
            "\u001b[0;31mTypeError\u001b[0m: hello() missing 1 required positional argument: 'self'"
          ]
        }
      ],
      "source": [
        "Student.hello()"
      ]
    },
    {
      "cell_type": "code",
      "execution_count": null,
      "id": "fad65964",
      "metadata": {
        "id": "fad65964",
        "outputId": "2f2e05e2-ba31-4a60-a1d3-bfd568425e30"
      },
      "outputs": [
        {
          "name": "stdout",
          "output_type": "stream",
          "text": [
            "140603138528448\n"
          ]
        }
      ],
      "source": [
        "Student.hello(a)"
      ]
    },
    {
      "cell_type": "code",
      "execution_count": null,
      "id": "f7f76b36",
      "metadata": {
        "id": "f7f76b36"
      },
      "outputs": [],
      "source": [
        "class Student:\n",
        "    def hello(meri_marzi):\n",
        "        print(id(meri_marzi))"
      ]
    },
    {
      "cell_type": "code",
      "execution_count": null,
      "id": "27e490d0",
      "metadata": {
        "id": "27e490d0"
      },
      "outputs": [],
      "source": [
        "a = Student()"
      ]
    },
    {
      "cell_type": "code",
      "execution_count": null,
      "id": "159ac5f8",
      "metadata": {
        "id": "159ac5f8",
        "outputId": "e6cb9bbd-6607-4871-8ebf-29fd2391cc62"
      },
      "outputs": [
        {
          "name": "stdout",
          "output_type": "stream",
          "text": [
            "140603138527776\n"
          ]
        }
      ],
      "source": [
        "a.hello()"
      ]
    },
    {
      "cell_type": "code",
      "execution_count": null,
      "id": "50541055",
      "metadata": {
        "id": "50541055"
      },
      "outputs": [],
      "source": [
        "class Student:\n",
        "    def __init__(self):\n",
        "        self.name = \"Bipin\""
      ]
    },
    {
      "cell_type": "code",
      "execution_count": null,
      "id": "bbae2364",
      "metadata": {
        "id": "bbae2364"
      },
      "outputs": [],
      "source": [
        "a = Student()"
      ]
    },
    {
      "cell_type": "code",
      "execution_count": null,
      "id": "a01aade1",
      "metadata": {
        "id": "a01aade1",
        "outputId": "b8f2b9db-ab8b-4b87-ecf8-d36a292a6de4"
      },
      "outputs": [
        {
          "data": {
            "text/plain": [
              "'Bipin'"
            ]
          },
          "execution_count": 45,
          "metadata": {},
          "output_type": "execute_result"
        }
      ],
      "source": [
        "a.name"
      ]
    },
    {
      "cell_type": "code",
      "execution_count": null,
      "id": "ebdcdfbc",
      "metadata": {
        "id": "ebdcdfbc"
      },
      "outputs": [],
      "source": [
        "b = Student()"
      ]
    },
    {
      "cell_type": "code",
      "execution_count": null,
      "id": "87131289",
      "metadata": {
        "id": "87131289",
        "outputId": "920d664d-58ee-4086-ab4c-c7f07b2637eb"
      },
      "outputs": [
        {
          "data": {
            "text/plain": [
              "'Bipin'"
            ]
          },
          "execution_count": 47,
          "metadata": {},
          "output_type": "execute_result"
        }
      ],
      "source": [
        "b.name"
      ]
    },
    {
      "cell_type": "code",
      "execution_count": null,
      "id": "2c527bdc",
      "metadata": {
        "id": "2c527bdc"
      },
      "outputs": [],
      "source": [
        "class Student:\n",
        "    def __init__(self, input_name):\n",
        "        self.name = input_name"
      ]
    },
    {
      "cell_type": "code",
      "execution_count": null,
      "id": "b2990e17",
      "metadata": {
        "id": "b2990e17"
      },
      "outputs": [],
      "source": [
        "a = Student(\"Anirudh\")"
      ]
    },
    {
      "cell_type": "code",
      "execution_count": null,
      "id": "0f9cc54c",
      "metadata": {
        "id": "0f9cc54c",
        "outputId": "4a4dd7e7-e02c-4fe6-b12b-703cbe01e917"
      },
      "outputs": [
        {
          "data": {
            "text/plain": [
              "'Anirudh'"
            ]
          },
          "execution_count": 50,
          "metadata": {},
          "output_type": "execute_result"
        }
      ],
      "source": [
        "a.name"
      ]
    },
    {
      "cell_type": "code",
      "execution_count": null,
      "id": "087dbb9b",
      "metadata": {
        "id": "087dbb9b"
      },
      "outputs": [],
      "source": [
        "b = Student(\"Abdul\")"
      ]
    },
    {
      "cell_type": "code",
      "execution_count": null,
      "id": "1e8b52c6",
      "metadata": {
        "id": "1e8b52c6",
        "outputId": "c77b5dc7-32c1-45f9-eb0a-432d40be523e"
      },
      "outputs": [
        {
          "data": {
            "text/plain": [
              "'Abdul'"
            ]
          },
          "execution_count": 52,
          "metadata": {},
          "output_type": "execute_result"
        }
      ],
      "source": [
        "b.name"
      ]
    },
    {
      "cell_type": "markdown",
      "source": [
        "#ASSIGNMENT"
      ],
      "metadata": {
        "id": "KE97e4WNvMaz"
      },
      "id": "KE97e4WNvMaz"
    },
    {
      "cell_type": "markdown",
      "source": [
        "##Q3. Print name\n",
        "\n",
        "What will be the output of the following code snippet:"
      ],
      "metadata": {
        "id": "0iU1M7qRxHBs"
      },
      "id": "0iU1M7qRxHBs"
    },
    {
      "cell_type": "code",
      "execution_count": 1,
      "id": "8171a7eb",
      "metadata": {
        "id": "8171a7eb",
        "outputId": "94b6f75d-e93a-4736-c372-2016985f2f00",
        "colab": {
          "base_uri": "https://localhost:8080/"
        }
      },
      "outputs": [
        {
          "output_type": "stream",
          "name": "stdout",
          "text": [
            "John\n"
          ]
        }
      ],
      "source": [
        "class People():\n",
        "    def __init__(self, name):\n",
        "        self.name = name\n",
        "\n",
        "    def get_name(self):\n",
        "        print(self.name)\n",
        "\n",
        "person1 = People(\"John\")\n",
        "person2 = People(\"Mary\")\n",
        "person1.get_name()"
      ]
    },
    {
      "cell_type": "markdown",
      "source": [
        "##Q4. fruits quantity in bag\n",
        "What will be the output of the following Python code?"
      ],
      "metadata": {
        "id": "Ybf53D8XxC4h"
      },
      "id": "Ybf53D8XxC4h"
    },
    {
      "cell_type": "code",
      "source": [
        "class fruits:\n",
        "    def __init__(self, price):\n",
        "        self.price = price\n",
        "\n",
        "obj=fruits(50)\n",
        "obj.quantity=10\n",
        "obj.bags=2\n",
        "\n",
        "print(obj.quantity+len(obj.__dict__))"
      ],
      "metadata": {
        "id": "AAb_WnU6vO4D",
        "outputId": "000ad335-f820-4246-a740-fb14d578fdd8",
        "colab": {
          "base_uri": "https://localhost:8080/"
        }
      },
      "id": "AAb_WnU6vO4D",
      "execution_count": 2,
      "outputs": [
        {
          "output_type": "stream",
          "name": "stdout",
          "text": [
            "13\n"
          ]
        }
      ]
    },
    {
      "cell_type": "markdown",
      "source": [
        "##Q5. sports and player\n",
        "\n",
        "What will be the output of the following code snippet:"
      ],
      "metadata": {
        "id": "WVkDZW_ZwMKL"
      },
      "id": "WVkDZW_ZwMKL"
    },
    {
      "cell_type": "code",
      "source": [
        "class Player:\n",
        "  # class variables\n",
        "  club = 'United'\n",
        "  sport = 'Football'\n",
        "\n",
        "  def __init__(self, name):\n",
        "    # Instance variable\n",
        "    self.name = name\n",
        "\n",
        "  def show(self):\n",
        "    print('Name:', self.name, 'Club:', self.club, 'Sports:', self.sport, end=\" \")\n",
        "\n",
        "p1 = Player('Sanjay')\n",
        "p1.club = 'Real Madrid'\n",
        "p1.show()\n",
        "\n",
        "p2 = Player('Ravi')\n",
        "p2.sport = 'Tennis'\n",
        "p2.show()"
      ],
      "metadata": {
        "id": "4fxFzqegwMVr",
        "outputId": "331f50d2-3fcc-4318-80b5-fd91de5a7fbd",
        "colab": {
          "base_uri": "https://localhost:8080/"
        }
      },
      "id": "4fxFzqegwMVr",
      "execution_count": 3,
      "outputs": [
        {
          "output_type": "stream",
          "name": "stdout",
          "text": [
            "Name: Sanjay Club: Real Madrid Sports: Football Name: Ravi Club: United Sports: Tennis "
          ]
        }
      ]
    }
  ],
  "metadata": {
    "kernelspec": {
      "display_name": "Python 3 (ipykernel)",
      "language": "python",
      "name": "python3"
    },
    "language_info": {
      "codemirror_mode": {
        "name": "ipython",
        "version": 3
      },
      "file_extension": ".py",
      "mimetype": "text/x-python",
      "name": "python",
      "nbconvert_exporter": "python",
      "pygments_lexer": "ipython3",
      "version": "3.9.5"
    },
    "colab": {
      "provenance": [],
      "toc_visible": true,
      "include_colab_link": true
    }
  },
  "nbformat": 4,
  "nbformat_minor": 5
}