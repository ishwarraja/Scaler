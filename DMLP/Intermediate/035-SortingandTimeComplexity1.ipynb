{
  "cells": [
    {
      "cell_type": "markdown",
      "metadata": {
        "id": "view-in-github",
        "colab_type": "text"
      },
      "source": [
        "<a href=\"https://colab.research.google.com/github/ishwarraja/Scaler/blob/main/DMLP/Intermediate/035-SortingandTimeComplexity1.ipynb\" target=\"_parent\"><img src=\"https://colab.research.google.com/assets/colab-badge.svg\" alt=\"Open In Colab\"/></a>"
      ]
    },
    {
      "cell_type": "code",
      "execution_count": null,
      "id": "1ec8a4ae",
      "metadata": {
        "id": "1ec8a4ae",
        "outputId": "952b11d8-e0c9-4316-ad08-5571ef6a3fa9"
      },
      "outputs": [
        {
          "data": {
            "text/plain": [
              "'\\nCost Function = Number of operations if the function is executed.\\n\\nCost(foo()) = 3 (constant)\\n'"
            ]
          },
          "execution_count": 1,
          "metadata": {},
          "output_type": "execute_result"
        }
      ],
      "source": [
        "# Example 1\n",
        "\n",
        "def foo():\n",
        "    x = 1 # 1 operation\n",
        "    y = 2 # 2 operation\n",
        "    z = 3 # 3 operation\n",
        "    \n",
        "'''\n",
        "Cost Function = Number of operations if the function is executed.\n",
        "\n",
        "Cost(foo()) = 3 (constant)\n",
        "'''"
      ]
    },
    {
      "cell_type": "code",
      "execution_count": null,
      "id": "b6a64bc9",
      "metadata": {
        "id": "b6a64bc9",
        "outputId": "fa33386d-11ad-4604-fec1-40d316107592"
      },
      "outputs": [
        {
          "data": {
            "text/plain": [
              "'\\nfoo(5) -> 3\\nfoo(5000) -> 3\\nfo0(5000000) -> 3\\n\\nCost(foo()) = 3 (constant)\\n'"
            ]
          },
          "execution_count": 2,
          "metadata": {},
          "output_type": "execute_result"
        }
      ],
      "source": [
        "# Example 2\n",
        "\n",
        "def foo(n):\n",
        "    x = 1\n",
        "    y = 2\n",
        "    z = 3\n",
        "    \n",
        "'''\n",
        "foo(5) -> 3\n",
        "foo(5000) -> 3\n",
        "fo0(5000000) -> 3\n",
        "\n",
        "Cost(foo()) = 3 (constant)\n",
        "'''"
      ]
    },
    {
      "cell_type": "code",
      "execution_count": null,
      "id": "1b268e82",
      "metadata": {
        "id": "1b268e82",
        "outputId": "8c0bad05-fef7-4ef3-cb7f-4e4d78d8f32d"
      },
      "outputs": [
        {
          "data": {
            "text/plain": [
              "'\\nCost(foo()) = n (linear)\\n'"
            ]
          },
          "execution_count": 3,
          "metadata": {},
          "output_type": "execute_result"
        }
      ],
      "source": [
        "# Example 3\n",
        "\n",
        "def foo(n):\n",
        "    for i in range(n):\n",
        "        print(i) # n operations\n",
        "        \n",
        "'''\n",
        "Cost(foo()) = n (linear)\n",
        "'''"
      ]
    },
    {
      "cell_type": "code",
      "execution_count": null,
      "id": "bad74db5",
      "metadata": {
        "id": "bad74db5",
        "outputId": "a0cde301-5fe9-41ea-804f-f6959edca883"
      },
      "outputs": [
        {
          "data": {
            "text/plain": [
              "'\\nCost(foo()) = n + 2\\n'"
            ]
          },
          "execution_count": 4,
          "metadata": {},
          "output_type": "execute_result"
        }
      ],
      "source": [
        "# Example 4\n",
        "\n",
        "def foo(n):\n",
        "    x = 2\n",
        "    y = 3\n",
        "    \n",
        "    for i in range(n):\n",
        "        print(i)\n",
        "        \n",
        "'''\n",
        "Cost(foo()) = n + 2\n",
        "'''"
      ]
    },
    {
      "cell_type": "code",
      "execution_count": null,
      "id": "b998b49b",
      "metadata": {
        "id": "b998b49b",
        "outputId": "6f99a7da-cfd4-4268-c5e0-64cb1d2d9351"
      },
      "outputs": [
        {
          "data": {
            "text/plain": [
              "'\\nCost(foo()) = n^2 (exponential)\\n'"
            ]
          },
          "execution_count": 5,
          "metadata": {},
          "output_type": "execute_result"
        }
      ],
      "source": [
        "# Example 5\n",
        "\n",
        "def foo(n):\n",
        "    for i in range(n):\n",
        "        for j in range(n):\n",
        "            print(i*j) # n*n operations\n",
        "            \n",
        "'''\n",
        "Cost(foo()) = n^2 (exponential)\n",
        "'''"
      ]
    },
    {
      "cell_type": "code",
      "execution_count": null,
      "id": "5a7a548b",
      "metadata": {
        "id": "5a7a548b",
        "outputId": "19ef1097-0e49-44b1-e3d8-3ba887f0e4e4"
      },
      "outputs": [
        {
          "data": {
            "text/plain": [
              "'\\nCost(foo()) = n^2 + n + 1\\n'"
            ]
          },
          "execution_count": 6,
          "metadata": {},
          "output_type": "execute_result"
        }
      ],
      "source": [
        "# Example 6\n",
        "\n",
        "def foo(n):\n",
        "    for i in range(n):\n",
        "        for j in range(n):\n",
        "            print(i*j) # n*n operations\n",
        "            \n",
        "    for k in range(n):\n",
        "        print(k) # n operations\n",
        "        \n",
        "    print(\"WOW!!\") # 1 operation\n",
        "    \n",
        "'''\n",
        "Cost(foo()) = n^2 + n + 1\n",
        "'''"
      ]
    },
    {
      "cell_type": "code",
      "execution_count": null,
      "id": "bb625129",
      "metadata": {
        "id": "bb625129"
      },
      "outputs": [],
      "source": [
        "def bubble_sort(a):\n",
        "    for i in range(len(a)):\n",
        "        for j in range(len(a) - i - 1):\n",
        "            if a[j] > a[j+1]:\n",
        "                a[j], a[j+1] = a[j+1], a[j]\n",
        "                \n",
        "    return a"
      ]
    },
    {
      "cell_type": "code",
      "execution_count": null,
      "id": "91c1a000",
      "metadata": {
        "id": "91c1a000",
        "outputId": "cd59d538-eef0-4ddd-ac80-ad6180f93a28"
      },
      "outputs": [
        {
          "data": {
            "text/plain": [
              "[1, 2, 3, 4, 5, 7]"
            ]
          },
          "execution_count": 8,
          "metadata": {},
          "output_type": "execute_result"
        }
      ],
      "source": [
        "bubble_sort([5, 1, 2, 4, 7, 3])"
      ]
    },
    {
      "cell_type": "code",
      "execution_count": null,
      "id": "a26c7465",
      "metadata": {
        "id": "a26c7465",
        "outputId": "48f8735b-80bd-4d73-b55d-0b9b475052a1"
      },
      "outputs": [
        {
          "data": {
            "text/plain": [
              "'\\nCost(bubble_sort()) = (1/2)*(n^2 + n)\\n'"
            ]
          },
          "execution_count": 9,
          "metadata": {},
          "output_type": "execute_result"
        }
      ],
      "source": [
        "'''\n",
        "Cost(bubble_sort()) = (1/2)*(n^2 + n)\n",
        "'''"
      ]
    },
    {
      "cell_type": "code",
      "execution_count": null,
      "id": "cf41cec7",
      "metadata": {
        "id": "cf41cec7"
      },
      "outputs": [],
      "source": [
        "def bubble_sort_visual(a):\n",
        "    print(a)\n",
        "    \n",
        "    for i in range(len(a)):\n",
        "        for j in range(len(a) - i - 1):\n",
        "            if a[j] > a[j+1]:\n",
        "                a[j], a[j+1] = a[j+1], a[j]\n",
        "                \n",
        "            print(f\"\\t{a}\")\n",
        "        \n",
        "        print(\"-\"*25)\n",
        "        print(a)\n",
        "                \n",
        "    return a"
      ]
    },
    {
      "cell_type": "code",
      "execution_count": null,
      "id": "d7903d41",
      "metadata": {
        "id": "d7903d41",
        "outputId": "2080abd1-ed0c-4b27-da7d-165f2052bfc6"
      },
      "outputs": [
        {
          "name": "stdout",
          "output_type": "stream",
          "text": [
            "[5, 1, 2, 4, 7, 3]\n",
            "\t[1, 5, 2, 4, 7, 3]\n",
            "\t[1, 2, 5, 4, 7, 3]\n",
            "\t[1, 2, 4, 5, 7, 3]\n",
            "\t[1, 2, 4, 5, 7, 3]\n",
            "\t[1, 2, 4, 5, 3, 7]\n",
            "-------------------------\n",
            "[1, 2, 4, 5, 3, 7]\n",
            "\t[1, 2, 4, 5, 3, 7]\n",
            "\t[1, 2, 4, 5, 3, 7]\n",
            "\t[1, 2, 4, 5, 3, 7]\n",
            "\t[1, 2, 4, 3, 5, 7]\n",
            "-------------------------\n",
            "[1, 2, 4, 3, 5, 7]\n",
            "\t[1, 2, 4, 3, 5, 7]\n",
            "\t[1, 2, 4, 3, 5, 7]\n",
            "\t[1, 2, 3, 4, 5, 7]\n",
            "-------------------------\n",
            "[1, 2, 3, 4, 5, 7]\n",
            "\t[1, 2, 3, 4, 5, 7]\n",
            "\t[1, 2, 3, 4, 5, 7]\n",
            "-------------------------\n",
            "[1, 2, 3, 4, 5, 7]\n",
            "\t[1, 2, 3, 4, 5, 7]\n",
            "-------------------------\n",
            "[1, 2, 3, 4, 5, 7]\n",
            "-------------------------\n",
            "[1, 2, 3, 4, 5, 7]\n"
          ]
        },
        {
          "data": {
            "text/plain": [
              "[1, 2, 3, 4, 5, 7]"
            ]
          },
          "execution_count": 14,
          "metadata": {},
          "output_type": "execute_result"
        }
      ],
      "source": [
        "bubble_sort_visual([5, 1, 2, 4, 7, 3])"
      ]
    },
    {
      "cell_type": "code",
      "execution_count": null,
      "id": "39b67c4d",
      "metadata": {
        "id": "39b67c4d",
        "outputId": "95787201-c68f-49af-85b9-f1a8d7c755dd"
      },
      "outputs": [
        {
          "name": "stdout",
          "output_type": "stream",
          "text": [
            "[1, 2, 3, 4, 5]\n",
            "\t[1, 2, 3, 4, 5]\n",
            "\t[1, 2, 3, 4, 5]\n",
            "\t[1, 2, 3, 4, 5]\n",
            "\t[1, 2, 3, 4, 5]\n",
            "-------------------------\n",
            "[1, 2, 3, 4, 5]\n",
            "\t[1, 2, 3, 4, 5]\n",
            "\t[1, 2, 3, 4, 5]\n",
            "\t[1, 2, 3, 4, 5]\n",
            "-------------------------\n",
            "[1, 2, 3, 4, 5]\n",
            "\t[1, 2, 3, 4, 5]\n",
            "\t[1, 2, 3, 4, 5]\n",
            "-------------------------\n",
            "[1, 2, 3, 4, 5]\n",
            "\t[1, 2, 3, 4, 5]\n",
            "-------------------------\n",
            "[1, 2, 3, 4, 5]\n",
            "-------------------------\n",
            "[1, 2, 3, 4, 5]\n"
          ]
        },
        {
          "data": {
            "text/plain": [
              "[1, 2, 3, 4, 5]"
            ]
          },
          "execution_count": 15,
          "metadata": {},
          "output_type": "execute_result"
        }
      ],
      "source": [
        "bubble_sort_visual([1,2,3,4,5])"
      ]
    },
    {
      "cell_type": "code",
      "execution_count": null,
      "id": "c569f376",
      "metadata": {
        "id": "c569f376"
      },
      "outputs": [],
      "source": [
        "'''\n",
        "HOMEWORK - \n",
        "Figure out a way to stop bubble sort in \"n operations\"\n",
        "in case of the input being an already sorted list.\n",
        "'''"
      ]
    },
    {
      "cell_type": "markdown",
      "source": [
        "# Assignment Question\n"
      ],
      "metadata": {
        "id": "eZ7rWKgmuTJQ"
      },
      "id": "eZ7rWKgmuTJQ"
    },
    {
      "cell_type": "markdown",
      "source": [
        "##Q1"
      ],
      "metadata": {
        "id": "MQjMDasXuhNS"
      },
      "id": "MQjMDasXuhNS"
    },
    {
      "cell_type": "markdown",
      "source": [
        "##Q2"
      ],
      "metadata": {
        "id": "NbkiZyacuyUJ"
      },
      "id": "NbkiZyacuyUJ"
    },
    {
      "cell_type": "markdown",
      "source": [
        "##Q3"
      ],
      "metadata": {
        "id": "ttEgxUp6uy4n"
      },
      "id": "ttEgxUp6uy4n"
    },
    {
      "cell_type": "code",
      "source": [
        "\n",
        "arr = [5, 1, 2, 4, 7, 3]\n",
        "\n",
        "for j in range(len(arr)-1,-1,-1):\n",
        "  for k in range(0,j):\n",
        "    if(arr[k]>arr[k+1]):\n",
        "      temp=arr[k]\n",
        "      arr[k]=arr[k+1]\n",
        "      arr[k+1]=temp\n",
        "  print(arr)\n",
        "\n",
        "\n",
        "#Not Working\n",
        "# for j in range(len(arr)-1,-1,-1):\n",
        "#   for k in range(0,j):\n",
        "#     if(arr[k]<arr[k+1]):\n",
        "#       temp=arr[k]\n",
        "#       arr[k]=arr[k+1]\n",
        "#       arr[k+1]=temp\n",
        "#   print(arr)\n",
        "\n",
        "#Not Working\n",
        "# for j in range(len(arr),-1,-1):\n",
        "#   for k in range(0,j):\n",
        "#     if(arr[k]>arr[k+1]):\n",
        "#       temp=arr[k]\n",
        "#       arr[k]=arr[k+1]\n",
        "#       arr[k+1]=temp\n",
        "#   print(arr)\n",
        "\n",
        "#Not Working\n",
        "# for j in range(len(arr),-1,-1):\n",
        "#   for k in range(0,j):\n",
        "#     if(arr[k]<arr[k+1]):\n",
        "#       temp=arr[k]\n",
        "#       arr[k]=arr[k+1]\n",
        "#       arr[k+1]=temp\n",
        "#   print(arr)"
      ],
      "metadata": {
        "id": "lB537XH_u4GQ",
        "outputId": "26445cfa-7ca9-4ddc-dd68-d6b57e7e4616",
        "colab": {
          "base_uri": "https://localhost:8080/"
        }
      },
      "id": "lB537XH_u4GQ",
      "execution_count": null,
      "outputs": [
        {
          "output_type": "stream",
          "name": "stdout",
          "text": [
            "[1, 2, 4, 5, 3, 7]\n",
            "[1, 2, 4, 3, 5, 7]\n",
            "[1, 2, 3, 4, 5, 7]\n",
            "[1, 2, 3, 4, 5, 7]\n",
            "[1, 2, 3, 4, 5, 7]\n",
            "[1, 2, 3, 4, 5, 7]\n"
          ]
        }
      ]
    },
    {
      "cell_type": "code",
      "source": [],
      "metadata": {
        "id": "DwhiwqhOAuyi"
      },
      "id": "DwhiwqhOAuyi",
      "execution_count": null,
      "outputs": []
    },
    {
      "cell_type": "code",
      "source": [
        "arr = [5, 1, 2, 4, 7, 3]\n",
        "n = len(arr)\n",
        "for i in range(n):\n",
        "  j=i\n",
        "  print(i)\n",
        "  while j<i:\n",
        "    j=j+1\n",
        "  print(\"--\"*12)"
      ],
      "metadata": {
        "id": "ip3J7D6WAvJQ",
        "outputId": "1cf12c4c-0406-409e-e367-a88c76bffeb3",
        "colab": {
          "base_uri": "https://localhost:8080/"
        }
      },
      "id": "ip3J7D6WAvJQ",
      "execution_count": null,
      "outputs": [
        {
          "output_type": "stream",
          "name": "stdout",
          "text": [
            "0\n",
            "------------------------\n",
            "1\n",
            "------------------------\n",
            "2\n",
            "------------------------\n",
            "3\n",
            "------------------------\n",
            "4\n",
            "------------------------\n",
            "5\n",
            "------------------------\n"
          ]
        }
      ]
    },
    {
      "cell_type": "code",
      "source": [
        "A = [1,4,5,6,10,8]\n",
        "k = 100\n",
        "n = len(A)-1\n",
        "A.sort()\n",
        "for i in range(0,len(A)):\n",
        "  A[i]=A[i]*A[i]\n",
        "\n",
        "print(A)\n",
        "for i in range(0,n+1):\n",
        "  # print(A[i])\n",
        "  if A[i]==k:\n",
        "    print(\"Found\")\n",
        "\n"
      ],
      "metadata": {
        "id": "lu905PvoljmJ",
        "outputId": "c569d188-c61e-44d8-b671-c1c34b610287",
        "colab": {
          "base_uri": "https://localhost:8080/"
        }
      },
      "id": "lu905PvoljmJ",
      "execution_count": null,
      "outputs": [
        {
          "output_type": "stream",
          "name": "stdout",
          "text": [
            "[1, 16, 25, 36, 64, 100]\n",
            "Found\n"
          ]
        }
      ]
    }
  ],
  "metadata": {
    "kernelspec": {
      "display_name": "Python 3 (ipykernel)",
      "language": "python",
      "name": "python3"
    },
    "language_info": {
      "codemirror_mode": {
        "name": "ipython",
        "version": 3
      },
      "file_extension": ".py",
      "mimetype": "text/x-python",
      "name": "python",
      "nbconvert_exporter": "python",
      "pygments_lexer": "ipython3",
      "version": "3.9.5"
    },
    "colab": {
      "provenance": [],
      "toc_visible": true,
      "include_colab_link": true
    }
  },
  "nbformat": 4,
  "nbformat_minor": 5
}