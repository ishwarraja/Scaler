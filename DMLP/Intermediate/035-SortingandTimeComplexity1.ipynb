{
  "cells": [
    {
      "cell_type": "markdown",
      "metadata": {
        "id": "view-in-github",
        "colab_type": "text"
      },
      "source": [
        "<a href=\"https://colab.research.google.com/github/ishwarraja/Scaler/blob/main/DMLP/Intermediate/035-SortingandTimeComplexity1.ipynb\" target=\"_parent\"><img src=\"https://colab.research.google.com/assets/colab-badge.svg\" alt=\"Open In Colab\"/></a>"
      ]
    },
    {
      "cell_type": "code",
      "execution_count": null,
      "id": "1ec8a4ae",
      "metadata": {
        "id": "1ec8a4ae",
        "outputId": "952b11d8-e0c9-4316-ad08-5571ef6a3fa9"
      },
      "outputs": [
        {
          "data": {
            "text/plain": [
              "'\\nCost Function = Number of operations if the function is executed.\\n\\nCost(foo()) = 3 (constant)\\n'"
            ]
          },
          "execution_count": 1,
          "metadata": {},
          "output_type": "execute_result"
        }
      ],
      "source": [
        "# Example 1\n",
        "\n",
        "def foo():\n",
        "    x = 1 # 1 operation\n",
        "    y = 2 # 2 operation\n",
        "    z = 3 # 3 operation\n",
        "    \n",
        "'''\n",
        "Cost Function = Number of operations if the function is executed.\n",
        "\n",
        "Cost(foo()) = 3 (constant)\n",
        "'''"
      ]
    },
    {
      "cell_type": "code",
      "execution_count": null,
      "id": "b6a64bc9",
      "metadata": {
        "id": "b6a64bc9",
        "outputId": "fa33386d-11ad-4604-fec1-40d316107592"
      },
      "outputs": [
        {
          "data": {
            "text/plain": [
              "'\\nfoo(5) -> 3\\nfoo(5000) -> 3\\nfo0(5000000) -> 3\\n\\nCost(foo()) = 3 (constant)\\n'"
            ]
          },
          "execution_count": 2,
          "metadata": {},
          "output_type": "execute_result"
        }
      ],
      "source": [
        "# Example 2\n",
        "\n",
        "def foo(n):\n",
        "    x = 1\n",
        "    y = 2\n",
        "    z = 3\n",
        "    \n",
        "'''\n",
        "foo(5) -> 3\n",
        "foo(5000) -> 3\n",
        "fo0(5000000) -> 3\n",
        "\n",
        "Cost(foo()) = 3 (constant)\n",
        "'''"
      ]
    },
    {
      "cell_type": "code",
      "execution_count": null,
      "id": "1b268e82",
      "metadata": {
        "id": "1b268e82",
        "outputId": "8c0bad05-fef7-4ef3-cb7f-4e4d78d8f32d"
      },
      "outputs": [
        {
          "data": {
            "text/plain": [
              "'\\nCost(foo()) = n (linear)\\n'"
            ]
          },
          "execution_count": 3,
          "metadata": {},
          "output_type": "execute_result"
        }
      ],
      "source": [
        "# Example 3\n",
        "\n",
        "def foo(n):\n",
        "    for i in range(n):\n",
        "        print(i) # n operations\n",
        "        \n",
        "'''\n",
        "Cost(foo()) = n (linear)\n",
        "'''"
      ]
    },
    {
      "cell_type": "code",
      "execution_count": null,
      "id": "bad74db5",
      "metadata": {
        "id": "bad74db5",
        "outputId": "a0cde301-5fe9-41ea-804f-f6959edca883"
      },
      "outputs": [
        {
          "data": {
            "text/plain": [
              "'\\nCost(foo()) = n + 2\\n'"
            ]
          },
          "execution_count": 4,
          "metadata": {},
          "output_type": "execute_result"
        }
      ],
      "source": [
        "# Example 4\n",
        "\n",
        "def foo(n):\n",
        "    x = 2\n",
        "    y = 3\n",
        "    \n",
        "    for i in range(n):\n",
        "        print(i)\n",
        "        \n",
        "'''\n",
        "Cost(foo()) = n + 2\n",
        "'''"
      ]
    },
    {
      "cell_type": "code",
      "execution_count": null,
      "id": "b998b49b",
      "metadata": {
        "id": "b998b49b",
        "outputId": "6f99a7da-cfd4-4268-c5e0-64cb1d2d9351"
      },
      "outputs": [
        {
          "data": {
            "text/plain": [
              "'\\nCost(foo()) = n^2 (exponential)\\n'"
            ]
          },
          "execution_count": 5,
          "metadata": {},
          "output_type": "execute_result"
        }
      ],
      "source": [
        "# Example 5\n",
        "\n",
        "def foo(n):\n",
        "    for i in range(n):\n",
        "        for j in range(n):\n",
        "            print(i*j) # n*n operations\n",
        "            \n",
        "'''\n",
        "Cost(foo()) = n^2 (exponential)\n",
        "'''"
      ]
    },
    {
      "cell_type": "code",
      "execution_count": null,
      "id": "5a7a548b",
      "metadata": {
        "id": "5a7a548b",
        "outputId": "19ef1097-0e49-44b1-e3d8-3ba887f0e4e4"
      },
      "outputs": [
        {
          "data": {
            "text/plain": [
              "'\\nCost(foo()) = n^2 + n + 1\\n'"
            ]
          },
          "execution_count": 6,
          "metadata": {},
          "output_type": "execute_result"
        }
      ],
      "source": [
        "# Example 6\n",
        "\n",
        "def foo(n):\n",
        "    for i in range(n):\n",
        "        for j in range(n):\n",
        "            print(i*j) # n*n operations\n",
        "            \n",
        "    for k in range(n):\n",
        "        print(k) # n operations\n",
        "        \n",
        "    print(\"WOW!!\") # 1 operation\n",
        "    \n",
        "'''\n",
        "Cost(foo()) = n^2 + n + 1\n",
        "'''"
      ]
    },
    {
      "cell_type": "code",
      "execution_count": null,
      "id": "bb625129",
      "metadata": {
        "id": "bb625129"
      },
      "outputs": [],
      "source": [
        "def bubble_sort(a):\n",
        "    for i in range(len(a)):\n",
        "        for j in range(len(a) - i - 1):\n",
        "            if a[j] > a[j+1]:\n",
        "                a[j], a[j+1] = a[j+1], a[j]\n",
        "                \n",
        "    return a"
      ]
    },
    {
      "cell_type": "code",
      "execution_count": null,
      "id": "91c1a000",
      "metadata": {
        "id": "91c1a000",
        "outputId": "cd59d538-eef0-4ddd-ac80-ad6180f93a28"
      },
      "outputs": [
        {
          "data": {
            "text/plain": [
              "[1, 2, 3, 4, 5, 7]"
            ]
          },
          "execution_count": 8,
          "metadata": {},
          "output_type": "execute_result"
        }
      ],
      "source": [
        "bubble_sort([5, 1, 2, 4, 7, 3])"
      ]
    },
    {
      "cell_type": "code",
      "execution_count": null,
      "id": "a26c7465",
      "metadata": {
        "id": "a26c7465",
        "outputId": "48f8735b-80bd-4d73-b55d-0b9b475052a1"
      },
      "outputs": [
        {
          "data": {
            "text/plain": [
              "'\\nCost(bubble_sort()) = (1/2)*(n^2 + n)\\n'"
            ]
          },
          "execution_count": 9,
          "metadata": {},
          "output_type": "execute_result"
        }
      ],
      "source": [
        "'''\n",
        "Cost(bubble_sort()) = (1/2)*(n^2 + n)\n",
        "'''"
      ]
    },
    {
      "cell_type": "code",
      "execution_count": null,
      "id": "cf41cec7",
      "metadata": {
        "id": "cf41cec7"
      },
      "outputs": [],
      "source": [
        "def bubble_sort_visual(a):\n",
        "    print(a)\n",
        "    \n",
        "    for i in range(len(a)):\n",
        "        for j in range(len(a) - i - 1):\n",
        "            if a[j] > a[j+1]:\n",
        "                a[j], a[j+1] = a[j+1], a[j]\n",
        "                \n",
        "            print(f\"\\t{a}\")\n",
        "        \n",
        "        print(\"-\"*25)\n",
        "        print(a)\n",
        "                \n",
        "    return a"
      ]
    },
    {
      "cell_type": "code",
      "execution_count": null,
      "id": "d7903d41",
      "metadata": {
        "id": "d7903d41",
        "outputId": "2080abd1-ed0c-4b27-da7d-165f2052bfc6"
      },
      "outputs": [
        {
          "name": "stdout",
          "output_type": "stream",
          "text": [
            "[5, 1, 2, 4, 7, 3]\n",
            "\t[1, 5, 2, 4, 7, 3]\n",
            "\t[1, 2, 5, 4, 7, 3]\n",
            "\t[1, 2, 4, 5, 7, 3]\n",
            "\t[1, 2, 4, 5, 7, 3]\n",
            "\t[1, 2, 4, 5, 3, 7]\n",
            "-------------------------\n",
            "[1, 2, 4, 5, 3, 7]\n",
            "\t[1, 2, 4, 5, 3, 7]\n",
            "\t[1, 2, 4, 5, 3, 7]\n",
            "\t[1, 2, 4, 5, 3, 7]\n",
            "\t[1, 2, 4, 3, 5, 7]\n",
            "-------------------------\n",
            "[1, 2, 4, 3, 5, 7]\n",
            "\t[1, 2, 4, 3, 5, 7]\n",
            "\t[1, 2, 4, 3, 5, 7]\n",
            "\t[1, 2, 3, 4, 5, 7]\n",
            "-------------------------\n",
            "[1, 2, 3, 4, 5, 7]\n",
            "\t[1, 2, 3, 4, 5, 7]\n",
            "\t[1, 2, 3, 4, 5, 7]\n",
            "-------------------------\n",
            "[1, 2, 3, 4, 5, 7]\n",
            "\t[1, 2, 3, 4, 5, 7]\n",
            "-------------------------\n",
            "[1, 2, 3, 4, 5, 7]\n",
            "-------------------------\n",
            "[1, 2, 3, 4, 5, 7]\n"
          ]
        },
        {
          "data": {
            "text/plain": [
              "[1, 2, 3, 4, 5, 7]"
            ]
          },
          "execution_count": 14,
          "metadata": {},
          "output_type": "execute_result"
        }
      ],
      "source": [
        "bubble_sort_visual([5, 1, 2, 4, 7, 3])"
      ]
    },
    {
      "cell_type": "code",
      "execution_count": null,
      "id": "39b67c4d",
      "metadata": {
        "id": "39b67c4d",
        "outputId": "95787201-c68f-49af-85b9-f1a8d7c755dd"
      },
      "outputs": [
        {
          "name": "stdout",
          "output_type": "stream",
          "text": [
            "[1, 2, 3, 4, 5]\n",
            "\t[1, 2, 3, 4, 5]\n",
            "\t[1, 2, 3, 4, 5]\n",
            "\t[1, 2, 3, 4, 5]\n",
            "\t[1, 2, 3, 4, 5]\n",
            "-------------------------\n",
            "[1, 2, 3, 4, 5]\n",
            "\t[1, 2, 3, 4, 5]\n",
            "\t[1, 2, 3, 4, 5]\n",
            "\t[1, 2, 3, 4, 5]\n",
            "-------------------------\n",
            "[1, 2, 3, 4, 5]\n",
            "\t[1, 2, 3, 4, 5]\n",
            "\t[1, 2, 3, 4, 5]\n",
            "-------------------------\n",
            "[1, 2, 3, 4, 5]\n",
            "\t[1, 2, 3, 4, 5]\n",
            "-------------------------\n",
            "[1, 2, 3, 4, 5]\n",
            "-------------------------\n",
            "[1, 2, 3, 4, 5]\n"
          ]
        },
        {
          "data": {
            "text/plain": [
              "[1, 2, 3, 4, 5]"
            ]
          },
          "execution_count": 15,
          "metadata": {},
          "output_type": "execute_result"
        }
      ],
      "source": [
        "bubble_sort_visual([1,2,3,4,5])"
      ]
    },
    {
      "cell_type": "code",
      "execution_count": null,
      "id": "c569f376",
      "metadata": {
        "id": "c569f376"
      },
      "outputs": [],
      "source": [
        "'''\n",
        "HOMEWORK - \n",
        "Figure out a way to stop bubble sort in \"n operations\"\n",
        "in case of the input being an already sorted list.\n",
        "'''"
      ]
    },
    {
      "cell_type": "markdown",
      "source": [
        "# Assignment Question\n"
      ],
      "metadata": {
        "id": "eZ7rWKgmuTJQ"
      },
      "id": "eZ7rWKgmuTJQ"
    },
    {
      "cell_type": "markdown",
      "source": [
        "##Q1. Comparisons in bubble sort\n",
        "\n",
        "Which of the options can generalize the formula for calculating the maximum number of comparisons in k iterations of bubble sort for an n-sized list?\n",
        "\n",
        "A. (4k2−k)​/2\n",
        "\n",
        "B. (2kn−k2−k)​/2\n",
        "\n",
        "C. (2kn−k2+k)​/2\n",
        "\n",
        "D. (2kn+k2−k)​/2\n",
        "\n"
      ],
      "metadata": {
        "id": "MQjMDasXuhNS"
      },
      "id": "MQjMDasXuhNS"
    },
    {
      "cell_type": "code",
      "source": [
        "'''\n",
        "Correct Answer: 2(2kn−k2−k)​\n",
        "\n",
        "For 1 pass, maximum no. of comparisons is n-1.\n",
        "Similarly for 2 passes maximum no. of comparisons is (n-1) + (n-2)\n",
        "..\n",
        "For k passes maximum no. of comparisons is (n-1) + (n-2) + …+ (n-k)\n",
        "= k(n) - (k(k+1)/2)\n",
        "= (2kn - k2 - k)/2\n",
        "'''\n"
      ],
      "metadata": {
        "id": "viq17irMku0z"
      },
      "id": "viq17irMku0z",
      "execution_count": null,
      "outputs": []
    },
    {
      "cell_type": "markdown",
      "source": [
        "##Q2. Bubble sort's time complexity\n",
        "\n",
        "What is the best case, and worst-case time complexity of bubble sort respectively, if we are implementing the optimized bubble sort which uses a flag variable for swapping indication?\n",
        "\n",
        "Note: n**2 = n2 in the options"
      ],
      "metadata": {
        "id": "NbkiZyacuyUJ"
      },
      "id": "NbkiZyacuyUJ"
    },
    {
      "cell_type": "code",
      "source": [
        "'''\n",
        "Correct Answer: O(n), O(n2)\n",
        "\n",
        "The Best case occurs when the list is already sorted. So, the time complexity is O(n).\n",
        "The Worst case occurs when a list is present sorted in reverse order. So, the time complexity is O(n2).\n",
        "\n",
        "'''\n"
      ],
      "metadata": {
        "id": "cZk8Fwcxk4BO"
      },
      "id": "cZk8Fwcxk4BO",
      "execution_count": null,
      "outputs": []
    },
    {
      "cell_type": "markdown",
      "source": [
        "##Q3. perform bubble sort\n",
        "\n",
        "Select the appropriate code that performs bubble sort:"
      ],
      "metadata": {
        "id": "ttEgxUp6uy4n"
      },
      "id": "ttEgxUp6uy4n"
    },
    {
      "cell_type": "code",
      "source": [
        "\n",
        "arr = [5, 1, 2, 4, 7, 3]\n",
        "\n",
        "for j in range(len(arr)-1,-1,-1):\n",
        "  for k in range(0,j):\n",
        "    if(arr[k]>arr[k+1]):\n",
        "      temp=arr[k]\n",
        "      arr[k]=arr[k+1]\n",
        "      arr[k+1]=temp\n",
        "  print(arr)\n",
        "\n",
        "\n",
        "#Not Working\n",
        "# for j in range(len(arr)-1,-1,-1):\n",
        "#   for k in range(0,j):\n",
        "#     if(arr[k]<arr[k+1]):\n",
        "#       temp=arr[k]\n",
        "#       arr[k]=arr[k+1]\n",
        "#       arr[k+1]=temp\n",
        "#   print(arr)\n",
        "\n",
        "#Not Working\n",
        "# for j in range(len(arr),-1,-1):\n",
        "#   for k in range(0,j):\n",
        "#     if(arr[k]>arr[k+1]):\n",
        "#       temp=arr[k]\n",
        "#       arr[k]=arr[k+1]\n",
        "#       arr[k+1]=temp\n",
        "#   print(arr)\n",
        "\n",
        "#Not Working\n",
        "# for j in range(len(arr),-1,-1):\n",
        "#   for k in range(0,j):\n",
        "#     if(arr[k]<arr[k+1]):\n",
        "#       temp=arr[k]\n",
        "#       arr[k]=arr[k+1]\n",
        "#       arr[k+1]=temp\n",
        "#   print(arr)\n",
        "\n",
        "\n",
        "'''\n",
        "Correct Answer: A\n",
        "\n",
        "The outer loop keeps count of the number of iterations, and the inner loop checks to see if swapping is necessary.\n",
        "In the first option, the first loop runs from n-1 to 0 in reverse order.\n",
        "The second loop runs from 0 to j-1. Then it checks if the element at the current position is greater than the element at the next position, so it swaps them using a temp variable.\n",
        "\n",
        "This whole process continues until j reaches 0 i.e. elements are compared and checked with other elements.\n",
        "\n",
        "Option B’s swapping condition inside the inner for loop is incorrect. We need to swap adjacent elements, only if the previous element is greater than the next element.\n",
        "But the condition in the option swaps when the previous element is smaller.\n",
        "\n",
        "Option C and D’s outer for loop starts from len(arr). So the inner loop will initially run for 0 to len(arr)-1. But we actually need to run it till len(arr)-2 as the last element will always be sorted without traversing through the array again.\n",
        "So the range is incorrect.\n",
        "Also, the swapping condition is wrong in Option D.\n",
        "\n",
        "'''"
      ],
      "metadata": {
        "id": "lB537XH_u4GQ",
        "outputId": "26445cfa-7ca9-4ddc-dd68-d6b57e7e4616",
        "colab": {
          "base_uri": "https://localhost:8080/"
        }
      },
      "id": "lB537XH_u4GQ",
      "execution_count": null,
      "outputs": [
        {
          "output_type": "stream",
          "name": "stdout",
          "text": [
            "[1, 2, 4, 5, 3, 7]\n",
            "[1, 2, 4, 3, 5, 7]\n",
            "[1, 2, 3, 4, 5, 7]\n",
            "[1, 2, 3, 4, 5, 7]\n",
            "[1, 2, 3, 4, 5, 7]\n",
            "[1, 2, 3, 4, 5, 7]\n"
          ]
        }
      ]
    },
    {
      "cell_type": "markdown",
      "source": [
        "##Q4. Required number of passes\n",
        "\n",
        "What is the maximum number of iterations through the list that will be required to completely sort an n-sized list using bubble sort?"
      ],
      "metadata": {
        "id": "KmBPjnBslNVZ"
      },
      "id": "KmBPjnBslNVZ"
    },
    {
      "cell_type": "code",
      "source": [
        "'''\n",
        "Correct Answer: n-1\n",
        "\n",
        "After the first iteration, the maximum element will be in the last.\n",
        "After the second iteration, 2nd largest element will be in place.\n",
        "..\n",
        "After the (n-1)th iteration, (n-1)th largest element will be in its right place. This will be second smallest element and it will be at index=1\n",
        "After the (n-1)th iteration smallest element will be in the starting therefore no need of next iteration.\n",
        "\n",
        "Therefore n-1 iterations of bubble sort is required to sort a list.\n",
        "\n",
        "'''\n"
      ],
      "metadata": {
        "id": "DwhiwqhOAuyi"
      },
      "id": "DwhiwqhOAuyi",
      "execution_count": null,
      "outputs": []
    },
    {
      "cell_type": "markdown",
      "source": [
        "##Q5. first and last element\n",
        "\n",
        "Problem Description\n",
        "Given an unsorted list of integers. Return the sum of the first and last elements of the list after sorting the first k elements of the list using Bubble Sort.\n",
        "\n",
        "\n",
        "\n",
        "Input Format\n",
        "Space separated values for Integers, arr\n",
        "Value of k\n",
        "\n",
        "\n",
        "\n",
        "Output Format\n",
        "The required sum\n",
        "\n",
        "\n",
        "\n",
        "Example Input\n",
        "64 34 25 12 22 11 90\n",
        "4\n",
        "\n",
        "\n",
        "\n",
        "Example Output\n",
        "102\n",
        "\n",
        "\n"
      ],
      "metadata": {
        "id": "c-4cLUdllUX8"
      },
      "id": "c-4cLUdllUX8"
    },
    {
      "cell_type": "code",
      "source": [
        "def bubbleSort(arr,k):\n",
        "    for i in range(k):\n",
        "        for j in range(0, k-i-1):\n",
        "            if arr[j] > arr[j + 1] :\n",
        "                arr[j], arr[j + 1] = arr[j + 1], arr[j]\n",
        "\n",
        "    print(arr[0],arr[-1])\n",
        "    res= arr[0]+arr[-1]\n",
        "    return res\n",
        "\n",
        "arr = []"
      ],
      "metadata": {
        "id": "nwvGw0DZlVao"
      },
      "id": "nwvGw0DZlVao",
      "execution_count": null,
      "outputs": []
    },
    {
      "cell_type": "markdown",
      "source": [
        "##Q6. Time complexity of code - I\n",
        "\n",
        "What is the time complexity of the following code snippet?"
      ],
      "metadata": {
        "id": "4Avars5Ol6Bu"
      },
      "id": "4Avars5Ol6Bu"
    },
    {
      "cell_type": "code",
      "source": [
        "arr = [5, 1, 2, 4, 7, 3]\n",
        "n = len(arr)\n",
        "for i in range(n):\n",
        "  j=i\n",
        "  print(i)\n",
        "  while j<i:\n",
        "    j=j+1\n",
        "  print(\"--\"*12)\n",
        "\n",
        "'''\n",
        "O(n) is the correct answer.\n",
        "\n",
        "Only the outer for loop is executed. The inner while loop is not executed because j is initiated with i and while loop’s condition is that j should be smaller than i, therefore it never gets executed.\n",
        "\n",
        "For example suppose we have n=5.\n",
        "So value of i=0, for the first iteration of outer loop.\n",
        "The value of j is also assigned same as i, therefore j=0.\n",
        "\n",
        "Now checking while loop condition, j<i( 0 is not less than 0), hence False. So it is not executed.\n",
        "Similarly for all values until 5, this condition will evaluate to False. So the for loop executes 5 times.\n",
        "\n",
        "Hence the time complexity is O(n).\n",
        "'''"
      ],
      "metadata": {
        "id": "ip3J7D6WAvJQ",
        "outputId": "1cf12c4c-0406-409e-e367-a88c76bffeb3",
        "colab": {
          "base_uri": "https://localhost:8080/"
        }
      },
      "id": "ip3J7D6WAvJQ",
      "execution_count": null,
      "outputs": [
        {
          "output_type": "stream",
          "name": "stdout",
          "text": [
            "0\n",
            "------------------------\n",
            "1\n",
            "------------------------\n",
            "2\n",
            "------------------------\n",
            "3\n",
            "------------------------\n",
            "4\n",
            "------------------------\n",
            "5\n",
            "------------------------\n"
          ]
        }
      ]
    },
    {
      "cell_type": "code",
      "source": [
        "A = [1,4,5,6,10,8]\n",
        "k = 100\n",
        "n = len(A)-1\n",
        "A.sort()\n",
        "for i in range(0,len(A)):\n",
        "  A[i]=A[i]*A[i]\n",
        "\n",
        "print(A)\n",
        "for i in range(0,n+1):\n",
        "  # print(A[i])\n",
        "  if A[i]==k:\n",
        "    print(\"Found\")\n",
        "\n"
      ],
      "metadata": {
        "id": "lu905PvoljmJ",
        "outputId": "c569d188-c61e-44d8-b671-c1c34b610287",
        "colab": {
          "base_uri": "https://localhost:8080/"
        }
      },
      "id": "lu905PvoljmJ",
      "execution_count": null,
      "outputs": [
        {
          "output_type": "stream",
          "name": "stdout",
          "text": [
            "[1, 16, 25, 36, 64, 100]\n",
            "Found\n"
          ]
        }
      ]
    },
    {
      "cell_type": "markdown",
      "source": [
        "##Q7. Time complexity of code - II\n",
        "\n",
        "What is the time complexity of the following code snippet?\n"
      ],
      "metadata": {
        "id": "lBpJH_vkmFOC"
      },
      "id": "lBpJH_vkmFOC"
    },
    {
      "cell_type": "code",
      "source": [
        "for i in range(1,n):\n",
        "  for j in range(i):\n",
        "    print(\"x\",end=\" \")\n",
        "  print()\n",
        "\n",
        "'''\n",
        "O(n^2) is the correct answer.\n",
        "\n",
        "The question consists of nested for loops. The outer for loop gets executed n times and the inner for loop executes i no. of times for each i in the outer for loop.\n",
        "\n",
        "For i=1, the inner loop executes 1 time\n",
        "For i=2, the inner loop executes 2 times\n",
        "For i=3, the inner loop executes 3 times\n",
        ".\n",
        ".\n",
        ".\n",
        "For i=n, the inner loop executes n times\n",
        "\n",
        "Therefore the total number of steps are : 1 + 2 + 3 + …..+ n\n",
        "= n*(n-1)/2 (Formula for the Sum of first n natural numbers)\n",
        "=> O(n^2)\n",
        "'''\n"
      ],
      "metadata": {
        "id": "xPovinyimKKp"
      },
      "id": "xPovinyimKKp",
      "execution_count": null,
      "outputs": []
    }
  ],
  "metadata": {
    "kernelspec": {
      "display_name": "Python 3 (ipykernel)",
      "language": "python",
      "name": "python3"
    },
    "language_info": {
      "codemirror_mode": {
        "name": "ipython",
        "version": 3
      },
      "file_extension": ".py",
      "mimetype": "text/x-python",
      "name": "python",
      "nbconvert_exporter": "python",
      "pygments_lexer": "ipython3",
      "version": "3.9.5"
    },
    "colab": {
      "provenance": [],
      "toc_visible": true,
      "include_colab_link": true
    }
  },
  "nbformat": 4,
  "nbformat_minor": 5
}