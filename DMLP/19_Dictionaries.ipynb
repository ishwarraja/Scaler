{
  "cells": [
    {
      "cell_type": "code",
      "execution_count": null,
      "id": "cae793a1",
      "metadata": {
        "id": "cae793a1"
      },
      "outputs": [],
      "source": [
        "a = {\"value1\", \"value2\", \"value3\"}"
      ]
    },
    {
      "cell_type": "code",
      "execution_count": null,
      "id": "d2ee25ef",
      "metadata": {
        "id": "d2ee25ef",
        "outputId": "d68e77a9-b68f-42bb-ff30-8ce96dbd4777"
      },
      "outputs": [
        {
          "data": {
            "text/plain": [
              "{'value1', 'value2', 'value3'}"
            ]
          },
          "execution_count": 2,
          "metadata": {},
          "output_type": "execute_result"
        }
      ],
      "source": [
        "a"
      ]
    },
    {
      "cell_type": "code",
      "execution_count": null,
      "id": "3dd4cfa3",
      "metadata": {
        "id": "3dd4cfa3"
      },
      "outputs": [],
      "source": [
        "a = {\n",
        "    \"key1\": \"value1\",\n",
        "    \"key2\": \"value2\",\n",
        "    \"key3\": \"value3\"\n",
        "}"
      ]
    },
    {
      "cell_type": "code",
      "execution_count": null,
      "id": "2bc959ad",
      "metadata": {
        "id": "2bc959ad"
      },
      "outputs": [],
      "source": [
        "# Approach 1 \n",
        "state_wise_data = [(\"Delhi\", 70), (\"Kerala\", 99), (\"UP\", 50), (\"Nagaland\", 65)]"
      ]
    },
    {
      "cell_type": "code",
      "execution_count": null,
      "id": "d7da6ff2",
      "metadata": {
        "id": "d7da6ff2",
        "outputId": "ec2d0b33-79a1-481b-b52d-60d4d02db590"
      },
      "outputs": [
        {
          "data": {
            "text/plain": [
              "('UP', 50)"
            ]
          },
          "execution_count": 5,
          "metadata": {},
          "output_type": "execute_result"
        }
      ],
      "source": [
        "state_wise_data[2]"
      ]
    },
    {
      "cell_type": "code",
      "execution_count": null,
      "id": "a4c33542",
      "metadata": {
        "id": "a4c33542"
      },
      "outputs": [],
      "source": [
        "# Approach 2\n",
        "state_wise_data = {\n",
        "    \"Delhi\": 70,\n",
        "    \"Kerala\": 99,\n",
        "    \"UP\": 50,\n",
        "    \"Nagaland\": 65\n",
        "}"
      ]
    },
    {
      "cell_type": "code",
      "execution_count": null,
      "id": "be07cb2b",
      "metadata": {
        "id": "be07cb2b",
        "outputId": "4ee03a32-396a-477d-cad1-9b4ee22ef97e"
      },
      "outputs": [
        {
          "data": {
            "text/plain": [
              "70"
            ]
          },
          "execution_count": 8,
          "metadata": {},
          "output_type": "execute_result"
        }
      ],
      "source": [
        "state_wise_data[\"Delhi\"]"
      ]
    },
    {
      "cell_type": "code",
      "execution_count": null,
      "id": "8becf76f",
      "metadata": {
        "id": "8becf76f",
        "outputId": "b269ed94-163b-46f5-c6b6-8349641c9165"
      },
      "outputs": [
        {
          "data": {
            "text/plain": [
              "50"
            ]
          },
          "execution_count": 9,
          "metadata": {},
          "output_type": "execute_result"
        }
      ],
      "source": [
        "state_wise_data[\"UP\"]"
      ]
    },
    {
      "cell_type": "code",
      "execution_count": null,
      "id": "d13d4035",
      "metadata": {
        "id": "d13d4035",
        "outputId": "12053058-29d6-4153-ce8b-189d745ce80c"
      },
      "outputs": [
        {
          "ename": "KeyError",
          "evalue": "1",
          "output_type": "error",
          "traceback": [
            "\u001b[0;31m---------------------------------------------------------------------------\u001b[0m",
            "\u001b[0;31mKeyError\u001b[0m                                  Traceback (most recent call last)",
            "\u001b[0;32m/var/folders/nn/c52y0d3j0gq59dpsswchkt2r0000gn/T/ipykernel_23174/36350193.py\u001b[0m in \u001b[0;36m<module>\u001b[0;34m\u001b[0m\n\u001b[0;32m----> 1\u001b[0;31m \u001b[0mstate_wise_data\u001b[0m\u001b[0;34m[\u001b[0m\u001b[0;36m1\u001b[0m\u001b[0;34m]\u001b[0m\u001b[0;34m\u001b[0m\u001b[0;34m\u001b[0m\u001b[0m\n\u001b[0m",
            "\u001b[0;31mKeyError\u001b[0m: 1"
          ]
        }
      ],
      "source": [
        "state_wise_data[1]"
      ]
    },
    {
      "cell_type": "code",
      "execution_count": null,
      "id": "2fa905c0",
      "metadata": {
        "id": "2fa905c0",
        "outputId": "be6b4c1a-5f5e-485d-803c-aa4dc67ffc56"
      },
      "outputs": [
        {
          "data": {
            "text/plain": [
              "{'Delhi': 70, 'Kerala': 99, 'UP': 50, 'Nagaland': 65}"
            ]
          },
          "execution_count": 11,
          "metadata": {},
          "output_type": "execute_result"
        }
      ],
      "source": [
        "state_wise_data"
      ]
    },
    {
      "cell_type": "code",
      "execution_count": null,
      "id": "3aa16867",
      "metadata": {
        "id": "3aa16867",
        "outputId": "967e9709-a3b8-4c24-a327-599d284e414e"
      },
      "outputs": [
        {
          "data": {
            "text/plain": [
              "'\\nBefore Python 3.7 -> Dictionaries were unordered\\nAfter Python 3.7 -> Dictionaries are ordered internally but we will not consider them as that.\\n'"
            ]
          },
          "execution_count": 13,
          "metadata": {},
          "output_type": "execute_result"
        }
      ],
      "source": [
        "'''\n",
        "Before Python 3.7 -> Dictionaries were unordered\n",
        "After Python 3.7 -> Dictionaries are ordered internally but we will not consider them as that.\n",
        "'''"
      ]
    },
    {
      "cell_type": "code",
      "execution_count": null,
      "id": "299e3b43",
      "metadata": {
        "id": "299e3b43"
      },
      "outputs": [],
      "source": [
        "a = {}"
      ]
    },
    {
      "cell_type": "code",
      "execution_count": null,
      "id": "a7678b2b",
      "metadata": {
        "id": "a7678b2b",
        "outputId": "ef38a8dc-1231-499e-9ecc-89d8ff1facf8"
      },
      "outputs": [
        {
          "data": {
            "text/plain": [
              "dict"
            ]
          },
          "execution_count": 15,
          "metadata": {},
          "output_type": "execute_result"
        }
      ],
      "source": [
        "type(a)"
      ]
    },
    {
      "cell_type": "code",
      "execution_count": null,
      "id": "bce6b254",
      "metadata": {
        "id": "bce6b254",
        "outputId": "5aa308af-14d2-433c-a44f-4e651a2af187"
      },
      "outputs": [
        {
          "data": {
            "text/plain": [
              "{}"
            ]
          },
          "execution_count": 16,
          "metadata": {},
          "output_type": "execute_result"
        }
      ],
      "source": [
        "a"
      ]
    },
    {
      "cell_type": "code",
      "execution_count": null,
      "id": "3a824fdc",
      "metadata": {
        "id": "3a824fdc"
      },
      "outputs": [],
      "source": [
        "a = {\n",
        "    \"Delhi\": 70,\n",
        "    \"Kerala\": 99,\n",
        "    \"UP\": 50,\n",
        "    \"Nagaland\": 65\n",
        "}"
      ]
    },
    {
      "cell_type": "code",
      "execution_count": null,
      "id": "02794c8a",
      "metadata": {
        "id": "02794c8a"
      },
      "outputs": [],
      "source": [
        "a[\"Maharashtra\"] = 80"
      ]
    },
    {
      "cell_type": "code",
      "execution_count": null,
      "id": "0d4d13cc",
      "metadata": {
        "id": "0d4d13cc",
        "outputId": "795be317-6efd-4b58-d363-b7cb0f433fc0"
      },
      "outputs": [
        {
          "data": {
            "text/plain": [
              "{'Delhi': 70, 'Kerala': 99, 'UP': 50, 'Nagaland': 65, 'Maharashtra': 80}"
            ]
          },
          "execution_count": 19,
          "metadata": {},
          "output_type": "execute_result"
        }
      ],
      "source": [
        "a"
      ]
    },
    {
      "cell_type": "code",
      "execution_count": null,
      "id": "dd762651",
      "metadata": {
        "id": "dd762651"
      },
      "outputs": [],
      "source": [
        "a[\"Delhi\"] = 85 # THESE KEYS ARE CASE SENSITIVE"
      ]
    },
    {
      "cell_type": "code",
      "execution_count": null,
      "id": "437a5526",
      "metadata": {
        "id": "437a5526",
        "outputId": "f560c87e-54c6-430a-dbd5-a589451ffa4c"
      },
      "outputs": [
        {
          "data": {
            "text/plain": [
              "{'Delhi': 85, 'Kerala': 99, 'UP': 50, 'Nagaland': 65, 'Maharashtra': 80}"
            ]
          },
          "execution_count": 23,
          "metadata": {},
          "output_type": "execute_result"
        }
      ],
      "source": [
        "a"
      ]
    },
    {
      "cell_type": "code",
      "execution_count": null,
      "id": "2a40e425",
      "metadata": {
        "id": "2a40e425"
      },
      "outputs": [],
      "source": [
        "# Heterogeneity in a dictionary\n",
        "# Keys -> Strings\n",
        "# Values -> ANY PYTHON OBJECT"
      ]
    },
    {
      "cell_type": "code",
      "execution_count": null,
      "id": "0f5093d4",
      "metadata": {
        "id": "0f5093d4"
      },
      "outputs": [],
      "source": [
        "Avenger = {\n",
        "    \"name\": \"Thor\",\n",
        "    \"age\": 1500,\n",
        "    \"weapons\": [\"stormbreaker\", \"mjolnir\"]\n",
        "}"
      ]
    },
    {
      "cell_type": "code",
      "execution_count": null,
      "id": "91008c23",
      "metadata": {
        "id": "91008c23"
      },
      "outputs": [],
      "source": [
        "# Adding and updating values with one operation"
      ]
    },
    {
      "cell_type": "code",
      "execution_count": null,
      "id": "cc9a75f7",
      "metadata": {
        "id": "cc9a75f7"
      },
      "outputs": [],
      "source": [
        "Avenger.update({\n",
        "    \"name\": \"Thor Odinson\",\n",
        "    \"weapons\": [\"stormbreaker\"],\n",
        "    \"strongest?\": True,\n",
        "    \"eyes\": 1\n",
        "})"
      ]
    },
    {
      "cell_type": "code",
      "execution_count": null,
      "id": "2b7dfe85",
      "metadata": {
        "id": "2b7dfe85",
        "outputId": "851add84-1350-46ae-eaf6-d4efe719597c"
      },
      "outputs": [
        {
          "data": {
            "text/plain": [
              "{'name': 'Thor Odinson',\n",
              " 'age': 1500,\n",
              " 'weapons': ['stormbreaker'],\n",
              " 'strongest?': True,\n",
              " 'eyes': 1}"
            ]
          },
          "execution_count": 29,
          "metadata": {},
          "output_type": "execute_result"
        }
      ],
      "source": [
        "Avenger"
      ]
    },
    {
      "cell_type": "code",
      "execution_count": null,
      "id": "a9a7f7c0",
      "metadata": {
        "id": "a9a7f7c0"
      },
      "outputs": [],
      "source": [
        "random = {\n",
        "    \"a\": 1,\n",
        "    \"b\": 2,\n",
        "    \"c\": 3,\n",
        "    \"d\": None\n",
        "}"
      ]
    },
    {
      "cell_type": "code",
      "execution_count": null,
      "id": "8ff6b3eb",
      "metadata": {
        "id": "8ff6b3eb",
        "outputId": "f15faad5-f7f5-40ab-8cae-8709a08119dd"
      },
      "outputs": [
        {
          "data": {
            "text/plain": [
              "2"
            ]
          },
          "execution_count": 31,
          "metadata": {},
          "output_type": "execute_result"
        }
      ],
      "source": [
        "random[\"b\"]"
      ]
    },
    {
      "cell_type": "code",
      "execution_count": null,
      "id": "8cc78e0b",
      "metadata": {
        "id": "8cc78e0b",
        "outputId": "69e1bfc8-48f9-43c2-e9dd-1b081ac8d788"
      },
      "outputs": [
        {
          "ename": "KeyError",
          "evalue": "'e'",
          "output_type": "error",
          "traceback": [
            "\u001b[0;31m---------------------------------------------------------------------------\u001b[0m",
            "\u001b[0;31mKeyError\u001b[0m                                  Traceback (most recent call last)",
            "\u001b[0;32m/var/folders/nn/c52y0d3j0gq59dpsswchkt2r0000gn/T/ipykernel_23174/3290652174.py\u001b[0m in \u001b[0;36m<module>\u001b[0;34m\u001b[0m\n\u001b[0;32m----> 1\u001b[0;31m \u001b[0mresult\u001b[0m \u001b[0;34m=\u001b[0m \u001b[0mrandom\u001b[0m\u001b[0;34m[\u001b[0m\u001b[0;34m\"e\"\u001b[0m\u001b[0;34m]\u001b[0m \u001b[0;31m# Key is not present in the dictionary\u001b[0m\u001b[0;34m\u001b[0m\u001b[0;34m\u001b[0m\u001b[0m\n\u001b[0m",
            "\u001b[0;31mKeyError\u001b[0m: 'e'"
          ]
        }
      ],
      "source": [
        "result = random[\"e\"] # Key is not present in the dictionary"
      ]
    },
    {
      "cell_type": "code",
      "execution_count": null,
      "id": "716c2772",
      "metadata": {
        "id": "716c2772"
      },
      "outputs": [],
      "source": [
        "result = random.get(\"e\")"
      ]
    },
    {
      "cell_type": "code",
      "execution_count": null,
      "id": "a4e6b70b",
      "metadata": {
        "id": "a4e6b70b",
        "outputId": "9a3c1b41-db88-4171-85a2-4c1faa8e0f50"
      },
      "outputs": [
        {
          "name": "stdout",
          "output_type": "stream",
          "text": [
            "None\n"
          ]
        }
      ],
      "source": [
        "print(result)"
      ]
    },
    {
      "cell_type": "code",
      "execution_count": null,
      "id": "e3a7614e",
      "metadata": {
        "id": "e3a7614e"
      },
      "outputs": [],
      "source": [
        "result = random.get(\"e\", False)\n",
        "# This default value will be returned in case the key does not exist"
      ]
    },
    {
      "cell_type": "code",
      "execution_count": null,
      "id": "d8ff080d",
      "metadata": {
        "id": "d8ff080d",
        "outputId": "eff3b431-8ddb-4797-c64c-a9887f65f3e0"
      },
      "outputs": [
        {
          "data": {
            "text/plain": [
              "False"
            ]
          },
          "execution_count": 40,
          "metadata": {},
          "output_type": "execute_result"
        }
      ],
      "source": [
        "result"
      ]
    },
    {
      "cell_type": "code",
      "execution_count": null,
      "id": "ddc2b836",
      "metadata": {
        "id": "ddc2b836",
        "outputId": "900ef5fa-411f-4937-8953-0d6094a9ba9e"
      },
      "outputs": [
        {
          "data": {
            "text/plain": [
              "1"
            ]
          },
          "execution_count": 41,
          "metadata": {},
          "output_type": "execute_result"
        }
      ],
      "source": [
        "random.get(\"a\")"
      ]
    },
    {
      "cell_type": "code",
      "execution_count": null,
      "id": "27aa3d6d",
      "metadata": {
        "id": "27aa3d6d",
        "outputId": "b0a5fce6-e366-4619-c0be-0622f1984be3"
      },
      "outputs": [
        {
          "data": {
            "text/plain": [
              "{'name': 'Thor Odinson',\n",
              " 'age': 1500,\n",
              " 'weapons': ['stormbreaker'],\n",
              " 'strongest?': True,\n",
              " 'eyes': 1}"
            ]
          },
          "execution_count": 42,
          "metadata": {},
          "output_type": "execute_result"
        }
      ],
      "source": [
        "Avenger"
      ]
    },
    {
      "cell_type": "code",
      "execution_count": null,
      "id": "b627a81e",
      "metadata": {
        "id": "b627a81e"
      },
      "outputs": [],
      "source": [
        "Avenger.get(\"weapons\").append(\"mjolnir\")"
      ]
    },
    {
      "cell_type": "code",
      "execution_count": null,
      "id": "634284ff",
      "metadata": {
        "id": "634284ff",
        "outputId": "0d24a94f-a0ae-46ae-e861-6a5c05a7a812"
      },
      "outputs": [
        {
          "data": {
            "text/plain": [
              "{'name': 'Thor Odinson',\n",
              " 'age': 1500,\n",
              " 'weapons': ['stormbreaker', 'mjolnir'],\n",
              " 'strongest?': True,\n",
              " 'eyes': 1}"
            ]
          },
          "execution_count": 45,
          "metadata": {},
          "output_type": "execute_result"
        }
      ],
      "source": [
        "Avenger"
      ]
    },
    {
      "cell_type": "code",
      "execution_count": null,
      "id": "acbd2ef3",
      "metadata": {
        "id": "acbd2ef3",
        "outputId": "556d06fa-9285-44f6-a1c9-d96ac9d6f6a5"
      },
      "outputs": [
        {
          "data": {
            "text/plain": [
              "{'Delhi': 85, 'Kerala': 99, 'UP': 50, 'Nagaland': 65, 'Maharashtra': 80}"
            ]
          },
          "execution_count": 46,
          "metadata": {},
          "output_type": "execute_result"
        }
      ],
      "source": [
        "a"
      ]
    },
    {
      "cell_type": "code",
      "execution_count": null,
      "id": "47e08f16",
      "metadata": {
        "id": "47e08f16",
        "outputId": "b15e2958-8d9d-4a64-ddde-59ab85cc7259"
      },
      "outputs": [
        {
          "data": {
            "text/plain": [
              "{'a': 1, 'b': 2, 'c': 3}"
            ]
          },
          "execution_count": 51,
          "metadata": {},
          "output_type": "execute_result"
        }
      ],
      "source": [
        "random"
      ]
    },
    {
      "cell_type": "code",
      "execution_count": null,
      "id": "eba1fc71",
      "metadata": {
        "id": "eba1fc71"
      },
      "outputs": [],
      "source": [
        "random = {\n",
        "    \"a\": 1,\n",
        "    \"b\": 2,\n",
        "    \"c\": 3,\n",
        "    \"d\": None\n",
        "}\n",
        "# takes a key as input and removes that key value pair"
      ]
    },
    {
      "cell_type": "code",
      "execution_count": null,
      "id": "2820f768",
      "metadata": {
        "id": "2820f768",
        "outputId": "20c191b3-ba8d-4c15-a7c5-52e565d261cb"
      },
      "outputs": [
        {
          "data": {
            "text/plain": [
              "{'a': 1, 'b': 2, 'c': 3, 'd': None}"
            ]
          },
          "execution_count": 54,
          "metadata": {},
          "output_type": "execute_result"
        }
      ],
      "source": [
        "random"
      ]
    },
    {
      "cell_type": "code",
      "execution_count": null,
      "id": "876c8001",
      "metadata": {
        "id": "876c8001"
      },
      "outputs": [],
      "source": [
        "random.pop(\"d\")"
      ]
    },
    {
      "cell_type": "code",
      "execution_count": null,
      "id": "6f57f11f",
      "metadata": {
        "id": "6f57f11f",
        "outputId": "b073eb20-6a2a-401f-fd3c-8a09ebbea826"
      },
      "outputs": [
        {
          "data": {
            "text/plain": [
              "{'a': 1, 'b': 2, 'c': 3}"
            ]
          },
          "execution_count": 56,
          "metadata": {},
          "output_type": "execute_result"
        }
      ],
      "source": [
        "random"
      ]
    },
    {
      "cell_type": "code",
      "execution_count": null,
      "id": "aaa8ec70",
      "metadata": {
        "id": "aaa8ec70",
        "outputId": "96fe9edb-7ebf-4e44-b99d-381d49d46b24"
      },
      "outputs": [
        {
          "ename": "TypeError",
          "evalue": "pop expected at least 1 argument, got 0",
          "output_type": "error",
          "traceback": [
            "\u001b[0;31m---------------------------------------------------------------------------\u001b[0m",
            "\u001b[0;31mTypeError\u001b[0m                                 Traceback (most recent call last)",
            "\u001b[0;32m/var/folders/nn/c52y0d3j0gq59dpsswchkt2r0000gn/T/ipykernel_23174/1396421673.py\u001b[0m in \u001b[0;36m<module>\u001b[0;34m\u001b[0m\n\u001b[0;32m----> 1\u001b[0;31m \u001b[0mrandom\u001b[0m\u001b[0;34m.\u001b[0m\u001b[0mpop\u001b[0m\u001b[0;34m(\u001b[0m\u001b[0;34m)\u001b[0m\u001b[0;34m\u001b[0m\u001b[0;34m\u001b[0m\u001b[0m\n\u001b[0m",
            "\u001b[0;31mTypeError\u001b[0m: pop expected at least 1 argument, got 0"
          ]
        }
      ],
      "source": [
        "random.pop()"
      ]
    },
    {
      "cell_type": "code",
      "execution_count": null,
      "id": "1688fd61",
      "metadata": {
        "id": "1688fd61"
      },
      "outputs": [],
      "source": [
        "# KEYS IN A DICIONARY ARE UNIQUE"
      ]
    },
    {
      "cell_type": "code",
      "execution_count": null,
      "id": "6d61fa7e",
      "metadata": {
        "id": "6d61fa7e"
      },
      "outputs": [],
      "source": [
        "a = {\n",
        "    \"a\": 1,\n",
        "    \"b\": 2\n",
        "}"
      ]
    },
    {
      "cell_type": "code",
      "execution_count": null,
      "id": "2a816ff0",
      "metadata": {
        "id": "2a816ff0"
      },
      "outputs": [],
      "source": [
        "a[\"a\"] = 4"
      ]
    },
    {
      "cell_type": "code",
      "execution_count": null,
      "id": "63228593",
      "metadata": {
        "id": "63228593",
        "outputId": "fd6a8f91-5117-41a3-d46f-91a3293a3a92"
      },
      "outputs": [
        {
          "data": {
            "text/plain": [
              "{'a': 4, 'b': 2}"
            ]
          },
          "execution_count": 62,
          "metadata": {},
          "output_type": "execute_result"
        }
      ],
      "source": [
        "a"
      ]
    },
    {
      "cell_type": "code",
      "execution_count": null,
      "id": "84d0e14f",
      "metadata": {
        "id": "84d0e14f",
        "outputId": "c4409807-f711-468d-b66c-5ad777d4a8fb"
      },
      "outputs": [
        {
          "data": {
            "text/plain": [
              "'\\nQuestion 1 - \\nGiven two dictionaries A and B, Write a python program to merge these two dictionaries.\\n\\nA = {\\n    \"a\": 5,\\n    \"b\": 6\\n}\\n\\nB = {\\n    \"b\": 7,\\n    \"d\": 2\\n}\\n\\nResult = {\\n    \"a\": 5,\\n    \"b\": 7,\\n    \"d\": 2\\n}\\n'"
            ]
          },
          "execution_count": 64,
          "metadata": {},
          "output_type": "execute_result"
        }
      ],
      "source": [
        "'''\n",
        "Question 1 - \n",
        "Given two dictionaries A and B, Write a python program to merge these two dictionaries.\n",
        "\n",
        "A = {\n",
        "    \"a\": 5,\n",
        "    \"b\": 6\n",
        "}\n",
        "\n",
        "B = {\n",
        "    \"b\": 7,\n",
        "    \"d\": 2\n",
        "}\n",
        "\n",
        "Result = {\n",
        "    \"a\": 5,\n",
        "    \"b\": 7,\n",
        "    \"d\": 2\n",
        "}\n",
        "'''"
      ]
    },
    {
      "cell_type": "code",
      "execution_count": null,
      "id": "ad3c6592",
      "metadata": {
        "id": "ad3c6592"
      },
      "outputs": [],
      "source": [
        "A = {\n",
        "    \"a\": 5,\n",
        "    \"b\": 6\n",
        "}\n",
        "\n",
        "B = {\n",
        "    \"b\": 7,\n",
        "    \"d\": 2\n",
        "}"
      ]
    },
    {
      "cell_type": "code",
      "execution_count": null,
      "id": "f8dd3e13",
      "metadata": {
        "id": "f8dd3e13"
      },
      "outputs": [],
      "source": [
        "A.update(B) # Method 1"
      ]
    },
    {
      "cell_type": "code",
      "execution_count": null,
      "id": "7eae8ed6",
      "metadata": {
        "id": "7eae8ed6",
        "outputId": "cdadfbfe-3be4-44ae-a94a-34b8ea92bcc8"
      },
      "outputs": [
        {
          "data": {
            "text/plain": [
              "{'a': 5, 'b': 7, 'd': 2}"
            ]
          },
          "execution_count": 67,
          "metadata": {},
          "output_type": "execute_result"
        }
      ],
      "source": [
        "A"
      ]
    },
    {
      "cell_type": "code",
      "execution_count": null,
      "id": "1e858055",
      "metadata": {
        "id": "1e858055"
      },
      "outputs": [],
      "source": [
        "result = A | B # Method 2 - VERY NEW"
      ]
    },
    {
      "cell_type": "code",
      "execution_count": null,
      "id": "03c78f8e",
      "metadata": {
        "id": "03c78f8e",
        "outputId": "4d83faa5-6568-477c-99a5-1577ebc9d454"
      },
      "outputs": [
        {
          "data": {
            "text/plain": [
              "{'a': 5, 'b': 7, 'd': 2}"
            ]
          },
          "execution_count": 74,
          "metadata": {},
          "output_type": "execute_result"
        }
      ],
      "source": [
        "result"
      ]
    },
    {
      "cell_type": "code",
      "execution_count": null,
      "id": "7546dd27",
      "metadata": {
        "id": "7546dd27",
        "outputId": "bfde6fed-0539-4267-8f42-52e54949bdc1"
      },
      "outputs": [
        {
          "ename": "AttributeError",
          "evalue": "'dict' object has no attribute 'union'",
          "output_type": "error",
          "traceback": [
            "\u001b[0;31m---------------------------------------------------------------------------\u001b[0m",
            "\u001b[0;31mAttributeError\u001b[0m                            Traceback (most recent call last)",
            "\u001b[0;32m/var/folders/nn/c52y0d3j0gq59dpsswchkt2r0000gn/T/ipykernel_23174/1047232157.py\u001b[0m in \u001b[0;36m<module>\u001b[0;34m\u001b[0m\n\u001b[0;32m----> 1\u001b[0;31m \u001b[0mresult\u001b[0m \u001b[0;34m=\u001b[0m \u001b[0mA\u001b[0m\u001b[0;34m.\u001b[0m\u001b[0munion\u001b[0m\u001b[0;34m(\u001b[0m\u001b[0mB\u001b[0m\u001b[0;34m)\u001b[0m\u001b[0;34m\u001b[0m\u001b[0;34m\u001b[0m\u001b[0m\n\u001b[0m",
            "\u001b[0;31mAttributeError\u001b[0m: 'dict' object has no attribute 'union'"
          ]
        }
      ],
      "source": [
        "result = A.union(B)"
      ]
    },
    {
      "cell_type": "code",
      "execution_count": null,
      "id": "6bb8d899",
      "metadata": {
        "id": "6bb8d899"
      },
      "outputs": [],
      "source": [
        "# ITERATION IN A DICTIONARY"
      ]
    },
    {
      "cell_type": "code",
      "execution_count": null,
      "id": "26695218",
      "metadata": {
        "id": "26695218"
      },
      "outputs": [],
      "source": [
        "a = Avenger"
      ]
    },
    {
      "cell_type": "code",
      "execution_count": null,
      "id": "19a0874e",
      "metadata": {
        "id": "19a0874e",
        "outputId": "dc38363a-9def-418f-f2de-8b133fcdd02c"
      },
      "outputs": [
        {
          "data": {
            "text/plain": [
              "{'name': 'Thor Odinson',\n",
              " 'age': 1500,\n",
              " 'weapons': ['stormbreaker', 'mjolnir'],\n",
              " 'strongest?': True,\n",
              " 'eyes': 1}"
            ]
          },
          "execution_count": 80,
          "metadata": {},
          "output_type": "execute_result"
        }
      ],
      "source": [
        "a"
      ]
    },
    {
      "cell_type": "code",
      "execution_count": null,
      "id": "bd227faf",
      "metadata": {
        "id": "bd227faf",
        "outputId": "54fa33b5-301b-4f1e-b450-dd59abc5e82c"
      },
      "outputs": [
        {
          "name": "stdout",
          "output_type": "stream",
          "text": [
            "name\n",
            "age\n",
            "weapons\n",
            "strongest?\n",
            "eyes\n"
          ]
        }
      ],
      "source": [
        "for i in a: # by default iteration happens over keys\n",
        "    print(i)"
      ]
    },
    {
      "cell_type": "code",
      "execution_count": null,
      "id": "102259ef",
      "metadata": {
        "id": "102259ef",
        "outputId": "ab631184-917e-4479-a02f-bed459999ca2"
      },
      "outputs": [
        {
          "name": "stdout",
          "output_type": "stream",
          "text": [
            "Thor Odinson\n",
            "1500\n",
            "['stormbreaker', 'mjolnir']\n",
            "True\n",
            "1\n"
          ]
        }
      ],
      "source": [
        "for i in a:\n",
        "    print(a[i])"
      ]
    },
    {
      "cell_type": "code",
      "execution_count": null,
      "id": "03baa522",
      "metadata": {
        "id": "03baa522",
        "outputId": "11ebf6a9-1998-4e66-a2a7-890a6df38392"
      },
      "outputs": [
        {
          "name": "stdout",
          "output_type": "stream",
          "text": [
            "name -> Thor Odinson\n",
            "age -> 1500\n",
            "weapons -> ['stormbreaker', 'mjolnir']\n",
            "strongest? -> True\n",
            "eyes -> 1\n"
          ]
        }
      ],
      "source": [
        "for i in a:\n",
        "    print(f\"{i} -> {a[i]}\")"
      ]
    },
    {
      "cell_type": "code",
      "execution_count": null,
      "id": "d13472bb",
      "metadata": {
        "id": "d13472bb",
        "outputId": "67208d4a-7382-4051-882d-491e35d3f3fb"
      },
      "outputs": [
        {
          "data": {
            "text/plain": [
              "dict_keys(['name', 'age', 'weapons', 'strongest?', 'eyes'])"
            ]
          },
          "execution_count": 87,
          "metadata": {},
          "output_type": "execute_result"
        }
      ],
      "source": [
        "a.keys()"
      ]
    },
    {
      "cell_type": "code",
      "execution_count": null,
      "id": "26bb9ff4",
      "metadata": {
        "scrolled": true,
        "id": "26bb9ff4",
        "outputId": "e9b97639-1ae9-48bc-9874-5d6ea63b2519"
      },
      "outputs": [
        {
          "name": "stdout",
          "output_type": "stream",
          "text": [
            "name\n",
            "age\n",
            "weapons\n",
            "strongest?\n",
            "eyes\n"
          ]
        }
      ],
      "source": [
        "for i in a.keys():\n",
        "    print(i)"
      ]
    },
    {
      "cell_type": "code",
      "execution_count": null,
      "id": "7900e92a",
      "metadata": {
        "id": "7900e92a",
        "outputId": "393ba45a-6d0c-4883-ab83-84ee4c2b5fc5"
      },
      "outputs": [
        {
          "data": {
            "text/plain": [
              "dict_values(['Thor Odinson', 1500, ['stormbreaker', 'mjolnir'], True, 1])"
            ]
          },
          "execution_count": 88,
          "metadata": {},
          "output_type": "execute_result"
        }
      ],
      "source": [
        "a.values()"
      ]
    },
    {
      "cell_type": "code",
      "execution_count": null,
      "id": "0a132d1d",
      "metadata": {
        "id": "0a132d1d",
        "outputId": "697468aa-1090-4a8a-81ad-cbfed8a1cdb3"
      },
      "outputs": [
        {
          "name": "stdout",
          "output_type": "stream",
          "text": [
            "Thor Odinson\n",
            "1500\n",
            "['stormbreaker', 'mjolnir']\n",
            "True\n",
            "1\n"
          ]
        }
      ],
      "source": [
        "for i in a.values():\n",
        "    print(i)"
      ]
    },
    {
      "cell_type": "code",
      "execution_count": null,
      "id": "5c43420c",
      "metadata": {
        "id": "5c43420c",
        "outputId": "ae2e1f13-31e4-4eea-fcae-6a2f5faee8ae"
      },
      "outputs": [
        {
          "data": {
            "text/plain": [
              "dict_items([('name', 'Thor Odinson'), ('age', 1500), ('weapons', ['stormbreaker', 'mjolnir']), ('strongest?', True), ('eyes', 1)])"
            ]
          },
          "execution_count": 90,
          "metadata": {},
          "output_type": "execute_result"
        }
      ],
      "source": [
        "a.items()"
      ]
    },
    {
      "cell_type": "code",
      "execution_count": null,
      "id": "42ad00e3",
      "metadata": {
        "id": "42ad00e3",
        "outputId": "48cf8474-560b-4774-8b94-ff3bf2f4a76e"
      },
      "outputs": [
        {
          "name": "stdout",
          "output_type": "stream",
          "text": [
            "('name', 'Thor Odinson')\n",
            "('age', 1500)\n",
            "('weapons', ['stormbreaker', 'mjolnir'])\n",
            "('strongest?', True)\n",
            "('eyes', 1)\n"
          ]
        }
      ],
      "source": [
        "for i in a.items():\n",
        "    print(i)"
      ]
    },
    {
      "cell_type": "code",
      "execution_count": null,
      "id": "bff5f60f",
      "metadata": {
        "id": "bff5f60f",
        "outputId": "3d034f5d-97b2-48cb-a70f-efc193c568a2"
      },
      "outputs": [
        {
          "name": "stdout",
          "output_type": "stream",
          "text": [
            "name -> Thor Odinson\n",
            "age -> 1500\n",
            "weapons -> ['stormbreaker', 'mjolnir']\n",
            "strongest? -> True\n",
            "eyes -> 1\n"
          ]
        }
      ],
      "source": [
        "for key, value in a.items():\n",
        "    print(f\"{key} -> {value}\")"
      ]
    },
    {
      "cell_type": "code",
      "execution_count": null,
      "id": "f2fa28f9",
      "metadata": {
        "id": "f2fa28f9"
      },
      "outputs": [],
      "source": [
        "a = [1,2,3,4,5]"
      ]
    },
    {
      "cell_type": "code",
      "execution_count": null,
      "id": "ee887aeb",
      "metadata": {
        "id": "ee887aeb",
        "outputId": "ac05fadd-82b1-4fd7-a6dd-d77035dd8ca7"
      },
      "outputs": [
        {
          "data": {
            "text/plain": [
              "True"
            ]
          },
          "execution_count": 93,
          "metadata": {},
          "output_type": "execute_result"
        }
      ],
      "source": [
        "5 in a"
      ]
    },
    {
      "cell_type": "code",
      "execution_count": null,
      "id": "f6e96b2a",
      "metadata": {
        "id": "f6e96b2a",
        "outputId": "4e50b49b-3041-4f40-92d4-9b0ac812b2cb"
      },
      "outputs": [
        {
          "data": {
            "text/plain": [
              "False"
            ]
          },
          "execution_count": 95,
          "metadata": {},
          "output_type": "execute_result"
        }
      ],
      "source": [
        "\"random\" in Avenger.keys()"
      ]
    },
    {
      "cell_type": "code",
      "execution_count": null,
      "id": "01de17dd",
      "metadata": {
        "id": "01de17dd",
        "outputId": "26a92438-42ab-4a1c-e42f-39455067decb"
      },
      "outputs": [
        {
          "data": {
            "text/plain": [
              "True"
            ]
          },
          "execution_count": 96,
          "metadata": {},
          "output_type": "execute_result"
        }
      ],
      "source": [
        "\"age\" in Avenger"
      ]
    },
    {
      "cell_type": "code",
      "execution_count": null,
      "id": "cfc1006a",
      "metadata": {
        "id": "cfc1006a",
        "outputId": "03b39974-cea7-4bb8-dc15-65fb270fd116"
      },
      "outputs": [
        {
          "data": {
            "text/plain": [
              "False"
            ]
          },
          "execution_count": 97,
          "metadata": {},
          "output_type": "execute_result"
        }
      ],
      "source": [
        "\"random\" in Avenger"
      ]
    },
    {
      "cell_type": "code",
      "execution_count": null,
      "id": "7ebd26d4",
      "metadata": {
        "id": "7ebd26d4",
        "outputId": "802be7be-4897-4866-f81a-fc1a04f3ce27"
      },
      "outputs": [
        {
          "data": {
            "text/plain": [
              "'\\nQuestion 2 - \\n1. Take a string as input.\\n2. Create a dictionary acc to the following criteria - \\n- There will be one key value pair for each unique character - \\n- Key will be character and value will be the count of character inside the string\\n\\nINPUT - \"rrsssstttt\"\\nOUTPUT -\\n{\\n    \"r\": 2,\\n    \"s\": 4,\\n    \"t\": 4\\n}\\n'"
            ]
          },
          "execution_count": 98,
          "metadata": {},
          "output_type": "execute_result"
        }
      ],
      "source": [
        "'''\n",
        "Question 2 - \n",
        "1. Take a string as input.\n",
        "2. Create a dictionary acc to the following criteria - \n",
        "- There will be one key value pair for each unique character - \n",
        "- Key will be character and value will be the count of character inside the string\n",
        "\n",
        "INPUT - \"rrsssstttt\"\n",
        "OUTPUT -\n",
        "{\n",
        "    \"r\": 2,\n",
        "    \"s\": 4,\n",
        "    \"t\": 4\n",
        "}\n",
        "'''"
      ]
    },
    {
      "cell_type": "code",
      "execution_count": null,
      "id": "fca2b317",
      "metadata": {
        "id": "fca2b317"
      },
      "outputs": [],
      "source": [
        "a = \"random input with lots of random randomness\""
      ]
    },
    {
      "cell_type": "code",
      "execution_count": null,
      "id": "e75f9f0d",
      "metadata": {
        "scrolled": true,
        "id": "e75f9f0d",
        "outputId": "bf80ddf1-93b6-4277-d0fc-0ab9abaf20a2"
      },
      "outputs": [
        {
          "data": {
            "text/plain": [
              "6"
            ]
          },
          "execution_count": 123,
          "metadata": {},
          "output_type": "execute_result"
        }
      ],
      "source": [
        "a.count(\" \")"
      ]
    },
    {
      "cell_type": "code",
      "execution_count": null,
      "id": "797df596",
      "metadata": {
        "id": "797df596"
      },
      "outputs": [],
      "source": [
        "result = {}"
      ]
    },
    {
      "cell_type": "code",
      "execution_count": null,
      "id": "09314da9",
      "metadata": {
        "id": "09314da9"
      },
      "outputs": [],
      "source": [
        "result[\" \"] = a.count(\" \")"
      ]
    },
    {
      "cell_type": "code",
      "execution_count": null,
      "id": "fbda5944",
      "metadata": {
        "id": "fbda5944",
        "outputId": "cdee7f4b-2153-4773-febf-20acf4a85682"
      },
      "outputs": [
        {
          "data": {
            "text/plain": [
              "{' ': 6}"
            ]
          },
          "execution_count": 126,
          "metadata": {},
          "output_type": "execute_result"
        }
      ],
      "source": [
        "result"
      ]
    },
    {
      "cell_type": "code",
      "execution_count": null,
      "id": "d0813871",
      "metadata": {
        "id": "d0813871",
        "outputId": "8de206b4-00a1-44d9-e9a1-a0e3d9b2eae1"
      },
      "outputs": [
        {
          "data": {
            "text/plain": [
              "{' ',\n",
              " 'a',\n",
              " 'd',\n",
              " 'e',\n",
              " 'f',\n",
              " 'h',\n",
              " 'i',\n",
              " 'l',\n",
              " 'm',\n",
              " 'n',\n",
              " 'o',\n",
              " 'p',\n",
              " 'r',\n",
              " 's',\n",
              " 't',\n",
              " 'u',\n",
              " 'w'}"
            ]
          },
          "execution_count": 122,
          "metadata": {},
          "output_type": "execute_result"
        }
      ],
      "source": [
        "set(a)"
      ]
    },
    {
      "cell_type": "code",
      "execution_count": null,
      "id": "7a364a20",
      "metadata": {
        "id": "7a364a20"
      },
      "outputs": [],
      "source": [
        "def count_frequency(a):\n",
        "    result = {}\n",
        "    \n",
        "    for i in set(a):\n",
        "        result[i] = a.count(i)\n",
        "        \n",
        "    return result"
      ]
    },
    {
      "cell_type": "code",
      "execution_count": null,
      "id": "3ea88c19",
      "metadata": {
        "id": "3ea88c19",
        "outputId": "010e78d2-7ada-4646-8f2f-74cfd3131747"
      },
      "outputs": [
        {
          "data": {
            "text/plain": [
              "{'r': 3,\n",
              " ' ': 6,\n",
              " 'n': 5,\n",
              " 'm': 3,\n",
              " 'i': 2,\n",
              " 't': 3,\n",
              " 'o': 5,\n",
              " 'w': 1,\n",
              " 's': 3,\n",
              " 'f': 1,\n",
              " 'd': 3,\n",
              " 'e': 1,\n",
              " 'a': 3,\n",
              " 'p': 1,\n",
              " 'u': 1,\n",
              " 'h': 1,\n",
              " 'l': 1}"
            ]
          },
          "execution_count": 103,
          "metadata": {},
          "output_type": "execute_result"
        }
      ],
      "source": [
        "count_frequency(a)"
      ]
    },
    {
      "cell_type": "code",
      "execution_count": null,
      "id": "9ac1dc05",
      "metadata": {
        "id": "9ac1dc05",
        "outputId": "30f2cc19-5294-4232-e02a-28232c9eef9a"
      },
      "outputs": [
        {
          "name": "stdout",
          "output_type": "stream",
          "text": [
            "n\n",
            "5\n",
            "Do you want to add another key value pair? (N/n if no) - n\n"
          ]
        }
      ],
      "source": [
        "result = {}\n",
        "while True:\n",
        "    key = input()\n",
        "    value = input()\n",
        "    result[key] = value\n",
        "    \n",
        "    choice = input(\"Do you want to add another key value pair? (N/n if no) - \")\n",
        "    \n",
        "    if choice in [\"N\", \"n\"]:\n",
        "        break"
      ]
    },
    {
      "cell_type": "code",
      "execution_count": null,
      "id": "a78dc9f4",
      "metadata": {
        "id": "a78dc9f4",
        "outputId": "d57289b3-3109-4767-ae76-aeb9c40fc950"
      },
      "outputs": [
        {
          "data": {
            "text/plain": [
              "{'random': '1', 'random2': '2'}"
            ]
          },
          "execution_count": 105,
          "metadata": {},
          "output_type": "execute_result"
        }
      ],
      "source": [
        "result"
      ]
    },
    {
      "cell_type": "code",
      "execution_count": null,
      "id": "4925dc2c",
      "metadata": {
        "id": "4925dc2c"
      },
      "outputs": [],
      "source": [
        "# ACTUAL HETEROGENEITY"
      ]
    },
    {
      "cell_type": "code",
      "execution_count": null,
      "id": "b532b37e",
      "metadata": {
        "id": "b532b37e"
      },
      "outputs": [],
      "source": [
        "# Keys -> Any immutable data type (Anything other than lists / dictionaries / sets)"
      ]
    },
    {
      "cell_type": "code",
      "execution_count": null,
      "id": "e04c8e93",
      "metadata": {
        "id": "e04c8e93"
      },
      "outputs": [],
      "source": [
        "# Mutable (Can be changed) -> Lists, Sets and Dictionaries\n",
        "# Immutable (Can't be changed) -> Int, Float, Boolean, String, Tuples"
      ]
    },
    {
      "cell_type": "code",
      "execution_count": null,
      "id": "4be1bd14",
      "metadata": {
        "id": "4be1bd14"
      },
      "outputs": [],
      "source": [
        "random = {\n",
        "    \"key1\": [4,45,67],\n",
        "    \"key2\": {\n",
        "        (1,2,3): 45\n",
        "    },\n",
        "    45: \"value2\",\n",
        "    45.67: \"value3\",\n",
        "    True: {2,3,4}\n",
        "}"
      ]
    },
    {
      "cell_type": "code",
      "execution_count": null,
      "id": "1a369407",
      "metadata": {
        "id": "1a369407",
        "outputId": "35403ab5-c4e2-499d-8962-5a9636ab7fad"
      },
      "outputs": [
        {
          "ename": "TypeError",
          "evalue": "unhashable type: 'list'",
          "output_type": "error",
          "traceback": [
            "\u001b[0;31m---------------------------------------------------------------------------\u001b[0m",
            "\u001b[0;31mTypeError\u001b[0m                                 Traceback (most recent call last)",
            "\u001b[0;32m/var/folders/nn/c52y0d3j0gq59dpsswchkt2r0000gn/T/ipykernel_23174/358654970.py\u001b[0m in \u001b[0;36m<module>\u001b[0;34m\u001b[0m\n\u001b[1;32m      1\u001b[0m random = {\n\u001b[1;32m      2\u001b[0m     \u001b[0;34m\"key1\"\u001b[0m\u001b[0;34m:\u001b[0m \u001b[0;34m[\u001b[0m\u001b[0;36m4\u001b[0m\u001b[0;34m,\u001b[0m\u001b[0;36m45\u001b[0m\u001b[0;34m,\u001b[0m\u001b[0;36m67\u001b[0m\u001b[0;34m]\u001b[0m\u001b[0;34m,\u001b[0m\u001b[0;34m\u001b[0m\u001b[0;34m\u001b[0m\u001b[0m\n\u001b[0;32m----> 3\u001b[0;31m     \"key2\": {\n\u001b[0m\u001b[1;32m      4\u001b[0m         \u001b[0;34m[\u001b[0m\u001b[0;36m1\u001b[0m\u001b[0;34m,\u001b[0m\u001b[0;36m2\u001b[0m\u001b[0;34m,\u001b[0m\u001b[0;36m3\u001b[0m\u001b[0;34m]\u001b[0m\u001b[0;34m:\u001b[0m \u001b[0;36m45\u001b[0m\u001b[0;34m\u001b[0m\u001b[0;34m\u001b[0m\u001b[0m\n\u001b[1;32m      5\u001b[0m     },\n",
            "\u001b[0;31mTypeError\u001b[0m: unhashable type: 'list'"
          ]
        }
      ],
      "source": [
        "random = {\n",
        "    \"key1\": [4,45,67],\n",
        "    \"key2\": {\n",
        "        [1,2,3]: 45\n",
        "    },\n",
        "    45: \"value2\",\n",
        "    45.67: \"value3\",\n",
        "    True: {2,3,4}\n",
        "}"
      ]
    },
    {
      "cell_type": "code",
      "execution_count": null,
      "id": "d874a8e3",
      "metadata": {
        "id": "d874a8e3"
      },
      "outputs": [],
      "source": [
        "# UNHASHABLE -> HASHING - We will be revisiting sets an dictionaries once again in Intermediate"
      ]
    },
    {
      "cell_type": "code",
      "execution_count": null,
      "id": "4122a937",
      "metadata": {
        "id": "4122a937"
      },
      "outputs": [],
      "source": [
        "# We will be covering the following two concepts in Intermediate - \n",
        "# 1. Python Refresher 1 -> Mutable vs Immutable\n",
        "# 2. Hashing -> Why sets and dictionaries throw this unhashable error"
      ]
    },
    {
      "cell_type": "code",
      "execution_count": null,
      "id": "66dc629e",
      "metadata": {
        "id": "66dc629e"
      },
      "outputs": [],
      "source": [
        "a = [(\"Delhi\", 70), (\"Kerala\", 99), (\"UP\", 50), (\"Nagaland\", 65)]"
      ]
    },
    {
      "cell_type": "code",
      "execution_count": null,
      "id": "c86581f0",
      "metadata": {
        "id": "c86581f0",
        "outputId": "41b363f0-c3a8-4a39-cf7b-266197b6a7e3"
      },
      "outputs": [
        {
          "data": {
            "text/plain": [
              "{'Delhi': 70, 'Kerala': 99, 'UP': 50, 'Nagaland': 65}"
            ]
          },
          "execution_count": 115,
          "metadata": {},
          "output_type": "execute_result"
        }
      ],
      "source": [
        "dict(a)"
      ]
    },
    {
      "cell_type": "code",
      "execution_count": null,
      "id": "4288495e",
      "metadata": {
        "id": "4288495e"
      },
      "outputs": [],
      "source": [
        "# TRUE = 1"
      ]
    },
    {
      "cell_type": "code",
      "execution_count": null,
      "id": "269be0e8",
      "metadata": {
        "id": "269be0e8"
      },
      "outputs": [],
      "source": [
        "# FALSE = 0"
      ]
    },
    {
      "cell_type": "code",
      "execution_count": null,
      "id": "b92c86ea",
      "metadata": {
        "id": "b92c86ea"
      },
      "outputs": [],
      "source": []
    }
  ],
  "metadata": {
    "kernelspec": {
      "display_name": "Python 3 (ipykernel)",
      "language": "python",
      "name": "python3"
    },
    "language_info": {
      "codemirror_mode": {
        "name": "ipython",
        "version": 3
      },
      "file_extension": ".py",
      "mimetype": "text/x-python",
      "name": "python",
      "nbconvert_exporter": "python",
      "pygments_lexer": "ipython3",
      "version": "3.9.5"
    },
    "colab": {
      "provenance": []
    }
  },
  "nbformat": 4,
  "nbformat_minor": 5
}