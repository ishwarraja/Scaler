{
  "nbformat": 4,
  "nbformat_minor": 0,
  "metadata": {
    "colab": {
      "provenance": [],
      "authorship_tag": "ABX9TyNlXZ4yq6nDLXua50RC1Iwt",
      "include_colab_link": true
    },
    "kernelspec": {
      "name": "python3",
      "display_name": "Python 3"
    },
    "language_info": {
      "name": "python"
    }
  },
  "cells": [
    {
      "cell_type": "markdown",
      "metadata": {
        "id": "view-in-github",
        "colab_type": "text"
      },
      "source": [
        "<a href=\"https://colab.research.google.com/github/ishwarraja/Scaler/blob/main/DMLP/ModuleEnd_Exam02_Feb2023.ipynb\" target=\"_parent\"><img src=\"https://colab.research.google.com/assets/colab-badge.svg\" alt=\"Open In Colab\"/></a>"
      ]
    },
    {
      "cell_type": "code",
      "execution_count": 1,
      "metadata": {
        "colab": {
          "base_uri": "https://localhost:8080/"
        },
        "id": "zKH6MX0DR-xn",
        "outputId": "b69ea876-ff5b-4f81-a212-7048d920560e"
      },
      "outputs": [
        {
          "output_type": "stream",
          "name": "stdout",
          "text": [
            "2\n",
            "ghbABCyj\n",
            "3\n",
            "RBafgjCX\n",
            "4\n"
          ]
        }
      ],
      "source": [
        "def main():\n",
        "    # YOUR CODE GOES HERE\n",
        "    # Please take input and print output to standard input/output (stdin/stdout)\n",
        "    # E.g. 'input()/raw_input()' for input & 'print' for output\n",
        "    str = int(input())\n",
        "    while str > 0:\n",
        "        str1 = list(input())\n",
        "        count = 0\n",
        "        for i in str1:\n",
        "            if ord(i) < 96:\n",
        "                count = count +1 \n",
        "        print(count)\n",
        "        str = str - 1\n",
        "        \n",
        "    return 0\n",
        "\n",
        "if __name__ == '__main__':\n",
        "    main()"
      ]
    },
    {
      "cell_type": "code",
      "source": [
        "def main():\n",
        "    # YOUR CODE GOES HERE\n",
        "    # Please take input and print output to standard input/output (stdin/stdout)\n",
        "    # E.g. 'input()/raw_input()' for input & 'print' for output\n",
        "    num = int(input())\n",
        "    while num > 0:\n",
        "      num1 = list(input())\n",
        "      # num2 = list(num1)\n",
        "      sum = 0\n",
        "      for i in num1:\n",
        "        sum = sum + int(i)\n",
        "\n",
        "      print(sum)\n",
        "      num = num - 1\n",
        "\n",
        "    return 0\n",
        "\n",
        "if __name__ == '__main__':\n",
        "    main()"
      ],
      "metadata": {
        "colab": {
          "base_uri": "https://localhost:8080/"
        },
        "id": "U-l5PHJuScSQ",
        "outputId": "90d3d26a-c6ba-4169-b534-72d9967f9e40"
      },
      "execution_count": 10,
      "outputs": [
        {
          "output_type": "stream",
          "name": "stdout",
          "text": [
            "2\n",
            "46\n",
            "10\n",
            "33\n",
            "6\n"
          ]
        }
      ]
    },
    {
      "cell_type": "code",
      "source": [
        "def main():\n",
        "    # YOUR CODE GOES HERE\n",
        "    # Please take input and print output to standard input/output (stdin/stdout)\n",
        "    # E.g. 'input()/raw_input()' for input & 'print' for output\n",
        "    arr_size = int(input())\n",
        "    arr = []\n",
        "    for i in range(0, arr_size):\n",
        "      l = int(input())\n",
        "      arr.append(l)\n",
        "    \n",
        "    arr\n",
        "    print(max(arr),end=' ')\n",
        "    print(min(arr))\n",
        "    return 0\n",
        "\n",
        "if __name__ == '__main__':\n",
        "    main()"
      ],
      "metadata": {
        "colab": {
          "base_uri": "https://localhost:8080/"
        },
        "id": "HbYs556zWDQ2",
        "outputId": "34ce1a78-d313-42c8-a474-47655b545d7e"
      },
      "execution_count": 30,
      "outputs": [
        {
          "output_type": "stream",
          "name": "stdout",
          "text": [
            "3\n",
            "10\n",
            "14\n",
            "8\n",
            "14 8\n"
          ]
        }
      ]
    },
    {
      "cell_type": "code",
      "source": [
        "def main():\n",
        "    # YOUR CODE GOES HERE\n",
        "    # Please take input and print output to standard input/output (stdin/stdout)\n",
        "    # E.g. 'input()/raw_input()' for input & 'print' for output\n",
        "    arr = list(map(int, input().split(' ')))\n",
        "    print(max(arr),end=' ')\n",
        "    print(min(arr))\n",
        "\n",
        "if __name__ == '__main__':\n",
        "    main()"
      ],
      "metadata": {
        "colab": {
          "base_uri": "https://localhost:8080/"
        },
        "id": "E0FjnEWJZhQG",
        "outputId": "d0d95938-62ed-462b-8206-e0692977074b"
      },
      "execution_count": 33,
      "outputs": [
        {
          "output_type": "stream",
          "name": "stdout",
          "text": [
            "4 10 50 40 80\n",
            "80 4\n"
          ]
        }
      ]
    },
    {
      "cell_type": "code",
      "source": [
        "\n",
        "\n",
        "def func(L):\n",
        "  N = len(L)\n",
        "  i = 0\n",
        "  while i < N-1:\n",
        "    if L[i] != L[i+1]:\n",
        "      return False\n",
        "    i = i+1\n",
        "  return True\n",
        "\n",
        "# def func(L):\n",
        "#   for i in range(1, len(L)):\n",
        "#     if L[i-1] != L[i]:\n",
        "#       return False\n",
        "#   return True\n",
        "\n",
        "\n",
        "# def func(L):\n",
        "#   return L.count(L[0] == len(L))\n",
        "\n",
        "# def func(L):\n",
        "#   N = len(L)\n",
        "#   i = 0\n",
        "#   while i< N:\n",
        "#     if L[i] == L[i+1]:\n",
        "#       return True\n",
        "#   return False\n",
        "\n",
        "L = [1,1,1,1,1]\n",
        "print(\"Result:\", func(L))"
      ],
      "metadata": {
        "colab": {
          "base_uri": "https://localhost:8080/"
        },
        "id": "y44z3WyUcMAA",
        "outputId": "e5e2abfc-f34f-4375-cc40-ab9fd33ab2a2"
      },
      "execution_count": 52,
      "outputs": [
        {
          "output_type": "stream",
          "name": "stdout",
          "text": [
            "Result: True\n"
          ]
        }
      ]
    },
    {
      "cell_type": "code",
      "source": [
        "def doSomething(M):\n",
        "  n = len(M)\n",
        "  m = len(M[0])\n",
        "  var_1 = M[0][0]\n",
        "  for i in range(n):\n",
        "    num = -1\n",
        "    for j in range(m):\n",
        "      if M[i][j] > num:\n",
        "        num = M[i][j]\n",
        "    if num > var_1:\n",
        "      var_1 = num\n",
        "\n",
        "  return var_1\n",
        "\n",
        "mat = [[1,2],[2,3],[3,5]]\n",
        "print(\"Result: \", doSomething(mat))"
      ],
      "metadata": {
        "colab": {
          "base_uri": "https://localhost:8080/"
        },
        "id": "A_gK-BWnenVI",
        "outputId": "70019574-b380-4b40-9233-53c22fa6d2c6"
      },
      "execution_count": 57,
      "outputs": [
        {
          "output_type": "stream",
          "name": "stdout",
          "text": [
            "Result:  5\n"
          ]
        }
      ]
    },
    {
      "cell_type": "code",
      "source": [
        "\n",
        "\n",
        "\n",
        "def dot_product(L1,L2):\n",
        "  N = len(L1)\n",
        "  dot_sum=0\n",
        "  for i in range(N):\n",
        "    dot_sum = dot_sum + (L1[i]*L2[i])\n",
        "  return dot_sum\n",
        "\n",
        "# def dot_product(L1,L2):\n",
        "#   N = len(L1)\n",
        "#   dot_sum=0\n",
        "#   for i in range(N+1):\n",
        "#     dot_sum = dot_sum + (L1[i]*L2[i])\n",
        "#   return dot_sum\n",
        "\n",
        "# def dot_product(L1,L2):\n",
        "#   N = len(L2)-1\n",
        "#   dot_sum=0\n",
        "#   for i in range(N):\n",
        "#     dot_sum = dot_sum + (L1[i]*L2[i])\n",
        "#   return dot_sum\n",
        "\n",
        "# def dot_product(L1,L2):\n",
        "#   N = len(L2)\n",
        "#   dot_sum=0\n",
        "#   for i in range(N):\n",
        "#     dot_sum = dot_sum + (L1[i]*L2[i])\n",
        "#   return dot_sum\n",
        "\n",
        "L1 = [1,2,3]\n",
        "L2 = [1,2,4]\n",
        "print(\"Result: \",dot_product(L1,L2))\n",
        "\n"
      ],
      "metadata": {
        "colab": {
          "base_uri": "https://localhost:8080/"
        },
        "id": "waYrYzFGcMHk",
        "outputId": "4352347b-bc97-4427-997b-8ed8cbfa926c"
      },
      "execution_count": 62,
      "outputs": [
        {
          "output_type": "stream",
          "name": "stdout",
          "text": [
            "Result:  17\n"
          ]
        }
      ]
    },
    {
      "cell_type": "code",
      "source": [
        "\n",
        "\n",
        "\n",
        "def function_1():\n",
        "  print(\"third\")\n",
        "  function_2()\n",
        "\n",
        "def function_2():\n",
        "  print(\"second\")\n",
        "  function_3()\n",
        "\n",
        "def function_3():\n",
        "  print(\"first\")\n",
        "\n",
        "function_1()"
      ],
      "metadata": {
        "id": "wTiNRGBIgsYX",
        "outputId": "aefdb6c9-8be7-4759-ce6d-b8677e83f1a2",
        "colab": {
          "base_uri": "https://localhost:8080/"
        }
      },
      "execution_count": 63,
      "outputs": [
        {
          "output_type": "stream",
          "name": "stdout",
          "text": [
            "third\n",
            "second\n",
            "first\n"
          ]
        }
      ]
    },
    {
      "cell_type": "code",
      "source": [
        "def func(num1=1,num2=1):\n",
        "  count=0\n",
        "  while num1 >= num2:\n",
        "    num1 = num1//num2\n",
        "    count = count+1\n",
        "  return count\n",
        "\n",
        "func(8,2)"
      ],
      "metadata": {
        "id": "af6uP8S0hotY",
        "outputId": "50b44e4a-9cb2-4953-9064-ca7bfd1e88fe",
        "colab": {
          "base_uri": "https://localhost:8080/"
        }
      },
      "execution_count": 66,
      "outputs": [
        {
          "output_type": "execute_result",
          "data": {
            "text/plain": [
              "3"
            ]
          },
          "metadata": {},
          "execution_count": 66
        }
      ]
    }
  ]
}