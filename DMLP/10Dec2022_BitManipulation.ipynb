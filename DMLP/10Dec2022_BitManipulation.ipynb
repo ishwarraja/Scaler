{
  "nbformat": 4,
  "nbformat_minor": 0,
  "metadata": {
    "colab": {
      "provenance": [],
      "toc_visible": true,
      "authorship_tag": "ABX9TyNgZphxIUBLbVQmhYWRj41f",
      "include_colab_link": true
    },
    "kernelspec": {
      "name": "python3",
      "display_name": "Python 3"
    },
    "language_info": {
      "name": "python"
    }
  },
  "cells": [
    {
      "cell_type": "markdown",
      "metadata": {
        "id": "view-in-github",
        "colab_type": "text"
      },
      "source": [
        "<a href=\"https://colab.research.google.com/github/ishwarraja/Scaler/blob/main/DMLP/10Dec2022_BitManipulation.ipynb\" target=\"_parent\"><img src=\"https://colab.research.google.com/assets/colab-badge.svg\" alt=\"Open In Colab\"/></a>"
      ]
    },
    {
      "cell_type": "markdown",
      "source": [
        "# BIT ManiPulation"
      ],
      "metadata": {
        "id": "QRKgsu2o55QE"
      }
    },
    {
      "cell_type": "markdown",
      "source": [],
      "metadata": {
        "id": "DhUECNVCN7ZM"
      }
    },
    {
      "cell_type": "code",
      "execution_count": 2,
      "metadata": {
        "colab": {
          "base_uri": "https://localhost:8080/"
        },
        "id": "tGvCN_gkNmSC",
        "outputId": "47d87107-9557-4854-92e5-dc827866cdca"
      },
      "outputs": [
        {
          "output_type": "stream",
          "name": "stdout",
          "text": [
            "dbg1--->sums: 2\n",
            "dbg1--->sums: 1\n",
            "dbg1--->sums: 6\n",
            "dbg1--->sums: 15\n",
            "dbg1--->sums: 4\n",
            "dbg1--->sums: 6\n",
            "dbg1--->sums: 5\n",
            "dbg1--->sums: 14\n",
            "dbg2--->sums: 2\n",
            "dbg3--->sum1: 2\n",
            "dbg3--->sum1: 1\n",
            "dbg3--->sum1: 6\n",
            "dbg4--->sum2: 2\n",
            "dbg3--->sum1: 13\n",
            "dbg3--->sum1: 15\n",
            "dbg3--->sum1: 12\n",
            "dbg3--->sum1: 7\n",
            "The non-repeating elements are  7  and  9\n"
          ]
        }
      ],
      "source": [
        "# Python3 program for above approach\n",
        "def UniqueNumbers2(arr, n):\n",
        "\tsums = 0\n",
        "\n",
        "\tfor i in range(0, n):\n",
        "\t\tsums = (sums ^ arr[i])\n",
        "\t\tprint(\"dbg1--->sums:\",sums)\n",
        "\tsums = (sums & -sums)\n",
        "\tprint(\"dbg2--->sums:\",sums)\n",
        "\tsum1 = 0\n",
        "\tsum2 = 0\n",
        "\n",
        "\t# Traversing the array again\n",
        "\tfor i in range(0, len(arr)):\n",
        "\t\tif (arr[i] & sums) > 0:\n",
        "\t\t\tsum1 = (sum1 ^ arr[i])\n",
        "\t\t\tprint(\"dbg3--->sum1:\",sum1)\n",
        "\t\telse:\n",
        "\t\t\tsum2 = (sum2 ^ arr[i])\n",
        "\t\t\tprint(\"dbg4--->sum2:\",sums)\n",
        "\t# Print the two unique numbers\n",
        "\tprint(\"The non-repeating elements are \",sum1, \" and \", sum2)\n",
        "\n",
        "\n",
        "# Driver Code\n",
        "if __name__ == \"__main__\":\n",
        "\n",
        "\tarr = [2, 3, 7, 9, 11, 2, 3, 11]\n",
        "\tn = len(arr)\n",
        "\n",
        "\tUniqueNumbers2(arr, n)\n",
        "\n",
        "# This code is contributed by akhilsaini\n"
      ]
    },
    {
      "cell_type": "markdown",
      "source": [],
      "metadata": {
        "id": "mrqVj_Ri4ilG"
      }
    },
    {
      "cell_type": "code",
      "source": [],
      "metadata": {
        "id": "Bl91lKn54izh"
      },
      "execution_count": null,
      "outputs": []
    },
    {
      "cell_type": "markdown",
      "source": [
        "##Q2. Single Number##\n",
        "\n",
        "\n",
        "---\n",
        "\n",
        "\n",
        "**Problem Description**\n",
        "Given an array of integers A, every element appears twice except for one. Find that integer that occurs once.\n",
        "\n",
        "NOTE: Your algorithm should have a linear runtime complexity. Could you implement it without using extra memory?\n",
        "**Problem Constraints**\n",
        "1 <= |A| <= 2000000\n",
        "0 <= A[i] <= INTMAX\n",
        "\n",
        "**Input Format**\n",
        "The first and only argument of input contains an integer array A.\n",
        "\n",
        "**Output Format**\n",
        "Return a single integer denoting the single element.\n",
        "\n",
        "**Example Input**\n",
        "Input 1: A = [1, 2, 2, 3, 1]  O/P = 3\n",
        "Input 2: A = [1, 2, 2]   O/P = 1"
      ],
      "metadata": {
        "id": "Cl-7L2OK4i9r"
      }
    },
    {
      "cell_type": "code",
      "source": [
        "class Solution:\n",
        "    def singleNumber(self, A):\n",
        "        ret = A[0]\n",
        "        for i in range(1, len(A)):\n",
        "            # xor of all the elements of the array\n",
        "            ret ^= A[i]\n",
        "            print(\"ret:\",ret)\n",
        "        return ret\n",
        "\n",
        "A = [1, 2, 2, 3, 1]\n",
        "pt1 = Solution()\n",
        "res = pt1.singleNumber(A)"
      ],
      "metadata": {
        "colab": {
          "base_uri": "https://localhost:8080/"
        },
        "id": "Cl687RuY4jH4",
        "outputId": "c2f0e5f8-75e3-4dd4-ed1e-78958440d16a"
      },
      "execution_count": 1,
      "outputs": [
        {
          "output_type": "stream",
          "name": "stdout",
          "text": [
            "ret: 3\n",
            "ret: 1\n",
            "ret: 2\n",
            "ret: 3\n"
          ]
        }
      ]
    },
    {
      "cell_type": "markdown",
      "source": [],
      "metadata": {
        "id": "_soQahcb4jQk"
      }
    },
    {
      "cell_type": "code",
      "source": [],
      "metadata": {
        "id": "jqdmM3xs4jZ8"
      },
      "execution_count": null,
      "outputs": []
    },
    {
      "cell_type": "markdown",
      "source": [],
      "metadata": {
        "id": "xWekhHxO4jhx"
      }
    },
    {
      "cell_type": "code",
      "source": [],
      "metadata": {
        "id": "bjPRRY2s4jsh"
      },
      "execution_count": null,
      "outputs": []
    },
    {
      "cell_type": "markdown",
      "source": [],
      "metadata": {
        "id": "sAYPRICf4j1-"
      }
    },
    {
      "cell_type": "code",
      "source": [
        "class Solution:\n",
        "    def singleNumber(self, A):\n",
        "        # Initialize result\n",
        "        result = 0\n",
        "        INT_SIZE = 32\n",
        "        n = len(A)\n",
        "        arr = A\n",
        "        \n",
        "        # Iterate through every bit\n",
        "        for i in range(0, INT_SIZE) :\n",
        "            \n",
        "            # Find sum of set bits\n",
        "            # at ith position in all\n",
        "            # array elements\n",
        "            sm = 0\n",
        "            x = (1 << i)\n",
        "            for j in range(0, n) :\n",
        "                if (arr[j] & x) :\n",
        "                    sm = sm + 1\n",
        "                    \n",
        "            # The bits with sum not\n",
        "            # multiple of 3, are the\n",
        "            # bits of element with\n",
        "            # single occurrence.\n",
        "            if ((sm % 3)!= 0) :\n",
        "                result = result | x\n",
        "        \n",
        "        return result\n",
        "\n",
        "A = [ 890, 992, 172, 479, 973, 901, 417, 215, 901, 283, 788, 102, 726, 609, 379, 587, 630, 283, 10, 707, 203, 417, 382, 601, 713, 290, 489, 374, 203, 680, 108, 463, 290, 290, 382, 886, 584, 406, 809, 601, 176, 11, 554, 801, 166, 303, 308, 319, 172, 619, 400, 885, 203, 463, 303, 303, 885, 308, 460, 283, 406, 64, 584, 973, 572, 194, 383, 630, 395, 901, 992, 973, 938, 609, 938, 382, 169, 707, 680, 965, 726, 726, 890, 383, 172, 102, 10, 308, 10, 102, 587, 809, 460, 379, 713, 890, 463, 108, 108, 811, 176, 169, 313, 886, 400, 319, 22, 885, 572, 64, 120, 619, 313, 3, 460, 713, 811, 965, 479, 3, 247, 886, 120, 707, 120, 176, 374, 609, 395, 811, 406, 809, 801, 554, 3, 194, 11, 587, 169, 215, 313, 319, 554, 379, 788, 194, 630, 601, 965, 417, 788, 479, 64, 22, 22, 489, 166, 938, 66, 801, 374, 66, 619, 489, 215, 584, 383, 66, 680, 395, 400, 166, 572, 11, 992 ]\n",
        "pt1 = Solution()\n",
        "res = pt1.singleNumber(A)\n",
        "print(res)"
      ],
      "metadata": {
        "colab": {
          "base_uri": "https://localhost:8080/"
        },
        "id": "vfbkudGp4kC4",
        "outputId": "6a48d5ee-840f-43c5-a7bb-f01b24c0cc0b"
      },
      "execution_count": 5,
      "outputs": [
        {
          "output_type": "stream",
          "name": "stdout",
          "text": [
            "247\n"
          ]
        }
      ]
    },
    {
      "cell_type": "markdown",
      "source": [],
      "metadata": {
        "id": "I0SQfjiRRhvn"
      }
    },
    {
      "cell_type": "code",
      "source": [
        "class Solution:\n",
        "    def solve(self, A):\n",
        "        A.sort()\n",
        "        ans = A[0]^A[1]\n",
        "        for i in range(1,len(A)):\n",
        "          ans = max(ans,A[i]^A[i-1])\n",
        "        return ans\n",
        "\n",
        "A = [2, 6, 4]\n",
        "pt1 = Solution()\n",
        "res = pt1.solve(A)\n",
        "print(res)"
      ],
      "metadata": {
        "colab": {
          "base_uri": "https://localhost:8080/"
        },
        "id": "x3b25VeYRh9A",
        "outputId": "a96cc019-3f1e-4662-b289-c7d984d5c209"
      },
      "execution_count": 5,
      "outputs": [
        {
          "output_type": "stream",
          "name": "stdout",
          "text": [
            "6\n"
          ]
        }
      ]
    },
    {
      "cell_type": "markdown",
      "source": [],
      "metadata": {
        "id": "yBUp2oSOb3ji"
      }
    },
    {
      "cell_type": "code",
      "source": [
        "# Python3 program to find Maximum modulo value\n",
        "\n",
        "def min_elimination(n, arr):\n",
        "    countOdd = 0\n",
        " \n",
        "    # Stores the new value\n",
        "    for i in range(n):\n",
        "         \n",
        "        # Count odd numbers\n",
        "        if (arr[i] % 2):\n",
        "            countOdd += 1\n",
        " \n",
        "    # Return the minimum of even and\n",
        "    # odd count\n",
        "    return min(countOdd, n - countOdd)\n",
        " \n",
        "# Driver code\n",
        "if __name__ == '__main__':\n",
        "    arr = [1, 2, 3, 7, 9]\n",
        "    n = len(arr)\n",
        " \n",
        "    print(min_elimination(n, arr))\n",
        "\n",
        "\n"
      ],
      "metadata": {
        "colab": {
          "base_uri": "https://localhost:8080/"
        },
        "id": "Ol-rRYndb3s9",
        "outputId": "f72ab2d0-b95a-4040-8cad-d7f786a43f82"
      },
      "execution_count": 11,
      "outputs": [
        {
          "output_type": "stream",
          "name": "stdout",
          "text": [
            "2\n"
          ]
        }
      ]
    },
    {
      "cell_type": "code",
      "source": [
        "def solve(arr):\n",
        "  count = 0\n",
        "  n =len(arr)\n",
        "  for i in range(n):\n",
        "    if(arr[i]%2):\n",
        "      print(\"Arry\",arr[i]%2)\n",
        "      count += 1\n",
        "    print(count)\n",
        "  return min(count,n-count)\n",
        "\n",
        "if __name__ == '__main__':\n",
        "    arr = [5, 17, 100, 11]\n",
        "    print(solve(arr))"
      ],
      "metadata": {
        "colab": {
          "base_uri": "https://localhost:8080/"
        },
        "id": "iiBA0xMRe6ow",
        "outputId": "49c232bc-872d-4b1e-cd6f-e988f8e2dd37"
      },
      "execution_count": 17,
      "outputs": [
        {
          "output_type": "stream",
          "name": "stdout",
          "text": [
            "Arry 1\n",
            "1\n",
            "Arry 1\n",
            "2\n",
            "2\n",
            "Arry 1\n",
            "3\n",
            "1\n"
          ]
        }
      ]
    },
    {
      "cell_type": "code",
      "source": [],
      "metadata": {
        "id": "CknSjVgrgsnf"
      },
      "execution_count": null,
      "outputs": []
    },
    {
      "cell_type": "markdown",
      "source": [
        "Q4. Single Number II\n",
        "Given an array of integers, every element appears thrice except for one, which occurs once. Find that element that does not appear thrice.\n",
        "NOTE: Your algorithm should have a linear runtime complexity.\n",
        "Could you implement it without using extra memory?\n",
        "\n",
        "Problem Constraints\n",
        "2 <= A <= 5*106\n",
        "0 <= A <= INTMAX\n",
        "\n",
        "Input Format\n",
        "First and only argument of input contains an integer array A.\n",
        "\n",
        "Output Format\n",
        "Return a single integer.\n",
        "\n",
        "Example Input\n",
        "Input 1:A = [1, 2, 4, 3, 3, 2, 2, 3, 1, 1]\n",
        "Input 2:A = [0, 0, 0, 1]\n",
        "\n",
        "Example Output\n",
        "Output 1:4\n",
        "Output 2:1\n",
        "\n",
        "Example Explanation\n",
        "Explanation 1:\n",
        " 4 occurs exactly once in Input 1.\n",
        " 1 occurs exactly once in Input 2."
      ],
      "metadata": {
        "id": "MPJPvrQX9H1A"
      }
    },
    {
      "cell_type": "code",
      "source": [
        "class Solution:\n",
        "    def solve(self, A):\n",
        "        # ones is a bitmask to represent the ith bit had appeared once\n",
        "        ones = twos = common_mask =0\n",
        "        # twos is a bitmask to represent the ith bit had appeared twice\n",
        "        # twos = 0\n",
        "        # common_mask = 0\n",
        "        print(\"LenOfA:\",len(A))\n",
        "        for a in A:\n",
        "            # print(ones & a)\n",
        "            twos |= ones & a\n",
        "            print(f\"Before Twos:{twos}\")\n",
        "            print(f\"Before common_mask:{common_mask}\")\n",
        "            print(f\"Before Ones:{ones} a:{a}\")\n",
        "            ones ^= a\n",
        "            print(f\"After Ones:{ones} a:{a}\")\n",
        "            common_mask = ~(ones & twos)\n",
        "            print(f\"Before Ones:{ones} and common_mask:{common_mask}\")\n",
        "            ones &= common_mask\n",
        "            print(f\"After Ones:{ones} and common_mask:{common_mask}\")\n",
        "            print(f\"Before Twos:{twos} and common_mask:{common_mask}\")\n",
        "            twos &= common_mask\n",
        "            print(f\"After Twos:{twos} and common_mask:{common_mask}\")\n",
        "\n",
        "        return ones\n",
        "\n",
        "if __name__ == '__main__':\n",
        "    arr = [1, 2, 4, 2, 2, 1, 1]\n",
        "    pt1 = Solution()\n",
        "    print(pt1.solve(arr))"
      ],
      "metadata": {
        "colab": {
          "base_uri": "https://localhost:8080/"
        },
        "id": "2Zvctpzg9INu",
        "outputId": "c823eb56-60cd-4f7b-bfba-d6dbe08e7b20"
      },
      "execution_count": 13,
      "outputs": [
        {
          "output_type": "stream",
          "name": "stdout",
          "text": [
            "LenOfA: 7\n",
            "Before Twos:0\n",
            "Before common_mask:0\n",
            "Before Ones:0 a:1\n",
            "After Ones:1 a:1\n",
            "Before Ones:1 and common_mask:-1\n",
            "After Ones:1 and common_mask:-1\n",
            "Before Twos:0 and common_mask:-1\n",
            "After Twos:0 and common_mask:-1\n",
            "Before Twos:0\n",
            "Before common_mask:-1\n",
            "Before Ones:1 a:2\n",
            "After Ones:3 a:2\n",
            "Before Ones:3 and common_mask:-1\n",
            "After Ones:3 and common_mask:-1\n",
            "Before Twos:0 and common_mask:-1\n",
            "After Twos:0 and common_mask:-1\n",
            "Before Twos:0\n",
            "Before common_mask:-1\n",
            "Before Ones:3 a:4\n",
            "After Ones:7 a:4\n",
            "Before Ones:7 and common_mask:-1\n",
            "After Ones:7 and common_mask:-1\n",
            "Before Twos:0 and common_mask:-1\n",
            "After Twos:0 and common_mask:-1\n",
            "Before Twos:2\n",
            "Before common_mask:-1\n",
            "Before Ones:7 a:2\n",
            "After Ones:5 a:2\n",
            "Before Ones:5 and common_mask:-1\n",
            "After Ones:5 and common_mask:-1\n",
            "Before Twos:2 and common_mask:-1\n",
            "After Twos:2 and common_mask:-1\n",
            "Before Twos:2\n",
            "Before common_mask:-1\n",
            "Before Ones:5 a:2\n",
            "After Ones:7 a:2\n",
            "Before Ones:7 and common_mask:-3\n",
            "After Ones:5 and common_mask:-3\n",
            "Before Twos:2 and common_mask:-3\n",
            "After Twos:0 and common_mask:-3\n",
            "Before Twos:1\n",
            "Before common_mask:-3\n",
            "Before Ones:5 a:1\n",
            "After Ones:4 a:1\n",
            "Before Ones:4 and common_mask:-1\n",
            "After Ones:4 and common_mask:-1\n",
            "Before Twos:1 and common_mask:-1\n",
            "After Twos:1 and common_mask:-1\n",
            "Before Twos:1\n",
            "Before common_mask:-1\n",
            "Before Ones:4 a:1\n",
            "After Ones:5 a:1\n",
            "Before Ones:5 and common_mask:-2\n",
            "After Ones:4 and common_mask:-2\n",
            "Before Twos:1 and common_mask:-2\n",
            "After Twos:0 and common_mask:-2\n",
            "4\n"
          ]
        }
      ]
    },
    {
      "cell_type": "markdown",
      "source": [],
      "metadata": {
        "id": "pJsHYOcdwgV7"
      }
    },
    {
      "cell_type": "code",
      "source": [
        "# Python3 program to implement\n",
        "# the above approach\n",
        "\n",
        "def cntIndexesToMakeBalance(arr, n):\n",
        "\tif (n == 1):\n",
        "\t\treturn 1\n",
        "\tif (n == 2):\n",
        "\t\treturn 0\n",
        "\tsumEven = 0\n",
        "\tsumOdd = 0\n",
        "\tfor i in range(n):\n",
        "\t\tif (i % 2 == 0):\n",
        "\t\t\tsumEven += arr[i]\n",
        "\t\telse:\n",
        "\t\t\tsumOdd += arr[i]\n",
        "\tcurrOdd = 0\n",
        "\tcurrEven = arr[0]\n",
        "\tres = 0\n",
        "\tnewOddSum = 0\n",
        "\tfor i in range(1, n - 1):\n",
        "\t\tif (i % 2):\n",
        "\t\t\tcurrOdd += arr[i]\n",
        "\t\t\tnewEvenSum = (currEven + sumOdd -\n",
        "\t\t\t\t\t\tcurrOdd)\n",
        "\t\t\tnewOddSum = (currOdd + sumEven -\n",
        "\t\t\t\t\t\tcurrEven - arr[i])\n",
        "\t\telse:\n",
        "\t\t\tcurrEven += arr[i]\n",
        "\t\t\tnewOddSum = (currOdd + sumEven -\n",
        "\t\t\t\t\t\tcurrEven)\n",
        "\t\t\tnewEvenSum = (currEven + sumOdd -\n",
        "\t\t\t\t\t\tcurrOdd - arr[i])\n",
        "\t\tif (newEvenSum == newOddSum):\n",
        "\t\t\tres += 1\n",
        "\tif (sumOdd == sumEven - arr[0]):\n",
        "\t\tres += 1\n",
        "\tif (n % 2 == 1):\n",
        "\t\tif (sumOdd == sumEven - arr[n - 1]):\n",
        "\t\t\tres += 1\n",
        "\telse:\n",
        "\t\tif (sumEven == sumOdd - arr[n - 1]):\n",
        "\t\t\tres += 1\n",
        "\treturn res\n",
        "\n",
        "# Driver Code\n",
        "if __name__ == \"__main__\" :\n",
        "\n",
        "\tarr = [5, 5, 2, 5, 8]\n",
        "\tn = len(arr)\n",
        "\t\n",
        "\tprint(cntIndexesToMakeBalance(arr, n))\n",
        "\t\n",
        "# This code is contributed by AnkitRai01\n"
      ],
      "metadata": {
        "colab": {
          "base_uri": "https://localhost:8080/"
        },
        "id": "rWXr9kixwgl9",
        "outputId": "e6294fd1-0368-4883-b90e-02fe1c3913f3"
      },
      "execution_count": 2,
      "outputs": [
        {
          "output_type": "stream",
          "name": "stdout",
          "text": [
            "2\n"
          ]
        }
      ]
    }
  ]
}