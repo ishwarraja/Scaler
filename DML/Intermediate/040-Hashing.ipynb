{
  "cells": [
    {
      "cell_type": "markdown",
      "metadata": {
        "id": "view-in-github",
        "colab_type": "text"
      },
      "source": [
        "<a href=\"https://colab.research.google.com/github/ishwarraja/Scaler/blob/main/DML/Intermediate/040-Hashing.ipynb\" target=\"_parent\"><img src=\"https://colab.research.google.com/assets/colab-badge.svg\" alt=\"Open In Colab\"/></a>"
      ]
    },
    {
      "cell_type": "code",
      "execution_count": null,
      "id": "8595396c",
      "metadata": {
        "id": "8595396c",
        "outputId": "7a708a7e-a1e7-45ef-f496-584bd82ce93d"
      },
      "outputs": [
        {
          "data": {
            "text/plain": [
              "0"
            ]
          },
          "execution_count": 2,
          "metadata": {},
          "output_type": "execute_result"
        }
      ],
      "source": [
        "# n = 10\n",
        "\n",
        "100 % 10"
      ]
    },
    {
      "cell_type": "code",
      "execution_count": null,
      "id": "8eb594d4",
      "metadata": {
        "id": "8eb594d4",
        "outputId": "0e390f52-a06f-4caa-8449-31669c149859"
      },
      "outputs": [
        {
          "data": {
            "text/plain": [
              "0"
            ]
          },
          "execution_count": 3,
          "metadata": {},
          "output_type": "execute_result"
        }
      ],
      "source": [
        "120 % 10"
      ]
    },
    {
      "cell_type": "code",
      "execution_count": null,
      "id": "c9e33b54",
      "metadata": {
        "id": "c9e33b54",
        "outputId": "eff421f8-4a41-42cd-ad96-2560316d984d"
      },
      "outputs": [
        {
          "data": {
            "text/plain": [
              "5"
            ]
          },
          "execution_count": 4,
          "metadata": {},
          "output_type": "execute_result"
        }
      ],
      "source": [
        "135 % 10"
      ]
    },
    {
      "cell_type": "code",
      "execution_count": null,
      "id": "a4c75e02",
      "metadata": {
        "id": "a4c75e02",
        "outputId": "206a3cf8-fdbf-4e62-cd3d-d73b4f1809ce"
      },
      "outputs": [
        {
          "data": {
            "text/plain": [
              "9"
            ]
          },
          "execution_count": 5,
          "metadata": {},
          "output_type": "execute_result"
        }
      ],
      "source": [
        "19999999 % 10"
      ]
    },
    {
      "cell_type": "code",
      "execution_count": null,
      "id": "039418f1",
      "metadata": {
        "id": "039418f1"
      },
      "outputs": [],
      "source": [
        "# Approach 3"
      ]
    },
    {
      "cell_type": "code",
      "execution_count": null,
      "id": "4119c808",
      "metadata": {
        "id": "4119c808"
      },
      "outputs": [],
      "source": [
        "original_list = [1, 10, 50, 67, 89, 77, 145, 346, 32, 23, 567, 899, 999, 444, 678]"
      ]
    },
    {
      "cell_type": "code",
      "execution_count": null,
      "id": "68ceb42e",
      "metadata": {
        "id": "68ceb42e"
      },
      "outputs": [],
      "source": [
        "queries = [30, 77, 89, 123, 345, 1000, 999, 50, 33, 23]"
      ]
    },
    {
      "cell_type": "code",
      "execution_count": null,
      "id": "ad6a2604",
      "metadata": {
        "id": "ad6a2604"
      },
      "outputs": [],
      "source": [
        "flag = [False]*1001"
      ]
    },
    {
      "cell_type": "code",
      "execution_count": null,
      "id": "f431fbfa",
      "metadata": {
        "id": "f431fbfa"
      },
      "outputs": [],
      "source": [
        "for i in original_list:\n",
        "    flag[i] = True"
      ]
    },
    {
      "cell_type": "code",
      "execution_count": null,
      "id": "e39f94d3",
      "metadata": {
        "id": "e39f94d3"
      },
      "outputs": [],
      "source": [
        "# flag"
      ]
    },
    {
      "cell_type": "code",
      "execution_count": null,
      "id": "a2c6b1d3",
      "metadata": {
        "id": "a2c6b1d3"
      },
      "outputs": [],
      "source": [
        "result = []\n",
        "\n",
        "for q in queries:\n",
        "    if flag[q]:\n",
        "        result.append(True)\n",
        "    else:\n",
        "        result.append(False)"
      ]
    },
    {
      "cell_type": "code",
      "execution_count": null,
      "id": "feeaecac",
      "metadata": {
        "id": "feeaecac",
        "outputId": "86502d06-e7b1-4774-d17a-2b0578e41846"
      },
      "outputs": [
        {
          "data": {
            "text/plain": [
              "[False, True, True, False, False, False, True, True, False, True]"
            ]
          },
          "execution_count": 14,
          "metadata": {},
          "output_type": "execute_result"
        }
      ],
      "source": [
        "result"
      ]
    },
    {
      "cell_type": "code",
      "execution_count": null,
      "id": "62100f5d",
      "metadata": {
        "id": "62100f5d"
      },
      "outputs": [],
      "source": []
    }
  ],
  "metadata": {
    "kernelspec": {
      "display_name": "Python 3 (ipykernel)",
      "language": "python",
      "name": "python3"
    },
    "language_info": {
      "codemirror_mode": {
        "name": "ipython",
        "version": 3
      },
      "file_extension": ".py",
      "mimetype": "text/x-python",
      "name": "python",
      "nbconvert_exporter": "python",
      "pygments_lexer": "ipython3",
      "version": "3.9.5"
    },
    "colab": {
      "provenance": [],
      "include_colab_link": true
    }
  },
  "nbformat": 4,
  "nbformat_minor": 5
}