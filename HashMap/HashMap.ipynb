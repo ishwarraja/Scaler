{
  "nbformat": 4,
  "nbformat_minor": 0,
  "metadata": {
    "colab": {
      "name": "HashMap.ipynb",
      "provenance": [],
      "collapsed_sections": [],
      "authorship_tag": "ABX9TyMLx44fgnyt2Ns2H5B1Y47e",
      "include_colab_link": true
    },
    "kernelspec": {
      "name": "python3",
      "display_name": "Python 3"
    },
    "language_info": {
      "name": "python"
    }
  },
  "cells": [
    {
      "cell_type": "markdown",
      "metadata": {
        "id": "view-in-github",
        "colab_type": "text"
      },
      "source": [
        "<a href=\"https://colab.research.google.com/github/ishwarraja/Scaler/blob/main/HashMap/HashMap.ipynb\" target=\"_parent\"><img src=\"https://colab.research.google.com/assets/colab-badge.svg\" alt=\"Open In Colab\"/></a>"
      ]
    },
    {
      "cell_type": "markdown",
      "metadata": {
        "id": "Tb4Bdj4arhY_"
      },
      "source": [
        "Q1. Problem Description\n",
        "\n",
        "Given two integer array A and B of size N and M respectively. Your task is to find all the common elements in both the array.\n",
        "\n",
        "NOTE:\n",
        "\n",
        "Each element in the result should appear as many times as it shows in both arrays.\n",
        "The result can be in any order.\n"
      ]
    },
    {
      "cell_type": "code",
      "metadata": {
        "colab": {
          "base_uri": "https://localhost:8080/"
        },
        "id": "mMaoRy1frNx9",
        "outputId": "ac205455-86d7-4416-c542-f10f44e95b1f"
      },
      "source": [
        "class solution: \n",
        "  def intersection(self, nums1, nums2):\n",
        "    result = []\n",
        "    memo = {}\n",
        "\n",
        "    for currentval in nums1:\n",
        "      if currentval in memo:\n",
        "        memo[currentval] += 1\n",
        "      else:\n",
        "        memo[currentval] = 1\n",
        "\n",
        "    for currentval in nums2:\n",
        "      if currentval in memo:\n",
        "        result.append(currentval)\n",
        "        memo[currentval] -= 1\n",
        "\n",
        "        if memo[currentval] == 0:\n",
        "          del memo[currentval]\n",
        "    \n",
        "    return result\n",
        "\n",
        "A = [1, 2, 2, 1]\n",
        "B = [2, 3, 1, 2]\n",
        "\n",
        "cl1 = solution()\n",
        "val1 = cl1.intersection(A,B)\n",
        "print(val1)"
      ],
      "execution_count": 14,
      "outputs": [
        {
          "output_type": "stream",
          "text": [
            "None\n"
          ],
          "name": "stdout"
        }
      ]
    },
    {
      "cell_type": "code",
      "metadata": {
        "colab": {
          "base_uri": "https://localhost:8080/"
        },
        "id": "0EgaQiXJrsMo",
        "outputId": "32643fc8-accb-40ac-ec92-82bcaf88006d"
      },
      "source": [
        "#https://favtutor.com/blogs/intersection-of-two-arrays-using-hashmap\n",
        "\n",
        "A = [1, 2, 2, 1]\n",
        "B = [2, 3, 1, 2]\n",
        "\n",
        "def intersection(nums1, nums2):\n",
        "  result = []\n",
        "  memo = {}\n",
        "\n",
        "  for currentval in nums1:\n",
        "    if currentval in memo:\n",
        "      memo[currentval] += 1\n",
        "    else:\n",
        "      memo[currentval] = 1\n",
        "\n",
        "  for currentval in nums2:\n",
        "    if currentval in memo:\n",
        "      result.append(currentval)\n",
        "      memo[currentval] -= 1\n",
        "\n",
        "      if memo[currentval] == 0:\n",
        "        del memo[currentval]\n",
        "  \n",
        "  return result\n",
        "\n",
        "print(intersection(A,B))\n"
      ],
      "execution_count": 5,
      "outputs": [
        {
          "output_type": "stream",
          "text": [
            "[2, 1, 2]\n"
          ],
          "name": "stdout"
        }
      ]
    },
    {
      "cell_type": "code",
      "metadata": {
        "id": "8PjGImMku3ER"
      },
      "source": [
        ""
      ],
      "execution_count": null,
      "outputs": []
    }
  ]
}