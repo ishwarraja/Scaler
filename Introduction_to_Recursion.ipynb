{
  "nbformat": 4,
  "nbformat_minor": 0,
  "metadata": {
    "colab": {
      "name": "Introduction to Recursion.ipynb",
      "provenance": [],
      "authorship_tag": "ABX9TyPHS/izn3Vpuv9JmrTJirYd",
      "include_colab_link": true
    },
    "kernelspec": {
      "name": "python3",
      "display_name": "Python 3"
    },
    "language_info": {
      "name": "python"
    }
  },
  "cells": [
    {
      "cell_type": "markdown",
      "metadata": {
        "id": "view-in-github",
        "colab_type": "text"
      },
      "source": [
        "<a href=\"https://colab.research.google.com/github/ishwarraja/Scaler/blob/main/Introduction_to_Recursion.ipynb\" target=\"_parent\"><img src=\"https://colab.research.google.com/assets/colab-badge.svg\" alt=\"Open In Colab\"/></a>"
      ]
    },
    {
      "cell_type": "code",
      "metadata": {
        "colab": {
          "base_uri": "https://localhost:8080/"
        },
        "id": "6hwoYUql9gxX",
        "outputId": "c7f0b094-5ab5-402d-a510-f8727cd058ef"
      },
      "source": [
        "res = int(input(\"Enter number: \"))\n",
        "print(Fibonacci(res))"
      ],
      "execution_count": 7,
      "outputs": [
        {
          "output_type": "stream",
          "text": [
            "Enter number: 9\n",
            "34\n"
          ],
          "name": "stdout"
        }
      ]
    },
    {
      "cell_type": "code",
      "metadata": {
        "colab": {
          "base_uri": "https://localhost:8080/"
        },
        "id": "MFy0LQct-dRD",
        "outputId": "05041251-5b12-4f71-d52b-72227668b5ca"
      },
      "source": [
        "# Function for nth Fibonacci number\n",
        "def Fibonacci(n):\n",
        "\n",
        "\t# Check if input is 0 then it will\n",
        "\t# print incorrect input\n",
        "\tif n < 0:\n",
        "\t\tprint(\"Incorrect input\")\n",
        "\n",
        "\t# Check if n is 0\n",
        "\t# then it will return 0\n",
        "\telif n == 0:\n",
        "\t\treturn 0\n",
        "\n",
        "\t# Check if n is 1,2\n",
        "\t# it will return 1\n",
        "\telif n == 1 or n == 2:\n",
        "\t\treturn 1\n",
        "\n",
        "\telse:\n",
        "\t\treturn Fibonacci(n-1) + Fibonacci(n-2)\n",
        "\n",
        "# Driver Program\n",
        "print(Fibonacci(4))\n",
        "\n",
        "# This code is contributed by Saket Modi\n",
        "# then corrected and improved by Himanshu Kanojiya\n"
      ],
      "execution_count": 8,
      "outputs": [
        {
          "output_type": "stream",
          "text": [
            "3\n"
          ],
          "name": "stdout"
        }
      ]
    },
    {
      "cell_type": "code",
      "metadata": {
        "colab": {
          "base_uri": "https://localhost:8080/"
        },
        "id": "vswR8S5M-pCt",
        "outputId": "9b232a0a-702c-4241-e32a-5bf44016b348"
      },
      "source": [
        "\n",
        "\n",
        "def fibonacci(A):\n",
        "  FibArray =[ 0,1]\n",
        "  if A <= 0:\n",
        "    return \"Incorrect number\"\n",
        "  elif A <= len(FibArray):\n",
        "    return 1\n",
        "  else:\n",
        "    temp_fib = Fibonacci(A-1)+ Fibonacci(A-2)\n",
        "    FibArray.append(temp_fib)\n",
        "    return temp_fib\n",
        "\n",
        "# Driver Program\n",
        "print(fibonacci(4))"
      ],
      "execution_count": 11,
      "outputs": [
        {
          "output_type": "stream",
          "text": [
            "3\n"
          ],
          "name": "stdout"
        }
      ]
    },
    {
      "cell_type": "code",
      "metadata": {
        "colab": {
          "base_uri": "https://localhost:8080/"
        },
        "id": "fQaO8hMGFqR5",
        "outputId": "c8fd8aa9-4260-4cd3-93e5-5f1bb0d64737"
      },
      "source": [
        "def fibonacci(n):\n",
        "  a = 0\n",
        "  b = 1\n",
        "  if A < 0:\n",
        "    return \"Incorrect Number\"\n",
        "\n",
        "  elif A ==0:\n",
        "    return 0\n",
        "  elif A == 1:\n",
        "    return 1\n",
        "  else:\n",
        "    for i in range(1,A):\n",
        "      c = a + b\n",
        "      a = b\n",
        "      b = c\n",
        "    return b\n",
        "\n",
        "print(fibonacci(4))\n",
        "      "
      ],
      "execution_count": 13,
      "outputs": [
        {
          "output_type": "stream",
          "text": [
            "3\n"
          ],
          "name": "stdout"
        }
      ]
    },
    {
      "cell_type": "code",
      "metadata": {
        "id": "gNICPWMjMQ6I"
      },
      "source": [
        ""
      ],
      "execution_count": null,
      "outputs": []
    }
  ]
}