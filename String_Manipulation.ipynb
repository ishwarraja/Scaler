{
  "nbformat": 4,
  "nbformat_minor": 0,
  "metadata": {
    "colab": {
      "name": "String Manipulation.ipynb",
      "provenance": [],
      "authorship_tag": "ABX9TyPrrzpS0pNwPEpgPz5Wm3k/",
      "include_colab_link": true
    },
    "kernelspec": {
      "name": "python3",
      "display_name": "Python 3"
    },
    "language_info": {
      "name": "python"
    }
  },
  "cells": [
    {
      "cell_type": "markdown",
      "metadata": {
        "id": "view-in-github",
        "colab_type": "text"
      },
      "source": [
        "<a href=\"https://colab.research.google.com/github/ishwarraja/Scaler/blob/main/String_Manipulation.ipynb\" target=\"_parent\"><img src=\"https://colab.research.google.com/assets/colab-badge.svg\" alt=\"Open In Colab\"/></a>"
      ]
    },
    {
      "cell_type": "code",
      "metadata": {
        "colab": {
          "base_uri": "https://localhost:8080/"
        },
        "id": "0y2yvcH9JPzs",
        "outputId": "5ad672d8-ec5a-4d29-94b8-61c5476879de"
      },
      "source": [
        "# function which return reverse of a string\n",
        "\n",
        "def isPalindrome(s):\n",
        "\treturn s == s[::-1]\n",
        "\n",
        "\n",
        "\n",
        "# Driver code\n",
        "s = \"malayalam\"\n",
        "ans = isPalindrome(s)\n",
        "\n",
        "if ans:\n",
        "\tprint(\"Yes\")\n",
        "else:\n",
        "\tprint(\"No\")\n"
      ],
      "execution_count": 3,
      "outputs": [
        {
          "output_type": "stream",
          "text": [
            "Yes\n"
          ],
          "name": "stdout"
        }
      ]
    },
    {
      "cell_type": "code",
      "metadata": {
        "colab": {
          "base_uri": "https://localhost:8080/"
        },
        "id": "LCor70fLWStY",
        "outputId": "efa0e6f4-f0cb-4fe9-f0ae-4debcc6d61be"
      },
      "source": [
        "\n",
        "\n",
        "# function to check string is\n",
        "# palindrome or not\n",
        "def isPalindrome(str):\n",
        "\n",
        "\t# Run loop from 0 to len/2\n",
        "\tfor i in range(0, int(len(str)/2)):\n",
        "\t\tif str[i] != str[len(str)-i-1]:\n",
        "\t\t\treturn False\n",
        "\treturn True\n",
        "\n",
        "# main function\n",
        "s = \"malayalam\"\n",
        "ans = isPalindrome(s)\n",
        "\n",
        "if (ans):\n",
        "\tprint(\"Yes\")\n",
        "else:\n",
        "\tprint(\"No\")\n"
      ],
      "execution_count": 17,
      "outputs": [
        {
          "output_type": "stream",
          "text": [
            "Yes\n"
          ],
          "name": "stdout"
        }
      ]
    },
    {
      "cell_type": "code",
      "metadata": {
        "id": "h-DDV0DRFbNd"
      },
      "source": [
        ""
      ],
      "execution_count": null,
      "outputs": []
    }
  ]
}