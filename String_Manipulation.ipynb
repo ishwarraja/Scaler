{
  "nbformat": 4,
  "nbformat_minor": 0,
  "metadata": {
    "colab": {
      "name": "String Manipulation.ipynb",
      "provenance": [],
      "authorship_tag": "ABX9TyNOvBm4Uk9+Gg+RBod6OTaA",
      "include_colab_link": true
    },
    "kernelspec": {
      "name": "python3",
      "display_name": "Python 3"
    },
    "language_info": {
      "name": "python"
    }
  },
  "cells": [
    {
      "cell_type": "markdown",
      "metadata": {
        "id": "view-in-github",
        "colab_type": "text"
      },
      "source": [
        "<a href=\"https://colab.research.google.com/github/ishwarraja/Scaler/blob/main/String_Manipulation.ipynb\" target=\"_parent\"><img src=\"https://colab.research.google.com/assets/colab-badge.svg\" alt=\"Open In Colab\"/></a>"
      ]
    },
    {
      "cell_type": "code",
      "metadata": {
        "colab": {
          "base_uri": "https://localhost:8080/"
        },
        "id": "0y2yvcH9JPzs",
        "outputId": "5ad672d8-ec5a-4d29-94b8-61c5476879de"
      },
      "source": [
        "# function which return reverse of a string\n",
        "\n",
        "def isPalindrome(s):\n",
        "\treturn s == s[::-1]\n",
        "\n",
        "\n",
        "\n",
        "# Driver code\n",
        "s = \"malayalam\"\n",
        "ans = isPalindrome(s)\n",
        "\n",
        "if ans:\n",
        "\tprint(\"Yes\")\n",
        "else:\n",
        "\tprint(\"No\")\n"
      ],
      "execution_count": null,
      "outputs": [
        {
          "output_type": "stream",
          "text": [
            "Yes\n"
          ],
          "name": "stdout"
        }
      ]
    },
    {
      "cell_type": "code",
      "metadata": {
        "colab": {
          "base_uri": "https://localhost:8080/"
        },
        "id": "LCor70fLWStY",
        "outputId": "efa0e6f4-f0cb-4fe9-f0ae-4debcc6d61be"
      },
      "source": [
        "\n",
        "\n",
        "# function to check string is\n",
        "# palindrome or not\n",
        "def isPalindrome(str):\n",
        "\n",
        "\t# Run loop from 0 to len/2\n",
        "\tfor i in range(0, int(len(str)/2)):\n",
        "\t\tif str[i] != str[len(str)-i-1]:\n",
        "\t\t\treturn False\n",
        "\treturn True\n",
        "\n",
        "# main function\n",
        "s = \"malayalam\"\n",
        "ans = isPalindrome(s)\n",
        "\n",
        "if (ans):\n",
        "\tprint(\"Yes\")\n",
        "else:\n",
        "\tprint(\"No\")\n"
      ],
      "execution_count": null,
      "outputs": [
        {
          "output_type": "stream",
          "text": [
            "Yes\n"
          ],
          "name": "stdout"
        }
      ]
    },
    {
      "cell_type": "code",
      "metadata": {
        "id": "h-DDV0DRFbNd",
        "outputId": "50b1dbed-9c57-48d1-fe60-d8ce5478fbf0",
        "colab": {
          "base_uri": "https://localhost:8080/"
        }
      },
      "source": [
        "class Solution:\n",
        "  def solve(self,A):\n",
        "    split_str = A.split(' ')\n",
        "    reversed_str = reversed(split_str)\n",
        "    final_str = ' '.join(reversed_str)\n",
        "    return final_str\n",
        "\n",
        "\n",
        "A = 'the sky is blue'\n",
        "pt1 = Solution()\n",
        "str = pt1.solve(A)\n",
        "print(str)\n"
      ],
      "execution_count": 4,
      "outputs": [
        {
          "output_type": "stream",
          "text": [
            "blue is sky the\n"
          ],
          "name": "stdout"
        }
      ]
    },
    {
      "cell_type": "code",
      "metadata": {
        "id": "oVN6UvEoGIfr",
        "outputId": "4981f456-47b0-4d07-e01b-d3d08f5a692c",
        "colab": {
          "base_uri": "https://localhost:8080/"
        }
      },
      "source": [
        "class Solution:\n",
        "  def solve(self,A):\n",
        "    split_str = A.split(' ')\n",
        "    string= []\n",
        "    for word in split_str:\n",
        "      string.insert(0,word)\n",
        "      string == ' '.join(string)\n",
        "    return string\n",
        "\n",
        "\n",
        "  \n",
        "\n",
        "    \n",
        "\n",
        "A = 'My name is ishwar'\n",
        "pt1 = Solution()\n",
        "str = pt1.solve(A)\n",
        "print(string)"
      ],
      "execution_count": 36,
      "outputs": [
        {
          "output_type": "stream",
          "text": [
            "['much', 'very', 'program', 'this', 'like', 'i']\n"
          ],
          "name": "stdout"
        }
      ]
    },
    {
      "cell_type": "code",
      "metadata": {
        "id": "QlWhutjIH9VQ",
        "outputId": "c816fa03-a6e8-450a-a03e-a8b16e3c6082",
        "colab": {
          "base_uri": "https://localhost:8080/"
        }
      },
      "source": [
        "# s = input()\n",
        "s = \"i like this program very much\"\n",
        "words = s.split(' ')\n",
        "string =[]\n",
        "for word in words:\n",
        "    string.insert(0, word)\n",
        " \n",
        "print(\"Reversed String:\")\n",
        "print(\" \".join(string))\n",
        " \n",
        "# Solution proposed bu Uttam"
      ],
      "execution_count": 14,
      "outputs": [
        {
          "output_type": "stream",
          "text": [
            "Reversed String:\n",
            "much very program this like i\n"
          ],
          "name": "stdout"
        }
      ]
    },
    {
      "cell_type": "code",
      "metadata": {
        "id": "I31FlelqI0f1",
        "outputId": "f1588fac-8929-4c33-ebd7-a099d78d6217",
        "colab": {
          "base_uri": "https://localhost:8080/",
          "height": 36
        }
      },
      "source": [
        "s = \"ishwar\"\n",
        "s[::-1]\n",
        "\n"
      ],
      "execution_count": 48,
      "outputs": [
        {
          "output_type": "execute_result",
          "data": {
            "application/vnd.google.colaboratory.intrinsic+json": {
              "type": "string"
            },
            "text/plain": [
              "'rawhsi'"
            ]
          },
          "metadata": {
            "tags": []
          },
          "execution_count": 48
        }
      ]
    },
    {
      "cell_type": "code",
      "metadata": {
        "id": "2tRPO2o-UNib",
        "outputId": "11eb69d5-c1b8-44df-d9a3-27727a9a68bb",
        "colab": {
          "base_uri": "https://localhost:8080/"
        }
      },
      "source": [
        "s = \"ishwar\"\n",
        "rev = ''.join(reversed(s))\n",
        "print(rev)"
      ],
      "execution_count": 51,
      "outputs": [
        {
          "output_type": "stream",
          "text": [
            "rawhsi\n"
          ],
          "name": "stdout"
        }
      ]
    },
    {
      "cell_type": "code",
      "metadata": {
        "id": "q5Im4zdFXTQp",
        "outputId": "ecd2d326-ca62-43a6-addf-4886158d9553",
        "colab": {
          "base_uri": "https://localhost:8080/"
        }
      },
      "source": [
        "class Solution:\n",
        "  def solve(self,s):\n",
        "    return ''.join(reversed(s))\n",
        "\n",
        "s = \"ishwar\"\n",
        "pt1 = Solution()\n",
        "res = pt1.solve(s)\n",
        "print(res)"
      ],
      "execution_count": 54,
      "outputs": [
        {
          "output_type": "stream",
          "text": [
            "rawhsi\n"
          ],
          "name": "stdout"
        }
      ]
    },
    {
      "cell_type": "code",
      "metadata": {
        "id": "lTGOCprFXxfq"
      },
      "source": [
        "class Solution:\n",
        "  def solve(self,A):\n",
        "    n = len(A)\n",
        "    ans=''\n",
        "    for i in range(n-1,-1,-1):\n",
        "      ans+ = A[i]\n",
        "      "
      ],
      "execution_count": null,
      "outputs": []
    },
    {
      "cell_type": "code",
      "metadata": {
        "id": "8T6qA_MLZjQS",
        "outputId": "4c25a4be-9902-49db-dc5b-8045735c75c9",
        "colab": {
          "base_uri": "https://localhost:8080/"
        }
      },
      "source": [
        "s = \"ishwar\"\n",
        "n=len(s)\n",
        "result =''\n",
        "for i in range(int(len(s))):\n",
        "  print(s[i])\n",
        "\n",
        "\n",
        "  \n",
        "  \n",
        "  \n"
      ],
      "execution_count": 25,
      "outputs": [
        {
          "output_type": "stream",
          "text": [
            "i\n",
            "s\n",
            "h\n",
            "w\n",
            "a\n",
            "r\n"
          ],
          "name": "stdout"
        }
      ]
    },
    {
      "cell_type": "code",
      "metadata": {
        "id": "AjJevQClcZRS",
        "outputId": "3faa6920-f9b1-4b3d-9ca6-f5377f583aa0",
        "colab": {
          "base_uri": "https://localhost:8080/",
          "height": 227
        }
      },
      "source": [
        "s = \"ishwar\"\n",
        "print(\"str : \", s[::])\n",
        "\n"
      ],
      "execution_count": 12,
      "outputs": [
        {
          "output_type": "stream",
          "text": [
            "str :  ishwar\n"
          ],
          "name": "stdout"
        },
        {
          "output_type": "error",
          "ename": "TypeError",
          "evalue": "ignored",
          "traceback": [
            "\u001b[0;31m---------------------------------------------------------------------------\u001b[0m",
            "\u001b[0;31mTypeError\u001b[0m                                 Traceback (most recent call last)",
            "\u001b[0;32m<ipython-input-12-7ee1800490c5>\u001b[0m in \u001b[0;36m<module>\u001b[0;34m()\u001b[0m\n\u001b[1;32m      5\u001b[0m \u001b[0mn\u001b[0m \u001b[0;34m=\u001b[0m \u001b[0mlen\u001b[0m\u001b[0;34m(\u001b[0m\u001b[0mst\u001b[0m\u001b[0;34m)\u001b[0m\u001b[0;34m\u001b[0m\u001b[0;34m\u001b[0m\u001b[0m\n\u001b[1;32m      6\u001b[0m \u001b[0;32mfor\u001b[0m \u001b[0mi\u001b[0m \u001b[0;32min\u001b[0m \u001b[0mst\u001b[0m\u001b[0;34m:\u001b[0m\u001b[0;34m\u001b[0m\u001b[0;34m\u001b[0m\u001b[0m\n\u001b[0;32m----> 7\u001b[0;31m   \u001b[0mprint\u001b[0m\u001b[0;34m(\u001b[0m\u001b[0mn\u001b[0m\u001b[0;34m-\u001b[0m\u001b[0;36m1\u001b[0m\u001b[0;34m-\u001b[0m\u001b[0mi\u001b[0m\u001b[0;34m,\u001b[0m \u001b[0mends\u001b[0m\u001b[0;34m=\u001b[0m\u001b[0;34m''\u001b[0m\u001b[0;34m)\u001b[0m\u001b[0;34m\u001b[0m\u001b[0;34m\u001b[0m\u001b[0m\n\u001b[0m",
            "\u001b[0;31mTypeError\u001b[0m: unsupported operand type(s) for -: 'int' and 'str'"
          ]
        }
      ]
    },
    {
      "cell_type": "code",
      "metadata": {
        "id": "p6__lk1BcEdG",
        "outputId": "6f5641ad-9e2c-4e16-eb33-899aa0e6cddc",
        "colab": {
          "base_uri": "https://localhost:8080/"
        }
      },
      "source": [
        "st = \"Welcome to python\"\n",
        "for i in st:\n",
        "  print(i, end='')"
      ],
      "execution_count": 18,
      "outputs": [
        {
          "output_type": "stream",
          "text": [
            "Welcome to python"
          ],
          "name": "stdout"
        }
      ]
    },
    {
      "cell_type": "code",
      "metadata": {
        "id": "bPzJIC4iedHr",
        "outputId": "5a43467d-da50-4313-c114-235f0c90be74",
        "colab": {
          "base_uri": "https://localhost:8080/",
          "height": 301
        }
      },
      "source": [
        "from collections import Counter\n",
        "\n",
        "def lrotate(input,d): \n",
        "    Lfirst = input[0 : d] \n",
        "    Lsecond = input[d :] \n",
        "\n",
        "    return (Lsecond + Lfirst) \n",
        "\n",
        "def rrotate(input,d):\n",
        "    Rfirst = input[0 : len(input)-d] \n",
        "    Rsecond = input[len(input)-d : ] \n",
        "\n",
        "    return (Rsecond + Rfirst)\n",
        "\n",
        "\n",
        "s=input()\n",
        "n=int(input())\n",
        "c='FIRSTCHARSTRING'\n",
        "l=[]\n",
        "for _ in range(n):\n",
        "    w,v=input().split()\n",
        "    v=int(v)\n",
        "    if w == 'L':\n",
        "        p=lrotate(c,v)\n",
        "    if w == 'R':\n",
        "        p=rrotate(c,v)\n",
        "    l.append(p[0])\n",
        "\n",
        "if Counter(l) == Counter(s) :\n",
        "    print(\"Yes\")\n",
        "else:\n",
        "    print(\"No\")"
      ],
      "execution_count": 7,
      "outputs": [
        {
          "output_type": "stream",
          "text": [
            "ishwar\n",
            "2\n",
            "2 2\n"
          ],
          "name": "stdout"
        },
        {
          "output_type": "error",
          "ename": "NameError",
          "evalue": "ignored",
          "traceback": [
            "\u001b[0;31m---------------------------------------------------------------------------\u001b[0m",
            "\u001b[0;31mNameError\u001b[0m                                 Traceback (most recent call last)",
            "\u001b[0;32m<ipython-input-7-38beacd24840>\u001b[0m in \u001b[0;36m<module>\u001b[0;34m()\u001b[0m\n\u001b[1;32m     25\u001b[0m     \u001b[0;32mif\u001b[0m \u001b[0mw\u001b[0m \u001b[0;34m==\u001b[0m \u001b[0;34m'R'\u001b[0m\u001b[0;34m:\u001b[0m\u001b[0;34m\u001b[0m\u001b[0;34m\u001b[0m\u001b[0m\n\u001b[1;32m     26\u001b[0m         \u001b[0mp\u001b[0m\u001b[0;34m=\u001b[0m\u001b[0mrrotate\u001b[0m\u001b[0;34m(\u001b[0m\u001b[0mc\u001b[0m\u001b[0;34m,\u001b[0m\u001b[0mv\u001b[0m\u001b[0;34m)\u001b[0m\u001b[0;34m\u001b[0m\u001b[0;34m\u001b[0m\u001b[0m\n\u001b[0;32m---> 27\u001b[0;31m     \u001b[0ml\u001b[0m\u001b[0;34m.\u001b[0m\u001b[0mappend\u001b[0m\u001b[0;34m(\u001b[0m\u001b[0mp\u001b[0m\u001b[0;34m[\u001b[0m\u001b[0;36m0\u001b[0m\u001b[0;34m]\u001b[0m\u001b[0;34m)\u001b[0m\u001b[0;34m\u001b[0m\u001b[0;34m\u001b[0m\u001b[0m\n\u001b[0m\u001b[1;32m     28\u001b[0m \u001b[0;34m\u001b[0m\u001b[0m\n\u001b[1;32m     29\u001b[0m \u001b[0;32mif\u001b[0m \u001b[0mCounter\u001b[0m\u001b[0;34m(\u001b[0m\u001b[0ml\u001b[0m\u001b[0;34m)\u001b[0m \u001b[0;34m==\u001b[0m \u001b[0mCounter\u001b[0m\u001b[0;34m(\u001b[0m\u001b[0ms\u001b[0m\u001b[0;34m)\u001b[0m \u001b[0;34m:\u001b[0m\u001b[0;34m\u001b[0m\u001b[0;34m\u001b[0m\u001b[0m\n",
            "\u001b[0;31mNameError\u001b[0m: name 'p' is not defined"
          ]
        }
      ]
    },
    {
      "cell_type": "code",
      "metadata": {
        "id": "EYy8WItlHvVh",
        "outputId": "e441daae-c0af-4329-db96-154c4d507b3d",
        "colab": {
          "base_uri": "https://localhost:8080/"
        }
      },
      "source": [
        "str = \"jungle\"\n",
        "d = 2\n",
        "\n",
        "Rfirst = str[0 : len(str)-d] \n",
        "Rsecond = str[len(str)-d : ] \n",
        "\n",
        "print(Rsecond + Rfirst)"
      ],
      "execution_count": 27,
      "outputs": [
        {
          "output_type": "stream",
          "text": [
            "lejung\n"
          ],
          "name": "stdout"
        }
      ]
    },
    {
      "cell_type": "code",
      "metadata": {
        "id": "_CAI0reFdwPg",
        "outputId": "07f42d62-834a-4cab-9d96-8d27f60327be",
        "colab": {
          "base_uri": "https://localhost:8080/"
        }
      },
      "source": [
        "class Solution():\n",
        "  def solve(self,str,n):\n",
        "    rfirst = str[0 : len(str)-n]\n",
        "    rsecond = str[len(str)-n : ]\n",
        "    return (rsecond + rfirst)\n",
        "\n",
        "str = \"nrsizekitrkpbkqxsmq\"\n",
        "n = 56\n",
        "pt1 = Solution()\n",
        "res = pt1.solve(str,n)\n",
        "print(str)\n",
        "\n",
        "\n"
      ],
      "execution_count": 38,
      "outputs": [
        {
          "output_type": "stream",
          "text": [
            "nrsizekitrkpbkqxsmq\n"
          ],
          "name": "stdout"
        }
      ]
    },
    {
      "cell_type": "code",
      "metadata": {
        "id": "XpG2zs5Fec4r",
        "outputId": "2c13b80b-46b9-4d64-d35e-4e0913e45e6b",
        "colab": {
          "base_uri": "https://localhost:8080/"
        }
      },
      "source": [
        "import collections as ct\n",
        "\n",
        "\n",
        "def index(s):\n",
        "    \"\"\"Return a reversed dict of (char, [index, ...]) pairs.\"\"\"\n",
        "    dd = ct.defaultdict(list)\n",
        "    for i, x in enumerate(s):\n",
        "        dd[x].append(i)\n",
        "    return dd\n",
        "\n",
        "\n",
        "s1 = \"nrsizekitrkpbkqxsmq\"\n",
        "res = index(s1)\n",
        "print(res)\n"
      ],
      "execution_count": 40,
      "outputs": [
        {
          "output_type": "stream",
          "text": [
            "defaultdict(<class 'list'>, {'n': [0], 'r': [1, 9], 's': [2, 16], 'i': [3, 7], 'z': [4], 'e': [5], 'k': [6, 10, 13], 't': [8], 'p': [11], 'b': [12], 'q': [14, 18], 'x': [15], 'm': [17]})\n"
          ],
          "name": "stdout"
        }
      ]
    },
    {
      "cell_type": "code",
      "metadata": {
        "id": "hiOm4tvNivNT",
        "outputId": "0d1994a5-2ac6-49a4-cb12-3455a7f79071",
        "colab": {
          "base_uri": "https://localhost:8080/"
        }
      },
      "source": [
        "A = ['S', 'c', 'A', 'l', 'e', 'r', 'A', 'c', 'a', 'D', 'e', 'm', 'y']\n",
        "\n",
        "# for i in range(len(A)):\n",
        "#   res1 = ','.split(A[i])\n",
        "#   print(res1)\n",
        "\n",
        "for i in A:\n",
        "  res2 = ''.join(A)\n",
        "  res2 = res2.lower()\n",
        "\n",
        " \n",
        "\n",
        "print(res2)"
      ],
      "execution_count": 64,
      "outputs": [
        {
          "output_type": "stream",
          "text": [
            "scaleracademy\n"
          ],
          "name": "stdout"
        }
      ]
    },
    {
      "cell_type": "code",
      "metadata": {
        "id": "QzEcJH2FnROc",
        "outputId": "6ac257ed-2db9-49a4-988f-843de5cd2f65",
        "colab": {
          "base_uri": "https://localhost:8080/"
        }
      },
      "source": [
        "class Solution:\n",
        "  def to_lower(self,A):\n",
        "    res = ''\n",
        "    for i in A:\n",
        "      res =''.join(A)\n",
        "      res = res.lower()\n",
        "      return res\n",
        "\n",
        "\n",
        "A = ['S', 'c', 'A', 'l', 'e', 'r', 'A', 'c', 'a', 'D', 'e', 'm', 'y']\n",
        "pt1 = Solution()\n",
        "ans = pt1.to_lower(A)\n",
        "print(ans)"
      ],
      "execution_count": 74,
      "outputs": [
        {
          "output_type": "stream",
          "text": [
            "scaleracademy\n"
          ],
          "name": "stdout"
        }
      ]
    },
    {
      "cell_type": "code",
      "metadata": {
        "id": "0fFkwdNz8_Xx",
        "outputId": "3a78cc70-e087-47f0-8c99-a3ffb6255244",
        "colab": {
          "base_uri": "https://localhost:8080/"
        }
      },
      "source": [
        "class Solution:\n",
        "    def to_upper(self, A):\n",
        "        ans = [x.upper() for x in A]\n",
        "        return ans\n",
        "\n",
        "\n",
        "A = ['S', 'c', 'A', 'l', 'e', 'r', 'A', 'c', 'a', 'D', 'e', 'm', 'y']\n",
        "pt1 = Solution()\n",
        "ans = pt1.to_upper(A)\n",
        "print(ans)"
      ],
      "execution_count": 77,
      "outputs": [
        {
          "output_type": "stream",
          "text": [
            "['S', 'C', 'A', 'L', 'E', 'R', 'A', 'C', 'A', 'D', 'E', 'M', 'Y']\n"
          ],
          "name": "stdout"
        }
      ]
    },
    {
      "cell_type": "code",
      "metadata": {
        "id": "iNvazEx3_CU7",
        "outputId": "da116da0-bc1e-407b-de70-da1072a96cef",
        "colab": {
          "base_uri": "https://localhost:8080/"
        }
      },
      "source": [
        "class Solution:\n",
        "  def solve(self,A):\n",
        "    for i in A:\n",
        "      res = ''.join(A)\n",
        "      print(res)\n",
        "      if res.isalnum():\n",
        "        return 1\n",
        "      else:\n",
        "        return 0\n",
        " \n",
        "\n",
        "#A = ['S', 'c', 'A', 'l', 'e', 'r', 'A', 'c', 'a', 'D', 'e', 'm', 'y']\n",
        "A : [ \"S\", \"c\", \"a\", \"l\", \"e\", \"r\", \"A\", \"c\", \"a\", \"d\", \"e\", \"m\", \"y\", \"2\", \"0\", \"2\", \"0\" ]\n",
        "pt1 = Solution()\n",
        "ans = pt1.solve(A)\n",
        "print(ans)"
      ],
      "execution_count": 88,
      "outputs": [
        {
          "output_type": "stream",
          "text": [
            "ScAlerAcaDemy\n",
            "1\n"
          ],
          "name": "stdout"
        }
      ]
    },
    {
      "cell_type": "code",
      "metadata": {
        "id": "fOrraOqADs1P",
        "outputId": "8cc4a600-bba9-4344-f2de-acbeefa7939d",
        "colab": {
          "base_uri": "https://localhost:8080/"
        }
      },
      "source": [
        "thislist = [\"apple\", \"banana\", \"cherry\"]\n",
        "print(thislist[-1])"
      ],
      "execution_count": 89,
      "outputs": [
        {
          "output_type": "stream",
          "text": [
            "cherry\n"
          ],
          "name": "stdout"
        }
      ]
    },
    {
      "cell_type": "code",
      "metadata": {
        "id": "dINmN1xXFMnE",
        "outputId": "1cb57b2d-1075-4c5b-d30f-44208f347e08",
        "colab": {
          "base_uri": "https://localhost:8080/"
        }
      },
      "source": [
        "thislist = [\"apple\", \"banana\", \"cherry\", \"orange\", \"kiwi\", \"melon\", \"mango\"]\n",
        "print(thislist[2:5])"
      ],
      "execution_count": 90,
      "outputs": [
        {
          "output_type": "stream",
          "text": [
            "['cherry', 'orange', 'kiwi']\n"
          ],
          "name": "stdout"
        }
      ]
    },
    {
      "cell_type": "code",
      "metadata": {
        "id": "7h2Bt67wLjYV",
        "outputId": "d2330718-657c-4cb1-fc58-1d82b7c1667f",
        "colab": {
          "base_uri": "https://localhost:8080/"
        }
      },
      "source": [
        "thislist = [\"apple\", \"banana\", \"cherry\", \"orange\", \"kiwi\", \"melon\", \"mango\"]\n",
        "print(thislist[2:])"
      ],
      "execution_count": 91,
      "outputs": [
        {
          "output_type": "stream",
          "text": [
            "['cherry', 'orange', 'kiwi', 'melon', 'mango']\n"
          ],
          "name": "stdout"
        }
      ]
    },
    {
      "cell_type": "code",
      "metadata": {
        "id": "sH0QZlpwLrXK",
        "outputId": "5ab2915b-774d-4be7-e20b-2504bd51abf6",
        "colab": {
          "base_uri": "https://localhost:8080/"
        }
      },
      "source": [
        " thislist = [\"apple\", \"banana\", \"cherry\", \"orange\", \"kiwi\", \"melon\", \"mango\"]\n",
        "print(thislist[-4:-1])"
      ],
      "execution_count": 92,
      "outputs": [
        {
          "output_type": "stream",
          "text": [
            "['orange', 'kiwi', 'melon']\n"
          ],
          "name": "stdout"
        }
      ]
    },
    {
      "cell_type": "code",
      "metadata": {
        "id": "h0N9Ic_sLwOi",
        "outputId": "3f7761d1-bd92-4d3d-a2b5-7059d8b389af",
        "colab": {
          "base_uri": "https://localhost:8080/"
        }
      },
      "source": [
        " thislist = [\"apple\", \"banana\", \"cherry\"]\n",
        "thislist[1] = \"blackcurrant\"\n",
        "print(thislist)"
      ],
      "execution_count": 93,
      "outputs": [
        {
          "output_type": "stream",
          "text": [
            "['apple', 'blackcurrant', 'cherry']\n"
          ],
          "name": "stdout"
        }
      ]
    },
    {
      "cell_type": "code",
      "metadata": {
        "id": "IpY5bGCHL5BG",
        "outputId": "a913eb56-90d6-4060-cda0-3f37e83583bd",
        "colab": {
          "base_uri": "https://localhost:8080/"
        }
      },
      "source": [
        "thislist = [\"apple\", \"banana\", \"cherry\", \"orange\", \"kiwi\", \"mango\"]\n",
        "\n",
        "thislist[1:3] = [\"blackcurrent\",\"watermelon\"]\n",
        "print(thislist)"
      ],
      "execution_count": 94,
      "outputs": [
        {
          "output_type": "stream",
          "text": [
            "['apple', 'blackcurrent', 'watermelon', 'orange', 'kiwi', 'mango']\n"
          ],
          "name": "stdout"
        }
      ]
    },
    {
      "cell_type": "code",
      "metadata": {
        "id": "0qB2WbN-MJjY",
        "outputId": "9987d692-05d3-4720-f56a-076a1b027882",
        "colab": {
          "base_uri": "https://localhost:8080/"
        }
      },
      "source": [
        " thislist = [\"apple\", \"banana\", \"cherry\"]\n",
        "thislist[1:2] = [\"blackcurrant\", \"watermelon\"]\n",
        "print(thislist) "
      ],
      "execution_count": 95,
      "outputs": [
        {
          "output_type": "stream",
          "text": [
            "['apple', 'blackcurrant', 'watermelon', 'cherry']\n"
          ],
          "name": "stdout"
        }
      ]
    },
    {
      "cell_type": "code",
      "metadata": {
        "id": "oswApDdqMPXX",
        "outputId": "e3722e55-29cc-4558-c298-8759d2b6f10d",
        "colab": {
          "base_uri": "https://localhost:8080/"
        }
      },
      "source": [
        "thislist = [\"apple\", \"banana\", \"cherry\"]\n",
        "thislist[1:3] = [\"watermelon\"]\n",
        "print(thislist)"
      ],
      "execution_count": 96,
      "outputs": [
        {
          "output_type": "stream",
          "text": [
            "['apple', 'watermelon']\n"
          ],
          "name": "stdout"
        }
      ]
    },
    {
      "cell_type": "code",
      "metadata": {
        "id": "pQrKp7j6MWR6"
      },
      "source": [
        ""
      ],
      "execution_count": null,
      "outputs": []
    }
  ]
}