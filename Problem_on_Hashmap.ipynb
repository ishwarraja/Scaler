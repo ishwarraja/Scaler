{
  "nbformat": 4,
  "nbformat_minor": 0,
  "metadata": {
    "colab": {
      "name": "Problem on Hashmap.ipynb",
      "provenance": [],
      "collapsed_sections": [],
      "authorship_tag": "ABX9TyM90BKNITRt0PbZHYMU7bcQ",
      "include_colab_link": true
    },
    "kernelspec": {
      "name": "python3",
      "display_name": "Python 3"
    },
    "language_info": {
      "name": "python"
    }
  },
  "cells": [
    {
      "cell_type": "markdown",
      "metadata": {
        "id": "view-in-github",
        "colab_type": "text"
      },
      "source": [
        "<a href=\"https://colab.research.google.com/github/ishwarraja/Scaler/blob/main/Problem_on_Hashmap.ipynb\" target=\"_parent\"><img src=\"https://colab.research.google.com/assets/colab-badge.svg\" alt=\"Open In Colab\"/></a>"
      ]
    },
    {
      "cell_type": "markdown",
      "metadata": {
        "id": "KFZB2q6qUQXI"
      },
      "source": [
        ""
      ]
    },
    {
      "cell_type": "code",
      "metadata": {
        "id": "8RHkPgfbUPXf"
      },
      "source": [
        ""
      ],
      "execution_count": null,
      "outputs": []
    },
    {
      "cell_type": "code",
      "metadata": {
        "id": "iCmY0pq6UWSB"
      },
      "source": [
        ""
      ],
      "execution_count": null,
      "outputs": []
    },
    {
      "cell_type": "code",
      "metadata": {
        "id": "IiAkaTQ_UWkb"
      },
      "source": [
        ""
      ],
      "execution_count": null,
      "outputs": []
    },
    {
      "cell_type": "code",
      "metadata": {
        "id": "2rvIWnVSUWpI"
      },
      "source": [
        ""
      ],
      "execution_count": null,
      "outputs": []
    },
    {
      "cell_type": "code",
      "metadata": {
        "id": "C2yN-KlFUWyh"
      },
      "source": [
        ""
      ],
      "execution_count": null,
      "outputs": []
    },
    {
      "cell_type": "markdown",
      "metadata": {
        "id": "s6fASegBUdjv"
      },
      "source": [
        "# Training \n",
        "Find four elements a, b, c and d in an array such that a+b = c+d\n",
        "\n",
        "    Difficulty Level : Medium\n",
        "    Last Updated : 27 Nov, 2018\n",
        "\n",
        "Given an array of distinct integers, find if there are two pairs (a, b) and (c, d) such that a+b = c+d, and a, b, c and d are distinct elements. If there are multiple answers, then print any of them.\n"
      ]
    },
    {
      "cell_type": "code",
      "metadata": {
        "colab": {
          "base_uri": "https://localhost:8080/"
        },
        "id": "FUszRck6Uw54",
        "outputId": "41f294f8-5733-426b-a3b4-690a4a809efc"
      },
      "source": [
        "# driver program\n",
        "arr = [3, 4, 7, 1, 2, 9, 8]\n",
        "\n",
        "n = len(arr)\n",
        "\n",
        "\n",
        "class Solution:\n",
        "  def findpair(self,arr,n):\n",
        "    Hash = {}\n",
        "    \n",
        "    for i in range(n-1):\n",
        "      for j in range(i+1,n):\n",
        "        print(\"Arry i \", arr[i])\n",
        "        print(\"Arry j \", arr[j])\n",
        "        sum = arr[i] + arr[j]\n",
        "        print(\"Sum of Numbers \", sum)\n",
        "\n",
        "      if sum in Hash.keys():\n",
        "        prev = Hash.get(sum)\n",
        "        print(str(prev)) + \" and (%d, %d) \" %(arr[i], arr[j])\n",
        "        return True\n",
        "      else:\n",
        "        Hash[sum] = (arr[i] + arr[j])\n",
        "        print(Hash)\n",
        "    return False\n",
        "\n",
        "pt1 = Solution()\n",
        "result = pt1.findpair(arr,n)\n",
        "print(result)\n",
        "\n"
      ],
      "execution_count": 17,
      "outputs": [
        {
          "output_type": "stream",
          "text": [
            "Arry i  3\n",
            "Arry j  4\n",
            "Sum of Numbers  7\n",
            "Arry i  3\n",
            "Arry j  7\n",
            "Sum of Numbers  10\n",
            "Arry i  3\n",
            "Arry j  1\n",
            "Sum of Numbers  4\n",
            "Arry i  3\n",
            "Arry j  2\n",
            "Sum of Numbers  5\n",
            "Arry i  3\n",
            "Arry j  9\n",
            "Sum of Numbers  12\n",
            "Arry i  3\n",
            "Arry j  8\n",
            "Sum of Numbers  11\n",
            "{11: 11}\n",
            "Arry i  4\n",
            "Arry j  7\n",
            "Sum of Numbers  11\n",
            "Arry i  4\n",
            "Arry j  1\n",
            "Sum of Numbers  5\n",
            "Arry i  4\n",
            "Arry j  2\n",
            "Sum of Numbers  6\n",
            "Arry i  4\n",
            "Arry j  9\n",
            "Sum of Numbers  13\n",
            "Arry i  4\n",
            "Arry j  8\n",
            "Sum of Numbers  12\n",
            "{11: 11, 12: 12}\n",
            "Arry i  7\n",
            "Arry j  1\n",
            "Sum of Numbers  8\n",
            "Arry i  7\n",
            "Arry j  2\n",
            "Sum of Numbers  9\n",
            "Arry i  7\n",
            "Arry j  9\n",
            "Sum of Numbers  16\n",
            "Arry i  7\n",
            "Arry j  8\n",
            "Sum of Numbers  15\n",
            "{11: 11, 12: 12, 15: 15}\n",
            "Arry i  1\n",
            "Arry j  2\n",
            "Sum of Numbers  3\n",
            "Arry i  1\n",
            "Arry j  9\n",
            "Sum of Numbers  10\n",
            "Arry i  1\n",
            "Arry j  8\n",
            "Sum of Numbers  9\n",
            "{11: 11, 12: 12, 15: 15, 9: 9}\n",
            "Arry i  2\n",
            "Arry j  9\n",
            "Sum of Numbers  11\n",
            "Arry i  2\n",
            "Arry j  8\n",
            "Sum of Numbers  10\n",
            "{11: 11, 12: 12, 15: 15, 9: 9, 10: 10}\n",
            "Arry i  9\n",
            "Arry j  8\n",
            "Sum of Numbers  17\n",
            "{11: 11, 12: 12, 15: 15, 9: 9, 10: 10, 17: 17}\n",
            "False\n"
          ],
          "name": "stdout"
        }
      ]
    },
    {
      "cell_type": "code",
      "metadata": {
        "colab": {
          "base_uri": "https://localhost:8080/"
        },
        "id": "fnRUiuzjU64R",
        "outputId": "c8746506-4c2f-45fb-da81-7888d601f0d7"
      },
      "source": [
        "# Python Program to find four different elements a,b,c and d of\n",
        "# array such that a+b = c+d\n",
        "\n",
        "# function to find a, b, c, d such that\n",
        "# (a + b) = (c + d)\n",
        "def findPairs(arr, n):\n",
        "\n",
        "  # Create an empty hashmap to store mapping\n",
        "  # from sum to pair indexes\n",
        "  Hash = {}\n",
        "\n",
        "  # Traverse through all possible pairs of arr[]\n",
        "  for i in range(n - 1):\n",
        "    for j in range(i + 1, n):\n",
        "      sum = arr[i] + arr[j]\n",
        "    # Sum already present in hash\n",
        "    if sum in Hash.keys():\n",
        "      # print previous pair and current\n",
        "      prev = Hash.get(sum)\n",
        "      print(str(prev) + \" and (%d, %d) \" %(arr[i], arr[j]))\t\n",
        "      print(prev)\n",
        "      return True\n",
        "    else:\n",
        "      # sum is not in hash\n",
        "      # store it and continue to next pair\n",
        "      Hash[sum] = (arr[i], arr[j])\n",
        "      print(Hash)\n",
        "  return False\n",
        "\n",
        "# driver program\n",
        "arr = [3, 4, 7, 1, 2, 9, 8]\n",
        "n = len(arr)\n",
        "print(findPairs(arr, n))\n",
        "\n",
        "# This code is contributed by Aditi Sharma\n"
      ],
      "execution_count": 24,
      "outputs": [
        {
          "output_type": "stream",
          "text": [
            "{11: (3, 8)}\n",
            "{11: (3, 8), 12: (4, 8)}\n",
            "{11: (3, 8), 12: (4, 8), 15: (7, 8)}\n",
            "{11: (3, 8), 12: (4, 8), 15: (7, 8), 9: (1, 8)}\n",
            "{11: (3, 8), 12: (4, 8), 15: (7, 8), 9: (1, 8), 10: (2, 8)}\n",
            "{11: (3, 8), 12: (4, 8), 15: (7, 8), 9: (1, 8), 10: (2, 8), 17: (9, 8)}\n",
            "False\n"
          ],
          "name": "stdout"
        }
      ]
    },
    {
      "cell_type": "code",
      "metadata": {
        "id": "D8t6KuoKdtRG"
      },
      "source": [
        ""
      ],
      "execution_count": null,
      "outputs": []
    },
    {
      "cell_type": "markdown",
      "metadata": {
        "id": "2zWQVGV3xA8u"
      },
      "source": [
        "# Find largest d in array such that a + b + c = d\n",
        "\n",
        "Given a set S (all distinct elements) of integers, find the largest d such that a + b + c = d \n",
        "where a, b, c, and d are distinct elements of S.\n",
        " \n",
        "\n",
        "Constraints:\n",
        "1 ≤ number of elements in the set ≤ 1000\n",
        "INT_MIN ≤ each element in the set ≤ INT_MAX"
      ]
    },
    {
      "cell_type": "code",
      "metadata": {
        "colab": {
          "base_uri": "https://localhost:8080/"
        },
        "id": "-bUieagGxHzI",
        "outputId": "d255ef4b-45bb-41d2-f415-8f54788e72fe"
      },
      "source": [
        "#Brute Force Method https://www.geeksforgeeks.org/find-largest-d-in-array-such-that-a-b-c-d/\n",
        "class Solution:\n",
        "  def findProductD(self,arr,n):\n",
        "    found = False\n",
        "    arr.sort()\n",
        "\n",
        "    for i in range(n-1,-1,-1):\n",
        "      for j in range(0,n):\n",
        "        if (i == j):\n",
        "          continue\n",
        "        for k in range(j+1, n):\n",
        "          if (i==k):\n",
        "            continue\n",
        "          for l in range(k+1,n):\n",
        "            if(i==1):\n",
        "              continue\n",
        "\n",
        "            if(arr[i] == arr[j] + arr[k] + arr[l]):\n",
        "              found == True\n",
        "              return arr[i]\n",
        "    if(found == False):\n",
        "      return -1\n",
        "\n",
        "# Driver Code\n",
        "# Set of distinct Integers\n",
        "arr = [ 2, 3, 5, 7, 12 ]\n",
        "n = len(arr)\n",
        "pt1=Solution()\n",
        "result = pt1.findProductD(arr,n)\n",
        "print(result)\n",
        "\n"
      ],
      "execution_count": 26,
      "outputs": [
        {
          "output_type": "stream",
          "text": [
            "12\n"
          ],
          "name": "stdout"
        }
      ]
    },
    {
      "cell_type": "code",
      "metadata": {
        "colab": {
          "base_uri": "https://localhost:8080/",
          "height": 245
        },
        "id": "BNucDl19BUUP",
        "outputId": "54de2943-f59d-4369-e817-83be09f0b815"
      },
      "source": [
        "arr = [ 2, 3, 5, 7, 12 ]\n",
        "arr.sort()\n",
        "\n",
        "n = arr\n",
        "for i in range (n-1,-1):\n",
        "  print(i)\n",
        "  print(\"sum\")\n",
        "\n",
        "print(arr)"
      ],
      "execution_count": 32,
      "outputs": [
        {
          "output_type": "error",
          "ename": "TypeError",
          "evalue": "ignored",
          "traceback": [
            "\u001b[0;31m---------------------------------------------------------------------------\u001b[0m",
            "\u001b[0;31mTypeError\u001b[0m                                 Traceback (most recent call last)",
            "\u001b[0;32m<ipython-input-32-3e9d52cec4ec>\u001b[0m in \u001b[0;36m<module>\u001b[0;34m()\u001b[0m\n\u001b[1;32m      3\u001b[0m \u001b[0;34m\u001b[0m\u001b[0m\n\u001b[1;32m      4\u001b[0m \u001b[0mn\u001b[0m \u001b[0;34m=\u001b[0m \u001b[0marr\u001b[0m\u001b[0;34m\u001b[0m\u001b[0;34m\u001b[0m\u001b[0m\n\u001b[0;32m----> 5\u001b[0;31m \u001b[0;32mfor\u001b[0m \u001b[0mi\u001b[0m \u001b[0;32min\u001b[0m \u001b[0mrange\u001b[0m \u001b[0;34m(\u001b[0m\u001b[0mn\u001b[0m\u001b[0;34m-\u001b[0m\u001b[0;36m1\u001b[0m\u001b[0;34m,\u001b[0m\u001b[0;34m-\u001b[0m\u001b[0;36m1\u001b[0m\u001b[0;34m)\u001b[0m\u001b[0;34m:\u001b[0m\u001b[0;34m\u001b[0m\u001b[0;34m\u001b[0m\u001b[0m\n\u001b[0m\u001b[1;32m      6\u001b[0m   \u001b[0mprint\u001b[0m\u001b[0;34m(\u001b[0m\u001b[0mi\u001b[0m\u001b[0;34m)\u001b[0m\u001b[0;34m\u001b[0m\u001b[0;34m\u001b[0m\u001b[0m\n\u001b[1;32m      7\u001b[0m   \u001b[0mprint\u001b[0m\u001b[0;34m(\u001b[0m\u001b[0;34m\"sum\"\u001b[0m\u001b[0;34m)\u001b[0m\u001b[0;34m\u001b[0m\u001b[0;34m\u001b[0m\u001b[0m\n",
            "\u001b[0;31mTypeError\u001b[0m: unsupported operand type(s) for -: 'list' and 'int'"
          ]
        }
      ]
    },
    {
      "cell_type": "code",
      "metadata": {
        "id": "Dzo0GAskBpGp"
      },
      "source": [
        ""
      ],
      "execution_count": null,
      "outputs": []
    },
    {
      "cell_type": "markdown",
      "metadata": {
        "id": "cioxCw_dHT3s"
      },
      "source": [
        "#Python String Revisited \n"
      ]
    },
    {
      "cell_type": "code",
      "metadata": {
        "colab": {
          "base_uri": "https://localhost:8080/"
        },
        "id": "3uSsuZ5yHhM3",
        "outputId": "0afe4147-0016-4217-aca0-82cf77e90a39"
      },
      "source": [
        "message = \"Hello\"\n",
        "index = 0 \n",
        "for i in message:\n",
        "  print(\"Message [\", + index, \"] = \", i)\n",
        "index += 1"
      ],
      "execution_count": 33,
      "outputs": [
        {
          "output_type": "stream",
          "text": [
            "Message [ 0 ] =  H\n",
            "Message [ 0 ] =  e\n",
            "Message [ 0 ] =  l\n",
            "Message [ 0 ] =  l\n",
            "Message [ 0 ] =  o\n"
          ],
          "name": "stdout"
        }
      ]
    },
    {
      "cell_type": "code",
      "metadata": {
        "colab": {
          "base_uri": "https://localhost:8080/"
        },
        "id": "paddkOaaKuOE",
        "outputId": "a0d7b51a-46e5-4d5d-9c06-fd85dfb21f7e"
      },
      "source": [
        "str = \"This is my world \"\n",
        "i = 2\n",
        "print(str[i])"
      ],
      "execution_count": 34,
      "outputs": [
        {
          "output_type": "stream",
          "text": [
            "i\n"
          ],
          "name": "stdout"
        }
      ]
    },
    {
      "cell_type": "code",
      "metadata": {
        "colab": {
          "base_uri": "https://localhost:8080/"
        },
        "id": "71DrEgkWLCPR",
        "outputId": "2acb9ea2-b73a-4e83-af7d-c75134eb4a3b"
      },
      "source": [
        "str1 = \"Ishwar\"\n",
        "str2 = \"Sorapadi\"\n",
        "str3 = str1 + str2\n",
        "print(str3)"
      ],
      "execution_count": 35,
      "outputs": [
        {
          "output_type": "stream",
          "text": [
            "IshwarSorapadi\n"
          ],
          "name": "stdout"
        }
      ]
    },
    {
      "cell_type": "code",
      "metadata": {
        "colab": {
          "base_uri": "https://localhost:8080/"
        },
        "id": "8qTt_exzLRvY",
        "outputId": "88ee077a-17a8-41da-a03b-d6d96f167a7f"
      },
      "source": [
        "str = \"Hello \"\n",
        "name = input(\"Enter you name : \")\n",
        "str += name\n",
        "str += \". Welcome to Python Programming\"\n",
        "print(str)"
      ],
      "execution_count": 37,
      "outputs": [
        {
          "output_type": "stream",
          "text": [
            "Enter you name : Ishwar\n",
            "Hello Ishwar. Welcome to Python Programming\n"
          ],
          "name": "stdout"
        }
      ]
    },
    {
      "cell_type": "code",
      "metadata": {
        "colab": {
          "base_uri": "https://localhost:8080/"
        },
        "id": "OXFNl33hLoFi",
        "outputId": "90785123-69f2-45ef-fdb0-0e9f24bce1df"
      },
      "source": [
        "str = \"Hello ,\"\n",
        "str = (str *3)\n",
        "print(str)"
      ],
      "execution_count": 39,
      "outputs": [
        {
          "output_type": "stream",
          "text": [
            "Hello ,Hello ,Hello ,\n"
          ],
          "name": "stdout"
        }
      ]
    },
    {
      "cell_type": "code",
      "metadata": {
        "colab": {
          "base_uri": "https://localhost:8080/"
        },
        "id": "QAa-x6hbL1Jr",
        "outputId": "05b8aeb0-5404-4e66-d064-4c4cc0a39098"
      },
      "source": [
        "print(\"\\n Hello\")\n",
        "print(r\"\\n World\")"
      ],
      "execution_count": 40,
      "outputs": [
        {
          "output_type": "stream",
          "text": [
            "\n",
            " Hello\n",
            "\\n World\n"
          ],
          "name": "stdout"
        }
      ]
    },
    {
      "cell_type": "code",
      "metadata": {
        "colab": {
          "base_uri": "https://localhost:8080/"
        },
        "id": "llIx53ysMqeM",
        "outputId": "e12fd35d-0672-4eac-c847-8a6ff481981f"
      },
      "source": [
        "str1 = \"Hello \"\n",
        "print(\"str1 is : \", str1)\n",
        "print(\"ID of str is : \", id(str1))\n",
        "\n",
        "str2 = \"World \"\n",
        "print(\"Str2 is : \", str2)\n",
        "print(\"ID of str is : \", id(str2))\n",
        "\n",
        "\n"
      ],
      "execution_count": 44,
      "outputs": [
        {
          "output_type": "stream",
          "text": [
            "str1 is :  Hello \n",
            "ID of str is :  139807390676528\n",
            "Str2 is :  World \n",
            "ID of str is :  139807391045552\n"
          ],
          "name": "stdout"
        }
      ]
    },
    {
      "cell_type": "code",
      "metadata": {
        "colab": {
          "base_uri": "https://localhost:8080/"
        },
        "id": "otys7tKsV69J",
        "outputId": "9192d0d5-b189-47b6-9ad6-05b60ec9693d"
      },
      "source": [
        "name = \"Ishwar Venugopal Sorapadi\"\n",
        "age = 10\n",
        "print(\"The name=%s of the person and the age=%d\" %(name, age))"
      ],
      "execution_count": 46,
      "outputs": [
        {
          "output_type": "stream",
          "text": [
            "The name=Ishwar Venugopal Sorapadi of the person and the age=10\n"
          ],
          "name": "stdout"
        }
      ]
    },
    {
      "cell_type": "code",
      "metadata": {
        "colab": {
          "base_uri": "https://localhost:8080/"
        },
        "id": "s4cBOWYJWvCg",
        "outputId": "b708bd19-0c33-49c6-c2ca-b9976230a65d"
      },
      "source": [
        "i = 1\n",
        "print(\"i\\ti**2\\ti**3\\ti**4\\ti**5\\ti**6\\ti**7\\ti**8\\ti**9\")\n",
        "while i <= 10:\n",
        "  print(i, '\\t', i*2, '\\t', i**3, '\\t', i**4, '\\t', i**5, '\\t', i**6)\n",
        "  i += 1"
      ],
      "execution_count": 4,
      "outputs": [
        {
          "output_type": "stream",
          "text": [
            "i\ti**2\ti**3\ti**4\ti**5\ti**6\ti**7\ti**8\ti**9\n",
            "1 \t 2 \t 1 \t 1 \t 1 \t 1\n",
            "2 \t 4 \t 8 \t 16 \t 32 \t 64\n",
            "3 \t 6 \t 27 \t 81 \t 243 \t 729\n",
            "4 \t 8 \t 64 \t 256 \t 1024 \t 4096\n",
            "5 \t 10 \t 125 \t 625 \t 3125 \t 15625\n",
            "6 \t 12 \t 216 \t 1296 \t 7776 \t 46656\n",
            "7 \t 14 \t 343 \t 2401 \t 16807 \t 117649\n",
            "8 \t 16 \t 512 \t 4096 \t 32768 \t 262144\n",
            "9 \t 18 \t 729 \t 6561 \t 59049 \t 531441\n",
            "10 \t 20 \t 1000 \t 10000 \t 100000 \t 1000000\n"
          ],
          "name": "stdout"
        }
      ]
    },
    {
      "cell_type": "code",
      "metadata": {
        "colab": {
          "base_uri": "https://localhost:8080/"
        },
        "id": "BsxjHxaw_N2b",
        "outputId": "1294da0c-2175-46ed-8aa6-82a652f99d67"
      },
      "source": [
        "i = 1 \n",
        "print(\"%-4s%-5s%-6s%-8s%-13s%-15s%-17s%-19s%-21s%-23s\" % ('i','i**2','i**3','i**4','i**5','i**6','i**7','i**8','i**9','i**10'))\n",
        "while i < 10:\n",
        "  print(\"%-4d%-5d%-6d%-8d%-13d%-15d%-17d%-19d%-21d%-23d\" % (i,i**2,i**3,i**4,i**5,i**6,i**7,i**8,i**9,i**10))\n",
        "  i += 1"
      ],
      "execution_count": 8,
      "outputs": [
        {
          "output_type": "stream",
          "text": [
            "i   i**2 i**3  i**4    i**5         i**6           i**7             i**8               i**9                 i**10                  \n",
            "1   1    1     1       1            1              1                1                  1                    1                      \n",
            "2   4    8     16      32           64             128              256                512                  1024                   \n",
            "3   9    27    81      243          729            2187             6561               19683                59049                  \n",
            "4   16   64    256     1024         4096           16384            65536              262144               1048576                \n",
            "5   25   125   625     3125         15625          78125            390625             1953125              9765625                \n",
            "6   36   216   1296    7776         46656          279936           1679616            10077696             60466176               \n",
            "7   49   343   2401    16807        117649         823543           5764801            40353607             282475249              \n",
            "8   64   512   4096    32768        262144         2097152          16777216           134217728            1073741824             \n",
            "9   81   729   6561    59049        531441         4782969          43046721           387420489            3486784401             \n"
          ],
          "name": "stdout"
        }
      ]
    },
    {
      "cell_type": "code",
      "metadata": {
        "colab": {
          "base_uri": "https://localhost:8080/"
        },
        "id": "n5C0aCX_F1sq",
        "outputId": "d3dbe611-d0bc-4a69-deb2-f9f75ca5d877"
      },
      "source": [
        "message = \"HELLO\"\n",
        "print(message.isupper())"
      ],
      "execution_count": 14,
      "outputs": [
        {
          "output_type": "stream",
          "text": [
            "True\n"
          ],
          "name": "stdout"
        }
      ]
    },
    {
      "cell_type": "code",
      "metadata": {
        "colab": {
          "base_uri": "https://localhost:8080/"
        },
        "id": "JpZexI3UQbPt",
        "outputId": "dc2e09ad-d753-4673-bd58-f92e0f64de1e"
      },
      "source": [
        "str = \"abcabcabcabcabcabcdadsffgghj\"\n",
        "print(str.strip('abc'))"
      ],
      "execution_count": 18,
      "outputs": [
        {
          "output_type": "stream",
          "text": [
            "dadsffgghj\n"
          ],
          "name": "stdout"
        }
      ]
    },
    {
      "cell_type": "code",
      "metadata": {
        "colab": {
          "base_uri": "https://localhost:8080/"
        },
        "id": "5qCGGp4HcQZL",
        "outputId": "e470bf84-de94-4328-e1ca-065cfc096359"
      },
      "source": [
        "#Prefix Sum Array – Implementation and Applications in Competitive Programming\n",
        "\n",
        "# Python Program for Implementing\n",
        "# prefix sum array\n",
        " \n",
        "# Fills prefix sum array\n",
        "def fillPrefixSum(arr, n, prefixSum):\n",
        " \n",
        "    prefixSum[0] = arr[0]\n",
        " \n",
        "    # Adding present element\n",
        "    # with previous element\n",
        "    for i in range(1, n):\n",
        "        prefixSum[i] = prefixSum[i - 1] + arr[i]\n",
        " \n",
        "# Driver code\n",
        "arr =[10, 4, 16, 20 ]\n",
        "n = len(arr)\n",
        " \n",
        "prefixSum = [0 for i in range(n + 1)]\n",
        "print(\"PrefixSum1: \", prefixSum)\n",
        " \n",
        "fillPrefixSum(arr, n, prefixSum)\n",
        "\n",
        "print(\"PrefixSum2: \", prefixSum)\n",
        "# for i in range(n):\n",
        "#     print(prefixSum[i], \" \", end =\"\")\n",
        " \n"
      ],
      "execution_count": 7,
      "outputs": [
        {
          "output_type": "stream",
          "text": [
            "PrefixSum1:  [0, 0, 0, 0, 0]\n",
            "PrefixSum2:  [10, 14, 30, 50, 0]\n",
            "10  14  30  50  "
          ],
          "name": "stdout"
        }
      ]
    },
    {
      "cell_type": "code",
      "metadata": {
        "id": "gwP_Bg7qTX9T"
      },
      "source": [
        "# "
      ],
      "execution_count": 8,
      "outputs": []
    },
    {
      "cell_type": "code",
      "metadata": {
        "id": "2HlFeurpUACn"
      },
      "source": [
        ""
      ],
      "execution_count": null,
      "outputs": []
    }
  ]
}